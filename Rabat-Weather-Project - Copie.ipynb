{
 "cells": [
  {
   "cell_type": "markdown",
   "id": "f46b1f6a",
   "metadata": {},
   "source": [
    "**-- Membres du groupe** :\n",
    ">   * Soufiane Eghazi\n",
    ">   * Ibtissam Labyady\n",
    ">   * Amine Maasri\n",
    "\n",
    "**-- fillière** : *ICSD*\n",
    "##\n",
    "---\n",
    "\n",
    "## Projet modèle régression : Prédiction météorologique de la température\n",
    "\n",
    "---"
   ]
  },
  {
   "cell_type": "markdown",
   "id": "a56e8001",
   "metadata": {},
   "source": [
    "#### I - Importer le jeux de donné et l'organiser:"
   ]
  },
  {
   "cell_type": "raw",
   "source": [
    "# Sys.setlocale(\"LC_CTYPE\", \"en_US.UTF-8\")"
   ],
   "metadata": {
    "collapsed": false
   }
  },
  {
   "cell_type": "code",
   "execution_count": 16,
   "id": "88618733",
   "metadata": {
    "ExecuteTime": {
     "end_time": "2023-05-26T00:56:11.151306900Z",
     "start_time": "2023-05-26T00:56:09.951418Z"
    }
   },
   "outputs": [],
   "source": [
    "weather<-read.csv(\"Weather_Rabat.csv\",sep=\";\",dec=\".\",row.names = 4)\n",
    "names(weather)<- c(\"Année\",\"Mois\",\"Jour\",\"Température\",\"Précipitation\",\"Humidité\",\"Vitesse_Vent\")"
   ]
  },
  {
   "cell_type": "code",
   "execution_count": 17,
   "id": "957f4a36",
   "metadata": {
    "ExecuteTime": {
     "end_time": "2023-05-26T00:56:11.151306900Z",
     "start_time": "2023-05-26T00:56:10.013918800Z"
    }
   },
   "outputs": [
    {
     "data": {
      "text/html": "<table class=\"dataframe\">\n<caption>A data.frame: 6 × 7</caption>\n<thead>\n\t<tr><th></th><th scope=col>Année</th><th scope=col>Mois</th><th scope=col>Jour</th><th scope=col>Température</th><th scope=col>Précipitation</th><th scope=col>Humidité</th><th scope=col>Vitesse_Vent</th></tr>\n\t<tr><th></th><th scope=col>&lt;int&gt;</th><th scope=col>&lt;int&gt;</th><th scope=col>&lt;int&gt;</th><th scope=col>&lt;dbl&gt;</th><th scope=col>&lt;dbl&gt;</th><th scope=col>&lt;dbl&gt;</th><th scope=col>&lt;dbl&gt;</th></tr>\n</thead>\n<tbody>\n\t<tr><th scope=row>2000/1/1</th><td>2000</td><td>1</td><td>1</td><td>12.86</td><td>0</td><td>5.80</td><td>4.30</td></tr>\n\t<tr><th scope=row>2000/1/2</th><td>2000</td><td>1</td><td>2</td><td>12.71</td><td>0</td><td>5.80</td><td>2.13</td></tr>\n\t<tr><th scope=row>2000/1/3</th><td>2000</td><td>1</td><td>3</td><td>13.15</td><td>0</td><td>7.39</td><td>2.98</td></tr>\n\t<tr><th scope=row>2000/1/4</th><td>2000</td><td>1</td><td>4</td><td>13.88</td><td>0</td><td>7.08</td><td>2.55</td></tr>\n\t<tr><th scope=row>2000/1/5</th><td>2000</td><td>1</td><td>5</td><td>13.85</td><td>0</td><td>6.23</td><td>1.83</td></tr>\n\t<tr><th scope=row>2000/1/6</th><td>2000</td><td>1</td><td>6</td><td>12.98</td><td>0</td><td>6.77</td><td>3.85</td></tr>\n</tbody>\n</table>\n",
      "text/markdown": "\nA data.frame: 6 × 7\n\n| <!--/--> | Année &lt;int&gt; | Mois &lt;int&gt; | Jour &lt;int&gt; | Température &lt;dbl&gt; | Précipitation &lt;dbl&gt; | Humidité &lt;dbl&gt; | Vitesse_Vent &lt;dbl&gt; |\n|---|---|---|---|---|---|---|---|\n| 2000/1/1 | 2000 | 1 | 1 | 12.86 | 0 | 5.80 | 4.30 |\n| 2000/1/2 | 2000 | 1 | 2 | 12.71 | 0 | 5.80 | 2.13 |\n| 2000/1/3 | 2000 | 1 | 3 | 13.15 | 0 | 7.39 | 2.98 |\n| 2000/1/4 | 2000 | 1 | 4 | 13.88 | 0 | 7.08 | 2.55 |\n| 2000/1/5 | 2000 | 1 | 5 | 13.85 | 0 | 6.23 | 1.83 |\n| 2000/1/6 | 2000 | 1 | 6 | 12.98 | 0 | 6.77 | 3.85 |\n\n",
      "text/latex": "A data.frame: 6 × 7\n\\begin{tabular}{r|lllllll}\n  & Année & Mois & Jour & Température & Précipitation & Humidité & Vitesse\\_Vent\\\\\n  & <int> & <int> & <int> & <dbl> & <dbl> & <dbl> & <dbl>\\\\\n\\hline\n\t2000/1/1 & 2000 & 1 & 1 & 12.86 & 0 & 5.80 & 4.30\\\\\n\t2000/1/2 & 2000 & 1 & 2 & 12.71 & 0 & 5.80 & 2.13\\\\\n\t2000/1/3 & 2000 & 1 & 3 & 13.15 & 0 & 7.39 & 2.98\\\\\n\t2000/1/4 & 2000 & 1 & 4 & 13.88 & 0 & 7.08 & 2.55\\\\\n\t2000/1/5 & 2000 & 1 & 5 & 13.85 & 0 & 6.23 & 1.83\\\\\n\t2000/1/6 & 2000 & 1 & 6 & 12.98 & 0 & 6.77 & 3.85\\\\\n\\end{tabular}\n",
      "text/plain": "         Année Mois Jour Température Précipitation Humidité Vitesse_Vent\n2000/1/1 2000  1    1    12.86       0             5.80     4.30        \n2000/1/2 2000  1    2    12.71       0             5.80     2.13        \n2000/1/3 2000  1    3    13.15       0             7.39     2.98        \n2000/1/4 2000  1    4    13.88       0             7.08     2.55        \n2000/1/5 2000  1    5    13.85       0             6.23     1.83        \n2000/1/6 2000  1    6    12.98       0             6.77     3.85        "
     },
     "metadata": {},
     "output_type": "display_data"
    }
   ],
   "source": [
    "# Afficher les premières lignes\n",
    "head(weather)"
   ]
  },
  {
   "cell_type": "code",
   "execution_count": 18,
   "id": "2d4eac3d",
   "metadata": {
    "scrolled": true,
    "ExecuteTime": {
     "end_time": "2023-05-26T00:56:11.213911Z",
     "start_time": "2023-05-26T00:56:10.060798300Z"
    }
   },
   "outputs": [
    {
     "data": {
      "text/html": "<table class=\"dataframe\">\n<caption>A matrix: 7761 × 7 of type lgl</caption>\n<thead>\n\t<tr><th></th><th scope=col>Année</th><th scope=col>Mois</th><th scope=col>Jour</th><th scope=col>Température</th><th scope=col>Précipitation</th><th scope=col>Humidité</th><th scope=col>Vitesse_Vent</th></tr>\n</thead>\n<tbody>\n\t<tr><th scope=row>2000/1/1</th><td>FALSE</td><td>FALSE</td><td>FALSE</td><td>FALSE</td><td>FALSE</td><td>FALSE</td><td>FALSE</td></tr>\n\t<tr><th scope=row>2000/1/2</th><td>FALSE</td><td>FALSE</td><td>FALSE</td><td>FALSE</td><td>FALSE</td><td>FALSE</td><td>FALSE</td></tr>\n\t<tr><th scope=row>2000/1/3</th><td>FALSE</td><td>FALSE</td><td>FALSE</td><td>FALSE</td><td>FALSE</td><td>FALSE</td><td>FALSE</td></tr>\n\t<tr><th scope=row>2000/1/4</th><td>FALSE</td><td>FALSE</td><td>FALSE</td><td>FALSE</td><td>FALSE</td><td>FALSE</td><td>FALSE</td></tr>\n\t<tr><th scope=row>2000/1/5</th><td>FALSE</td><td>FALSE</td><td>FALSE</td><td>FALSE</td><td>FALSE</td><td>FALSE</td><td>FALSE</td></tr>\n\t<tr><th scope=row>2000/1/6</th><td>FALSE</td><td>FALSE</td><td>FALSE</td><td>FALSE</td><td>FALSE</td><td>FALSE</td><td>FALSE</td></tr>\n\t<tr><th scope=row>2000/1/7</th><td>FALSE</td><td>FALSE</td><td>FALSE</td><td>FALSE</td><td>FALSE</td><td>FALSE</td><td>FALSE</td></tr>\n\t<tr><th scope=row>2000/1/8</th><td>FALSE</td><td>FALSE</td><td>FALSE</td><td>FALSE</td><td>FALSE</td><td>FALSE</td><td>FALSE</td></tr>\n\t<tr><th scope=row>2000/1/9</th><td>FALSE</td><td>FALSE</td><td>FALSE</td><td>FALSE</td><td>FALSE</td><td>FALSE</td><td>FALSE</td></tr>\n\t<tr><th scope=row>2000/1/10</th><td>FALSE</td><td>FALSE</td><td>FALSE</td><td>FALSE</td><td>FALSE</td><td>FALSE</td><td>FALSE</td></tr>\n\t<tr><th scope=row>2000/1/11</th><td>FALSE</td><td>FALSE</td><td>FALSE</td><td>FALSE</td><td>FALSE</td><td>FALSE</td><td>FALSE</td></tr>\n\t<tr><th scope=row>2000/1/12</th><td>FALSE</td><td>FALSE</td><td>FALSE</td><td>FALSE</td><td>FALSE</td><td>FALSE</td><td>FALSE</td></tr>\n\t<tr><th scope=row>2000/1/13</th><td>FALSE</td><td>FALSE</td><td>FALSE</td><td>FALSE</td><td>FALSE</td><td>FALSE</td><td>FALSE</td></tr>\n\t<tr><th scope=row>2000/1/14</th><td>FALSE</td><td>FALSE</td><td>FALSE</td><td>FALSE</td><td>FALSE</td><td>FALSE</td><td>FALSE</td></tr>\n\t<tr><th scope=row>2000/1/15</th><td>FALSE</td><td>FALSE</td><td>FALSE</td><td>FALSE</td><td>FALSE</td><td>FALSE</td><td>FALSE</td></tr>\n\t<tr><th scope=row>2000/1/16</th><td>FALSE</td><td>FALSE</td><td>FALSE</td><td>FALSE</td><td>FALSE</td><td>FALSE</td><td>FALSE</td></tr>\n\t<tr><th scope=row>2000/1/17</th><td>FALSE</td><td>FALSE</td><td>FALSE</td><td>FALSE</td><td>FALSE</td><td>FALSE</td><td>FALSE</td></tr>\n\t<tr><th scope=row>2000/1/18</th><td>FALSE</td><td>FALSE</td><td>FALSE</td><td>FALSE</td><td>FALSE</td><td>FALSE</td><td>FALSE</td></tr>\n\t<tr><th scope=row>2000/1/19</th><td>FALSE</td><td>FALSE</td><td>FALSE</td><td>FALSE</td><td>FALSE</td><td>FALSE</td><td>FALSE</td></tr>\n\t<tr><th scope=row>2000/1/20</th><td>FALSE</td><td>FALSE</td><td>FALSE</td><td>FALSE</td><td>FALSE</td><td>FALSE</td><td>FALSE</td></tr>\n\t<tr><th scope=row>2000/1/21</th><td>FALSE</td><td>FALSE</td><td>FALSE</td><td>FALSE</td><td>FALSE</td><td>FALSE</td><td>FALSE</td></tr>\n\t<tr><th scope=row>2000/1/22</th><td>FALSE</td><td>FALSE</td><td>FALSE</td><td>FALSE</td><td>FALSE</td><td>FALSE</td><td>FALSE</td></tr>\n\t<tr><th scope=row>2000/1/23</th><td>FALSE</td><td>FALSE</td><td>FALSE</td><td>FALSE</td><td>FALSE</td><td>FALSE</td><td>FALSE</td></tr>\n\t<tr><th scope=row>2000/1/24</th><td>FALSE</td><td>FALSE</td><td>FALSE</td><td>FALSE</td><td>FALSE</td><td>FALSE</td><td>FALSE</td></tr>\n\t<tr><th scope=row>2000/1/25</th><td>FALSE</td><td>FALSE</td><td>FALSE</td><td>FALSE</td><td>FALSE</td><td>FALSE</td><td>FALSE</td></tr>\n\t<tr><th scope=row>2000/1/26</th><td>FALSE</td><td>FALSE</td><td>FALSE</td><td>FALSE</td><td>FALSE</td><td>FALSE</td><td>FALSE</td></tr>\n\t<tr><th scope=row>2000/1/27</th><td>FALSE</td><td>FALSE</td><td>FALSE</td><td>FALSE</td><td>FALSE</td><td>FALSE</td><td>FALSE</td></tr>\n\t<tr><th scope=row>2000/1/28</th><td>FALSE</td><td>FALSE</td><td>FALSE</td><td>FALSE</td><td>FALSE</td><td>FALSE</td><td>FALSE</td></tr>\n\t<tr><th scope=row>2000/1/29</th><td>FALSE</td><td>FALSE</td><td>FALSE</td><td>FALSE</td><td>FALSE</td><td>FALSE</td><td>FALSE</td></tr>\n\t<tr><th scope=row>2000/1/30</th><td>FALSE</td><td>FALSE</td><td>FALSE</td><td>FALSE</td><td>FALSE</td><td>FALSE</td><td>FALSE</td></tr>\n\t<tr><th scope=row>⋮</th><td>⋮</td><td>⋮</td><td>⋮</td><td>⋮</td><td>⋮</td><td>⋮</td><td>⋮</td></tr>\n\t<tr><th scope=row>2021/3/2</th><td>FALSE</td><td>FALSE</td><td>FALSE</td><td>FALSE</td><td>FALSE</td><td>FALSE</td><td>FALSE</td></tr>\n\t<tr><th scope=row>2021/3/3</th><td>FALSE</td><td>FALSE</td><td>FALSE</td><td>FALSE</td><td>FALSE</td><td>FALSE</td><td>FALSE</td></tr>\n\t<tr><th scope=row>2021/3/4</th><td>FALSE</td><td>FALSE</td><td>FALSE</td><td>FALSE</td><td>FALSE</td><td>FALSE</td><td>FALSE</td></tr>\n\t<tr><th scope=row>2021/3/5</th><td>FALSE</td><td>FALSE</td><td>FALSE</td><td>FALSE</td><td>FALSE</td><td>FALSE</td><td>FALSE</td></tr>\n\t<tr><th scope=row>2021/3/6</th><td>FALSE</td><td>FALSE</td><td>FALSE</td><td>FALSE</td><td>FALSE</td><td>FALSE</td><td>FALSE</td></tr>\n\t<tr><th scope=row>2021/3/7</th><td>FALSE</td><td>FALSE</td><td>FALSE</td><td>FALSE</td><td>FALSE</td><td>FALSE</td><td>FALSE</td></tr>\n\t<tr><th scope=row>2021/3/8</th><td>FALSE</td><td>FALSE</td><td>FALSE</td><td>FALSE</td><td>FALSE</td><td>FALSE</td><td>FALSE</td></tr>\n\t<tr><th scope=row>2021/3/9</th><td>FALSE</td><td>FALSE</td><td>FALSE</td><td>FALSE</td><td>FALSE</td><td>FALSE</td><td>FALSE</td></tr>\n\t<tr><th scope=row>2021/3/10</th><td>FALSE</td><td>FALSE</td><td>FALSE</td><td>FALSE</td><td>FALSE</td><td>FALSE</td><td>FALSE</td></tr>\n\t<tr><th scope=row>2021/3/11</th><td>FALSE</td><td>FALSE</td><td>FALSE</td><td>FALSE</td><td>FALSE</td><td>FALSE</td><td>FALSE</td></tr>\n\t<tr><th scope=row>2021/3/12</th><td>FALSE</td><td>FALSE</td><td>FALSE</td><td>FALSE</td><td>FALSE</td><td>FALSE</td><td>FALSE</td></tr>\n\t<tr><th scope=row>2021/3/13</th><td>FALSE</td><td>FALSE</td><td>FALSE</td><td>FALSE</td><td>FALSE</td><td>FALSE</td><td>FALSE</td></tr>\n\t<tr><th scope=row>2021/3/14</th><td>FALSE</td><td>FALSE</td><td>FALSE</td><td>FALSE</td><td>FALSE</td><td>FALSE</td><td>FALSE</td></tr>\n\t<tr><th scope=row>2021/3/15</th><td>FALSE</td><td>FALSE</td><td>FALSE</td><td>FALSE</td><td>FALSE</td><td>FALSE</td><td>FALSE</td></tr>\n\t<tr><th scope=row>2021/3/16</th><td>FALSE</td><td>FALSE</td><td>FALSE</td><td>FALSE</td><td>FALSE</td><td>FALSE</td><td>FALSE</td></tr>\n\t<tr><th scope=row>2021/3/17</th><td>FALSE</td><td>FALSE</td><td>FALSE</td><td>FALSE</td><td>FALSE</td><td>FALSE</td><td>FALSE</td></tr>\n\t<tr><th scope=row>2021/3/18</th><td>FALSE</td><td>FALSE</td><td>FALSE</td><td>FALSE</td><td>FALSE</td><td>FALSE</td><td>FALSE</td></tr>\n\t<tr><th scope=row>2021/3/19</th><td>FALSE</td><td>FALSE</td><td>FALSE</td><td>FALSE</td><td>FALSE</td><td>FALSE</td><td>FALSE</td></tr>\n\t<tr><th scope=row>2021/3/20</th><td>FALSE</td><td>FALSE</td><td>FALSE</td><td>FALSE</td><td>FALSE</td><td>FALSE</td><td>FALSE</td></tr>\n\t<tr><th scope=row>2021/3/21</th><td>FALSE</td><td>FALSE</td><td>FALSE</td><td>FALSE</td><td>FALSE</td><td>FALSE</td><td>FALSE</td></tr>\n\t<tr><th scope=row>2021/3/22</th><td>FALSE</td><td>FALSE</td><td>FALSE</td><td>FALSE</td><td>FALSE</td><td>FALSE</td><td>FALSE</td></tr>\n\t<tr><th scope=row>2021/3/23</th><td>FALSE</td><td>FALSE</td><td>FALSE</td><td>FALSE</td><td>FALSE</td><td>FALSE</td><td>FALSE</td></tr>\n\t<tr><th scope=row>2021/3/24</th><td>FALSE</td><td>FALSE</td><td>FALSE</td><td>FALSE</td><td>FALSE</td><td>FALSE</td><td>FALSE</td></tr>\n\t<tr><th scope=row>2021/3/25</th><td>FALSE</td><td>FALSE</td><td>FALSE</td><td>FALSE</td><td>FALSE</td><td>FALSE</td><td>FALSE</td></tr>\n\t<tr><th scope=row>2021/3/26</th><td>FALSE</td><td>FALSE</td><td>FALSE</td><td>FALSE</td><td>FALSE</td><td>FALSE</td><td>FALSE</td></tr>\n\t<tr><th scope=row>2021/3/27</th><td>FALSE</td><td>FALSE</td><td>FALSE</td><td>FALSE</td><td>FALSE</td><td>FALSE</td><td>FALSE</td></tr>\n\t<tr><th scope=row>2021/3/28</th><td>FALSE</td><td>FALSE</td><td>FALSE</td><td>FALSE</td><td>FALSE</td><td>FALSE</td><td>FALSE</td></tr>\n\t<tr><th scope=row>2021/3/29</th><td>FALSE</td><td>FALSE</td><td>FALSE</td><td>FALSE</td><td>FALSE</td><td>FALSE</td><td>FALSE</td></tr>\n\t<tr><th scope=row>2021/3/30</th><td>FALSE</td><td>FALSE</td><td>FALSE</td><td>FALSE</td><td>FALSE</td><td>FALSE</td><td>FALSE</td></tr>\n\t<tr><th scope=row>2021/3/31</th><td>FALSE</td><td>FALSE</td><td>FALSE</td><td>FALSE</td><td>FALSE</td><td>FALSE</td><td>FALSE</td></tr>\n</tbody>\n</table>\n",
      "text/markdown": "\nA matrix: 7761 × 7 of type lgl\n\n| <!--/--> | Année | Mois | Jour | Température | Précipitation | Humidité | Vitesse_Vent |\n|---|---|---|---|---|---|---|---|\n| 2000/1/1 | FALSE | FALSE | FALSE | FALSE | FALSE | FALSE | FALSE |\n| 2000/1/2 | FALSE | FALSE | FALSE | FALSE | FALSE | FALSE | FALSE |\n| 2000/1/3 | FALSE | FALSE | FALSE | FALSE | FALSE | FALSE | FALSE |\n| 2000/1/4 | FALSE | FALSE | FALSE | FALSE | FALSE | FALSE | FALSE |\n| 2000/1/5 | FALSE | FALSE | FALSE | FALSE | FALSE | FALSE | FALSE |\n| 2000/1/6 | FALSE | FALSE | FALSE | FALSE | FALSE | FALSE | FALSE |\n| 2000/1/7 | FALSE | FALSE | FALSE | FALSE | FALSE | FALSE | FALSE |\n| 2000/1/8 | FALSE | FALSE | FALSE | FALSE | FALSE | FALSE | FALSE |\n| 2000/1/9 | FALSE | FALSE | FALSE | FALSE | FALSE | FALSE | FALSE |\n| 2000/1/10 | FALSE | FALSE | FALSE | FALSE | FALSE | FALSE | FALSE |\n| 2000/1/11 | FALSE | FALSE | FALSE | FALSE | FALSE | FALSE | FALSE |\n| 2000/1/12 | FALSE | FALSE | FALSE | FALSE | FALSE | FALSE | FALSE |\n| 2000/1/13 | FALSE | FALSE | FALSE | FALSE | FALSE | FALSE | FALSE |\n| 2000/1/14 | FALSE | FALSE | FALSE | FALSE | FALSE | FALSE | FALSE |\n| 2000/1/15 | FALSE | FALSE | FALSE | FALSE | FALSE | FALSE | FALSE |\n| 2000/1/16 | FALSE | FALSE | FALSE | FALSE | FALSE | FALSE | FALSE |\n| 2000/1/17 | FALSE | FALSE | FALSE | FALSE | FALSE | FALSE | FALSE |\n| 2000/1/18 | FALSE | FALSE | FALSE | FALSE | FALSE | FALSE | FALSE |\n| 2000/1/19 | FALSE | FALSE | FALSE | FALSE | FALSE | FALSE | FALSE |\n| 2000/1/20 | FALSE | FALSE | FALSE | FALSE | FALSE | FALSE | FALSE |\n| 2000/1/21 | FALSE | FALSE | FALSE | FALSE | FALSE | FALSE | FALSE |\n| 2000/1/22 | FALSE | FALSE | FALSE | FALSE | FALSE | FALSE | FALSE |\n| 2000/1/23 | FALSE | FALSE | FALSE | FALSE | FALSE | FALSE | FALSE |\n| 2000/1/24 | FALSE | FALSE | FALSE | FALSE | FALSE | FALSE | FALSE |\n| 2000/1/25 | FALSE | FALSE | FALSE | FALSE | FALSE | FALSE | FALSE |\n| 2000/1/26 | FALSE | FALSE | FALSE | FALSE | FALSE | FALSE | FALSE |\n| 2000/1/27 | FALSE | FALSE | FALSE | FALSE | FALSE | FALSE | FALSE |\n| 2000/1/28 | FALSE | FALSE | FALSE | FALSE | FALSE | FALSE | FALSE |\n| 2000/1/29 | FALSE | FALSE | FALSE | FALSE | FALSE | FALSE | FALSE |\n| 2000/1/30 | FALSE | FALSE | FALSE | FALSE | FALSE | FALSE | FALSE |\n| ⋮ | ⋮ | ⋮ | ⋮ | ⋮ | ⋮ | ⋮ | ⋮ |\n| 2021/3/2 | FALSE | FALSE | FALSE | FALSE | FALSE | FALSE | FALSE |\n| 2021/3/3 | FALSE | FALSE | FALSE | FALSE | FALSE | FALSE | FALSE |\n| 2021/3/4 | FALSE | FALSE | FALSE | FALSE | FALSE | FALSE | FALSE |\n| 2021/3/5 | FALSE | FALSE | FALSE | FALSE | FALSE | FALSE | FALSE |\n| 2021/3/6 | FALSE | FALSE | FALSE | FALSE | FALSE | FALSE | FALSE |\n| 2021/3/7 | FALSE | FALSE | FALSE | FALSE | FALSE | FALSE | FALSE |\n| 2021/3/8 | FALSE | FALSE | FALSE | FALSE | FALSE | FALSE | FALSE |\n| 2021/3/9 | FALSE | FALSE | FALSE | FALSE | FALSE | FALSE | FALSE |\n| 2021/3/10 | FALSE | FALSE | FALSE | FALSE | FALSE | FALSE | FALSE |\n| 2021/3/11 | FALSE | FALSE | FALSE | FALSE | FALSE | FALSE | FALSE |\n| 2021/3/12 | FALSE | FALSE | FALSE | FALSE | FALSE | FALSE | FALSE |\n| 2021/3/13 | FALSE | FALSE | FALSE | FALSE | FALSE | FALSE | FALSE |\n| 2021/3/14 | FALSE | FALSE | FALSE | FALSE | FALSE | FALSE | FALSE |\n| 2021/3/15 | FALSE | FALSE | FALSE | FALSE | FALSE | FALSE | FALSE |\n| 2021/3/16 | FALSE | FALSE | FALSE | FALSE | FALSE | FALSE | FALSE |\n| 2021/3/17 | FALSE | FALSE | FALSE | FALSE | FALSE | FALSE | FALSE |\n| 2021/3/18 | FALSE | FALSE | FALSE | FALSE | FALSE | FALSE | FALSE |\n| 2021/3/19 | FALSE | FALSE | FALSE | FALSE | FALSE | FALSE | FALSE |\n| 2021/3/20 | FALSE | FALSE | FALSE | FALSE | FALSE | FALSE | FALSE |\n| 2021/3/21 | FALSE | FALSE | FALSE | FALSE | FALSE | FALSE | FALSE |\n| 2021/3/22 | FALSE | FALSE | FALSE | FALSE | FALSE | FALSE | FALSE |\n| 2021/3/23 | FALSE | FALSE | FALSE | FALSE | FALSE | FALSE | FALSE |\n| 2021/3/24 | FALSE | FALSE | FALSE | FALSE | FALSE | FALSE | FALSE |\n| 2021/3/25 | FALSE | FALSE | FALSE | FALSE | FALSE | FALSE | FALSE |\n| 2021/3/26 | FALSE | FALSE | FALSE | FALSE | FALSE | FALSE | FALSE |\n| 2021/3/27 | FALSE | FALSE | FALSE | FALSE | FALSE | FALSE | FALSE |\n| 2021/3/28 | FALSE | FALSE | FALSE | FALSE | FALSE | FALSE | FALSE |\n| 2021/3/29 | FALSE | FALSE | FALSE | FALSE | FALSE | FALSE | FALSE |\n| 2021/3/30 | FALSE | FALSE | FALSE | FALSE | FALSE | FALSE | FALSE |\n| 2021/3/31 | FALSE | FALSE | FALSE | FALSE | FALSE | FALSE | FALSE |\n\n",
      "text/latex": "A matrix: 7761 × 7 of type lgl\n\\begin{tabular}{r|lllllll}\n  & Année & Mois & Jour & Température & Précipitation & Humidité & Vitesse\\_Vent\\\\\n\\hline\n\t2000/1/1 & FALSE & FALSE & FALSE & FALSE & FALSE & FALSE & FALSE\\\\\n\t2000/1/2 & FALSE & FALSE & FALSE & FALSE & FALSE & FALSE & FALSE\\\\\n\t2000/1/3 & FALSE & FALSE & FALSE & FALSE & FALSE & FALSE & FALSE\\\\\n\t2000/1/4 & FALSE & FALSE & FALSE & FALSE & FALSE & FALSE & FALSE\\\\\n\t2000/1/5 & FALSE & FALSE & FALSE & FALSE & FALSE & FALSE & FALSE\\\\\n\t2000/1/6 & FALSE & FALSE & FALSE & FALSE & FALSE & FALSE & FALSE\\\\\n\t2000/1/7 & FALSE & FALSE & FALSE & FALSE & FALSE & FALSE & FALSE\\\\\n\t2000/1/8 & FALSE & FALSE & FALSE & FALSE & FALSE & FALSE & FALSE\\\\\n\t2000/1/9 & FALSE & FALSE & FALSE & FALSE & FALSE & FALSE & FALSE\\\\\n\t2000/1/10 & FALSE & FALSE & FALSE & FALSE & FALSE & FALSE & FALSE\\\\\n\t2000/1/11 & FALSE & FALSE & FALSE & FALSE & FALSE & FALSE & FALSE\\\\\n\t2000/1/12 & FALSE & FALSE & FALSE & FALSE & FALSE & FALSE & FALSE\\\\\n\t2000/1/13 & FALSE & FALSE & FALSE & FALSE & FALSE & FALSE & FALSE\\\\\n\t2000/1/14 & FALSE & FALSE & FALSE & FALSE & FALSE & FALSE & FALSE\\\\\n\t2000/1/15 & FALSE & FALSE & FALSE & FALSE & FALSE & FALSE & FALSE\\\\\n\t2000/1/16 & FALSE & FALSE & FALSE & FALSE & FALSE & FALSE & FALSE\\\\\n\t2000/1/17 & FALSE & FALSE & FALSE & FALSE & FALSE & FALSE & FALSE\\\\\n\t2000/1/18 & FALSE & FALSE & FALSE & FALSE & FALSE & FALSE & FALSE\\\\\n\t2000/1/19 & FALSE & FALSE & FALSE & FALSE & FALSE & FALSE & FALSE\\\\\n\t2000/1/20 & FALSE & FALSE & FALSE & FALSE & FALSE & FALSE & FALSE\\\\\n\t2000/1/21 & FALSE & FALSE & FALSE & FALSE & FALSE & FALSE & FALSE\\\\\n\t2000/1/22 & FALSE & FALSE & FALSE & FALSE & FALSE & FALSE & FALSE\\\\\n\t2000/1/23 & FALSE & FALSE & FALSE & FALSE & FALSE & FALSE & FALSE\\\\\n\t2000/1/24 & FALSE & FALSE & FALSE & FALSE & FALSE & FALSE & FALSE\\\\\n\t2000/1/25 & FALSE & FALSE & FALSE & FALSE & FALSE & FALSE & FALSE\\\\\n\t2000/1/26 & FALSE & FALSE & FALSE & FALSE & FALSE & FALSE & FALSE\\\\\n\t2000/1/27 & FALSE & FALSE & FALSE & FALSE & FALSE & FALSE & FALSE\\\\\n\t2000/1/28 & FALSE & FALSE & FALSE & FALSE & FALSE & FALSE & FALSE\\\\\n\t2000/1/29 & FALSE & FALSE & FALSE & FALSE & FALSE & FALSE & FALSE\\\\\n\t2000/1/30 & FALSE & FALSE & FALSE & FALSE & FALSE & FALSE & FALSE\\\\\n\t⋮ & ⋮ & ⋮ & ⋮ & ⋮ & ⋮ & ⋮ & ⋮\\\\\n\t2021/3/2 & FALSE & FALSE & FALSE & FALSE & FALSE & FALSE & FALSE\\\\\n\t2021/3/3 & FALSE & FALSE & FALSE & FALSE & FALSE & FALSE & FALSE\\\\\n\t2021/3/4 & FALSE & FALSE & FALSE & FALSE & FALSE & FALSE & FALSE\\\\\n\t2021/3/5 & FALSE & FALSE & FALSE & FALSE & FALSE & FALSE & FALSE\\\\\n\t2021/3/6 & FALSE & FALSE & FALSE & FALSE & FALSE & FALSE & FALSE\\\\\n\t2021/3/7 & FALSE & FALSE & FALSE & FALSE & FALSE & FALSE & FALSE\\\\\n\t2021/3/8 & FALSE & FALSE & FALSE & FALSE & FALSE & FALSE & FALSE\\\\\n\t2021/3/9 & FALSE & FALSE & FALSE & FALSE & FALSE & FALSE & FALSE\\\\\n\t2021/3/10 & FALSE & FALSE & FALSE & FALSE & FALSE & FALSE & FALSE\\\\\n\t2021/3/11 & FALSE & FALSE & FALSE & FALSE & FALSE & FALSE & FALSE\\\\\n\t2021/3/12 & FALSE & FALSE & FALSE & FALSE & FALSE & FALSE & FALSE\\\\\n\t2021/3/13 & FALSE & FALSE & FALSE & FALSE & FALSE & FALSE & FALSE\\\\\n\t2021/3/14 & FALSE & FALSE & FALSE & FALSE & FALSE & FALSE & FALSE\\\\\n\t2021/3/15 & FALSE & FALSE & FALSE & FALSE & FALSE & FALSE & FALSE\\\\\n\t2021/3/16 & FALSE & FALSE & FALSE & FALSE & FALSE & FALSE & FALSE\\\\\n\t2021/3/17 & FALSE & FALSE & FALSE & FALSE & FALSE & FALSE & FALSE\\\\\n\t2021/3/18 & FALSE & FALSE & FALSE & FALSE & FALSE & FALSE & FALSE\\\\\n\t2021/3/19 & FALSE & FALSE & FALSE & FALSE & FALSE & FALSE & FALSE\\\\\n\t2021/3/20 & FALSE & FALSE & FALSE & FALSE & FALSE & FALSE & FALSE\\\\\n\t2021/3/21 & FALSE & FALSE & FALSE & FALSE & FALSE & FALSE & FALSE\\\\\n\t2021/3/22 & FALSE & FALSE & FALSE & FALSE & FALSE & FALSE & FALSE\\\\\n\t2021/3/23 & FALSE & FALSE & FALSE & FALSE & FALSE & FALSE & FALSE\\\\\n\t2021/3/24 & FALSE & FALSE & FALSE & FALSE & FALSE & FALSE & FALSE\\\\\n\t2021/3/25 & FALSE & FALSE & FALSE & FALSE & FALSE & FALSE & FALSE\\\\\n\t2021/3/26 & FALSE & FALSE & FALSE & FALSE & FALSE & FALSE & FALSE\\\\\n\t2021/3/27 & FALSE & FALSE & FALSE & FALSE & FALSE & FALSE & FALSE\\\\\n\t2021/3/28 & FALSE & FALSE & FALSE & FALSE & FALSE & FALSE & FALSE\\\\\n\t2021/3/29 & FALSE & FALSE & FALSE & FALSE & FALSE & FALSE & FALSE\\\\\n\t2021/3/30 & FALSE & FALSE & FALSE & FALSE & FALSE & FALSE & FALSE\\\\\n\t2021/3/31 & FALSE & FALSE & FALSE & FALSE & FALSE & FALSE & FALSE\\\\\n\\end{tabular}\n",
      "text/plain": "          Année Mois  Jour  Température Précipitation Humidité Vitesse_Vent\n2000/1/1  FALSE FALSE FALSE FALSE       FALSE         FALSE    FALSE       \n2000/1/2  FALSE FALSE FALSE FALSE       FALSE         FALSE    FALSE       \n2000/1/3  FALSE FALSE FALSE FALSE       FALSE         FALSE    FALSE       \n2000/1/4  FALSE FALSE FALSE FALSE       FALSE         FALSE    FALSE       \n2000/1/5  FALSE FALSE FALSE FALSE       FALSE         FALSE    FALSE       \n2000/1/6  FALSE FALSE FALSE FALSE       FALSE         FALSE    FALSE       \n2000/1/7  FALSE FALSE FALSE FALSE       FALSE         FALSE    FALSE       \n2000/1/8  FALSE FALSE FALSE FALSE       FALSE         FALSE    FALSE       \n2000/1/9  FALSE FALSE FALSE FALSE       FALSE         FALSE    FALSE       \n2000/1/10 FALSE FALSE FALSE FALSE       FALSE         FALSE    FALSE       \n2000/1/11 FALSE FALSE FALSE FALSE       FALSE         FALSE    FALSE       \n2000/1/12 FALSE FALSE FALSE FALSE       FALSE         FALSE    FALSE       \n2000/1/13 FALSE FALSE FALSE FALSE       FALSE         FALSE    FALSE       \n2000/1/14 FALSE FALSE FALSE FALSE       FALSE         FALSE    FALSE       \n2000/1/15 FALSE FALSE FALSE FALSE       FALSE         FALSE    FALSE       \n2000/1/16 FALSE FALSE FALSE FALSE       FALSE         FALSE    FALSE       \n2000/1/17 FALSE FALSE FALSE FALSE       FALSE         FALSE    FALSE       \n2000/1/18 FALSE FALSE FALSE FALSE       FALSE         FALSE    FALSE       \n2000/1/19 FALSE FALSE FALSE FALSE       FALSE         FALSE    FALSE       \n2000/1/20 FALSE FALSE FALSE FALSE       FALSE         FALSE    FALSE       \n2000/1/21 FALSE FALSE FALSE FALSE       FALSE         FALSE    FALSE       \n2000/1/22 FALSE FALSE FALSE FALSE       FALSE         FALSE    FALSE       \n2000/1/23 FALSE FALSE FALSE FALSE       FALSE         FALSE    FALSE       \n2000/1/24 FALSE FALSE FALSE FALSE       FALSE         FALSE    FALSE       \n2000/1/25 FALSE FALSE FALSE FALSE       FALSE         FALSE    FALSE       \n2000/1/26 FALSE FALSE FALSE FALSE       FALSE         FALSE    FALSE       \n2000/1/27 FALSE FALSE FALSE FALSE       FALSE         FALSE    FALSE       \n2000/1/28 FALSE FALSE FALSE FALSE       FALSE         FALSE    FALSE       \n2000/1/29 FALSE FALSE FALSE FALSE       FALSE         FALSE    FALSE       \n2000/1/30 FALSE FALSE FALSE FALSE       FALSE         FALSE    FALSE       \n⋮         ⋮     ⋮     ⋮     ⋮           ⋮             ⋮        ⋮           \n2021/3/2  FALSE FALSE FALSE FALSE       FALSE         FALSE    FALSE       \n2021/3/3  FALSE FALSE FALSE FALSE       FALSE         FALSE    FALSE       \n2021/3/4  FALSE FALSE FALSE FALSE       FALSE         FALSE    FALSE       \n2021/3/5  FALSE FALSE FALSE FALSE       FALSE         FALSE    FALSE       \n2021/3/6  FALSE FALSE FALSE FALSE       FALSE         FALSE    FALSE       \n2021/3/7  FALSE FALSE FALSE FALSE       FALSE         FALSE    FALSE       \n2021/3/8  FALSE FALSE FALSE FALSE       FALSE         FALSE    FALSE       \n2021/3/9  FALSE FALSE FALSE FALSE       FALSE         FALSE    FALSE       \n2021/3/10 FALSE FALSE FALSE FALSE       FALSE         FALSE    FALSE       \n2021/3/11 FALSE FALSE FALSE FALSE       FALSE         FALSE    FALSE       \n2021/3/12 FALSE FALSE FALSE FALSE       FALSE         FALSE    FALSE       \n2021/3/13 FALSE FALSE FALSE FALSE       FALSE         FALSE    FALSE       \n2021/3/14 FALSE FALSE FALSE FALSE       FALSE         FALSE    FALSE       \n2021/3/15 FALSE FALSE FALSE FALSE       FALSE         FALSE    FALSE       \n2021/3/16 FALSE FALSE FALSE FALSE       FALSE         FALSE    FALSE       \n2021/3/17 FALSE FALSE FALSE FALSE       FALSE         FALSE    FALSE       \n2021/3/18 FALSE FALSE FALSE FALSE       FALSE         FALSE    FALSE       \n2021/3/19 FALSE FALSE FALSE FALSE       FALSE         FALSE    FALSE       \n2021/3/20 FALSE FALSE FALSE FALSE       FALSE         FALSE    FALSE       \n2021/3/21 FALSE FALSE FALSE FALSE       FALSE         FALSE    FALSE       \n2021/3/22 FALSE FALSE FALSE FALSE       FALSE         FALSE    FALSE       \n2021/3/23 FALSE FALSE FALSE FALSE       FALSE         FALSE    FALSE       \n2021/3/24 FALSE FALSE FALSE FALSE       FALSE         FALSE    FALSE       \n2021/3/25 FALSE FALSE FALSE FALSE       FALSE         FALSE    FALSE       \n2021/3/26 FALSE FALSE FALSE FALSE       FALSE         FALSE    FALSE       \n2021/3/27 FALSE FALSE FALSE FALSE       FALSE         FALSE    FALSE       \n2021/3/28 FALSE FALSE FALSE FALSE       FALSE         FALSE    FALSE       \n2021/3/29 FALSE FALSE FALSE FALSE       FALSE         FALSE    FALSE       \n2021/3/30 FALSE FALSE FALSE FALSE       FALSE         FALSE    FALSE       \n2021/3/31 FALSE FALSE FALSE FALSE       FALSE         FALSE    FALSE       "
     },
     "metadata": {},
     "output_type": "display_data"
    },
    {
     "data": {
      "text/html": "<table class=\"dataframe\">\n<caption>A matrix: 0 × 2 of type int</caption>\n<thead>\n\t<tr><th scope=col>row</th><th scope=col>col</th></tr>\n</thead>\n<tbody>\n</tbody>\n</table>\n",
      "text/markdown": "\nA matrix: 0 × 2 of type int\n\n| row | col |\n|---|---|\n\n",
      "text/latex": "A matrix: 0 × 2 of type int\n\\begin{tabular}{ll}\n row & col\\\\\n\\hline\n\\end{tabular}\n",
      "text/plain": "     row col"
     },
     "metadata": {},
     "output_type": "display_data"
    }
   ],
   "source": [
    "# Vérifier les valeurs manquantes/nettoyagae de la weather.\n",
    "is.na(weather)\n",
    "which(is.na(weather),arr.ind = TRUE)"
   ]
  },
  {
   "cell_type": "code",
   "execution_count": 19,
   "id": "f233465f",
   "metadata": {
    "ExecuteTime": {
     "end_time": "2023-05-26T00:56:11.213911Z",
     "start_time": "2023-05-26T00:56:10.170526200Z"
    }
   },
   "outputs": [
    {
     "name": "stdout",
     "output_type": "stream",
     "text": [
      "'data.frame':\t7761 obs. of  7 variables:\n",
      " $ Année        : int  2000 2000 2000 2000 2000 2000 2000 2000 2000 2000 ...\n",
      " $ Mois         : int  1 1 1 1 1 1 1 1 1 1 ...\n",
      " $ Jour         : int  1 2 3 4 5 6 7 8 9 10 ...\n",
      " $ Température  : num  12.9 12.7 13.2 13.9 13.8 ...\n",
      " $ Précipitation: num  0 0 0 0 0 ...\n",
      " $ Humidité     : num  5.8 5.8 7.39 7.08 6.23 6.77 5.19 5.68 7.14 6.84 ...\n",
      " $ Vitesse_Vent : num  4.3 2.13 2.98 2.55 1.83 3.85 2.95 3.02 2.61 4.73 ...\n"
     ]
    }
   ],
   "source": [
    "# Afficher la structure et le résumé des variables\n",
    "str(weather)"
   ]
  },
  {
   "cell_type": "code",
   "execution_count": 20,
   "id": "41035d01",
   "metadata": {
    "ExecuteTime": {
     "end_time": "2023-05-26T00:56:11.229451Z",
     "start_time": "2023-05-26T00:56:10.201777600Z"
    }
   },
   "outputs": [
    {
     "data": {
      "text/plain": "     Année           Mois            Jour        Température   \n Min.   :2000   Min.   : 1.00   Min.   : 1.00   Min.   : 6.45  \n 1st Qu.:2005   1st Qu.: 3.00   1st Qu.: 8.00   1st Qu.:15.22  \n Median :2010   Median : 6.00   Median :16.00   Median :18.40  \n Mean   :2010   Mean   : 6.47   Mean   :15.73   Mean   :18.78  \n 3rd Qu.:2015   3rd Qu.: 9.00   3rd Qu.:23.00   3rd Qu.:22.32  \n Max.   :2021   Max.   :12.00   Max.   :31.00   Max.   :34.70  \n Précipitation       Humidité      Vitesse_Vent   \n Min.   :  0.00   Min.   : 3.54   Min.   : 0.960  \n 1st Qu.:  0.00   1st Qu.: 8.12   1st Qu.: 2.820  \n Median :  0.01   Median : 9.77   Median : 3.470  \n Mean   :  1.35   Mean   :10.05   Mean   : 3.805  \n 3rd Qu.:  0.32   3rd Qu.:12.15   3rd Qu.: 4.340  \n Max.   :136.36   Max.   :16.72   Max.   :13.060  "
     },
     "metadata": {},
     "output_type": "display_data"
    }
   ],
   "source": [
    "# Afficher la structure du weather et le résumé des variables\n",
    "summary(weather)"
   ]
  },
  {
   "cell_type": "code",
   "execution_count": 21,
   "id": "58807cb8",
   "metadata": {
    "ExecuteTime": {
     "end_time": "2023-05-26T00:56:11.260681Z",
     "start_time": "2023-05-26T00:56:10.233032400Z"
    }
   },
   "outputs": [],
   "source": [
    "# Afficher la description des variables\n",
    "#library(questionr)\n",
    "#describe(weather)"
   ]
  },
  {
   "cell_type": "code",
   "execution_count": 22,
   "id": "c16759cc",
   "metadata": {
    "ExecuteTime": {
     "end_time": "2023-05-26T00:56:11.775209Z",
     "start_time": "2023-05-26T00:56:10.248658100Z"
    }
   },
   "outputs": [
    {
     "data": {
      "text/plain": "plot without title",
      "image/png": "[encoded data removed]"
     },
     "metadata": {
      "image/png": {
       "width": 420,
       "height": 420
      }
     },
     "output_type": "display_data"
    }
   ],
   "source": [
    "# Visualiser la distibution du variable Température par un histogramme:\n",
    "\n",
    "library(ggplot2)\n",
    "histogram_Température <- ggplot(weather, aes(x=Température)) +\n",
    "  geom_histogram(aes(y=after_stat(density)), binwidth = 0.1, fill=\"blue\", alpha=0.5) +\n",
    "  geom_density(alpha = .2, fill=\"red\") +\n",
    "  ggtitle(\"Distibution du Température\") +\n",
    "  xlab(\"Température\") + ylab(\"Density\")\n",
    "\n",
    "print(histogram_Température)"
   ]
  },
  {
   "cell_type": "code",
   "execution_count": 23,
   "id": "ef8914ce",
   "metadata": {
    "ExecuteTime": {
     "end_time": "2023-05-26T00:56:11.775209Z",
     "start_time": "2023-05-26T00:56:11.652103200Z"
    }
   },
   "outputs": [
    {
     "data": {
      "text/html": "<table class=\"dataframe\">\n<caption>A matrix: 4 × 4 of type dbl</caption>\n<thead>\n\t<tr><th></th><th scope=col>Température</th><th scope=col>Précipitation</th><th scope=col>Humidité</th><th scope=col>Vitesse_Vent</th></tr>\n</thead>\n<tbody>\n\t<tr><th scope=row>Température</th><td> 1.00</td><td>-0.18</td><td> 0.89</td><td>-0.21</td></tr>\n\t<tr><th scope=row>Précipitation</th><td>-0.18</td><td> 1.00</td><td>-0.09</td><td> 0.47</td></tr>\n\t<tr><th scope=row>Humidité</th><td> 0.89</td><td>-0.09</td><td> 1.00</td><td>-0.15</td></tr>\n\t<tr><th scope=row>Vitesse_Vent</th><td>-0.21</td><td> 0.47</td><td>-0.15</td><td> 1.00</td></tr>\n</tbody>\n</table>\n",
      "text/markdown": "\nA matrix: 4 × 4 of type dbl\n\n| <!--/--> | Température | Précipitation | Humidité | Vitesse_Vent |\n|---|---|---|---|---|\n| Température |  1.00 | -0.18 |  0.89 | -0.21 |\n| Précipitation | -0.18 |  1.00 | -0.09 |  0.47 |\n| Humidité |  0.89 | -0.09 |  1.00 | -0.15 |\n| Vitesse_Vent | -0.21 |  0.47 | -0.15 |  1.00 |\n\n",
      "text/latex": "A matrix: 4 × 4 of type dbl\n\\begin{tabular}{r|llll}\n  & Température & Précipitation & Humidité & Vitesse\\_Vent\\\\\n\\hline\n\tTempérature &  1.00 & -0.18 &  0.89 & -0.21\\\\\n\tPrécipitation & -0.18 &  1.00 & -0.09 &  0.47\\\\\n\tHumidité &  0.89 & -0.09 &  1.00 & -0.15\\\\\n\tVitesse\\_Vent & -0.21 &  0.47 & -0.15 &  1.00\\\\\n\\end{tabular}\n",
      "text/plain": "              Température Précipitation Humidité Vitesse_Vent\nTempérature    1.00       -0.18          0.89    -0.21       \nPrécipitation -0.18        1.00         -0.09     0.47       \nHumidité       0.89       -0.09          1.00    -0.15       \nVitesse_Vent  -0.21        0.47         -0.15     1.00       "
     },
     "metadata": {},
     "output_type": "display_data"
    }
   ],
   "source": [
    "# Afficher la matrice de corrélation entre les variables\n",
    "\n",
    "#                       Algébriquement:\n",
    "\n",
    "#------Le coefficient de Pearson r\n",
    "round(cor(weather[, 4:7], use = \"complete.obs\", method = \"pearson\"),2)"
   ]
  },
  {
   "cell_type": "code",
   "execution_count": 24,
   "id": "444f3079",
   "metadata": {
    "ExecuteTime": {
     "end_time": "2023-05-26T00:56:14.057665Z",
     "start_time": "2023-05-26T00:56:11.696326100Z"
    }
   },
   "outputs": [
    {
     "name": "stderr",
     "output_type": "stream",
     "text": [
      "\n",
      "Attaching package: 'Hmisc'\n",
      "\n",
      "\n",
      "The following objects are masked from 'package:base':\n",
      "\n",
      "    format.pval, units\n",
      "\n",
      "\n"
     ]
    },
    {
     "data": {
      "text/plain": "              Température Précipitation Humidité Vitesse_Vent\nTempérature          1.00         -0.18     0.89        -0.21\nPrécipitation       -0.18          1.00    -0.09         0.47\nHumidité             0.89         -0.09     1.00        -0.15\nVitesse_Vent        -0.21          0.47    -0.15         1.00\n\nn= 7761 \n\n\nP\n              Température Précipitation Humidité Vitesse_Vent\nTempérature                0             0        0          \nPrécipitation  0                         0        0          \nHumidité       0           0                      0          \nVitesse_Vent   0           0             0                   "
     },
     "metadata": {},
     "output_type": "display_data"
    }
   ],
   "source": [
    "#------corrélation entre deux variables quantitatives avec rcorr\n",
    "library(lattice)\n",
    "library(survival)\n",
    "library(Formula)\n",
    "library(ggplot2)\n",
    "library(Hmisc)\n",
    "rcorr(as.matrix(weather[, 4:7]))"
   ]
  },
  {
   "cell_type": "code",
   "execution_count": 25,
   "id": "e52bc771",
   "metadata": {
    "ExecuteTime": {
     "end_time": "2023-05-26T00:56:14.182754700Z",
     "start_time": "2023-05-26T00:56:14.057665Z"
    }
   },
   "outputs": [
    {
     "data": {
      "text/plain": "\n\tPearson's product-moment correlation\n\ndata:  weather$Température and weather$Humidité\nt = 173.71, df = 7759, p-value < 2.2e-16\nalternative hypothesis: true correlation is not equal to 0\n95 percent confidence interval:\n 0.8872436 0.8963485\nsample estimates:\n      cor \n0.8918864 \n"
     },
     "metadata": {},
     "output_type": "display_data"
    }
   ],
   "source": [
    "#------Constuire des intervalles de confiance avec cor.test\n",
    "cor.test(weather$Température , weather$Humidité )\n",
    "#cor.test(weather$Température , weather$Humidité , alternative = \"greater\")"
   ]
  },
  {
   "cell_type": "code",
   "execution_count": 26,
   "id": "68411f29",
   "metadata": {
    "ExecuteTime": {
     "end_time": "2023-05-26T00:56:14.182754700Z",
     "start_time": "2023-05-26T00:56:14.088933200Z"
    }
   },
   "outputs": [
    {
     "data": {
      "text/html": "<table class=\"dataframe\">\n<caption>A matrix: 4 × 4 of type dbl</caption>\n<thead>\n\t<tr><th></th><th scope=col>Température</th><th scope=col>Précipitation</th><th scope=col>Humidité</th><th scope=col>Vitesse_Vent</th></tr>\n</thead>\n<tbody>\n\t<tr><th scope=row>Température</th><td>1.00000000</td><td>0.032678721</td><td>0.795461328</td><td>0.04367901</td></tr>\n\t<tr><th scope=row>Précipitation</th><td>0.03267872</td><td>1.000000000</td><td>0.007596048</td><td>0.22454890</td></tr>\n\t<tr><th scope=row>Humidité</th><td>0.79546133</td><td>0.007596048</td><td>1.000000000</td><td>0.02212756</td></tr>\n\t<tr><th scope=row>Vitesse_Vent</th><td>0.04367901</td><td>0.224548895</td><td>0.022127560</td><td>1.00000000</td></tr>\n</tbody>\n</table>\n",
      "text/markdown": "\nA matrix: 4 × 4 of type dbl\n\n| <!--/--> | Température | Précipitation | Humidité | Vitesse_Vent |\n|---|---|---|---|---|\n| Température | 1.00000000 | 0.032678721 | 0.795461328 | 0.04367901 |\n| Précipitation | 0.03267872 | 1.000000000 | 0.007596048 | 0.22454890 |\n| Humidité | 0.79546133 | 0.007596048 | 1.000000000 | 0.02212756 |\n| Vitesse_Vent | 0.04367901 | 0.224548895 | 0.022127560 | 1.00000000 |\n\n",
      "text/latex": "A matrix: 4 × 4 of type dbl\n\\begin{tabular}{r|llll}\n  & Température & Précipitation & Humidité & Vitesse\\_Vent\\\\\n\\hline\n\tTempérature & 1.00000000 & 0.032678721 & 0.795461328 & 0.04367901\\\\\n\tPrécipitation & 0.03267872 & 1.000000000 & 0.007596048 & 0.22454890\\\\\n\tHumidité & 0.79546133 & 0.007596048 & 1.000000000 & 0.02212756\\\\\n\tVitesse\\_Vent & 0.04367901 & 0.224548895 & 0.022127560 & 1.00000000\\\\\n\\end{tabular}\n",
      "text/plain": "              Température Précipitation Humidité    Vitesse_Vent\nTempérature   1.00000000  0.032678721   0.795461328 0.04367901  \nPrécipitation 0.03267872  1.000000000   0.007596048 0.22454890  \nHumidité      0.79546133  0.007596048   1.000000000 0.02212756  \nVitesse_Vent  0.04367901  0.224548895   0.022127560 1.00000000  "
     },
     "metadata": {},
     "output_type": "display_data"
    },
    {
     "data": {
      "text/html": "<table class=\"dataframe\">\n<caption>A matrix: 4 × 4 of type dbl</caption>\n<thead>\n\t<tr><th></th><th scope=col>Température</th><th scope=col>Précipitation</th><th scope=col>Humidité</th><th scope=col>Vitesse_Vent</th></tr>\n</thead>\n<tbody>\n\t<tr><th scope=row>Température</th><td>100.00</td><td>  3.27</td><td> 79.55</td><td>  4.37</td></tr>\n\t<tr><th scope=row>Précipitation</th><td>  3.27</td><td>100.00</td><td>  0.76</td><td> 22.45</td></tr>\n\t<tr><th scope=row>Humidité</th><td> 79.55</td><td>  0.76</td><td>100.00</td><td>  2.21</td></tr>\n\t<tr><th scope=row>Vitesse_Vent</th><td>  4.37</td><td> 22.45</td><td>  2.21</td><td>100.00</td></tr>\n</tbody>\n</table>\n",
      "text/markdown": "\nA matrix: 4 × 4 of type dbl\n\n| <!--/--> | Température | Précipitation | Humidité | Vitesse_Vent |\n|---|---|---|---|---|\n| Température | 100.00 |   3.27 |  79.55 |   4.37 |\n| Précipitation |   3.27 | 100.00 |   0.76 |  22.45 |\n| Humidité |  79.55 |   0.76 | 100.00 |   2.21 |\n| Vitesse_Vent |   4.37 |  22.45 |   2.21 | 100.00 |\n\n",
      "text/latex": "A matrix: 4 × 4 of type dbl\n\\begin{tabular}{r|llll}\n  & Température & Précipitation & Humidité & Vitesse\\_Vent\\\\\n\\hline\n\tTempérature & 100.00 &   3.27 &  79.55 &   4.37\\\\\n\tPrécipitation &   3.27 & 100.00 &   0.76 &  22.45\\\\\n\tHumidité &  79.55 &   0.76 & 100.00 &   2.21\\\\\n\tVitesse\\_Vent &   4.37 &  22.45 &   2.21 & 100.00\\\\\n\\end{tabular}\n",
      "text/plain": "              Température Précipitation Humidité Vitesse_Vent\nTempérature   100.00        3.27         79.55     4.37      \nPrécipitation   3.27      100.00          0.76    22.45      \nHumidité       79.55        0.76        100.00     2.21      \nVitesse_Vent    4.37       22.45          2.21   100.00      "
     },
     "metadata": {},
     "output_type": "display_data"
    }
   ],
   "source": [
    "#------Déterminer la variance expliquée\n",
    "cor(weather[,4:7], use = \"complete.obs\") ^2\n",
    "round(cor(weather[,4:7], use = \"complete.obs\")^2 *100, 2)"
   ]
  },
  {
   "cell_type": "code",
   "execution_count": 27,
   "id": "4e902a08",
   "metadata": {
    "ExecuteTime": {
     "end_time": "2023-05-26T00:56:17.289950500Z",
     "start_time": "2023-05-26T00:56:14.167157300Z"
    }
   },
   "outputs": [
    {
     "data": {
      "text/plain": "plot without title",
      "image/png": "[encoded data removed]"
     },
     "metadata": {
      "image/png": {
       "width": 420,
       "height": 420
      }
     },
     "output_type": "display_data"
    },
    {
     "data": {
      "text/plain": "plot without title",
      "image/png": "[encoded data removed]"
     },
     "metadata": {
      "image/png": {
       "width": 420,
       "height": 420
      }
     },
     "output_type": "display_data"
    }
   ],
   "source": [
    "#                       Graphiquement :\n",
    "pairs(weather[,4:7])\n",
    "plot(weather$Humidité,weather$Température)"
   ]
  },
  {
   "cell_type": "markdown",
   "id": "405441eb",
   "metadata": {},
   "source": [
    "puisque r = 0.89, p (unilatéral) < .001. donc Il existe une relation significative entre la température et l'Humidité"
   ]
  },
  {
   "cell_type": "markdown",
   "id": "2ffa65d9",
   "metadata": {},
   "source": [
    "#### II - Split the weather into training and testing sets"
   ]
  },
  {
   "cell_type": "code",
   "execution_count": 28,
   "id": "67123c06",
   "metadata": {
    "ExecuteTime": {
     "end_time": "2023-05-26T00:56:19.561678100Z",
     "start_time": "2023-05-26T00:56:17.289950500Z"
    }
   },
   "outputs": [
    {
     "name": "stderr",
     "output_type": "stream",
     "text": [
      "\n",
      "Attaching package: 'caret'\n",
      "\n",
      "\n",
      "The following object is masked from 'package:survival':\n",
      "\n",
      "    cluster\n",
      "\n",
      "\n"
     ]
    }
   ],
   "source": [
    " library(caret)\n",
    "train_index <- createDataPartition(weather$Température, p = 0.8, list = FALSE)\n",
    "train <- weather[train_index, ]\n",
    "test <- weather[-train_index, ]"
   ]
  },
  {
   "cell_type": "markdown",
   "id": "0acee7c1",
   "metadata": {},
   "source": [
    "#### III - Régression linéaire simple"
   ]
  },
  {
   "cell_type": "code",
   "execution_count": 29,
   "id": "a21bfd99",
   "metadata": {
    "ExecuteTime": {
     "end_time": "2023-05-26T00:56:19.639800300Z",
     "start_time": "2023-05-26T00:56:19.577310500Z"
    }
   },
   "outputs": [
    {
     "data": {
      "text/html": "<table class=\"dataframe\">\n<caption>A data.frame: 3 × 2</caption>\n<thead>\n\t<tr><th></th><th scope=col>df</th><th scope=col>AIC</th></tr>\n\t<tr><th></th><th scope=col>&lt;dbl&gt;</th><th scope=col>&lt;dbl&gt;</th></tr>\n</thead>\n<tbody>\n\t<tr><th scope=row>rls1</th><td>3</td><td>25639.79</td></tr>\n\t<tr><th scope=row>rls2</th><td>3</td><td>35202.97</td></tr>\n\t<tr><th scope=row>rls3</th><td>3</td><td>35141.22</td></tr>\n</tbody>\n</table>\n",
      "text/markdown": "\nA data.frame: 3 × 2\n\n| <!--/--> | df &lt;dbl&gt; | AIC &lt;dbl&gt; |\n|---|---|---|\n| rls1 | 3 | 25639.79 |\n| rls2 | 3 | 35202.97 |\n| rls3 | 3 | 35141.22 |\n\n",
      "text/latex": "A data.frame: 3 × 2\n\\begin{tabular}{r|ll}\n  & df & AIC\\\\\n  & <dbl> & <dbl>\\\\\n\\hline\n\trls1 & 3 & 25639.79\\\\\n\trls2 & 3 & 35202.97\\\\\n\trls3 & 3 & 35141.22\\\\\n\\end{tabular}\n",
      "text/plain": "     df AIC     \nrls1 3  25639.79\nrls2 3  35202.97\nrls3 3  35141.22"
     },
     "metadata": {},
     "output_type": "display_data"
    },
    {
     "data": {
      "text/html": "<table class=\"dataframe\">\n<caption>A data.frame: 3 × 2</caption>\n<thead>\n\t<tr><th></th><th scope=col>df</th><th scope=col>BIC</th></tr>\n\t<tr><th></th><th scope=col>&lt;dbl&gt;</th><th scope=col>&lt;dbl&gt;</th></tr>\n</thead>\n<tbody>\n\t<tr><th scope=row>rls1</th><td>3</td><td>25659.99</td></tr>\n\t<tr><th scope=row>rls2</th><td>3</td><td>35223.17</td></tr>\n\t<tr><th scope=row>rls3</th><td>3</td><td>35161.43</td></tr>\n</tbody>\n</table>\n",
      "text/markdown": "\nA data.frame: 3 × 2\n\n| <!--/--> | df &lt;dbl&gt; | BIC &lt;dbl&gt; |\n|---|---|---|\n| rls1 | 3 | 25659.99 |\n| rls2 | 3 | 35223.17 |\n| rls3 | 3 | 35161.43 |\n\n",
      "text/latex": "A data.frame: 3 × 2\n\\begin{tabular}{r|ll}\n  & df & BIC\\\\\n  & <dbl> & <dbl>\\\\\n\\hline\n\trls1 & 3 & 25659.99\\\\\n\trls2 & 3 & 35223.17\\\\\n\trls3 & 3 & 35161.43\\\\\n\\end{tabular}\n",
      "text/plain": "     df BIC     \nrls1 3  25659.99\nrls2 3  35223.17\nrls3 3  35161.43"
     },
     "metadata": {},
     "output_type": "display_data"
    },
    {
     "data": {
      "text/plain": "\nCall:\nlm(formula = Température ~ Humidité, data = train)\n\nCoefficients:\n(Intercept)     Humidité  \n      3.439        1.527  \n"
     },
     "metadata": {},
     "output_type": "display_data"
    },
    {
     "name": "stdout",
     "output_type": "stream",
     "text": [
      "[1] \"le modèle rls1 est le meilleur !!\"\n"
     ]
    }
   ],
   "source": [
    "# Choix du modèle:\n",
    "rls1<- lm(Température ~Humidité ,data=train)\n",
    "rls2<- lm(Température ~Précipitation ,data=train)\n",
    "rls3<- lm(Température ~Vitesse_Vent ,data=train)\n",
    "AIC(rls1,rls2,rls3)\n",
    "BIC(rls1,rls2,rls3)\n",
    "\n",
    "rls1\n",
    "print(\"le modèle rls1 est le meilleur !!\")"
   ]
  },
  {
   "cell_type": "code",
   "execution_count": 30,
   "id": "8215e596",
   "metadata": {
    "ExecuteTime": {
     "end_time": "2023-05-26T00:56:19.921277400Z",
     "start_time": "2023-05-26T00:56:19.655492600Z"
    }
   },
   "outputs": [
    {
     "data": {
      "text/plain": "Plot with title \"Regression de Humidité  sur Température \"",
      "image/png": "[encoded data removed]"
     },
     "metadata": {
      "image/png": {
       "width": 420,
       "height": 420
      }
     },
     "output_type": "display_data"
    }
   ],
   "source": [
    "# Afficher la droite de régression\n",
    "plot(Température ~Humidité ,data = train,main=\"Regression de Humidité  sur Température \")\n",
    "abline(rls1,col='red',lwd=3)"
   ]
  },
  {
   "cell_type": "code",
   "execution_count": 31,
   "id": "624d65ed",
   "metadata": {
    "ExecuteTime": {
     "end_time": "2023-05-26T00:56:20.094639300Z",
     "start_time": "2023-05-26T00:56:19.936892800Z"
    }
   },
   "outputs": [
    {
     "name": "stdout",
     "output_type": "stream",
     "text": [
      "(Intercept)    Humidité \n",
      "   3.439159    1.526564 \n",
      "    2000/1/1     2000/1/2     2000/1/3     2000/1/4     2000/1/5     2000/1/6 \n",
      " 0.566769237  0.416769237 -1.570467569 -0.367232720  0.900346705 -0.793997871 \n",
      "    2000/1/7     2000/1/8     2000/1/9    2000/1/10    2000/1/11    2000/1/12 \n",
      " 0.907973295  0.119956921 -0.888826562 -1.710857353 -1.111636921 -0.126808230 \n",
      "   2000/1/14    2000/1/15    2000/1/16    2000/1/18    2000/1/19    2000/1/20 \n",
      "-2.164045037 -1.946028662 -0.830810188 -0.082451195 -1.791234678 -0.589216346 \n",
      "   2000/1/21    2000/1/22    2000/1/23    2000/1/24    2000/1/25    2000/1/26 \n",
      "-0.141247137 -1.035638879 -1.120857353 -1.510810188 -0.494434821 -1.723265469 \n",
      "   2000/1/28    2000/1/30     2000/2/1     2000/2/2     2000/2/4     2000/2/6 \n",
      "-0.192061411  1.257985754  1.088765322  0.986781697  0.961563222 -2.189251052 \n",
      "    2000/2/7     2000/2/8     2000/2/9    2000/2/10    2000/2/11    2000/2/12 \n",
      "-1.532828520 -1.848046994 -1.718046994 -0.763218303 -0.923265469 -2.039251052 \n",
      "   2000/2/14    2000/2/15    2000/2/18    2000/2/19    2000/2/21    2000/2/22 \n",
      "-1.131624462 -0.688046994 -1.131234678 -1.032828520 -1.570844894 -1.455626419 \n",
      "   2000/2/24    2000/2/25    2000/2/26    2000/2/27    2000/2/29     2000/3/1 \n",
      " 4.062377496  1.959969380  1.103546847 -2.266830477 -1.476063369 -0.821234678 \n",
      "    2000/3/2     2000/3/3     2000/3/4     2000/3/5     2000/3/6     2000/3/7 \n",
      "-0.303218303  1.238375538  1.615187855  2.973157064  5.531173438  6.456344747 \n",
      "    2000/3/8     2000/3/9    2000/3/10    2000/3/11    2000/3/12    2000/3/13 \n",
      " 5.653546847  5.771953006  6.008375538  0.854373581 -1.007267427 -0.732438736 \n",
      "   2000/3/14    2000/3/15    2000/3/16    2000/3/17    2000/3/18    2000/3/19 \n",
      "-0.434469527  2.849579596  2.799579596  2.366391913 -0.562875685 -0.582875685 \n",
      "   2000/3/20    2000/3/22    2000/3/23    2000/3/26    2000/3/27    2000/3/28 \n",
      "-1.405673585 -0.504859311  0.254750905  0.684750905  0.849969380 -0.764859311 \n",
      "   2000/3/30     2000/4/1     2000/4/2     2000/4/3     2000/4/5     2000/4/6 \n",
      " 1.299579596  1.116781697  0.698375538 -1.456842936  0.609579596  2.306391913 \n",
      "    2000/4/7     2000/4/8     2000/4/9    2000/4/10    2000/4/11    2000/4/12 \n",
      " 3.147171480  0.640748948 -0.360844894  0.095577639  0.274750905  1.297548805 \n",
      "   2000/4/13    2000/4/16    2000/4/17    2000/4/18    2000/4/20    2000/4/21 \n",
      " 1.357938589  0.523546847  1.861173438  2.619142647 -0.530455110  0.112732573 \n",
      "   2000/4/22    2000/4/23    2000/4/24    2000/4/25    2000/4/26    2000/4/27 \n",
      "-0.782485901  1.694361121  0.718328373  0.531953006 -0.676016203  0.211173438 \n",
      "   2000/4/28    2000/4/29    2000/4/30     2000/5/1     2000/5/2     2000/5/3 \n",
      " 1.925565179  1.591173438 -0.256016203 -0.102875685  0.750748948  0.751138732 \n",
      "    2000/5/5     2000/5/6     2000/5/7     2000/5/9    2000/5/11    2000/5/12 \n",
      " 0.904373581  0.385920257 -0.237267427 -0.625673585  0.165920257 -0.041659168 \n",
      "   2000/5/13    2000/5/14    2000/5/15    2000/5/16    2000/5/17    2000/5/18 \n",
      "-0.816098075 -0.672083658 -0.522083658 -0.980489816 -0.927254967 -0.416098075 \n",
      "   2000/5/19    2000/5/22    2000/5/23    2000/5/24    2000/5/25    2000/5/26 \n",
      "-0.287691917  0.205105983 -1.459285758 -1.128081701 -1.012863226 -0.849285758 \n",
      "   2000/5/27    2000/5/28    2000/5/30    2000/5/31     2000/6/1     2000/6/2 \n",
      "-0.978895975  1.765153148  0.061883593  0.780289751  1.039899968  1.633134817 \n",
      "    2000/6/3     2000/6/4     2000/6/6     2000/6/7     2000/6/8     2000/6/9 \n",
      "-0.907726623  0.059899968  3.508340832  2.804291709  0.431930759  0.628730616 \n",
      "   2000/6/10    2000/6/11    2000/6/13    2000/6/15    2000/6/16    2000/6/17 \n",
      " 2.780359164  1.203122357  8.687561264 10.055920257  3.212697867  1.486712284 \n",
      "   2000/6/18    2000/6/19    2000/6/21    2000/6/22    2000/6/24    2000/6/26 \n",
      " 1.107916342 -0.223677500  1.037526558 -0.114881558  0.329510184  0.227916342 \n",
      "   2000/6/27    2000/6/30     2000/7/1     2000/7/2     2000/7/3     2000/7/4 \n",
      "-0.013287716 -0.009273299 -0.276085616  0.045118442  0.579510184  1.427526558 \n",
      "    2000/7/6     2000/7/7     2000/7/8     2000/7/9    2000/7/10    2000/7/11 \n",
      " 0.345508226 -0.305695832 -0.339710249 -0.170052867  0.594291709  0.949120400 \n",
      "   2000/7/12    2000/7/13    2000/7/14    2000/7/17    2000/7/18    2000/7/21 \n",
      " 2.783901925  2.203524600  1.542320543 -0.580477357  0.033477435  0.999085693 \n",
      "   2000/7/22    2000/7/23    2000/7/24    2000/7/25    2000/7/27    2000/7/28 \n",
      " 0.701493809  1.914338874  1.785932716  0.210336917  1.061930759  0.542273377 \n",
      "   2000/7/29    2000/7/30    2000/7/31     2000/8/1     2000/8/3     2000/8/4 \n",
      " 0.476287794  8.211151191 17.842342790 10.104338874  0.739522643  1.651883593 \n",
      "    2000/8/5     2000/8/6     2000/8/7     2000/8/9    2000/8/10    2000/8/12 \n",
      " 1.089085693  1.615898010  5.226712284 -0.006510106 -0.448540897  0.946712284 \n",
      "   2000/8/13    2000/8/17    2000/8/18    2000/8/19    2000/8/20    2000/8/22 \n",
      " 0.591883593 -0.479697789  1.650679535  2.883914384 -0.640477357  1.874338874 \n",
      "   2000/8/23    2000/8/24    2000/8/25    2000/8/27    2000/8/28    2000/8/29 \n",
      " 2.222308083  0.163477435  0.043524600  0.786712284 -0.350477357 -0.295306048 \n",
      "   2000/8/31     2000/9/1     2000/9/2     2000/9/3     2000/9/4     2000/9/5 \n",
      "-0.610914307 -0.786085616 -0.152897932 -0.339320465 -0.958883515  1.243914384 \n",
      "    2000/9/6     2000/9/7     2000/9/9    2000/9/10    2000/9/12    2000/9/17 \n",
      " 5.681151191  6.272308083  7.058340832  8.699544890  0.050679535 -0.909320465 \n",
      "   2000/9/18    2000/9/20    2000/9/22    2000/9/23    2000/9/24    2000/9/25 \n",
      "-1.039320465  2.435153148 -1.169710249 -0.942897932 -0.439710249 -1.259273299 \n",
      "   2000/9/26    2000/9/27    2000/9/28    2000/9/30    2000/10/1    2000/10/2 \n",
      "-2.222071199 -0.942897932 -0.981693874  0.759934674  0.365105983 -0.575271342 \n",
      "   2000/10/4    2000/10/5    2000/10/6    2000/10/7    2000/10/9   2000/10/11 \n",
      " 1.245932716  0.127916342  0.002697867  0.789120400 -1.270100032 -0.184504233 \n",
      "  2000/10/12   2000/10/13   2000/10/15   2000/10/16   2000/10/17   2000/10/18 \n",
      "-0.848034535  1.160359164  0.139544890 -0.648081701 -0.711269384  1.064716199 \n",
      "  2000/10/19   2000/10/20   2000/10/21   2000/10/22   2000/10/23   2000/10/24 \n",
      "-0.204504233 -2.307254967  0.347124315 -1.196453153 -0.226016203 -1.374457068 \n",
      "  2000/10/25   2000/10/27   2000/10/29   2000/10/30   2000/10/31    2000/11/1 \n",
      " 0.167951048 -0.534846852 -1.797691917 -0.713689959 -1.302048952  0.871563222 \n",
      "   2000/11/2    2000/11/3    2000/11/4    2000/11/5    2000/11/7    2000/11/8 \n",
      " 0.929532431 -1.338861268 -0.301234678  0.091563222  0.706344747  1.017985754 \n",
      "   2000/11/9   2000/11/11   2000/11/12   2000/11/14   2000/11/15   2000/11/16 \n",
      "-0.322061411 -1.871659168 -0.911659168 -0.403265469 -1.661671627  0.157938589 \n",
      "  2000/11/17   2000/11/18   2000/11/19   2000/11/21   2000/11/22   2000/11/23 \n",
      "-0.863655253 -0.370857353  0.219579596 -1.017657210 -0.516016203 -2.713253010 \n",
      "  2000/11/25   2000/11/26   2000/11/27   2000/11/29   2000/11/30    2000/12/1 \n",
      "-2.857691917 -2.092863226  2.927124315 -1.010065326 -1.192048952 -1.844846852 \n",
      "   2000/12/2    2000/12/3    2000/12/4    2000/12/5    2000/12/6    2000/12/7 \n",
      "-2.056487859 -0.869251052  0.991563222 -0.674032578  1.397171480  2.871563222 \n",
      "   2000/12/8   2000/12/10   2000/12/11   2000/12/12   2000/12/13   2000/12/14 \n",
      "-2.401659168 -0.130030620  2.294361121  2.950783654  3.253581554  2.185565179 \n",
      "  2000/12/15   2000/12/16   2000/12/17   2000/12/18   2000/12/19   2000/12/20 \n",
      " 1.007985754 -0.968436778 -0.230857353  1.258752863  3.258363079 -1.810030620 \n",
      "  2000/12/21   2000/12/22   2000/12/23   2000/12/24   2000/12/25   2000/12/26 \n",
      " 0.141173438 -0.693265469 -0.451234678 -0.694079743 -1.170455110 -1.567267427 \n",
      "  2000/12/27   2000/12/29   2000/12/31     2001/1/1     2001/1/2     2001/1/3 \n",
      "-0.428436778 -2.776877643 -1.412828520 -0.058436778 -0.906063369 -0.504812145 \n",
      "    2001/1/5     2001/1/9    2001/1/10    2001/1/11    2001/1/12    2001/1/14 \n",
      "-1.352875685 -0.848436778  0.767938589 -0.993265469 -1.230030620 -1.813218303 \n",
      "   2001/1/16    2001/1/17    2001/1/18    2001/1/19    2001/1/20    2001/1/22 \n",
      "-0.342014246 -1.141671627 -1.734469527 -0.480467569 -1.605638879  0.677938589 \n",
      "   2001/1/24    2001/1/26    2001/1/27    2001/1/28    2001/1/29    2001/1/30 \n",
      "-0.793218303 -0.450420404 -2.565626419 -1.512875685 -0.517622504 -0.660810188 \n",
      "   2001/1/31     2001/2/1     2001/2/2     2001/2/4     2001/2/6     2001/2/7 \n",
      "-1.227232720 -2.336453153 -2.151234678 -0.576842936  0.457595971 -0.123997871 \n",
      "    2001/2/8     2001/2/9    2001/2/11    2001/2/12    2001/2/13    2001/2/14 \n",
      "-0.482061411 -0.453608087  1.856344747  1.206781697 -0.304422361 -2.144422361 \n",
      "   2001/2/15    2001/2/16    2001/2/17    2001/2/18    2001/2/20    2001/2/21 \n",
      "-1.221624462 -0.383997871 -0.622014246 -0.592451195  2.553971338  3.688752863 \n",
      "   2001/2/23    2001/2/24    2001/2/25    2001/2/28     2001/3/1     2001/3/3 \n",
      "-0.694422361 -1.650030620 -0.990467569 -0.890467569 -0.969640836 -0.975673585 \n",
      "    2001/3/4     2001/3/5     2001/3/6     2001/3/8     2001/3/9    2001/3/10 \n",
      "-0.399251052  1.240748948  2.085967422 -1.536016203 -2.394032578 -1.986877643 \n",
      "   2001/3/11    2001/3/12    2001/3/13    2001/3/14    2001/3/15    2001/3/16 \n",
      "-1.374846852 -1.923642794 -0.739640836 -1.080844894 -1.393689959 -1.006016203 \n",
      "   2001/3/17    2001/3/19    2001/3/20    2001/3/21    2001/3/22    2001/3/23 \n",
      " 0.175187855 -0.774469527 -0.125673585  1.137514099  4.272342790  4.235577639 \n",
      "   2001/3/24    2001/3/25    2001/3/26    2001/3/27    2001/3/28    2001/3/30 \n",
      "-0.995283801 -1.187657210 -0.726063369 -0.412828520 -0.996453153 -0.710844894 \n",
      "   2001/3/31     2001/4/1     2001/4/2     2001/4/4     2001/4/5     2001/4/6 \n",
      "-1.191659168 -0.280065326 -1.971659168  0.123546847 -1.476877643 -1.769675542 \n",
      "    2001/4/7     2001/4/8     2001/4/9    2001/4/11    2001/4/12    2001/4/14 \n",
      "-0.574079743  0.318328373  0.274373581  1.359155106  2.695577639  2.588328373 \n",
      "   2001/4/15    2001/4/16    2001/4/17    2001/4/18    2001/4/19    2001/4/20 \n",
      " 4.765954963  1.458328373 -0.749251052 -0.142828520 -0.875673585 -0.534859311 \n",
      "   2001/4/21    2001/4/22    2001/4/24    2001/4/25    2001/4/26    2001/4/28 \n",
      " 0.669969380  0.133546847 -0.473689959 -0.012485901  0.364373581 -0.015626419 \n",
      "   2001/4/29    2001/4/30     2001/5/1     2001/5/2     2001/5/3     2001/5/4 \n",
      "-1.308471484  1.329142647  0.999189812  1.556002129 -0.513218303 -0.051624462 \n",
      "    2001/5/7     2001/5/8     2001/5/9    2001/5/10    2001/5/11    2001/5/13 \n",
      " 1.406391913  0.587938589  0.917938589  0.938375538  0.700359164 -0.276877643 \n",
      "   2001/5/14    2001/5/15    2001/5/16    2001/5/17    2001/5/19    2001/5/21 \n",
      " 0.451138732  0.098340832 -1.522473442 -0.695661126 -1.738848809 -1.094504233 \n",
      "   2001/5/23    2001/5/25    2001/5/27    2001/5/28    2001/5/29    2001/5/30 \n",
      "-0.224894017  2.343949091  9.274373581  6.767951048  8.005920257  3.262355249 \n",
      "   2001/5/31     2001/6/1     2001/6/2     2001/6/3     2001/6/5     2001/6/6 \n",
      " 2.507526558  4.263512141  4.421918299  0.614728658 -0.020100032  2.182697867 \n",
      "    2001/6/7     2001/6/8     2001/6/9    2001/6/10    2001/6/11    2001/6/12 \n",
      " 1.851540975 -0.313287716  0.102697867 -0.404067284  2.050324458  3.199120400 \n",
      "   2001/6/13    2001/6/14    2001/6/16    2001/6/17    2001/6/18    2001/6/19 \n",
      " 1.811151191  0.589947133  1.731528516  1.193949091  4.988730616  2.457916342 \n",
      "   2001/6/20    2001/6/21    2001/6/22    2001/6/24    2001/6/25    2001/6/27 \n",
      " 0.215118442 -0.268116407 -0.009663083  0.651493809 -0.383287716  0.952355249 \n",
      "   2001/6/29    2001/6/30     2001/7/1     2001/7/2     2001/7/3     2001/7/5 \n",
      " 0.591883593  1.245508226  2.071883593  0.447102068 -0.592897932  1.393512141 \n",
      "    2001/7/6     2001/7/8    2001/7/10    2001/7/11    2001/7/12    2001/7/14 \n",
      " 1.941528516  0.594291709 -0.369710249  1.238695910  1.177102068  0.288695910 \n",
      "   2001/7/16    2001/7/17    2001/7/18    2001/7/19    2001/7/22    2001/7/23 \n",
      " 2.353949091  0.811540975  0.566322500  2.423169523  3.153524600 -0.460867141 \n",
      "   2001/7/24    2001/7/25    2001/7/26    2001/7/27    2001/7/28    2001/7/29 \n",
      "-0.123287716  0.353134817  0.639947133  0.198306126  0.173134817 -0.050052867 \n",
      "   2001/7/30    2001/7/31     2001/8/1     2001/8/2     2001/8/3     2001/8/4 \n",
      "-0.206912349  0.724728658  0.583524600 -1.037726623 -0.510914307  1.453914384 \n",
      "    2001/8/5     2001/8/6     2001/8/7     2001/8/8     2001/8/9    2001/8/10 \n",
      " 1.707102068  1.034304168 -0.438493731 -0.250524523 -0.290914307 -0.108883515 \n",
      "   2001/8/11    2001/8/12    2001/8/13    2001/8/15    2001/8/16    2001/8/18 \n",
      "-1.503322422 -0.541681415 -1.380087573 -0.039710249 -1.427289674 -0.716475400 \n",
      "   2001/8/19    2001/8/20    2001/8/21    2001/8/23    2001/8/25    2001/8/26 \n",
      " 0.099899968 -0.259663083 -0.680867141 -0.120867141 -2.141728581 -0.757726623 \n",
      "   2001/8/27    2001/8/28    2001/8/29    2001/8/30     2001/9/1     2001/9/2 \n",
      "-0.417679457 -0.387726623 -1.024101990 -0.689710249 -0.497679457 -0.864491774 \n",
      "    2001/9/4     2001/9/5     2001/9/7     2001/9/8    2001/9/10    2001/9/11 \n",
      "-0.337679457 -0.824101990  1.069510184  0.157102068 -1.582118364 -0.148116407 \n",
      "   2001/9/12    2001/9/13    2001/9/14    2001/9/15    2001/9/17    2001/9/18 \n",
      "-0.200052867 -0.166865183  0.344728658 -0.352897932 -1.398883515 -0.897679457 \n",
      "   2001/9/19    2001/9/20    2001/9/21    2001/9/22    2001/9/23    2001/9/24 \n",
      " 0.161493809  0.153134817  0.225118442 -0.448116407 -0.078506191  0.451104025 \n",
      "   2001/9/25    2001/9/26    2001/9/27    2001/9/28    2001/9/29    2001/9/30 \n",
      " 0.442308083  0.614338874  0.571151191  0.844728658 -0.399663083 -1.184491774 \n",
      "   2001/10/2    2001/10/3    2001/10/4    2001/10/5    2001/10/7    2001/10/8 \n",
      "-0.779710249 -2.194101990 -1.912118364 -1.262508148  0.102745033 -0.340879600 \n",
      "   2001/10/9   2001/10/10   2001/10/13   2001/10/15   2001/10/16   2001/10/17 \n",
      " 0.203559307  1.547171480  0.530714242 -1.121693874  0.289510184  0.093524600 \n",
      "  2001/10/18   2001/10/19   2001/10/20   2001/10/21   2001/10/22   2001/10/24 \n",
      "-1.907726623 -1.184881558 -1.228506191 -0.297302133 -0.810052867 -0.086865183 \n",
      "  2001/10/25   2001/10/26   2001/10/27   2001/10/28   2001/10/29   2001/10/30 \n",
      " 2.827136774  2.315495767  5.899934674  7.304373581  9.767938589  8.929969380 \n",
      "  2001/10/31    2001/11/1    2001/11/2    2001/11/3    2001/11/4    2001/11/5 \n",
      " 7.451953006  8.961173438  3.015105983  1.663949091  1.773512141  0.923949091 \n",
      "   2001/11/7    2001/11/8   2001/11/10   2001/11/11   2001/11/12   2001/11/13 \n",
      " 4.149544890 -0.738459025  0.891597928  0.423581554 -0.136453153  1.368375538 \n",
      "  2001/11/14   2001/11/15   2001/11/16   2001/11/17   2001/11/18   2001/11/20 \n",
      " 2.041173438  1.346379453  0.568410245  1.437206187  0.576344747 -0.196016203 \n",
      "  2001/11/21   2001/11/22   2001/11/24   2001/11/25   2001/11/26   2001/11/27 \n",
      " 0.683936631  0.770748948  2.435187855 -0.426016203 -0.238046994 -1.046016203 \n",
      "  2001/11/30    2001/12/1    2001/12/2    2001/12/3    2001/12/5    2001/12/6 \n",
      " 1.409579596  1.089532431 -0.592828520  2.432767280  2.087985754  0.918765322 \n",
      "   2001/12/7    2001/12/8    2001/12/9   2001/12/10   2001/12/11   2001/12/12 \n",
      " 0.553936631  3.869189812  4.876002129  0.105920257 -0.695236635 -1.672048952 \n",
      "  2001/12/13   2001/12/15   2001/12/16   2001/12/17   2001/12/18   2001/12/19 \n",
      "-2.435236635 -2.343689959 -0.675673585 -1.926830477 -1.547657210 -0.480030620 \n",
      "  2001/12/20   2001/12/21   2001/12/24   2001/12/25   2001/12/26   2001/12/27 \n",
      " 0.351173438  1.974750905 -3.685708291 -2.594894017 -1.936016203 -0.930857353 \n",
      "  2001/12/29   2001/12/30   2001/12/31     2002/1/2     2002/1/3     2002/1/4 \n",
      " 1.458375538  0.675967422  0.095967422  0.603983797 -2.352048952 -0.684859311 \n",
      "    2002/1/5     2002/1/6     2002/1/7     2002/1/8     2002/1/9    2002/1/10 \n",
      " 1.581563222  0.984750905 -1.172828520 -0.943265469  2.306002129  2.481173438 \n",
      "   2002/1/11    2002/1/12    2002/1/14    2002/1/15    2002/1/16    2002/1/17 \n",
      "-0.862438736 -0.916063369 -1.649251052 -1.174859311 -0.695249095 -0.532451195 \n",
      "   2002/1/18    2002/1/19    2002/1/21    2002/1/22    2002/1/24    2002/1/25 \n",
      "-1.371624462 -0.578826562 -0.791671627  0.897985754 -1.224469527 -0.981624462 \n",
      "   2002/1/26    2002/1/27    2002/1/28    2002/1/29    2002/1/30    2002/1/31 \n",
      "-1.674812145 -0.646453153  1.329969380  0.929532431 -0.394812145 -1.772828520 \n",
      "    2002/2/1     2002/2/3     2002/2/4     2002/2/5     2002/2/6     2002/2/7 \n",
      " 1.615565179  1.104750905 -1.705626419 -2.224079743 -1.531671627 -1.026842936 \n",
      "    2002/2/8     2002/2/9    2002/2/10    2002/2/11    2002/2/14    2002/2/15 \n",
      " 0.327938589  0.802767280 -0.644859311 -0.839640836  0.153546847 -2.234032578 \n",
      "   2002/2/16    2002/2/17    2002/2/18    2002/2/21    2002/2/22    2002/2/23 \n",
      "-0.466016203 -0.482828520 -0.562828520 -0.722014246 -1.484859311 -0.294859311 \n",
      "   2002/2/24    2002/2/25    2002/2/26    2002/2/27    2002/2/28     2002/3/1 \n",
      "-0.013265469  0.307985754  0.945954963 -0.974812145 -0.873265469 -2.449640836 \n",
      "    2002/3/2     2002/3/3     2002/3/4     2002/3/6     2002/3/7     2002/3/9 \n",
      "-0.159216346 -0.340467569 -1.552014246 -1.650467569 -0.470857353  0.367595971 \n",
      "   2002/3/10    2002/3/11    2002/3/12    2002/3/13    2002/3/15    2002/3/16 \n",
      " 0.756391913  2.839532431  1.063546847 -0.103655253 -0.704422361 -1.786842936 \n",
      "   2002/3/17    2002/3/19    2002/3/21    2002/3/22    2002/3/23    2002/3/25 \n",
      "-0.018826562 -1.174079743  0.124716199  3.255530473  2.675967422  0.825153148 \n",
      "   2002/3/26    2002/3/30    2002/3/31     2002/4/1     2002/4/2     2002/4/3 \n",
      " 2.194326415  2.745530473 -0.100065326 -1.795283801 -1.717267427 -0.819640836 \n",
      "    2002/4/4     2002/4/5     2002/4/6     2002/4/7     2002/4/8    2002/4/10 \n",
      "-0.276842936 -1.522485901 -1.324422361 -0.913655253  0.551563222 -0.824079743 \n",
      "   2002/4/11    2002/4/14    2002/4/15    2002/4/16    2002/4/17    2002/4/18 \n",
      "-1.509640836 -0.273608087  0.216391913 -0.128436778 -0.797657210 -0.500844894 \n",
      "   2002/4/20    2002/4/21    2002/4/22    2002/4/23    2002/4/24    2002/4/26 \n",
      " 2.343936631  3.379155106  5.011953006  4.995140689  3.680748948  0.423512141 \n",
      "   2002/4/27    2002/4/28    2002/4/29    2002/4/30     2002/5/1     2002/5/2 \n",
      "-0.182863226 -0.651659168 -0.046830477 -1.384894017 -0.916830477  0.093546847 \n",
      "    2002/5/3     2002/5/4     2002/5/7     2002/5/8     2002/5/9    2002/5/11 \n",
      " 0.991563222  2.449532431 -0.694859311  0.218328373 -0.394469527 -0.455626419 \n",
      "   2002/5/12    2002/5/15    2002/5/16    2002/5/17    2002/5/18    2002/5/19 \n",
      " 0.234326415  5.179934674  3.616310041 -0.631659168  1.003983797  1.762732573 \n",
      "   2002/5/21    2002/5/22    2002/5/23    2002/5/24    2002/5/26    2002/5/27 \n",
      "-0.794894017 -1.140065326  1.278765322  1.247561264  0.117951048  0.487514099 \n",
      "   2002/5/28    2002/5/29    2002/5/30    2002/5/31     2002/6/1     2002/6/2 \n",
      " 0.143122357 -0.657691917 -0.437691917 -1.323677500 -1.250489816 -0.999285758 \n",
      "    2002/6/3     2002/6/4     2002/6/6     2002/6/9    2002/6/10    2002/6/11 \n",
      "-0.055236635  0.852732573  0.539155106  1.275967422  0.840324458  2.513949091 \n",
      "   2002/6/12    2002/6/14    2002/6/15    2002/6/16    2002/6/19    2002/6/20 \n",
      " 0.837916342 -0.277302133 -0.976912349 -0.568116407 -0.830052867  0.196322500 \n",
      "   2002/6/22    2002/6/23    2002/6/24    2002/6/25    2002/6/26    2002/6/28 \n",
      " 1.020289751  0.305118442  0.022308083  1.381138732  1.934763365 -1.284881558 \n",
      "   2002/6/29    2002/6/30     2002/7/2     2002/7/3     2002/7/4     2002/7/5 \n",
      "-1.278506191 -0.164457068  0.723901925  0.279899968 -0.591304090 -0.216475400 \n",
      "    2002/7/6     2002/7/7     2002/7/8     2002/7/9    2002/7/10    2002/7/13 \n",
      "-0.641304090 -0.906522565 -1.600867141 -0.648506191 -0.516912349 -0.378116407 \n",
      "   2002/7/14    2002/7/15    2002/7/16    2002/7/17    2002/7/18    2002/7/19 \n",
      " 0.815118442  1.893477435  3.396322500  2.153477435  0.728695910 -0.392897932 \n",
      "   2002/7/20    2002/7/21    2002/7/22    2002/7/25    2002/7/26    2002/7/27 \n",
      "-0.746522565  0.039947133  0.737916342  0.260679535  0.052710326 -0.918540897 \n",
      "   2002/7/29    2002/7/31     2002/8/1     2002/8/3     2002/8/4     2002/8/5 \n",
      "-0.800087573 -0.313287716  0.849510184  0.351540975  0.087102068 -0.299320465 \n",
      "    2002/8/6     2002/8/7     2002/8/8     2002/8/9    2002/8/10    2002/8/12 \n",
      " 0.107102068 -0.132897932  0.511540975  0.409899968 -0.429710249 -0.973712206 \n",
      "   2002/8/13    2002/8/17    2002/8/18    2002/8/19    2002/8/21    2002/8/22 \n",
      "-0.628930681 -1.478930681 -0.927726623 -0.777726623  0.858306126 -0.970914307 \n",
      "   2002/8/23    2002/8/25    2002/8/26    2002/8/27    2002/8/28    2002/8/29 \n",
      " 0.169947133  0.761151191  1.168730616  0.392697867  1.692745033  1.073134817 \n",
      "   2002/8/31     2002/9/1     2002/9/2     2002/9/3     2002/9/4     2002/9/5 \n",
      "-1.090867141  1.631930759  3.151930759 -0.556522565  1.542355249  0.890714242 \n",
      "    2002/9/6     2002/9/7     2002/9/8    2002/9/10    2002/9/11    2002/9/12 \n",
      " 1.382355249  0.602697867 -0.066912349 -0.349663083 -0.709710249 -1.217679457 \n",
      "   2002/9/15    2002/9/16    2002/9/17    2002/9/18    2002/9/20    2002/9/22 \n",
      " 0.448695910 -0.632508148 -0.096522565 -0.206475400 -0.300914307 -0.006912349 \n",
      "   2002/9/23    2002/9/24    2002/9/25    2002/9/26    2002/9/27    2002/9/28 \n",
      " 0.226322500  0.674291709 -0.399710249 -0.504491774  0.011883593 -0.556085616 \n",
      "   2002/9/29    2002/10/2    2002/10/3    2002/10/4    2002/10/5    2002/10/6 \n",
      "-1.602071199 -1.349273299 -0.476085616  2.011493809  1.010336917 -2.254101990 \n",
      "   2002/10/8   2002/10/10   2002/10/11   2002/10/12   2002/10/13   2002/10/14 \n",
      "-0.931693874 -0.251269384  0.088730616 -0.406098075 -1.678506191 -1.030489816 \n",
      "  2002/10/15   2002/10/16   2002/10/17   2002/10/18   2002/10/19   2002/10/20 \n",
      "-0.346865183 -1.440100032 -1.438895975  1.155105983  7.977951048 -0.404491774 \n",
      "  2002/10/21   2002/10/22   2002/10/23   2002/10/24   2002/10/25   2002/10/26 \n",
      "-1.479710249  0.702355249  0.138730616 -0.406487859  0.143559307  1.525105983 \n",
      "  2002/10/27   2002/10/28   2002/10/30   2002/10/31    2002/11/1    2002/11/2 \n",
      " 3.586357206  4.241138732 -0.498848809 -0.657691917 -0.668081701  0.226310041 \n",
      "   2002/11/4    2002/11/5    2002/11/7    2002/11/9   2002/11/10   2002/11/12 \n",
      "-2.518506191 -0.397644751 -0.384846852  2.877985754  0.967514099 -0.871659168 \n",
      "  2002/11/13   2002/11/14   2002/11/15   2002/11/16   2002/11/18   2002/11/20 \n",
      "-1.119675542 -2.504504233 -1.725673585 -0.552875685  0.901563222 -0.492485901 \n",
      "  2002/11/21   2002/11/24   2002/11/25   2002/11/26   2002/11/27   2002/11/28 \n",
      "-2.414067284 -1.182438736 -0.556453153 -0.209640836 -1.103253010 -2.443253010 \n",
      "  2002/11/30    2002/12/3    2002/12/4    2002/12/6    2002/12/7    2002/12/8 \n",
      "-1.334469527 -0.956453153 -2.407267427  0.037548805 -0.341247137  0.097159021 \n",
      "   2002/12/9   2002/12/11   2002/12/12   2002/12/13   2002/12/14   2002/12/15 \n",
      "-1.130420404 -1.914422361 -1.098046994  0.509155106 -0.947267427 -0.540844894 \n",
      "  2002/12/16   2002/12/17   2002/12/18   2002/12/19   2002/12/20   2002/12/21 \n",
      " 0.396310041 -1.274894017 -1.911659168 -1.958081701 -2.340065326 -1.794032578 \n",
      "  2002/12/22   2002/12/25   2002/12/26   2002/12/28   2002/12/29   2002/12/31 \n",
      " 1.715187855 -1.265626419 -0.444469527 -0.994812145 -0.730857353 -2.004079743 \n",
      "    2003/1/2     2003/1/3     2003/1/5     2003/1/6     2003/1/7     2003/1/8 \n",
      "-1.074032578 -2.092048952 -2.483689959 -1.284422361 -1.009640836 -1.577657210 \n",
      "    2003/1/9    2003/1/10    2003/1/11    2003/1/12    2003/1/13    2003/1/14 \n",
      "-1.694812145 -1.526418446 -0.661636921 -1.313620547 -1.248402072 -0.558402072 \n",
      "   2003/1/15    2003/1/16    2003/1/17    2003/1/18    2003/1/19    2003/1/20 \n",
      "-0.590385698 -1.129995914 -0.523230763  0.076769237 -1.438826562 -1.768826562 \n",
      "   2003/1/22    2003/1/23    2003/1/24    2003/1/26    2003/1/27    2003/1/29 \n",
      "-3.298034535 -1.936063369 -1.290467569 -0.032793813 -0.490467569 -2.206016203 \n",
      "    2003/2/1     2003/2/2     2003/2/4     2003/2/5     2003/2/6     2003/2/8 \n",
      "-0.671979539 -0.889995914 -2.173655253 -2.121624462 -0.402451195 -2.080467569 \n",
      "   2003/2/11    2003/2/12    2003/2/13    2003/2/14    2003/2/15    2003/2/16 \n",
      "-2.166842936 -1.439640836 -2.082828520 -0.878826562 -0.649653295  0.321208144 \n",
      "   2003/2/18    2003/2/19    2003/2/21    2003/2/25    2003/2/27    2003/2/28 \n",
      " 0.281550762 -1.958436778 -0.115638879 -2.068046994 -0.528436778 -0.840030620 \n",
      "    2003/3/1     2003/3/2     2003/3/3     2003/3/4     2003/3/5     2003/3/7 \n",
      " 0.089969380 -0.869640836 -1.685626419 -0.764079743 -1.973642794 -1.354859311 \n",
      "    2003/3/8     2003/3/9    2003/3/10    2003/3/11    2003/3/12    2003/3/13 \n",
      "-1.373265469 -1.164422361 -0.179251052  3.078328373  3.958328373  2.638328373 \n",
      "   2003/3/14    2003/3/16    2003/3/17    2003/3/19    2003/3/20    2003/3/23 \n",
      " 1.577124315 -0.826830477 -1.888861268 -1.852485901 -0.459640836 -1.516016203 \n",
      "   2003/3/25    2003/3/26    2003/3/27    2003/3/28    2003/3/29    2003/3/30 \n",
      "-1.283642794  0.694373581 -2.326440693 -2.259675542 -2.319285758 -1.636877643 \n",
      "   2003/3/31     2003/4/1     2003/4/2     2003/4/3     2003/4/5     2003/4/6 \n",
      "-1.635673585 -1.653689959 -0.508861268 -1.162485901  0.696734531  1.265140689 \n",
      "    2003/4/7     2003/4/8     2003/4/9    2003/4/12    2003/4/13    2003/4/15 \n",
      " 0.479544890 -1.458471484 -2.731659168  0.717124315 -0.552485901 -1.474422361 \n",
      "   2003/4/16    2003/4/17    2003/4/19    2003/4/20    2003/4/21    2003/4/24 \n",
      "-0.554469527 -0.862048952  0.501563222 -0.076453153  0.317124315 -0.184079743 \n",
      "   2003/4/25    2003/4/26    2003/4/27    2003/4/29    2003/4/30     2003/5/1 \n",
      "-0.426877643  0.016357206 -1.227691917 -2.269285758  0.385920257  0.229155106 \n",
      "    2003/5/2     2003/5/3     2003/5/4     2003/5/5     2003/5/6     2003/5/7 \n",
      "-0.132048952 -1.340879600 -1.442863226 -0.072485901  0.959532431  0.223546847 \n",
      "    2003/5/8    2003/5/10    2003/5/14    2003/5/15    2003/5/16    2003/5/17 \n",
      " 0.585577639  0.561528516  1.352697867  0.101540975 -1.530879600 -0.764504233 \n",
      "   2003/5/18    2003/5/19    2003/5/20    2003/5/21    2003/5/22    2003/5/23 \n",
      " 0.085932716 -0.393677500  0.782697867  4.002355249  4.842308083  1.223134817 \n",
      "   2003/5/24    2003/5/25    2003/5/26    2003/5/27    2003/5/28    2003/5/29 \n",
      " 0.059120400  1.752732573  2.857951048  5.600748948  8.329155106  0.121540975 \n",
      "   2003/5/30    2003/5/31     2003/6/1     2003/6/2     2003/6/4     2003/6/5 \n",
      " 0.500714242 -0.964067284 -0.396098075 -0.324504233 -1.256865183 -0.772083658 \n",
      "    2003/6/6     2003/6/7     2003/6/8     2003/6/9    2003/6/10    2003/6/11 \n",
      "-1.352897932  0.198695910 -1.017726623 -1.184101990 -0.539320465  3.150336917 \n",
      "   2003/6/12    2003/6/13    2003/6/14    2003/6/15    2003/6/16    2003/6/17 \n",
      " 8.903901925  1.865508226  1.570726701 -1.117679457 -0.798506191 -0.420489816 \n",
      "   2003/6/18    2003/6/19    2003/6/21    2003/6/22    2003/6/23    2003/6/24 \n",
      " 0.665118442  1.060726701 -1.349273299  0.283134817  0.129947133  1.034728658 \n",
      "   2003/6/25    2003/6/26    2003/6/27    2003/6/29    2003/6/30     2003/7/1 \n",
      " 0.321493809 -0.231693874  1.625932716 -0.198895975  0.931151191 -0.273287716 \n",
      "    2003/7/2     2003/7/3     2003/7/4     2003/7/5     2003/7/6     2003/7/7 \n",
      " 0.181493809  1.085932716  0.361540975 -0.076912349 -0.521304090 -1.502118364 \n",
      "    2003/7/9    2003/7/10    2003/7/11    2003/7/12    2003/7/13    2003/7/14 \n",
      "-0.990087573  0.079475477 -1.363712206 -1.400477357 -1.422897932  0.602697867 \n",
      "   2003/7/15    2003/7/16    2003/7/17    2003/7/18    2003/7/19    2003/7/20 \n",
      "-0.206912349  2.793512141  1.897916342  2.351930759  1.499085693  0.798695910 \n",
      "   2003/7/22    2003/7/23    2003/7/24    2003/7/25    2003/7/26    2003/7/27 \n",
      " 0.786712284  0.973087651  0.103477435 -0.917289674 -0.682071199 -0.730477357 \n",
      "   2003/7/28    2003/7/29    2003/7/30    2003/7/31     2003/8/2     2003/8/3 \n",
      " 0.259085693  2.657491852  6.561883593 10.997526558  2.001896052 -0.362495689 \n",
      "    2003/8/6     2003/8/7     2003/8/8     2003/8/9    2003/8/10    2003/8/11 \n",
      " 4.975508226  3.514304168  0.565473520  1.663489894  3.079912427  4.269475477 \n",
      "   2003/8/12    2003/8/13    2003/8/14    2003/8/15    2003/8/16    2003/8/17 \n",
      " 2.630302211 -0.773309963 -0.144136696 -0.022885473 -0.175306048  1.116712284 \n",
      "   2003/8/18    2003/8/19    2003/8/20    2003/8/21    2003/8/22    2003/8/23 \n",
      " 1.771930759  0.671116485  0.361116485 -0.372118364 -0.189320465 -0.719320465 \n",
      "   2003/8/24    2003/8/25    2003/8/27    2003/8/28    2003/8/29    2003/8/30 \n",
      " 0.511883593  0.505118442  0.276712284  0.376712284  0.909899968 -0.627289674 \n",
      "   2003/8/31     2003/9/3     2003/9/4     2003/9/5     2003/9/6     2003/9/8 \n",
      "-0.905306048  0.423087651  0.652697867  0.952745033  0.669947133 -0.499710249 \n",
      "   2003/9/10    2003/9/12    2003/9/13    2003/9/15    2003/9/17    2003/9/18 \n",
      " 1.582745033  6.419120400  9.288730616  4.386322500  5.243559307  2.391104025 \n",
      "   2003/9/19    2003/9/20    2003/9/21    2003/9/22    2003/9/23    2003/9/24 \n",
      " 5.205932716  2.367102068 -0.147289674  0.003477435 -0.146912349  0.716322500 \n",
      "   2003/9/26    2003/9/27    2003/9/28    2003/9/29    2003/9/30    2003/10/1 \n",
      "-0.708930681 -1.192071199 -1.730477357 -1.000914307 -1.920524523 -0.646085616 \n",
      "   2003/10/2    2003/10/3    2003/10/5    2003/10/6    2003/10/8   2003/10/10 \n",
      "-0.646085616 -0.729320465  0.290714242 -2.348116407 -0.611693874 -0.500052867 \n",
      "  2003/10/11   2003/10/12   2003/10/13   2003/10/14   2003/10/15   2003/10/16 \n",
      " 0.016712284 -2.348883515 -2.006475400 -0.144067284  0.305542932 -0.132863226 \n",
      "  2003/10/17   2003/10/18   2003/10/19   2003/10/20   2003/10/21   2003/10/22 \n",
      " 0.061918299  0.200714242 -2.329273299 -3.389320465 -2.428459025 -2.462083658 \n",
      "  2003/10/23   2003/10/24   2003/10/25   2003/10/27   2003/10/28   2003/10/29 \n",
      "-0.148861268  2.234750905  0.113169523 -1.309285758 -0.884504233 -0.671269384 \n",
      "  2003/10/30    2003/11/1    2003/11/2    2003/11/3    2003/11/4    2003/11/5 \n",
      "-0.005673585  0.199155106  0.681953006  0.655530473  3.007124315  3.059155106 \n",
      "   2003/11/6    2003/11/7    2003/11/8    2003/11/9   2003/11/11   2003/11/12 \n",
      " 3.997561264  2.649544890 -1.948895975 -1.037644751 -0.482048952 -0.327267427 \n",
      "  2003/11/14   2003/11/15   2003/11/16   2003/11/17   2003/11/18   2003/11/20 \n",
      " 1.247561264 -1.589675542 -1.215673585 -0.665626419 -1.628471484  0.498328373 \n",
      "  2003/11/21   2003/11/22   2003/11/23   2003/11/24   2003/11/27   2003/11/28 \n",
      " 0.620359164 -1.188861268 -0.794422361 -1.062828520 -2.138861268 -0.998046994 \n",
      "  2003/11/29   2003/11/30    2003/12/1    2003/12/2    2003/12/3    2003/12/4 \n",
      "-1.814422361 -1.780844894 -1.281234678 -1.407232720 -0.842451195 -1.353218303 \n",
      "   2003/12/5    2003/12/6    2003/12/7    2003/12/8    2003/12/9   2003/12/10 \n",
      "-1.649640836 -0.654422361 -1.802485901 -1.799251052 -2.675236635 -0.943218303 \n",
      "  2003/12/11   2003/12/12   2003/12/13   2003/12/14   2003/12/15   2003/12/17 \n",
      "-0.985638879 -0.392451195  0.099579596 -1.044469527 -2.112438736 -1.284032578 \n",
      "  2003/12/18   2003/12/19   2003/12/20   2003/12/21   2003/12/22   2003/12/23 \n",
      "-1.254032578 -0.416453153  1.681173438  0.918375538 -1.522485901 -1.163218303 \n",
      "  2003/12/24   2003/12/25   2003/12/26   2003/12/28   2003/12/29   2003/12/30 \n",
      "-0.883997871  0.351173438 -1.254469527 -1.829251052 -0.502404029 -1.430467569 \n",
      "  2003/12/31     2004/1/1     2004/1/2     2004/1/3     2004/1/6     2004/1/8 \n",
      "-1.629640836 -2.484032578 -2.246063369 -1.531624462 -0.132061411 -0.218436778 \n",
      "    2004/1/9    2004/1/10    2004/1/11    2004/1/12    2004/1/13    2004/1/14 \n",
      "-2.560844894 -3.105236635 -3.143642794 -2.443642794 -2.092875685 -2.377657210 \n",
      "   2004/1/15    2004/1/16    2004/1/17    2004/1/19    2004/1/22    2004/1/23 \n",
      "-1.563218303 -2.144032578 -2.792438736 -0.491979539 -1.990420404 -1.562061411 \n",
      "   2004/1/24    2004/1/25    2004/1/26    2004/1/27    2004/1/28    2004/1/29 \n",
      "-2.438046994 -1.892875685 -2.210844894 -2.482485901 -2.335626419 -3.396830477 \n",
      "   2004/1/30    2004/1/31     2004/2/2     2004/2/3     2004/2/4     2004/2/5 \n",
      "-2.985673585 -1.984469527 -1.542485901  0.406734531  1.096781697  1.065140689 \n",
      "    2004/2/6     2004/2/7     2004/2/8     2004/2/9    2004/2/10    2004/2/12 \n",
      "-0.501234678 -0.941671627 -0.746842936  0.161563222  0.125187855 -1.216016203 \n",
      "   2004/2/13    2004/2/14    2004/2/15    2004/2/16    2004/2/17    2004/2/18 \n",
      "-0.939640836 -1.891234678 -0.805249095 -0.872014246 -0.253655253  2.189142647 \n",
      "   2004/2/19    2004/2/20    2004/2/23    2004/2/24    2004/2/25    2004/2/26 \n",
      " 0.336344747 -1.572875685 -0.801624462 -0.716453153 -1.822875685 -1.278436778 \n",
      "   2004/2/27    2004/2/28    2004/2/29     2004/3/1     2004/3/3     2004/3/4 \n",
      "-0.657232720 -0.491247137 -0.221636921 -0.197622504  1.275989669  2.848020461 \n",
      "    2004/3/5     2004/3/6     2004/3/7     2004/3/8    2004/3/11    2004/3/12 \n",
      " 0.989142647 -0.140467569 -1.444422361 -0.429640836 -0.364859311 -1.705673585 \n",
      "   2004/3/13    2004/3/14    2004/3/15    2004/3/16    2004/3/17    2004/3/18 \n",
      "-1.055249095 -0.720420404 -0.952828520 -0.874422361 -0.102828520 -1.598861268 \n",
      "   2004/3/19    2004/3/20    2004/3/21    2004/3/24    2004/3/25    2004/3/27 \n",
      "-1.778861268 -0.297657210  0.673936631 -0.470030620 -0.410455110 -2.412828520 \n",
      "   2004/3/29    2004/3/30     2004/4/1     2004/4/2     2004/4/3     2004/4/4 \n",
      "-1.124812145 -1.023608087 -0.644859311  0.057938589  0.426344747  1.923546847 \n",
      "    2004/4/5     2004/4/6     2004/4/7     2004/4/8     2004/4/9    2004/4/10 \n",
      " 4.163983797  2.141528516  0.685153148 -0.521269384 -1.172438736 -1.151234678 \n",
      "   2004/4/12    2004/4/13    2004/4/14    2004/4/15    2004/4/17    2004/4/18 \n",
      " 1.648752863  1.371563222 -0.307657210 -1.780844894 -0.396842936 -0.566842936 \n",
      "   2004/4/19    2004/4/20    2004/4/21    2004/4/22    2004/4/23    2004/4/24 \n",
      "-1.398046994 -0.144859311 -0.824032578 -0.099640836  0.195530473  0.654373581 \n",
      "   2004/4/25    2004/4/26    2004/4/28    2004/4/29     2004/5/2     2004/5/3 \n",
      "-0.310065326 -0.732863226 -0.942485901 -1.515626419 -0.244469527 -1.206453153 \n",
      "    2004/5/4     2004/5/5     2004/5/6     2004/5/7     2004/5/9    2004/5/10 \n",
      "-0.572828520 -0.492828520 -0.414469527 -1.232438736  0.019969380 -1.104859311 \n",
      "   2004/5/11    2004/5/13    2004/5/14    2004/5/15    2004/5/16    2004/5/18 \n",
      "-0.681671627 -1.087267427 -1.065283801  0.939934674  2.165153148  1.895153148 \n",
      "   2004/5/19    2004/5/20    2004/5/21    2004/5/22    2004/5/23    2004/5/25 \n",
      " 4.016357206 -1.109285758 -0.838034535 -0.115283801 -0.336877643  0.553169523 \n",
      "   2004/5/26    2004/5/28    2004/5/30     2004/6/1     2004/6/2     2004/6/4 \n",
      "-0.153253010 -0.035661126  0.087916342  0.359899968  1.928306126 -1.144881558 \n",
      "    2004/6/5     2004/6/6     2004/6/7     2004/6/8     2004/6/9    2004/6/11 \n",
      "-0.438848809 -0.720879600 -0.296487859 -0.722083658  0.381930759 -0.009320465 \n",
      "   2004/6/12    2004/6/13    2004/6/14    2004/6/16    2004/6/19    2004/6/20 \n",
      " 2.042320543  2.633477435  2.240289751  5.621965465  0.644338874  0.632308083 \n",
      "   2004/6/21    2004/6/22    2004/6/23    2004/6/24    2004/6/25    2004/6/26 \n",
      " 0.267916342 -0.599663083 -1.357726623 -1.640477357 -1.108930681 -0.260524523 \n",
      "   2004/6/27    2004/6/28    2004/6/29    2004/6/30     2004/7/2     2004/7/3 \n",
      " 0.539522643  4.780289751 13.713169523  7.897526558  1.059899968  0.905118442 \n",
      "    2004/7/4     2004/7/5     2004/7/6     2004/7/7     2004/7/8     2004/7/9 \n",
      " 0.929475477 -1.304916264 -0.441304090  2.103169523  2.134716199  1.065932716 \n",
      "   2004/7/10    2004/7/13    2004/7/14    2004/7/15    2004/7/16    2004/7/17 \n",
      "-0.148506191  0.723477435  0.481883593  0.455508226 -0.967679457 -0.478069241 \n",
      "   2004/7/18    2004/7/19    2004/7/21    2004/7/22    2004/7/23    2004/7/24 \n",
      "-0.406522565  0.263477435  1.011883593  2.495898010  8.703087651  8.509899968 \n",
      "   2004/7/25    2004/7/26    2004/7/27    2004/7/28    2004/7/29    2004/7/30 \n",
      " 4.203914384  4.295508226  3.707102068  2.539085693  0.475508226  0.612320543 \n",
      "   2004/7/31     2004/8/2     2004/8/3     2004/8/4     2004/8/6     2004/8/7 \n",
      "-0.956899890 -0.730524523  0.142320543  0.059132859 -1.379697789 -1.148493731 \n",
      "    2004/8/8     2004/8/9    2004/8/10    2004/8/11    2004/8/13    2004/8/14 \n",
      "-0.558930681 -0.615306048 -1.088493731 -0.552508148  0.489085693  0.840679535 \n",
      "   2004/8/15    2004/8/16    2004/8/17    2004/8/18    2004/8/19    2004/8/20 \n",
      " 0.339475477 -0.533712206  0.472273377  0.209522643  0.074304168  0.633524600 \n",
      "   2004/8/21    2004/8/23    2004/8/24    2004/8/25    2004/8/26    2004/8/27 \n",
      " 1.395508226  3.575898010  3.587491852  1.479912427 -0.458103948  2.592273377 \n",
      "   2004/8/28    2004/8/30    2004/8/31     2004/9/1     2004/9/2     2004/9/3 \n",
      " 2.399085693  2.012710326  0.937928801 -0.367726623  0.714728658  1.597916342 \n",
      "    2004/9/4     2004/9/5     2004/9/6     2004/9/8    2004/9/10    2004/9/12 \n",
      "-0.304491774  0.458306126  0.321493809  0.050336917  0.537881636 -1.161681415 \n",
      "   2004/9/14    2004/9/16    2004/9/17    2004/9/18    2004/9/19    2004/9/20 \n",
      " 0.952745033  2.562355249  2.661104025  1.299947133  0.065508226  0.089132859 \n",
      "   2004/9/21    2004/9/22    2004/9/23    2004/9/24    2004/9/25    2004/9/27 \n",
      " 2.135508226  8.153949091 -0.653712206 -1.502118364 -1.387726623  0.110726701 \n",
      "   2004/9/28    2004/9/29    2004/9/30    2004/10/1    2004/10/3    2004/10/4 \n",
      " 4.378730616  2.514728658  1.695118442  2.369947133  3.395932716  3.709120400 \n",
      "   2004/10/5    2004/10/7    2004/10/8   2004/10/10   2004/10/11   2004/10/12 \n",
      " 2.853134817  2.954728658 -0.053287716  2.183169523  1.424716199  0.783122357 \n",
      "  2004/10/13   2004/10/14   2004/10/15   2004/10/16   2004/10/17   2004/10/18 \n",
      " 1.111528516  1.153122357  0.624716199  0.104716199  0.424763365 -0.230879600 \n",
      "  2004/10/19   2004/10/21   2004/10/22   2004/10/23   2004/10/25   2004/10/26 \n",
      " 1.652697867 -1.800867141 -1.309710249  1.072697867 -2.859710249 -0.334457068 \n",
      "  2004/10/27   2004/10/28   2004/10/29   2004/10/30   2004/10/31    2004/11/2 \n",
      "-0.508848809 -2.398459025 -2.284067284  0.145967422 -0.184079743  0.475967422 \n",
      "   2004/11/3    2004/11/4    2004/11/5    2004/11/6    2004/11/7    2004/11/9 \n",
      " 0.702732573 -1.359285758 -0.448471484  1.734763365  4.793546847 -2.406522565 \n",
      "  2004/11/11   2004/11/12   2004/11/13   2004/11/14   2004/11/15   2004/11/16 \n",
      " 2.046344747 -0.388826562  0.326391913  0.433157064  1.261173438  1.019189812 \n",
      "  2004/11/17   2004/11/18   2004/11/19   2004/11/20   2004/11/21   2004/11/22 \n",
      " 1.525565179  3.090346705  0.973157064  0.228375538  1.906344747  2.633157064 \n",
      "  2004/11/23   2004/11/24   2004/11/26   2004/11/27   2004/11/28   2004/11/29 \n",
      " 1.805187855  1.311953006  3.027985754  1.805187855  2.468375538  1.898375538 \n",
      "  2004/11/30    2004/12/1    2004/12/2    2004/12/3    2004/12/4    2004/12/5 \n",
      "-0.492438736 -1.082438736 -1.849251052 -2.104469527 -0.964859311 -0.190420404 \n",
      "   2004/12/6    2004/12/8    2004/12/9   2004/12/10   2004/12/11   2004/12/12 \n",
      " 0.102377496 -1.486842936 -0.428826562  0.059142647  0.789142647  0.326344747 \n",
      "  2004/12/13   2004/12/14   2004/12/16   2004/12/17   2004/12/18   2004/12/19 \n",
      " 2.381173438  2.479142647 -1.536016203 -1.522875685 -1.746016203 -1.914469527 \n",
      "  2004/12/20   2004/12/21   2004/12/22   2004/12/23   2004/12/26   2004/12/28 \n",
      "-1.373265469 -1.487232720 -0.090810188  0.529189812 -1.160857353 -0.763620547 \n",
      "  2004/12/29   2004/12/30     2005/1/1     2005/1/2     2005/1/3     2005/1/4 \n",
      "-2.570030620 -1.057232720  0.393581554 -1.650467569 -2.293655253 -1.300420404 \n",
      "    2005/1/5     2005/1/6     2005/1/7     2005/1/8     2005/1/9    2005/1/11 \n",
      "-1.123997871 -0.947622504  0.104785612 -0.704434821  0.281550762 -0.359653295 \n",
      "   2005/1/12    2005/1/13    2005/1/15    2005/1/16    2005/1/17    2005/1/18 \n",
      "-1.314434821 -2.032404029  1.706379453  1.051987712  2.191987712 -0.662014246 \n",
      "   2005/1/19    2005/1/20    2005/1/22    2005/1/23    2005/1/25    2005/1/26 \n",
      "-1.680467569  0.217595971 -1.763265469 -1.366842936 -0.922451195 -0.328839021 \n",
      "   2005/1/27    2005/1/28    2005/1/29    2005/1/30    2005/1/31     2005/2/1 \n",
      "-2.464400114 -2.393196057 -1.799181640 -1.021979539 -0.468791856  0.659224519 \n",
      "    2005/2/4     2005/2/5     2005/2/7     2005/2/8     2005/2/9    2005/2/10 \n",
      "-1.424434821 -1.827622504 -2.542793813 -2.210043079 -0.646418446  0.423581554 \n",
      "   2005/2/13    2005/2/14    2005/2/17    2005/2/18    2005/2/19    2005/2/21 \n",
      "-0.143997871 -1.821671627  0.048020461  0.935989669  0.259614302 -2.082404029 \n",
      "   2005/2/22    2005/2/23    2005/2/26    2005/2/27    2005/2/28     2005/3/1 \n",
      "-0.946028662 -0.681199972  0.287159021 -1.591234678 -2.672485901 -2.102451195 \n",
      "    2005/3/2     2005/3/4     2005/3/6     2005/3/7     2005/3/8     2005/3/9 \n",
      "-0.892840979 -2.821624462 -0.206418446 -0.089606130  0.061987712  1.767159021 \n",
      "   2005/3/10    2005/3/11    2005/3/12    2005/3/13    2005/3/14    2005/3/15 \n",
      " 1.734750905  2.269532431  0.027171480 -2.265626419 -2.234032578 -1.116063369 \n",
      "   2005/3/16    2005/3/17    2005/3/18    2005/3/19    2005/3/20    2005/3/21 \n",
      "-0.587657210  2.720359164  5.938375538  2.877514099  1.483122357  0.841138732 \n",
      "   2005/3/22    2005/3/23    2005/3/25    2005/3/26    2005/3/27    2005/3/29 \n",
      "-1.366487859 -1.946487859 -0.204032578 -1.445236635  0.325140689 -0.189251052 \n",
      "   2005/3/31     2005/4/1     2005/4/2     2005/4/4     2005/4/5     2005/4/6 \n",
      " 9.767548805 -1.070065326 -1.300455110  0.160748948  2.193983797  7.066391913 \n",
      "    2005/4/7     2005/4/8     2005/4/9    2005/4/10    2005/4/11    2005/4/12 \n",
      " 2.486357206 -1.415236635  0.511953006  2.313971338  2.529142647  1.944750905 \n",
      "   2005/4/13    2005/4/14    2005/4/15    2005/4/17    2005/4/19    2005/4/21 \n",
      " 0.317561264 -0.957657210 -0.161624462 -0.133265469 -0.094859311 -0.174032578 \n",
      "   2005/4/22    2005/4/25    2005/4/30     2005/5/2     2005/5/3     2005/5/4 \n",
      "-2.073253010  0.645577639 -1.118081701 -0.818034535  0.194763365 -0.246440693 \n",
      "    2005/5/5     2005/5/6     2005/5/7     2005/5/8     2005/5/9    2005/5/10 \n",
      " 0.078340832  0.555153148  1.824716199  2.786746990  1.462355249  0.198730616 \n",
      "   2005/5/11    2005/5/12    2005/5/13    2005/5/14    2005/5/15    2005/5/16 \n",
      " 1.251528516  0.415153148 -0.426877643  1.333936631  1.264373581  0.524326415 \n",
      "   2005/5/17    2005/5/19    2005/5/20    2005/5/22    2005/5/23    2005/5/24 \n",
      " 2.086734531  2.843169523  1.842355249  0.721138732  2.157514099  1.555495767 \n",
      "   2005/5/25    2005/5/26    2005/5/28    2005/5/29    2005/5/30    2005/5/31 \n",
      " 0.429510184 -0.511693874 -1.716865183 -0.986912349 -0.900052867  2.089120400 \n",
      "    2005/6/1     2005/6/2     2005/6/3     2005/6/4     2005/6/5     2005/6/8 \n",
      " 1.592697867  0.834728658  0.251493809  1.009899968  1.523087651  4.065118442 \n",
      "    2005/6/9    2005/6/10    2005/6/11    2005/6/12    2005/6/13    2005/6/14 \n",
      " 1.725118442  1.273914384  0.573914384  0.391151191  1.351918299  1.193949091 \n",
      "   2005/6/15    2005/6/16    2005/6/17    2005/6/18    2005/6/20    2005/6/21 \n",
      " 1.531151191  4.254291709 12.845577639 10.939544890  5.654291709  8.113901925 \n",
      "   2005/6/22    2005/6/23    2005/6/24    2005/6/26    2005/6/28    2005/6/29 \n",
      " 7.702697867  0.182273377  0.051930759  1.732745033  1.533949091  1.562355249 \n",
      "   2005/6/30     2005/7/1     2005/7/3     2005/7/5     2005/7/6     2005/7/7 \n",
      " 1.107526558  0.448306126 -1.338930681  1.251151191  0.243914384 -0.948930681 \n",
      "    2005/7/8    2005/7/10    2005/7/11    2005/7/12    2005/7/14    2005/7/16 \n",
      " 0.050336917 -1.843712206 -1.220477357 -1.796899890 -0.009710249  0.190289751 \n",
      "   2005/7/17    2005/7/18    2005/7/19    2005/7/20    2005/7/21    2005/7/23 \n",
      " 0.413477435  0.821883593  2.670289751  5.652320543 -0.022932638  0.033477435 \n",
      "   2005/7/25    2005/7/26    2005/7/27    2005/7/28    2005/7/29    2005/7/30 \n",
      "-0.081304090  0.217102068  1.688306126 -0.382508148  0.981540975  2.422308083 \n",
      "   2005/7/31     2005/8/1     2005/8/2     2005/8/4     2005/8/5     2005/8/6 \n",
      " 1.535932716  1.501151191  2.669120400  7.446712284 -0.502495689 -0.990949013 \n",
      "    2005/8/7     2005/8/8     2005/8/9    2005/8/10    2005/8/12    2005/8/15 \n",
      " 1.386677578 -1.112885473 -0.833712206  0.550289751  1.285118442  0.604693952 \n",
      "   2005/8/16    2005/8/17    2005/8/18    2005/8/19    2005/8/21    2005/8/22 \n",
      "-1.081291631 -2.314526480 -0.752118364  0.307491852  1.020336917  1.012320543 \n",
      "   2005/8/23    2005/8/25    2005/8/26    2005/8/27    2005/8/28    2005/8/29 \n",
      "-0.218540897 -0.080477357 -0.097726623  0.072273377  1.698695910  1.023100110 \n",
      "   2005/8/30    2005/8/31     2005/9/1     2005/9/2     2005/9/3     2005/9/5 \n",
      " 3.589085693 -2.857324380 -0.330477357  1.395508226  8.607136774  1.289085693 \n",
      "    2005/9/6     2005/9/7     2005/9/8    2005/9/10    2005/9/11    2005/9/12 \n",
      "-0.118116407 -1.130914307  1.514291709 -0.228069241  1.208730616  1.172355249 \n",
      "   2005/9/13    2005/9/14    2005/9/15    2005/9/16    2005/9/18    2005/9/19 \n",
      " 1.839510184  4.182697867  0.162273377 -1.067679457  3.534763365  1.555932716 \n",
      "   2005/9/20    2005/9/21    2005/9/23    2005/9/24    2005/9/25    2005/9/27 \n",
      " 0.267916342 -0.234881558 -0.448506191  0.259510184 -0.465271342  3.193901925 \n",
      "   2005/9/29    2005/9/30    2005/10/1    2005/10/2    2005/10/3    2005/10/4 \n",
      " 3.718730616  4.789934674  0.636322500 -0.563287716  0.343524600  2.901104025 \n",
      "   2005/10/5    2005/10/7    2005/10/8    2005/10/9   2005/10/10   2005/10/11 \n",
      " 5.063512141  0.201930759  4.204291709  2.388306126  2.831540975 -1.109273299 \n",
      "  2005/10/12   2005/10/14   2005/10/15   2005/10/17   2005/10/18   2005/10/19 \n",
      "-1.777679457  1.525530473  0.007951048 -1.450489816 -0.347691917 -0.196050909 \n",
      "  2005/10/20   2005/10/21   2005/10/22   2005/10/23   2005/10/24   2005/10/25 \n",
      "-0.805708291 -1.072083658 -0.457254967 -0.940489816  0.245105983  1.173559307 \n",
      "  2005/10/26   2005/10/27   2005/10/28   2005/10/29   2005/10/30   2005/10/31 \n",
      " 3.874326415  2.033512141  1.127916342  0.479510184 -1.719663083 -0.816098075 \n",
      "   2005/11/2    2005/11/4    2005/11/5    2005/11/6    2005/11/7    2005/11/8 \n",
      " 1.941138732  0.083122357  0.798375538  1.788328373  1.257951048 -0.436877643 \n",
      "   2005/11/9   2005/11/10   2005/11/11   2005/11/15   2005/11/16   2005/11/18 \n",
      " 0.518765322  2.032377496  1.019142647  0.282767280 -1.214422361 -0.404469527 \n",
      "  2005/11/19   2005/11/20   2005/11/22   2005/11/25   2005/11/27   2005/11/29 \n",
      " 1.956734531  2.220748948 -0.215283801  0.607938589  0.417548805 -2.548436778 \n",
      "  2005/11/30    2005/12/1    2005/12/2    2005/12/3    2005/12/5    2005/12/6 \n",
      "-0.380857353 -0.584045037 -1.396063369 -2.296830477 -2.434079743 -2.330455110 \n",
      "   2005/12/7    2005/12/8    2005/12/9   2005/12/10   2005/12/11   2005/12/12 \n",
      "-2.016016203 -1.358046994 -0.936063369  1.897595971  1.107206187 -0.832793813 \n",
      "  2005/12/13   2005/12/14   2005/12/15   2005/12/16   2005/12/17   2005/12/18 \n",
      " 0.893191770  0.069956921 -1.153997871  0.250346705 -0.582404029 -0.766028662 \n",
      "  2005/12/19   2005/12/20   2005/12/21   2005/12/22   2005/12/23   2005/12/25 \n",
      " 0.542377496 -2.109251052 -2.132875685 -1.694812145 -1.101234678 -0.966063369 \n",
      "  2005/12/26   2005/12/28   2005/12/30     2006/1/1     2006/1/2     2006/1/3 \n",
      "-2.574079743 -1.203655253 -1.921624462 -1.410030620 -1.390420404 -0.922840979 \n",
      "    2006/1/4     2006/1/5     2006/1/6     2006/1/7     2006/1/9    2006/1/11 \n",
      "-1.092840979 -0.919216346 -2.328436778 -2.234434821  0.414395828 -1.349653295 \n",
      "   2006/1/12    2006/1/13    2006/1/14    2006/1/15    2006/1/16    2006/1/17 \n",
      "-1.870857353 -1.670467569 -2.452061411 -1.522451195 -2.610857353 -2.417622504 \n",
      "   2006/1/18    2006/1/19    2006/1/20    2006/1/21    2006/1/22    2006/1/23 \n",
      "-1.579653295 -2.440857353 -1.973608087 -0.539216346 -0.970420404  0.099189812 \n",
      "   2006/1/24    2006/1/25    2006/1/26    2006/1/27    2006/1/28    2006/1/29 \n",
      "-0.412404029 -2.238436778 -2.871234678 -2.874422361 -2.200810188 -2.876028662 \n",
      "   2006/1/30    2006/1/31     2006/2/1     2006/2/2     2006/2/3     2006/2/4 \n",
      "-2.572840979 -0.841636921 -1.391247137 -1.415638879 -2.133655253 -2.235249095 \n",
      "    2006/2/5     2006/2/6     2006/2/7     2006/2/8    2006/2/12    2006/2/13 \n",
      "-2.155638879 -0.836028662  0.258800028  0.716391913 -2.229251052 -1.050467569 \n",
      "   2006/2/15    2006/2/16    2006/2/17    2006/2/18    2006/2/20    2006/2/21 \n",
      "-1.278436778 -2.026842936 -2.328046994 -0.688826562 -1.303997871 -2.110810188 \n",
      "   2006/2/23    2006/2/24    2006/2/25    2006/2/26    2006/2/27    2006/2/28 \n",
      "-1.370857353 -1.312404029 -1.383997871 -2.533265469 -0.941247137 -0.992404029 \n",
      "    2006/3/2     2006/3/3     2006/3/4     2006/3/5     2006/3/6     2006/3/7 \n",
      "-1.283655253 -1.374045037 -1.662061411 -0.709216346  0.080004086 -1.017622504 \n",
      "    2006/3/8     2006/3/9    2006/3/13    2006/3/14    2006/3/15    2006/3/16 \n",
      "-2.296016203 -2.112828520  0.215187855 -0.461234678 -1.451234678 -1.161234678 \n",
      "   2006/3/17    2006/3/18    2006/3/19    2006/3/20    2006/3/21    2006/3/22 \n",
      "-1.532485901 -1.810455110 -2.030844894 -1.481234678 -2.101234678 -0.711624462 \n",
      "   2006/3/23    2006/3/25    2006/3/26    2006/3/27    2006/3/28    2006/3/29 \n",
      "-0.414859311 -0.762048952  2.753983797 -1.463253010 -0.932875685 -0.474812145 \n",
      "   2006/3/31     2006/4/1     2006/4/2     2006/4/3     2006/4/4     2006/4/5 \n",
      "-0.125236635 -0.770455110 -0.230065326  5.624326415 -1.708081701 -0.644032578 \n",
      "    2006/4/6     2006/4/9    2006/4/10    2006/4/11    2006/4/12    2006/4/13 \n",
      "-1.194032578 -1.623642794 -0.858861268 -1.106877643 -1.360065326 -0.525236635 \n",
      "   2006/4/15    2006/4/16    2006/4/17    2006/4/18    2006/4/19    2006/4/20 \n",
      "-1.021659168 -1.462048952 -0.026453153 -0.454859311 -0.915673585 -0.640844894 \n",
      "   2006/4/21    2006/4/22    2006/4/23    2006/4/24    2006/4/25    2006/4/27 \n",
      "-1.525236635 -0.861234678 -0.854859311 -0.454422361 -1.442048952 -0.104846852 \n",
      "   2006/4/28    2006/4/29    2006/4/30     2006/5/1     2006/5/3     2006/5/4 \n",
      "-1.436440693 -0.192485901 -0.776877643 -1.594894017 -1.288861268 -0.674032578 \n",
      "    2006/5/5     2006/5/6     2006/5/7     2006/5/8     2006/5/9    2006/5/10 \n",
      " 0.059155106 -0.626830477 -1.301269384 -0.140065326  0.698730616  0.142745033 \n",
      "   2006/5/12    2006/5/13    2006/5/15    2006/5/16    2006/5/19    2006/5/20 \n",
      "-1.075661126 -2.100052867 -1.949663083  0.906712284 -1.044067284  0.803559307 \n",
      "   2006/5/21    2006/5/23    2006/5/24    2006/5/25    2006/5/26    2006/5/27 \n",
      "-0.292473442  1.012342790  1.454763365  2.303559307  3.715105983  4.303901925 \n",
      "   2006/5/28    2006/5/29    2006/5/30    2006/5/31     2006/6/1     2006/6/2 \n",
      " 0.878306126 -1.235271342 -0.654067284 -1.548895975 -0.503677500  1.129120400 \n",
      "    2006/6/3     2006/6/4     2006/6/5     2006/6/6     2006/6/9    2006/6/10 \n",
      " 2.088730616  5.553122357  3.931918299  1.162697867 -1.599663083 -0.510489816 \n",
      "   2006/6/11    2006/6/13    2006/6/14    2006/6/16    2006/6/17    2006/6/18 \n",
      "-1.269710249 -0.480052867  1.044338874 -0.380052867 -1.098459025 -0.916865183 \n",
      "   2006/6/19    2006/6/20    2006/6/22    2006/6/24    2006/6/25    2006/6/26 \n",
      "-1.168069241 -0.942897932 -1.038883515 -1.208116407 -0.075708291  0.555495767 \n",
      "   2006/6/27    2006/6/28    2006/6/29    2006/6/30     2006/7/1     2006/7/2 \n",
      " 0.657136774  0.651965465  1.355105983  0.314291709 -0.386912349  0.429510184 \n",
      "    2006/7/3     2006/7/4     2006/7/5     2006/7/6     2006/7/7     2006/7/8 \n",
      " 0.311104025 -0.430052867  0.664338874  0.399510184  1.174728658 -0.617289674 \n",
      "    2006/7/9    2006/7/11    2006/7/12    2006/7/13    2006/7/14    2006/7/16 \n",
      " 0.825898010 10.109510184  0.879475477  1.232273377 -1.096510106  3.311116485 \n",
      "   2006/7/17    2006/7/18    2006/7/19    2006/7/20    2006/7/21    2006/7/22 \n",
      " 2.701506269  3.043100110 -1.753322422 -0.235695832 -1.531338797  0.198318585 \n",
      "   2006/7/23    2006/7/24    2006/7/26    2006/7/28    2006/7/29    2006/7/30 \n",
      "-0.170087573  0.932320543 -0.302071199  0.310726701  1.123477435  0.211116485 \n",
      "    2006/8/2     2006/8/3     2006/8/5     2006/8/6     2006/8/7     2006/8/9 \n",
      "-1.041681415 -0.852071199 -0.747726623 -1.654916264 -1.982885473 -0.471681415 \n",
      "   2006/8/10    2006/8/11    2006/8/13    2006/8/14    2006/8/16    2006/8/17 \n",
      "-0.242932638 -0.030087573 -1.336510106  0.020726701  1.361540975 -0.046085616 \n",
      "   2006/8/18    2006/8/19    2006/8/21    2006/8/22    2006/8/23    2006/8/24 \n",
      " 1.301104025  1.589120400  5.342697867  0.529865261 -1.954526480 -0.575306048 \n",
      "   2006/8/25    2006/8/26    2006/8/28    2006/8/30    2006/8/31     2006/9/1 \n",
      " 0.049475477 -1.013322422  0.701459103  1.371506269  7.859510184  6.543524600 \n",
      "    2006/9/2     2006/9/3     2006/9/4     2006/9/5     2006/9/7     2006/9/8 \n",
      " 2.539912427  3.317881636 11.182355249  8.471104025  4.097102068  6.702745033 \n",
      "    2006/9/9    2006/9/10    2006/9/11    2006/9/12    2006/9/13    2006/9/16 \n",
      " 1.209912427 -1.131338797 -0.878103948 -1.170477357  1.477916342  0.993512141 \n",
      "   2006/9/17    2006/9/18    2006/9/19    2006/9/20    2006/9/21    2006/9/22 \n",
      " 1.490324458 -1.472897932 -1.567679457 -1.109273299 -0.466475400 -0.570052867 \n",
      "   2006/9/25    2006/9/26    2006/9/27    2006/9/28    2006/9/30    2006/10/1 \n",
      "-0.283677500 -1.402508148 -2.138883515 -0.794881558 -0.859663083 -1.499320465 \n",
      "   2006/10/2    2006/10/3    2006/10/4    2006/10/5    2006/10/6    2006/10/7 \n",
      "-0.499320465 -2.157289674  1.493559307  0.990324458  2.213559307  3.131528516 \n",
      "   2006/10/8    2006/10/9   2006/10/10   2006/10/11   2006/10/12   2006/10/13 \n",
      " 5.575920257  3.700324458 -0.103677500 -0.871693874 -1.033287716 -0.810052867 \n",
      "  2006/10/15   2006/10/18   2006/10/20   2006/10/22   2006/10/23   2006/10/24 \n",
      " 0.409120400 -0.138895975 -0.758895975 -1.301304090 -2.137726623 -0.756522565 \n",
      "  2006/10/25   2006/10/30   2006/10/31    2006/11/1    2006/11/2    2006/11/3 \n",
      "-1.826522565  2.918730616  2.828730616  0.243087651  0.661104025  1.314291709 \n",
      "   2006/11/4    2006/11/7    2006/11/9   2006/11/11   2006/11/14   2006/11/16 \n",
      "-1.008506191 -2.228895975  1.416357206  4.171953006  2.321953006  1.867561264 \n",
      "  2006/11/17   2006/11/18   2006/11/19   2006/11/20   2006/11/21   2006/11/22 \n",
      " 0.628765322  0.648375538  2.760359164 -0.058081701 -0.832048952 -1.283689959 \n",
      "  2006/11/23   2006/11/24   2006/11/25   2006/11/26   2006/11/29   2006/11/30 \n",
      "-1.358471484  0.306357206 -1.233642794  0.949969380 -1.050844894  2.237548805 \n",
      "   2006/12/1    2006/12/2    2006/12/3    2006/12/5    2006/12/6    2006/12/7 \n",
      " 2.757548805 -0.682875685 -0.548046994 -0.182875685  0.113546847 -0.768436778 \n",
      "   2006/12/8    2006/12/9   2006/12/12   2006/12/13   2006/12/14   2006/12/15 \n",
      "-2.334469527 -0.782451195 -0.863655253 -1.746016203 -0.020420404  0.855954963 \n",
      "  2006/12/16   2006/12/18   2006/12/19   2006/12/20   2006/12/21   2006/12/22 \n",
      " 0.439579596  0.216391913 -0.996842936  0.796769237  0.238363079 -1.219606130 \n",
      "  2006/12/23   2006/12/24   2006/12/25   2006/12/26   2006/12/27   2006/12/28 \n",
      "-1.339216346  0.443191770  1.579177353  1.038410245  2.121597928  1.823191770 \n",
      "  2006/12/29   2006/12/30   2006/12/31     2007/1/1     2007/1/3     2007/1/4 \n",
      " 1.307206187 -0.537232720  0.147595971 -0.936842936  2.215175395 -0.048826562 \n",
      "    2007/1/5     2007/1/6     2007/1/7     2007/1/8     2007/1/9    2007/1/10 \n",
      "-0.640467569 -2.158046994 -2.856016203 -1.993265469  0.137595971  2.353581554 \n",
      "   2007/1/11    2007/1/13    2007/1/14    2007/1/15    2007/1/16    2007/1/17 \n",
      " 0.645565179  1.445954963 -1.081671627 -0.790030620 -2.214422361 -1.633265469 \n",
      "   2007/1/18    2007/1/20    2007/1/21    2007/1/22    2007/1/23    2007/1/24 \n",
      " 0.756002129  0.917595971 -1.703265469 -2.099640836 -0.800857353 -1.609216346 \n",
      "   2007/1/25    2007/1/26    2007/1/27    2007/1/29     2007/2/3     2007/2/5 \n",
      "-0.433230763 -1.566808230 -1.701979539 -2.007622504 -1.898046994 -1.558436778 \n",
      "    2007/2/6     2007/2/7     2007/2/8    2007/2/10    2007/2/11    2007/2/12 \n",
      "-1.896453153 -0.503608087 -2.754032578 -1.692485901 -2.275283801 -2.117267427 \n",
      "   2007/2/13    2007/2/14    2007/2/17    2007/2/18    2007/2/19    2007/2/22 \n",
      " 0.357124315 -0.254469527 -0.375638879 -0.743997871 -0.882404029 -0.417232720 \n",
      "   2007/2/23    2007/2/24    2007/2/25    2007/2/26    2007/2/27    2007/2/28 \n",
      "-1.646063369 -1.254422361 -1.704859311 -2.256063369 -1.143218303 -1.530844894 \n",
      "    2007/3/1     2007/3/3     2007/3/4     2007/3/5     2007/3/6     2007/3/7 \n",
      "-2.139251052  0.196734531  0.355577639 -0.726453153  0.036391913 -2.177657210 \n",
      "    2007/3/8     2007/3/9    2007/3/10    2007/3/11    2007/3/12    2007/3/13 \n",
      " 0.016391913  0.564361121  3.098752863  2.740393870  2.939956921  6.466379453 \n",
      "   2007/3/14    2007/3/15    2007/3/16    2007/3/17    2007/3/19    2007/3/21 \n",
      " 5.129189812  0.881563222 -0.139640836  1.874750905  0.035187855  0.904785612 \n",
      "   2007/3/22    2007/3/23    2007/3/24    2007/3/25    2007/3/26    2007/3/27 \n",
      " 2.094395828  2.212801986 -0.084045037 -0.153608087 -1.466842936 -1.412061411 \n",
      "   2007/3/28    2007/3/30    2007/3/31     2007/4/1     2007/4/3     2007/4/4 \n",
      "-1.572061411 -0.465638879 -0.825249095 -1.425249095  0.189189812 -0.050420404 \n",
      "    2007/4/5     2007/4/6    2007/4/10    2007/4/11    2007/4/12    2007/4/13 \n",
      "-0.148826562  0.169142647  0.725187855 -1.232485901 -1.461234678 -1.212875685 \n",
      "   2007/4/15    2007/4/16    2007/4/17    2007/4/19    2007/4/22    2007/4/23 \n",
      "-0.957657210  1.483983797  1.337561264 -0.870455110 -1.615283801  0.063122357 \n",
      "   2007/4/24    2007/4/25    2007/4/26    2007/4/27    2007/4/28    2007/4/29 \n",
      " 1.791138732 -0.333689959 -0.992485901  1.066781697  0.297124315  0.158765322 \n",
      "   2007/4/30     2007/5/1     2007/5/2     2007/5/3     2007/5/5     2007/5/6 \n",
      "-0.294469527  0.379969380 -0.169251052 -0.389251052 -0.374422361  0.010748948 \n",
      "    2007/5/9    2007/5/10    2007/5/11    2007/5/12    2007/5/15    2007/5/16 \n",
      " 2.284763365  1.889544890  2.925967422  2.607514099  0.476357206  3.394716199 \n",
      "   2007/5/18    2007/5/20    2007/5/21    2007/5/23    2007/5/27    2007/5/28 \n",
      " 3.165105983 -0.724457068 -0.467267427  0.613983797 -0.523253010  0.061138732 \n",
      "   2007/5/29    2007/5/30    2007/5/31     2007/6/2     2007/6/3     2007/6/4 \n",
      " 0.755920257  0.055542932 -0.186440693  2.151965465  1.615495767  5.009934674 \n",
      "    2007/6/6     2007/6/8     2007/6/9    2007/6/10    2007/6/11    2007/6/13 \n",
      "-0.686865183  0.038730616 -0.094504233  1.203559307  0.293949091  0.245542932 \n",
      "   2007/6/15    2007/6/17    2007/6/18    2007/6/20    2007/6/23    2007/6/24 \n",
      "-0.770100032 -0.751693874 -0.780100032  0.853949091 -0.056475400 -1.567679457 \n",
      "   2007/6/25    2007/6/26    2007/6/27    2007/6/28    2007/6/30     2007/7/1 \n",
      "-0.756865183  0.480324458  0.263512141  0.833901925  0.070336917 -0.953287716 \n",
      "    2007/7/2     2007/7/3     2007/7/4     2007/7/5     2007/7/6     2007/7/7 \n",
      " 0.321104025  0.439947133 -0.769320465 -0.009273299 -0.045695832  0.268695910 \n",
      "    2007/7/8     2007/7/9    2007/7/12    2007/7/13    2007/7/15    2007/7/16 \n",
      "-0.655695832 -0.004491774  1.933914384  1.672273377 -1.512071199 -0.082897932 \n",
      "   2007/7/17    2007/7/18    2007/7/19    2007/7/20    2007/7/21    2007/7/22 \n",
      "-0.258116407  1.197916342  0.954291709  1.855105983  1.645105983  1.750324458 \n",
      "   2007/7/23    2007/7/24    2007/7/25    2007/7/26    2007/7/31     2007/8/1 \n",
      " 0.394291709  0.156712284 -0.196085616 -0.792118364  4.833087651  0.087491852 \n",
      "    2007/8/3     2007/8/4     2007/8/5     2007/8/7     2007/8/8     2007/8/9 \n",
      " 0.721116485 -0.041681415 -1.180477357  1.433901925  2.678730616  1.389899968 \n",
      "   2007/8/10    2007/8/11    2007/8/13    2007/8/14    2007/8/15    2007/8/17 \n",
      " 2.605118442  1.039132859  0.731151191  1.269120400  0.269947133  1.796322500 \n",
      "   2007/8/18    2007/8/19    2007/8/21    2007/8/23    2007/8/24    2007/8/25 \n",
      "-0.758493731 -1.678540897 -0.022897932  0.833477435 -0.042508148 -0.247726623 \n",
      "   2007/8/26    2007/8/27    2007/8/28    2007/8/29    2007/8/30    2007/8/31 \n",
      "-0.825695832 -1.981681415 -0.845306048  0.310289751 -0.298116407 -0.356085616 \n",
      "    2007/9/1     2007/9/2     2007/9/3     2007/9/4     2007/9/7     2007/9/8 \n",
      "-0.259273299 -0.420914307 -0.229710249  0.833134817  0.283477435  0.196712284 \n",
      "    2007/9/9    2007/9/10    2007/9/12    2007/9/13    2007/9/14    2007/9/15 \n",
      "-0.630100032 -0.440100032  0.106322500 -0.504881558 -0.126912349 -0.364881558 \n",
      "   2007/9/16    2007/9/17    2007/9/18    2007/9/19    2007/9/20    2007/9/21 \n",
      "-0.010100032 -0.341693874 -0.002083658  1.064728658 -0.370914307  0.644291709 \n",
      "   2007/9/22    2007/9/23    2007/9/24    2007/9/25    2007/9/28    2007/9/29 \n",
      "-0.046865183 -0.256522565  0.327102068  0.771883593 -1.046522565  0.131104025 \n",
      "   2007/9/30    2007/10/1    2007/10/2    2007/10/3    2007/10/4    2007/10/5 \n",
      "-0.258506191  0.151540975 -0.438459025 -1.322473442 -0.060879600 -0.180489816 \n",
      "   2007/10/6    2007/10/8    2007/10/9   2007/10/12   2007/10/13   2007/10/14 \n",
      "-0.238848809 -0.986475400  5.373901925  2.808340832  3.533559307  0.596322500 \n",
      "  2007/10/15   2007/10/16   2007/10/17   2007/10/18   2007/10/19   2007/10/20 \n",
      "-1.484881558 -0.775271342 -1.538069241  1.089120400  2.864716199  3.376310041 \n",
      "  2007/10/21   2007/10/22   2007/10/23   2007/10/24   2007/10/25   2007/10/27 \n",
      " 3.214763365  2.234716199  3.813983797  2.525920257 -0.798081701  1.452732573 \n",
      "  2007/10/28   2007/10/29   2007/10/31    2007/11/2    2007/11/3    2007/11/4 \n",
      " 2.229155106  0.101528516  0.625967422  2.901563222  3.348328373  3.748328373 \n",
      "   2007/11/6    2007/11/9   2007/11/10   2007/11/11   2007/11/12   2007/11/13 \n",
      " 5.187124315 -0.116877643 -0.326877643  1.743983797  0.317951048 -0.413689959 \n",
      "  2007/11/14   2007/11/15   2007/11/16   2007/11/17   2007/11/18   2007/11/19 \n",
      "-0.028861268 -0.692485901  0.953546847  4.422377496  2.118765322  2.312342790 \n",
      "  2007/11/20   2007/11/21   2007/11/22   2007/11/23   2007/11/24   2007/11/25 \n",
      " 1.667951048 -2.067691917 -0.840455110 -1.457657210 -1.758046994 -1.922828520 \n",
      "  2007/11/26   2007/11/28   2007/11/29   2007/11/30    2007/12/1    2007/12/3 \n",
      "-0.771671627 -0.644812145 -0.128436778 -0.145249095  0.237938589 -1.606016203 \n",
      "   2007/12/4    2007/12/5    2007/12/6    2007/12/7    2007/12/8    2007/12/9 \n",
      "-1.409640836 -2.137267427 -1.479251052 -1.522485901 -1.352485901 -1.935673585 \n",
      "  2007/12/10   2007/12/11   2007/12/12   2007/12/13   2007/12/14   2007/12/15 \n",
      "-1.719251052 -0.582061411  3.053581554  2.677159021  3.010346705  0.712377496 \n",
      "  2007/12/16   2007/12/17   2007/12/18   2007/12/19   2007/12/20   2007/12/21 \n",
      " 0.075565179 -0.212840979  1.556002129  2.773971338  1.806391913 -2.052485901 \n",
      "  2007/12/22   2007/12/24   2007/12/25   2007/12/26   2007/12/27   2007/12/28 \n",
      "-2.367267427 -1.592828520 -1.031624462 -1.418436778 -0.350857353  0.465175395 \n",
      "  2007/12/29   2007/12/30   2007/12/31     2008/1/1     2008/1/2     2008/1/3 \n",
      "-0.076418446  0.740004086 -0.630810188 -0.885638879 -1.863265469 -2.076063369 \n",
      "    2008/1/4     2008/1/6     2008/1/7     2008/1/8     2008/1/9    2008/1/10 \n",
      "-1.491624462 -2.802875685 -2.770455110 -1.858046994 -2.179640836 -1.853265469 \n",
      "   2008/1/11    2008/1/12    2008/1/13    2008/1/14    2008/1/15    2008/1/17 \n",
      "-1.636453153 -1.821671627 -0.853608087 -2.989640836 -0.968826562 -2.326016203 \n",
      "   2008/1/18    2008/1/19    2008/1/20    2008/1/23    2008/1/24    2008/1/25 \n",
      "-2.278046994  0.659969380  0.205187855 -1.212828520  0.167938589  1.042767280 \n",
      "   2008/1/26    2008/1/27    2008/1/28    2008/1/30    2008/1/31     2008/2/3 \n",
      "-0.041624462 -0.262061411  0.139189812 -0.082014246 -0.725249095 -1.392014246 \n",
      "    2008/2/4     2008/2/5     2008/2/6     2008/2/7     2008/2/9    2008/2/11 \n",
      "-2.002828520 -1.644859311 -0.194812145  1.302767280  3.527206187  2.446781697 \n",
      "   2008/2/12    2008/2/13    2008/2/14    2008/2/15    2008/2/16    2008/2/17 \n",
      " 3.509189812  0.479969380 -0.781671627  1.178375538  4.171173438  0.463122357 \n",
      "   2008/2/18    2008/2/19    2008/2/20    2008/2/21    2008/2/23    2008/2/24 \n",
      "-0.050455110 -1.433642794 -0.777657210 -1.322438736 -1.464032578 -0.774422361 \n",
      "   2008/2/27    2008/2/28     2008/3/1     2008/3/4     2008/3/5     2008/3/6 \n",
      " 0.463157064 -1.732438736 -0.496016203 -2.093689959  0.937985754  1.370004086 \n",
      "    2008/3/8     2008/3/9    2008/3/10    2008/3/11    2008/3/12    2008/3/14 \n",
      " 0.852377496 -1.116842936 -0.410467569 -1.347657210 -1.348861268  3.780748948 \n",
      "   2008/3/16    2008/3/17    2008/3/18    2008/3/19    2008/3/20    2008/3/21 \n",
      " 0.101953006 -0.123218303 -1.189640836 -0.354812145 -0.793218303 -0.223655253 \n",
      "   2008/3/22    2008/3/23    2008/3/24    2008/3/26    2008/3/27    2008/3/28 \n",
      "-1.084859311  0.152377496  1.099567137 -0.966842936 -0.483218303 -1.176016203 \n",
      "   2008/3/30    2008/3/31     2008/4/2     2008/4/3     2008/4/4     2008/4/5 \n",
      "-1.075626419  1.235954963  6.235565179  6.290783654  4.277985754  6.511173438 \n",
      "    2008/4/6     2008/4/7     2008/4/8     2008/4/9    2008/4/10    2008/4/11 \n",
      " 1.264373581 -0.833642794  0.813169523  1.623169523 -0.316830477  0.276344747 \n",
      "   2008/4/12    2008/4/15    2008/4/16    2008/4/17    2008/4/18    2008/4/19 \n",
      " 0.676002129  4.083157064  0.755920257 -1.770065326 -0.724032578 -0.576063369 \n",
      "   2008/4/20    2008/4/21    2008/4/22    2008/4/23    2008/4/25    2008/4/26 \n",
      " 0.120359164  0.533157064  0.016781697 -0.140844894  6.293546847  5.826734531 \n",
      "   2008/4/27    2008/4/29    2008/4/30     2008/5/1     2008/5/2     2008/5/3 \n",
      " 2.141138732 -0.025673585  0.843546847  0.251953006  1.683936631  1.306746990 \n",
      "    2008/5/4     2008/5/5     2008/5/6     2008/5/7     2008/5/8     2008/5/9 \n",
      "-0.207644751 -0.336050909 -0.844067284 -0.727691917 -1.970879600  0.947124315 \n",
      "   2008/5/10    2008/5/13    2008/5/14    2008/5/15    2008/5/16    2008/5/17 \n",
      " 1.005187855  0.987561264 -0.043689959  0.234373581 -0.005283801 -0.196830477 \n",
      "   2008/5/18    2008/5/19    2008/5/20    2008/5/22    2008/5/23    2008/5/24 \n",
      " 0.280748948  0.224373581  1.337514099  0.243122357 -0.744504233 -0.023689959 \n",
      "   2008/5/25    2008/5/27    2008/5/28    2008/5/29    2008/5/30    2008/5/31 \n",
      " 0.742342790  0.160748948  1.103936631  1.104326415 -1.029675542  0.657514099 \n",
      "    2008/6/1     2008/6/2     2008/6/3     2008/6/4     2008/6/5     2008/6/6 \n",
      " 0.702732573  0.857951048  0.611528516  0.271918299 -0.101269384 -0.352473442 \n",
      "    2008/6/7     2008/6/8    2008/6/10    2008/6/11    2008/6/12    2008/6/13 \n",
      "-0.178895975  0.239510184 -0.329285758 -0.277254967 -0.192083658  0.353134817 \n",
      "   2008/6/16    2008/6/19    2008/6/20    2008/6/22    2008/6/24    2008/6/25 \n",
      "-1.153287716 -0.333287716  0.679510184 -0.779710249  0.243134817  1.256712284 \n",
      "   2008/6/26    2008/6/27    2008/6/28    2008/6/29    2008/6/30     2008/7/1 \n",
      " 2.633477435  1.479132859  4.023087651  4.699947133  7.157526558  7.318730616 \n",
      "    2008/7/2     2008/7/4     2008/7/5     2008/7/6     2008/7/8     2008/7/9 \n",
      " 3.561151191  1.801151191 -0.612897932 -0.023287716  2.889120400 -0.039273299 \n",
      "   2008/7/10    2008/7/12    2008/7/14    2008/7/15    2008/7/16    2008/7/17 \n",
      " 0.601930759 -0.443287716  1.964338874  2.111930759  2.073524600  0.800679535 \n",
      "   2008/7/18    2008/7/19    2008/7/20    2008/7/21    2008/7/23    2008/7/24 \n",
      " 2.747102068 -0.763712206 -0.930914307  0.515508226 -1.781338797  0.621930759 \n",
      "   2008/7/25    2008/7/26    2008/7/27    2008/7/28    2008/7/29    2008/7/30 \n",
      " 0.509899968 -0.710914307 -0.137679457 -0.420867141  0.849947133  1.039947133 \n",
      "   2008/7/31     2008/8/1     2008/8/2     2008/8/3     2008/8/4     2008/8/6 \n",
      " 0.850336917  0.121883593  1.727916342  1.022320543  0.623100110  0.551116485 \n",
      "    2008/8/7     2008/8/8     2008/8/9    2008/8/10    2008/8/11    2008/8/12 \n",
      "-0.069320465  1.269947133  2.134291709 -0.046085616 -0.660914307 -1.523712206 \n",
      "   2008/8/13    2008/8/14    2008/8/15    2008/8/17    2008/8/18    2008/8/19 \n",
      " 0.573477435  1.169899968  1.863134817 -0.322897932  0.781930759 -0.044491774 \n",
      "   2008/8/24    2008/8/25    2008/8/27    2008/8/28    2008/8/29    2008/8/30 \n",
      " 2.420324458 -0.565695832 -1.601728581 -1.162118364 -0.509273299  0.393524600 \n",
      "   2008/8/31     2008/9/1     2008/9/2     2008/9/4     2008/9/5     2008/9/6 \n",
      "-0.118069241  0.121883593 -0.068116407 -0.991304090 -0.719710249 -0.944101990 \n",
      "    2008/9/7     2008/9/8     2008/9/9    2008/9/10    2008/9/11    2008/9/12 \n",
      "-0.494491774 -0.679663083  0.083524600 -2.692071199 -1.450914307  2.173901925 \n",
      "   2008/9/13    2008/9/14    2008/9/16    2008/9/17    2008/9/18    2008/9/19 \n",
      " 2.672308083 -1.050524523 -0.768116407  1.434291709  1.839947133  1.112320543 \n",
      "   2008/9/20    2008/9/21    2008/9/22    2008/9/23    2008/9/24    2008/9/25 \n",
      " 1.342710326 -2.298493731 -0.088506191 -1.642897932 -0.150100032 -1.178116407 \n",
      "   2008/9/26    2008/9/27    2008/9/28    2008/9/29    2008/9/30    2008/10/1 \n",
      "-0.469663083 -1.267726623 -0.003287716 -0.322473442  1.672308083  1.059120400 \n",
      "   2008/10/2    2008/10/3    2008/10/4    2008/10/5    2008/10/7    2008/10/8 \n",
      "-0.720052867  0.105542932 -0.044504233 -1.586522565 -1.323677500 -0.066050909 \n",
      "   2008/10/9   2008/10/10   2008/10/11   2008/10/12   2008/10/14   2008/10/15 \n",
      " 1.527951048 -0.168081701  1.536357206  1.629934674 -1.308895975 -0.665661126 \n",
      "  2008/10/16   2008/10/17   2008/10/18   2008/10/20   2008/10/21   2008/10/22 \n",
      "-0.525708291 -1.570052867 -2.646912349 -1.938895975 -2.052083658 -2.311269384 \n",
      "  2008/10/23   2008/10/24   2008/10/26   2008/10/27   2008/10/29   2008/10/30 \n",
      "-2.415236635 -1.556487859 -2.325271342 -0.944504233  1.422767280  0.787548805 \n",
      "  2008/10/31    2008/11/1    2008/11/2    2008/11/4    2008/11/5    2008/11/6 \n",
      "-1.422048952 -2.374422361 -1.354469527 -0.557657210 -1.025673585 -1.092438736 \n",
      "   2008/11/7    2008/11/8    2008/11/9   2008/11/10   2008/11/11   2008/11/12 \n",
      "-1.124469527 -1.682485901 -1.552485901  0.675140689 -1.013642794 -0.842485901 \n",
      "  2008/11/13   2008/11/14   2008/11/15   2008/11/16   2008/11/17   2008/11/18 \n",
      " 0.357938589  0.512767280  0.621173438  0.991173438  0.175187855 -0.301624462 \n",
      "  2008/11/19   2008/11/20   2008/11/21   2008/11/22   2008/11/23   2008/11/25 \n",
      "-1.512875685 -0.913265469  0.086344747 -1.166016203 -2.077267427 -1.321671627 \n",
      "  2008/11/26   2008/11/27   2008/11/28   2008/11/29   2008/11/30    2008/12/1 \n",
      "-2.504045037 -1.112793813 -1.450420404 -1.891671627 -0.956842936 -1.137232720 \n",
      "   2008/12/2    2008/12/3    2008/12/4    2008/12/6    2008/12/8    2008/12/9 \n",
      "-1.109606130 -1.716418446 -2.393265469 -1.809251052 -3.065673585 -2.128046994 \n",
      "  2008/12/10   2008/12/11   2008/12/12   2008/12/13   2008/12/14   2008/12/15 \n",
      "-1.353608087 -0.512793813 -1.873997871 -1.976842936 -1.959640836 -1.641247137 \n",
      "  2008/12/16   2008/12/17   2008/12/18   2008/12/19   2008/12/20   2008/12/21 \n",
      "-1.369653295 -1.192014246 -1.930420404 -1.892451195 -0.361199972 -1.022451195 \n",
      "  2008/12/22   2008/12/23   2008/12/24   2008/12/25   2008/12/26   2008/12/28 \n",
      "-0.252404029 -0.792451195 -0.143997871 -2.146453153 -2.053265469 -2.510455110 \n",
      "  2008/12/31     2009/1/1     2009/1/2     2009/1/4     2009/1/6     2009/1/7 \n",
      "-2.938861268 -2.472485901 -3.037267427 -2.171671627 -2.052014246 -1.511247137 \n",
      "    2009/1/8     2009/1/9    2009/1/10    2009/1/12    2009/1/13    2009/1/15 \n",
      "-2.204434821 -1.468402072 -2.551636921 -2.022840979 -1.972451195 -2.173608087 \n",
      "   2009/1/16    2009/1/17    2009/1/18    2009/1/19    2009/1/20    2009/1/21 \n",
      "-2.278436778 -2.095249095 -1.103608087 -2.824859311 -2.042014246 -1.498012288 \n",
      "   2009/1/22    2009/1/23    2009/1/24    2009/1/25    2009/1/26    2009/1/27 \n",
      "-1.440857353 -2.640844894 -3.195236635 -2.502875685 -1.150810188 -1.303997871 \n",
      "   2009/1/28    2009/1/29    2009/1/30    2009/1/31     2009/2/1     2009/2/2 \n",
      "-2.010420404 -0.892451195 -0.454045037 -1.110810188 -2.584812145 -2.622875685 \n",
      "    2009/2/3     2009/2/4     2009/2/5     2009/2/6     2009/2/7     2009/2/8 \n",
      "-2.174859311 -1.593265469 -2.254812145 -2.497232720 -2.533655253 -1.512451195 \n",
      "    2009/2/9    2009/2/11    2009/2/12    2009/2/13    2009/2/14    2009/2/15 \n",
      "-1.080857353 -1.651624462 -1.720030620 -0.512014246 -0.345249095 -1.189640836 \n",
      "   2009/2/16    2009/2/17    2009/2/18    2009/2/19    2009/2/20    2009/2/21 \n",
      "-1.639640836 -1.560030620 -1.525249095 -1.545249095 -1.283265469  0.251173438 \n",
      "   2009/2/22    2009/2/23    2009/2/24    2009/2/25    2009/2/26    2009/2/27 \n",
      "-0.643608087  1.227548805  0.889579596  0.663157064 -0.233265469 -1.669640836 \n",
      "   2009/2/28     2009/3/2     2009/3/3     2009/3/4     2009/3/5     2009/3/6 \n",
      "-2.416063369 -2.898046994 -2.398826562 -2.223265469 -1.984422361 -1.861234678 \n",
      "    2009/3/7     2009/3/9    2009/3/10    2009/3/11    2009/3/13    2009/3/15 \n",
      "-2.126063369 -0.547267427 -1.186440693 -0.555236635  1.086357206 -0.748471484 \n",
      "   2009/3/16    2009/3/17    2009/3/18    2009/3/20    2009/3/21    2009/3/22 \n",
      " 0.986310041  2.189155106  0.391138732 -0.993689959 -0.965236635  0.007514099 \n",
      "   2009/3/23    2009/3/25    2009/3/26    2009/3/28    2009/3/29    2009/3/30 \n",
      " 0.945967422 -2.566487859 -1.943253010 -2.946830477 -0.645638879 -0.550857353 \n",
      "   2009/3/31     2009/4/1     2009/4/2     2009/4/4     2009/4/5     2009/4/6 \n",
      "-0.282451195 -0.464045037  0.486002129 -0.434812145  0.630748948 -0.432048952 \n",
      "    2009/4/7     2009/4/8     2009/4/9    2009/4/10    2009/4/11    2009/4/12 \n",
      "-0.490030620 -0.033608087 -0.779640836 -1.063265469 -1.104859311 -0.698436778 \n",
      "   2009/4/14    2009/4/16    2009/4/17    2009/4/18    2009/4/19    2009/4/20 \n",
      "-1.524469527 -0.723265469 -0.141671627 -2.250455110 -1.694079743 -0.551234678 \n",
      "   2009/4/21    2009/4/22    2009/4/23    2009/4/24    2009/4/25    2009/4/26 \n",
      "-0.982438736 -0.272485901  2.453983797  0.946310041 -0.916016203 -0.805249095 \n",
      "   2009/4/27    2009/4/28    2009/4/29    2009/4/30     2009/5/1     2009/5/2 \n",
      " 0.071173438 -0.563218303 -1.037657210 -1.302485901 -1.102485901  2.057514099 \n",
      "    2009/5/3     2009/5/4     2009/5/5     2009/5/6     2009/5/7     2009/5/8 \n",
      " 0.136746990 -0.997691917  0.553949091  2.423559307  2.894716199  1.961918299 \n",
      "    2009/5/9    2009/5/11    2009/5/12    2009/5/13    2009/5/14    2009/5/15 \n",
      "-1.027302133 -0.988034535 -1.253253010 -0.260844894 -0.762048952  0.285530473 \n",
      "   2009/5/16    2009/5/17    2009/5/18    2009/5/19    2009/5/21    2009/5/22 \n",
      " 0.927561264 -0.976487859 -0.232048952 -0.150455110 -1.158034535 -0.818034535 \n",
      "   2009/5/23    2009/5/24    2009/5/25    2009/5/26    2009/5/27    2009/5/28 \n",
      "-0.523689959 -0.533642794 -0.445236635 -0.658081701  1.672308083  3.342697867 \n",
      "   2009/5/29    2009/5/30    2009/5/31     2009/6/2     2009/6/3     2009/6/4 \n",
      "-1.342897932 -3.269320465 -1.281693874 -1.876522565 -1.164067284 -0.242863226 \n",
      "    2009/6/5     2009/6/6     2009/6/8     2009/6/9    2009/6/10    2009/6/12 \n",
      " 0.375105983 -0.088034535 -0.059675542  0.355495767  0.147526558  4.496322500 \n",
      "   2009/6/13    2009/6/14    2009/6/15    2009/6/16    2009/6/17    2009/6/18 \n",
      " 4.101930759  1.990726701 -0.634491774 -0.597679457 -0.380524523  2.072273377 \n",
      "   2009/6/19    2009/6/21    2009/6/22    2009/6/24    2009/6/25    2009/6/26 \n",
      " 0.901116485 -0.051681415 -1.456899890 -0.701304090  0.089947133  0.286322500 \n",
      "   2009/6/27    2009/6/28    2009/6/29    2009/6/30     2009/7/1     2009/7/2 \n",
      " 0.864338874  0.981151191  1.237916342 -1.780524523 -1.733712206 -1.810087573 \n",
      "    2009/7/3     2009/7/4     2009/7/5     2009/7/6     2009/7/7     2009/7/8 \n",
      "-0.170914307 -1.192071199 -0.519320465  0.003524600  0.592745033 -0.046865183 \n",
      "   2009/7/10    2009/7/11    2009/7/12    2009/7/13    2009/7/14    2009/7/15 \n",
      " 0.593087651  0.019899968  0.511493809 -1.773712206  0.253087651  0.783134817 \n",
      "   2009/7/16    2009/7/17    2009/7/18    2009/7/19    2009/7/20    2009/7/22 \n",
      " 0.176712284 -0.274491774  1.309899968  2.210726701  9.383087651 -1.540087573 \n",
      "   2009/7/24    2009/7/25    2009/7/26    2009/7/27    2009/7/28    2009/7/30 \n",
      " 0.140679535  0.226287794  0.270255045 -1.621338797  0.707881636  2.470726701 \n",
      "   2009/7/31     2009/8/2     2009/8/3     2009/8/4     2009/8/5     2009/8/6 \n",
      " 1.850679535 -0.750914307  1.099947133  1.473477435 -0.923712206 -1.760134739 \n",
      "    2009/8/7     2009/8/8     2009/8/9    2009/8/10    2009/8/11    2009/8/12 \n",
      " 0.572320543  0.723087651  0.394338874  1.069947133 -1.088493731 -0.769697789 \n",
      "   2009/8/14    2009/8/15    2009/8/16    2009/8/17    2009/8/18    2009/8/19 \n",
      " 0.841896052 -0.959308005 -0.999744955 -1.687714164 -2.020901847 -2.152542855 \n",
      "   2009/8/20    2009/8/21    2009/8/22    2009/8/24    2009/8/25    2009/8/26 \n",
      "-1.849308005 -1.622932638  0.380302211 -0.572118364  0.245508226  1.434728658 \n",
      "   2009/8/27    2009/8/28    2009/8/29    2009/8/30    2009/8/31     2009/9/2 \n",
      " 0.135898010 -1.589697789 -0.973322422 -1.421291631 -1.888103948  0.241930759 \n",
      "    2009/9/3     2009/9/4     2009/9/5     2009/9/6     2009/9/8    2009/9/10 \n",
      " 0.499899968  0.120726701 -0.675306048 -0.799697789  4.060726701 -3.199308005 \n",
      "   2009/9/11    2009/9/12    2009/9/13    2009/9/14    2009/9/15    2009/9/16 \n",
      "-1.977289674 -1.174101990 -3.048493731 -1.294881558 -1.480100032  0.414338874 \n",
      "   2009/9/17    2009/9/18    2009/9/19    2009/9/22    2009/9/25    2009/9/26 \n",
      " 0.042308083  0.475495767  0.465495767  2.033949091  0.673087651 -2.144881558 \n",
      "   2009/9/27    2009/9/28    2009/10/1    2009/10/2    2009/10/3    2009/10/4 \n",
      "-1.078895975 -0.922083658 -0.923287716 -1.031304090 -0.306475400  0.463524600 \n",
      "   2009/10/5    2009/10/6    2009/10/7    2009/10/8    2009/10/9   2009/10/11 \n",
      "-1.862071199  0.715118442 -1.044101990 -2.238883515 -1.259663083 -0.574491774 \n",
      "  2009/10/12   2009/10/14   2009/10/15   2009/10/17   2009/10/18   2009/10/19 \n",
      " 2.930714242  0.591540975  1.101104025  0.578306126 -2.330867141 -0.828459025 \n",
      "  2009/10/21   2009/10/22   2009/10/23   2009/10/24   2009/10/25   2009/10/26 \n",
      "-0.798848809 -2.089663083  0.239120400  0.359120400  0.731104025  1.607526558 \n",
      "  2009/10/27   2009/10/28   2009/10/29   2009/10/30   2009/10/31    2009/11/1 \n",
      " 4.509934674  0.837916342 -0.151693874 -2.774101990 -1.391304090 -2.178116407 \n",
      "   2009/11/2    2009/11/3    2009/11/4    2009/11/5    2009/11/7    2009/11/8 \n",
      "-2.254881558  0.454716199 -0.576487859  0.107951048 -1.168081701  0.304373581 \n",
      "   2009/11/9   2009/11/10   2009/11/12   2009/11/13   2009/11/14   2009/11/15 \n",
      "-0.160455110  0.623936631  2.128765322  5.463157064  1.599544890  4.360359164 \n",
      "  2009/11/16   2009/11/17   2009/11/21   2009/11/22   2009/11/23   2009/11/24 \n",
      " 6.747985754  0.525153148  0.916357206 -1.406440693  0.845140689  2.156734531 \n",
      "  2009/11/27   2009/11/28   2009/11/30    2009/12/1    2009/12/2    2009/12/3 \n",
      "-1.076877643  0.556734531 -0.051624462  0.347548805 -1.289640836 -1.562048952 \n",
      "   2009/12/4    2009/12/7    2009/12/8    2009/12/9   2009/12/10   2009/12/11 \n",
      "-0.131624462  0.924361121  1.525954963  0.929532431  2.312377496  4.394785612 \n",
      "  2009/12/13   2009/12/14   2009/12/16   2009/12/17   2009/12/18   2009/12/20 \n",
      "-1.755626419 -0.417232720 -1.685283801 -2.446440693 -0.028861268 -1.624032578 \n",
      "  2009/12/21   2009/12/22   2009/12/25   2009/12/26   2009/12/27   2009/12/28 \n",
      "-2.646487859 -1.298471484 -3.057254967 -2.129675542  0.295140689 -0.039251052 \n",
      "    2010/1/1     2010/1/2     2010/1/4     2010/1/5     2010/1/6     2010/1/7 \n",
      "-0.723265469 -0.393655253 -0.899251052 -1.834032578 -2.102485901 -2.051234678 \n",
      "    2010/1/8     2010/1/9    2010/1/11    2010/1/12    2010/1/14    2010/1/18 \n",
      "-0.651589755 -1.428449238 -1.579251052 -2.049251052 -1.525673585  1.043983797 \n",
      "   2010/1/20    2010/1/21    2010/1/22    2010/1/23    2010/1/24    2010/1/25 \n",
      "-2.303642794 -2.424422361 -2.291234678 -1.879251052 -1.949640836 -1.152014246 \n",
      "   2010/1/26    2010/1/28    2010/1/29    2010/1/30     2010/2/1     2010/2/2 \n",
      "-2.180420404 -1.455638879 -1.372014246 -1.735249095 -2.130030620 -1.244032578 \n",
      "    2010/2/3     2010/2/4     2010/2/6     2010/2/7     2010/2/8    2010/2/12 \n",
      "-1.699675542 -2.511659168 -2.235626419 -0.033265469 -2.307267427 -1.842485901 \n",
      "   2010/2/13    2010/2/14    2010/2/15    2010/2/16    2010/2/18    2010/2/19 \n",
      "-1.692875685 -1.384859311 -1.950844894 -2.547267427 -1.574032578 -0.603608087 \n",
      "   2010/2/20    2010/2/21    2010/2/22    2010/2/24    2010/2/25    2010/2/26 \n",
      "-0.968826562 -2.507267427 -2.305283801 -1.745673585 -0.625626419  0.642732573 \n",
      "   2010/2/27    2010/2/28     2010/3/1     2010/3/2     2010/3/3     2010/3/4 \n",
      " 1.264763365 -0.836063369  0.457985754 -1.195626419 -1.441234678 -1.466063369 \n",
      "    2010/3/5     2010/3/6     2010/3/7     2010/3/8     2010/3/9    2010/3/10 \n",
      "-0.616016203 -2.347267427 -1.894032578 -3.094846852 -1.955626419 -0.312014246 \n",
      "   2010/3/11    2010/3/12    2010/3/16    2010/3/17    2010/3/18    2010/3/19 \n",
      "-2.052438736 -1.141671627  1.034361121  3.698375538  0.983169523  1.824763365 \n",
      "   2010/3/21    2010/3/22    2010/3/24    2010/3/25    2010/3/27    2010/3/28 \n",
      " 0.463559307 -1.146487859 -2.320065326 -1.617267427 -0.701234678 -0.624032578 \n",
      "   2010/3/29    2010/3/31     2010/4/1     2010/4/2     2010/4/3     2010/4/4 \n",
      "-1.175673585 -0.242014246 -0.685249095  0.007938589 -0.484859311  0.321563222 \n",
      "    2010/4/5     2010/4/6     2010/4/7     2010/4/8     2010/4/9    2010/4/11 \n",
      "-0.875626419 -2.699675542 -1.611659168 -1.014894017  0.243559307 -1.552863226 \n",
      "   2010/4/13    2010/4/14    2010/4/15    2010/4/17    2010/4/18    2010/4/19 \n",
      " 0.030748948 -0.125283801 -0.055236635 -0.864079743 -1.475236635 -0.836877643 \n",
      "   2010/4/20    2010/4/21    2010/4/23    2010/4/24    2010/4/25    2010/4/26 \n",
      " 1.023512141 -1.737254967 -1.576440693 -1.879675542 -1.903677500  0.597916342 \n",
      "   2010/4/27    2010/4/28    2010/4/29    2010/4/30     2010/5/1     2010/5/2 \n",
      " 2.969120400  2.884338874 -1.451693874 -2.558459025 -0.573253010 -1.278034535 \n",
      "    2010/5/3     2010/5/4     2010/5/5     2010/5/6     2010/5/7     2010/5/8 \n",
      " 0.144373581  0.763546847  2.936002129  0.819532431 -0.307657210  1.227561264 \n",
      "    2010/5/9    2010/5/11    2010/5/12    2010/5/14    2010/5/16    2010/5/17 \n",
      "-1.454894017 -1.644846852  0.127171480  0.289969380  0.565577639  0.553512141 \n",
      "   2010/5/18    2010/5/19    2010/5/20    2010/5/21    2010/5/22    2010/5/23 \n",
      " 1.874338874  3.453901925  4.645542932  1.841151191 -0.596475400 -1.433677500 \n",
      "   2010/5/24    2010/5/25    2010/5/26    2010/5/27    2010/5/30    2010/5/31 \n",
      "-1.122863226  0.564716199 -0.936098075 -0.634894017  0.177526558  1.631104025 \n",
      "    2010/6/2     2010/6/4     2010/6/5     2010/6/6     2010/6/7     2010/6/9 \n",
      " 0.521930759 -0.440052867 -1.812897932 -0.534067284 -0.410879600 -0.868848809 \n",
      "   2010/6/10    2010/6/11    2010/6/12    2010/6/13    2010/6/14    2010/6/15 \n",
      " 0.058340832  1.244326415  0.173122357 -0.614894017  0.417136774 -0.508848809 \n",
      "   2010/6/17    2010/6/18    2010/6/19    2010/6/20    2010/6/21    2010/6/23 \n",
      "-0.622083658 -0.317691917  1.037951048  0.151965465  0.725105983 -2.054101990 \n",
      "   2010/6/24    2010/6/26    2010/6/27    2010/6/28    2010/6/29    2010/6/30 \n",
      "-1.240100032  0.288730616 -0.065661126 -0.381693874 -1.923712206 -1.741728581 \n",
      "    2010/7/1     2010/7/2     2010/7/3     2010/7/4     2010/7/5     2010/7/7 \n",
      "-1.698540897 -2.380087573 -2.561728581 -1.271681415 -1.440087573 -2.202118364 \n",
      "    2010/7/9    2010/7/10    2010/7/11    2010/7/12    2010/7/14    2010/7/15 \n",
      "-1.450524523 -0.856899890 -1.245306048 -1.348493731 -0.990867141  0.248306126 \n",
      "   2010/7/16    2010/7/17    2010/7/18    2010/7/19    2010/7/20    2010/7/21 \n",
      " 0.856322500 -0.540914307 -0.330134739 -2.206120322 -1.182508148 -1.658883515 \n",
      "   2010/7/22    2010/7/23    2010/7/24    2010/7/25    2010/7/26    2010/7/27 \n",
      " 0.241930759  0.933087651 -1.623322422 -2.392542855 -2.117714164 -1.000087573 \n",
      "   2010/7/28    2010/7/29    2010/7/30    2010/7/31     2010/8/2     2010/8/3 \n",
      "-1.260134739 -0.028930681 -0.118493731  0.367881636 -1.772932638 -0.913712206 \n",
      "    2010/8/5     2010/8/6     2010/8/7    2010/8/10    2010/8/11    2010/8/13 \n",
      "-0.868493731 -1.164916264 -0.810949013  6.179132859  5.217491852 -0.908930681 \n",
      "   2010/8/14    2010/8/15    2010/8/16    2010/8/19    2010/8/20    2010/8/21 \n",
      " 1.536712284 -0.037289674  0.631883593 -0.862118364 -0.636510106 -0.764089531 \n",
      "   2010/8/22    2010/8/23    2010/8/24    2010/8/25    2010/8/26    2010/8/28 \n",
      "-1.380949013 -1.389697789  0.021069319  7.786322500 12.228730616  1.096677578 \n",
      "   2010/8/29     2010/9/1     2010/9/2     2010/9/3     2010/9/4     2010/9/5 \n",
      " 0.631506269 -1.814526480  0.045508226  0.617491852  2.279085693 -1.249744955 \n",
      "    2010/9/6     2010/9/8     2010/9/9    2010/9/10    2010/9/11    2010/9/12 \n",
      "-1.121681415 -0.013287716  2.303901925  1.550336917 -1.628103948 -0.713712206 \n",
      "   2010/9/13    2010/9/14    2010/9/15    2010/9/16    2010/9/19    2010/9/20 \n",
      "-1.384916264  0.549912427 -0.186510106  2.404304168 -0.629663083 -0.193287716 \n",
      "   2010/9/21    2010/9/23    2010/9/24    2010/9/26    2010/9/27    2010/9/28 \n",
      " 0.949899968 -1.159320465 -0.164881558  0.769120400  1.773559307  2.139934674 \n",
      "   2010/9/30    2010/10/1    2010/10/3    2010/10/4    2010/10/6    2010/10/7 \n",
      " 0.552697867  0.144291709 -0.986475400 -0.768895975  0.835105983  0.419120400 \n",
      "   2010/10/8   2010/10/10   2010/10/11   2010/10/13   2010/10/14   2010/10/15 \n",
      " 1.347526558 -1.575271342 -1.102473442 -0.300879600 -0.129675542  0.205105983 \n",
      "  2010/10/16   2010/10/17   2010/10/18   2010/10/19   2010/10/22   2010/10/23 \n",
      " 0.100324458 -0.666050909  0.803169523 -0.664894017 -0.779285758 -1.487254967 \n",
      "  2010/10/25   2010/10/26   2010/10/27   2010/10/28   2010/10/29   2010/10/30 \n",
      "-0.521269384 -0.897644751  0.581965465  2.905967422  2.123169523 -2.137302133 \n",
      "   2010/11/1    2010/11/2    2010/11/4    2010/11/5    2010/11/6    2010/11/7 \n",
      " 0.853983797  0.392342790  3.761563222  3.835187855  1.233936631 -1.654846852 \n",
      "   2010/11/8    2010/11/9   2010/11/11   2010/11/12   2010/11/14   2010/11/15 \n",
      "-1.255236635 -2.297691917  0.408328373 -0.068046994 -1.375236635  0.987938589 \n",
      "  2010/11/16   2010/11/17   2010/11/18   2010/11/19   2010/11/20   2010/11/21 \n",
      " 0.690346705 -0.412061411 -0.504859311  0.387985754 -1.742048952  0.764750905 \n",
      "  2010/11/22   2010/11/23   2010/11/25   2010/11/26   2010/11/27   2010/11/28 \n",
      " 0.716391913  0.887938589 -2.488081701 -0.255236635 -1.911269384  0.426734531 \n",
      "  2010/11/29   2010/11/30    2010/12/1    2010/12/2    2010/12/3    2010/12/4 \n",
      "-2.855708291 -2.655283801 -0.513265469 -1.019640836 -0.487232720 -0.007232720 \n",
      "   2010/12/5    2010/12/6    2010/12/9   2010/12/10   2010/12/11   2010/12/12 \n",
      " 1.024373581 -0.213253010  3.733983797  3.863546847  0.484373581 -2.065283801 \n",
      "  2010/12/13   2010/12/15   2010/12/16   2010/12/17   2010/12/18   2010/12/19 \n",
      " 0.073936631 -1.384469527 -0.320810188  1.225187855 -0.015626419 -1.685283801 \n",
      "  2010/12/20   2010/12/21   2010/12/22   2010/12/23   2010/12/24   2010/12/25 \n",
      "-1.406877643 -1.404846852 -1.286830477 -0.356842936  0.137159021 -1.451671627 \n",
      "  2010/12/26   2010/12/27   2010/12/28   2010/12/29   2010/12/30     2011/1/2 \n",
      "-2.852048952 -0.878046994  0.611953006  2.895954963 -0.094812145 -1.226453153 \n",
      "    2011/1/4     2011/1/5     2011/1/6     2011/1/7     2011/1/8    2011/1/10 \n",
      "-0.321671627 -1.619251052 -0.006842936  0.738375538 -0.279640836 -1.233655253 \n",
      "   2011/1/11    2011/1/12    2011/1/13    2011/1/15    2011/1/17    2011/1/19 \n",
      "-1.283608087 -2.414469527 -1.343218303 -1.674859311 -1.138436778 -0.482061411 \n",
      "   2011/1/22    2011/1/23    2011/1/24    2011/1/25    2011/1/27    2011/1/28 \n",
      " 0.534361121 -1.808046994 -1.461671627 -0.639640836 -1.154859311 -2.132875685 \n",
      "   2011/1/29    2011/1/30     2011/2/1     2011/2/4     2011/2/5     2011/2/6 \n",
      "-0.970030620 -1.257232720 -0.341636921 -0.564824605 -0.208012288 -1.097232720 \n",
      "    2011/2/7     2011/2/9    2011/2/10    2011/2/12    2011/2/13    2011/2/14 \n",
      "-1.398826562  0.197159021  0.830346705 -0.280857353 -2.414859311  0.009142647 \n",
      "   2011/2/15    2011/2/16    2011/2/18    2011/2/20    2011/2/21    2011/2/22 \n",
      "-2.756453153 -1.279640836 -0.150420404 -2.212828520 -1.851624462 -2.006453153 \n",
      "   2011/2/23    2011/2/24    2011/2/25    2011/2/26    2011/2/27     2011/3/1 \n",
      "-1.331234678 -0.826453153 -0.624859311 -0.666016203 -1.842438736  1.428363079 \n",
      "    2011/3/2     2011/3/3     2011/3/4     2011/3/5     2011/3/6     2011/3/7 \n",
      " 0.327973295  0.858020461 -0.211636921  0.193581554  0.177595971  0.857985754 \n",
      "    2011/3/8    2011/3/10    2011/3/11    2011/3/14    2011/3/15    2011/3/16 \n",
      "-0.174812145 -0.779640836 -1.044422361 -2.546453153 -2.725638879 -2.441624462 \n",
      "   2011/3/17    2011/3/18    2011/3/19    2011/3/20    2011/3/21    2011/3/22 \n",
      "-0.540420404 -1.111671627  0.993157064  0.688765322  1.525140689  1.018765322 \n",
      "   2011/3/23    2011/3/24    2011/3/25    2011/3/26    2011/3/27    2011/3/29 \n",
      " 1.951953006 -0.672048952 -1.985283801 -1.290844894 -0.594469527 -1.034032578 \n",
      "   2011/3/31     2011/4/1     2011/4/2     2011/4/3     2011/4/4     2011/4/5 \n",
      " 1.795967422  3.950748948  1.624763365 -2.268471484 -1.524079743  1.855967422 \n",
      "    2011/4/6     2011/4/7     2011/4/8    2011/4/10    2011/4/11    2011/4/12 \n",
      "-0.305283801  0.206746990  4.551138732 -1.236877643 -0.776830477  1.013122357 \n",
      "   2011/4/13    2011/4/14    2011/4/15    2011/4/17    2011/4/18    2011/4/19 \n",
      " 2.491528516  0.445542932  0.624716199 -0.842863226 -0.284504233 -1.042863226 \n",
      "   2011/4/20    2011/4/22    2011/4/23    2011/4/24    2011/4/25    2011/4/26 \n",
      "-0.946487859 -1.684079743 -1.602485901 -1.278861268 -0.265626419 -0.225236635 \n",
      "   2011/4/27    2011/4/28    2011/4/29    2011/4/30     2011/5/1     2011/5/2 \n",
      "-0.281659168 -1.979285758 -1.903689959 -1.298861268 -1.732485901 -1.574079743 \n",
      "    2011/5/5     2011/5/6     2011/5/7     2011/5/8     2011/5/9    2011/5/11 \n",
      "-0.581659168 -1.168081701 -0.446830477 -0.193642794 -1.075271342  1.076712284 \n",
      "   2011/5/12    2011/5/13    2011/5/14    2011/5/16    2011/5/17    2011/5/19 \n",
      "-0.639710249  3.612355249  4.067526558  0.370336917  1.491930759 -0.924504233 \n",
      "   2011/5/20    2011/5/21    2011/5/22    2011/5/23    2011/5/24    2011/5/25 \n",
      "-0.117691917  1.262355249  3.836310041  5.221965465  2.771104025  0.219132859 \n",
      "   2011/5/26    2011/5/28    2011/5/29    2011/5/30    2011/5/31     2011/6/1 \n",
      "-2.070867141 -1.439663083 -0.628459025 -0.515708291 -0.274067284 -0.611693874 \n",
      "    2011/6/2     2011/6/3     2011/6/4     2011/6/5     2011/6/6     2011/6/7 \n",
      "-0.168069241 -1.344491774 -1.384491774 -1.257679457 -1.220052867 -0.261269384 \n",
      "    2011/6/8     2011/6/9    2011/6/10    2011/6/12    2011/6/14    2011/6/15 \n",
      " 1.299544890  0.963169523 -0.071269384 -0.978069241 -0.609663083 -0.486522565 \n",
      "   2011/6/16    2011/6/18    2011/6/19    2011/6/20    2011/6/21    2011/6/22 \n",
      "-1.477289674 -0.796522565  1.056322500  0.702273377  0.452710326 -1.221681415 \n",
      "   2011/6/23    2011/6/24    2011/6/25    2011/6/26    2011/6/27    2011/6/28 \n",
      "-0.304101990  0.501069319  8.315118442  5.851930759  0.771506269 -1.128103948 \n",
      "   2011/6/29    2011/6/30     2011/7/1     2011/7/3     2011/7/4     2011/7/5 \n",
      "-0.198540897  1.116287794  7.183477435  0.129947133  1.495542932  0.608306126 \n",
      "    2011/7/8     2011/7/9    2011/7/10    2011/7/11    2011/7/14    2011/7/15 \n",
      " 0.772697867 -1.272508148 -0.566522565 -0.776522565  0.428306126 -0.540477357 \n",
      "   2011/7/16    2011/7/17    2011/7/18    2011/7/19    2011/7/20    2011/7/21 \n",
      "-1.480087573 -1.519320465  0.725495767 -0.650100032 -0.658116407 -2.096899890 \n",
      "   2011/7/22    2011/7/24    2011/7/25    2011/7/26    2011/7/28    2011/7/29 \n",
      "-1.284491774  0.322308083  0.113087651 -0.550524523  0.380726701  1.543477435 \n",
      "   2011/7/30     2011/8/1     2011/8/2     2011/8/3     2011/8/4     2011/8/5 \n",
      "-0.280867141 -0.527726623  0.125118442 -0.484491774 -0.108069241 -0.962071199 \n",
      "    2011/8/6     2011/8/7     2011/8/8     2011/8/9    2011/8/10    2011/8/11 \n",
      "-0.980477357 -1.541728581  0.021459103 -0.866510106  0.337114527 -1.452932638 \n",
      "   2011/8/13    2011/8/16    2011/8/17    2011/8/18    2011/8/20    2011/8/23 \n",
      " 0.044304168 -1.361291631 -1.252071199 -0.417679457  3.750289751 -0.917726623 \n",
      "   2011/8/24    2011/8/25    2011/8/26    2011/8/28    2011/8/29    2011/8/30 \n",
      " 0.688306126  0.021930759 -0.846085616 -0.202508148  0.203477435  0.153134817 \n",
      "   2011/8/31     2011/9/1     2011/9/2     2011/9/3     2011/9/4     2011/9/5 \n",
      " 0.449947133 -0.496085616  0.173134817  0.111104025  0.611151191 -0.084881558 \n",
      "    2011/9/6     2011/9/8     2011/9/9    2011/9/10    2011/9/11    2011/9/12 \n",
      " 2.259899968  4.111540975  3.979510184 -0.382897932 -0.784491774  0.043524600 \n",
      "   2011/9/13    2011/9/14    2011/9/16    2011/9/17    2011/9/18    2011/9/19 \n",
      "-1.412118364 -1.773712206 -0.762897932 -0.887679457 -0.951304090  1.003134817 \n",
      "   2011/9/20    2011/9/21    2011/9/23    2011/9/24    2011/9/25    2011/9/26 \n",
      "-2.030087573 -0.564491774 -0.168848809  0.224291709  0.261104025 -0.678069241 \n",
      "   2011/9/28    2011/9/29    2011/10/1    2011/10/2    2011/10/4    2011/10/5 \n",
      "-0.390477357 -0.590524523 -0.660477357  1.310289751  0.868695910  4.222355249 \n",
      "   2011/10/6    2011/10/7    2011/10/8   2011/10/10   2011/10/11   2011/10/13 \n",
      " 5.224716199  2.488730616  0.636322500  4.703122357  2.577526558 -0.548116407 \n",
      "  2011/10/15   2011/10/16   2011/10/17   2011/10/21   2011/10/24   2011/10/25 \n",
      " 4.489934674  6.050748948  4.204716199  0.962355249 -1.505661126  1.109544890 \n",
      "  2011/10/27   2011/10/28   2011/10/29   2011/10/30   2011/10/31    2011/11/1 \n",
      "-0.246487859  0.501138732  0.291138732  0.011918299 -0.765661126 -1.337302133 \n",
      "   2011/11/2    2011/11/3    2011/11/5    2011/11/6    2011/11/8    2011/11/9 \n",
      "-0.476098075 -1.960489816  0.143983797 -0.066453153  0.464750905  2.734750905 \n",
      "  2011/11/10   2011/11/12   2011/11/16   2011/11/17   2011/11/19   2011/11/20 \n",
      " 1.775967422  3.105920257 -0.534469527 -0.266063369 -2.514894017 -2.195673585 \n",
      "  2011/11/21   2011/11/22   2011/11/23   2011/11/24   2011/11/25   2011/11/26 \n",
      "-1.740455110 -0.834422361 -0.115249095  0.718375538  0.178328373 -1.314032578 \n",
      "  2011/11/28   2011/11/30    2011/12/1    2011/12/2    2011/12/3    2011/12/5 \n",
      "-0.150030620  1.340783654  1.875954963 -1.470844894 -0.040420404 -1.438436778 \n",
      "   2011/12/6    2011/12/7    2011/12/8    2011/12/9   2011/12/10   2011/12/11 \n",
      "-2.506016203 -2.022828520 -0.338436778 -1.694422361 -1.089640836 -2.617657210 \n",
      "  2011/12/12   2011/12/13   2011/12/15   2011/12/16   2011/12/17   2011/12/18 \n",
      "-1.386453153 -1.944859311 -1.972438736 -1.581624462 -1.712875685 -1.671624462 \n",
      "  2011/12/19   2011/12/20   2011/12/22   2011/12/23   2011/12/24   2011/12/25 \n",
      "-1.612014246 -0.929216346 -1.424812145 -2.331234678 -3.056016203 -0.975638879 \n",
      "  2011/12/26   2011/12/27   2011/12/29   2011/12/30   2011/12/31     2012/1/1 \n",
      "-0.124045037 -2.216453153 -1.037622504 -0.621247137 -0.412793813 -1.490420404 \n",
      "    2012/1/2     2012/1/3     2012/1/6     2012/1/7     2012/1/8    2012/1/10 \n",
      "-1.876453153 -2.323218303 -1.215249095 -1.533608087  0.429189812  2.288410245 \n",
      "   2012/1/12    2012/1/13    2012/1/15    2012/1/17    2012/1/18    2012/1/19 \n",
      " 0.435954963 -0.308436778 -1.198826562 -1.090857353 -1.395638879 -0.513230763 \n",
      "   2012/1/20    2012/1/21    2012/1/22    2012/1/23    2012/1/24    2012/1/25 \n",
      "-0.365214388  0.446379453  0.099567137 -1.302840979 -0.179606130 -1.642451195 \n",
      "   2012/1/26    2012/1/27    2012/1/29     2012/2/1     2012/2/4     2012/2/5 \n",
      "-2.335249095 -2.503608087 -1.370857353  0.637206187 -1.179571424 -0.682806273 \n",
      "    2012/2/6     2012/2/7     2012/2/8     2012/2/9    2012/2/11    2012/2/12 \n",
      "-1.690810188 -2.365249095 -0.303230763 -1.204010331 -1.589606130 -0.258449238 \n",
      "   2012/2/13    2012/2/17    2012/2/20    2012/2/21    2012/2/23    2012/2/25 \n",
      "-0.447634964  0.458410245 -1.072451195 -1.020857353  0.398410245 -0.395638879 \n",
      "   2012/2/26    2012/2/27    2012/2/29     2012/3/1     2012/3/2     2012/3/3 \n",
      " 0.777206187  0.533581554 -1.623265469 -0.970467569 -0.720810188 -1.228826562 \n",
      "    2012/3/4     2012/3/5     2012/3/6     2012/3/7     2012/3/8     2012/3/9 \n",
      "-2.004859311 -1.984422361 -0.896842936  0.372767280  0.935175395  1.532377496 \n",
      "   2012/3/10    2012/3/12    2012/3/13    2012/3/14    2012/3/15    2012/3/17 \n",
      " 2.461597928  2.566769237  2.823971338  2.265954963 -0.600030620 -0.896453153 \n",
      "   2012/3/18    2012/3/19    2012/3/20    2012/3/21    2012/3/22    2012/3/24 \n",
      "-0.748436778  0.595565179 -0.358826562  0.839956921  3.329956921  1.217951048 \n",
      "   2012/3/26    2012/3/28    2012/3/29    2012/3/30     2012/4/2     2012/4/3 \n",
      " 3.407124315  4.312342790 -0.720065326 -1.000844894 -1.286016203 -0.988046994 \n",
      "    2012/4/4     2012/4/5     2012/4/6     2012/4/9    2012/4/10    2012/4/14 \n",
      "-2.624859311 -1.730030620  0.090783654  2.786734531 -1.264079743 -0.421624462 \n",
      "   2012/4/15    2012/4/16    2012/4/18    2012/4/19    2012/4/21    2012/4/22 \n",
      "-0.525249095  1.152377496 -1.122828520 -0.468436778 -1.192438736 -1.092485901 \n",
      "   2012/4/23    2012/4/24    2012/4/28    2012/4/29    2012/4/30     2012/5/1 \n",
      "-0.401234678 -1.302828520 -0.576842936 -0.806842936 -0.108826562  0.582767280 \n",
      "    2012/5/2     2012/5/3     2012/5/5     2012/5/6     2012/5/7     2012/5/8 \n",
      " 0.691563222 -1.105673585 -1.795283801  0.297171480  0.743546847 -0.586830477 \n",
      "    2012/5/9    2012/5/10    2012/5/12    2012/5/13    2012/5/14    2012/5/17 \n",
      " 3.576746990  7.547951048  5.537136774  3.594291709  6.521918299  5.318730616 \n",
      "   2012/5/18    2012/5/19    2012/5/20    2012/5/21    2012/5/22    2012/5/23 \n",
      "-0.577691917 -0.825283801  1.103546847  1.376781697  2.193546847  1.183559307 \n",
      "   2012/5/24    2012/5/25    2012/5/26    2012/5/29    2012/5/30    2012/5/31 \n",
      " 1.097526558 -1.225708291  0.676357206 -0.010879600 -0.673677500  0.141540975 \n",
      "    2012/6/1     2012/6/2     2012/6/5     2012/6/6     2012/6/7     2012/6/8 \n",
      "-0.188895975 -0.344067284 -0.661693874 -0.633287716 -1.243287716  0.255542932 \n",
      "    2012/6/9    2012/6/11    2012/6/12    2012/6/13    2012/6/14    2012/6/15 \n",
      " 1.443169523 -1.096912349  1.351528516  0.632308083 -0.128895975 -0.810052867 \n",
      "   2012/6/17    2012/6/18    2012/6/23    2012/6/24    2012/6/25    2012/6/26 \n",
      "-0.714881558 -1.258069241 -0.048506191  2.833524600  4.580289751 11.720714242 \n",
      "   2012/6/27    2012/6/28    2012/6/29     2012/7/1     2012/7/2     2012/7/4 \n",
      " 7.724728658  0.932320543  0.151493809  2.363122357  1.562745033 -0.249663083 \n",
      "    2012/7/5     2012/7/6     2012/7/7     2012/7/8     2012/7/9    2012/7/10 \n",
      " 0.082697867  1.400714242 -0.091693874 -0.250052867  0.314291709  0.937526558 \n",
      "   2012/7/11    2012/7/16    2012/7/17    2012/7/18    2012/7/19    2012/7/20 \n",
      " 0.937526558  4.959947133  8.817526558  4.971493809  0.590679535  2.785118442 \n",
      "   2012/7/21    2012/7/22    2012/7/23    2012/7/24    2012/7/25    2012/7/26 \n",
      " 3.884291709  1.909899968  0.426712284  0.931151191  0.614338874  1.351151191 \n",
      "   2012/7/28    2012/7/29    2012/7/30    2012/7/31     2012/8/1     2012/8/2 \n",
      " 0.737916342  0.143524600  0.111116485 -0.270477357  0.500679535  1.042273377 \n",
      "    2012/8/3     2012/8/4     2012/8/5     2012/8/6     2012/8/9    2012/8/10 \n",
      " 1.208695910  0.793477435 -0.438069241  1.487526558  2.144304168  6.733087651 \n",
      "   2012/8/11    2012/8/12    2012/8/13    2012/8/14    2012/8/15    2012/8/16 \n",
      " 1.113100110  0.142320543  0.686322500  0.564728658  0.979899968 -1.793712206 \n",
      "   2012/8/17    2012/8/18    2012/8/19    2012/8/20    2012/8/21    2012/8/22 \n",
      "-0.412508148 -1.160477357  4.202320543  9.951151191  7.783134817  0.478318585 \n",
      "   2012/8/23    2012/8/24    2012/8/26    2012/8/28    2012/8/30    2012/8/31 \n",
      " 0.042273377  0.441930759 -0.372508148 -0.222897932  0.979947133  2.043087651 \n",
      "    2012/9/4     2012/9/5     2012/9/6     2012/9/7     2012/9/8     2012/9/9 \n",
      " 0.478695910 -0.027679457 -0.979320465 -0.750914307 -0.596522565  0.609947133 \n",
      "   2012/9/10    2012/9/11    2012/9/12    2012/9/13    2012/9/14    2012/9/15 \n",
      " 0.411493809  0.056712284 -1.117289674 -1.380524523 -0.174491774 -0.190914307 \n",
      "   2012/9/19    2012/9/21    2012/9/24    2012/9/25    2012/9/27    2012/9/28 \n",
      "-1.522118364 -1.645306048 -0.785695832  0.173087651 -1.929273299 -0.646098075 \n",
      "   2012/9/29    2012/9/30    2012/10/1    2012/10/2    2012/10/3    2012/10/4 \n",
      "-1.488459025 -0.493677500 -1.140100032 -0.428506191  1.009510184 -1.306085616 \n",
      "   2012/10/5    2012/10/6    2012/10/7    2012/10/8    2012/10/9   2012/10/10 \n",
      "-1.299710249 -1.646085616 -0.428116407  0.213477435  0.240289751 -1.277289674 \n",
      "  2012/10/11   2012/10/12   2012/10/13   2012/10/15   2012/10/16   2012/10/17 \n",
      "-2.773712206 -0.796912349  0.627136774  0.816310041  3.083546847  1.936746990 \n",
      "  2012/10/18   2012/10/19   2012/10/21   2012/10/22   2012/10/23   2012/10/24 \n",
      "-1.117691917  0.862342790  1.803936631  2.761138732  7.315920257 -0.623287716 \n",
      "  2012/10/25   2012/10/26   2012/10/27   2012/10/28   2012/10/29   2012/10/31 \n",
      "-1.896912349 -2.254881558 -1.224067284 -0.088034535 -0.538471484 -2.486912349 \n",
      "   2012/11/1    2012/11/3    2012/11/4    2012/11/5    2012/11/8    2012/11/9 \n",
      "-2.771304090 -0.914491774 -0.139663083 -2.311693874 -2.686865183 -0.705283801 \n",
      "  2012/11/10   2012/11/11   2012/11/12   2012/11/13   2012/11/14   2012/11/15 \n",
      "-1.005236635 -0.192438736  0.075187855  0.047171480  0.580359164  0.084326415 \n",
      "  2012/11/17   2012/11/21   2012/11/22   2012/11/23   2012/11/24   2012/11/25 \n",
      "-1.939675542 -0.754079743 -1.956877643  1.537124315  0.029544890  1.025967422 \n",
      "  2012/11/26   2012/11/27   2012/11/28   2012/11/29   2012/11/30    2012/12/3 \n",
      "-0.290455110 -0.490030620 -0.872061411 -0.364045037 -1.443608087  0.478020461 \n",
      "   2012/12/5    2012/12/6    2012/12/7    2012/12/8   2012/12/10   2012/12/11 \n",
      "-1.721624462 -1.461234678 -2.708861268 -2.098861268 -1.056453153 -0.513265469 \n",
      "  2012/12/12   2012/12/14   2012/12/15   2012/12/16   2012/12/17   2012/12/18 \n",
      "-0.500030620 -1.624859311 -1.994032578 -2.696877643 -2.661659168 -1.746016203 \n",
      "  2012/12/19   2012/12/20   2012/12/21   2012/12/23   2012/12/25   2012/12/26 \n",
      " 1.246391913  0.425187855 -0.154859311  1.774750905 -1.181234678 -0.578826562 \n",
      "  2012/12/27   2012/12/28   2012/12/29   2012/12/30   2012/12/31     2013/1/1 \n",
      "-1.307232720  2.033191770 -1.033655253 -1.823265469 -1.163997871 -2.259640836 \n",
      "    2013/1/2     2013/1/4     2013/1/6     2013/1/7     2013/1/8     2013/1/9 \n",
      "-0.707232720  0.538800028 -0.973608087 -1.692061411 -1.896842936 -1.993608087 \n",
      "   2013/1/10    2013/1/11    2013/1/13    2013/1/14    2013/1/15    2013/1/17 \n",
      "-2.124812145 -1.984812145 -1.638436778 -0.269216346 -0.612793813 -2.502875685 \n",
      "   2013/1/18    2013/1/19    2013/1/20    2013/1/25    2013/1/26    2013/1/27 \n",
      "-2.993642794 -1.761234678 -0.970467569 -3.308471484 -3.055283801 -2.212828520 \n",
      "   2013/1/29    2013/1/30    2013/1/31     2013/2/3     2013/2/4     2013/2/6 \n",
      " 0.201173438  0.498328373 -0.301234678 -0.389606130 -0.559606130 -2.082061411 \n",
      "    2013/2/7     2013/2/8    2013/2/10    2013/2/11    2013/2/12    2013/2/13 \n",
      "-0.369653295 -0.584824605  0.434785612 -2.313655253 -1.890467569 -1.502014246 \n",
      "   2013/2/14    2013/2/15    2013/2/16    2013/2/17    2013/2/18    2013/2/19 \n",
      "-1.616842936 -1.642828520 -1.828046994 -1.996453153 -1.946453153 -2.354812145 \n",
      "   2013/2/20    2013/2/22    2013/2/23    2013/2/24    2013/2/25    2013/2/26 \n",
      "-0.834045037 -2.607267427 -0.888436778 -0.941247137 -0.434824605 -0.143230763 \n",
      "   2013/2/28     2013/3/1     2013/3/2     2013/3/4     2013/3/5     2013/3/7 \n",
      "-1.281247137  0.016769237  0.127159021 -1.086016203 -2.130844894 -2.766098075 \n",
      "    2013/3/8     2013/3/9    2013/3/11    2013/3/12    2013/3/13    2013/3/14 \n",
      "-2.586440693 -2.647267427 -1.260030620 -2.622438736 -1.961624462  0.671597928 \n",
      "   2013/3/15    2013/3/18    2013/3/19    2013/3/20    2013/3/21    2013/3/23 \n",
      " 1.671987712 -2.353253010 -2.233253010 -0.368436778  0.478375538 -2.093265469 \n",
      "   2013/3/24    2013/3/25    2013/3/26    2013/3/27    2013/3/28    2013/3/29 \n",
      "-0.834812145 -0.394812145 -0.839640836 -2.050455110 -1.700455110 -0.934079743 \n",
      "   2013/3/30    2013/3/31     2013/4/1     2013/4/2     2013/4/3     2013/4/4 \n",
      "-2.216440693 -2.807644751 -1.525673585  0.355187855 -1.756063369 -1.311234678 \n",
      "    2013/4/5     2013/4/6     2013/4/7     2013/4/8     2013/4/9    2013/4/10 \n",
      "-1.649640836  0.282377496  0.440346705 -0.428436778 -1.440844894 -0.322438736 \n",
      "   2013/4/12    2013/4/13    2013/4/15    2013/4/19    2013/4/20    2013/4/21 \n",
      "-1.053642794 -0.524079743 -2.217691917 -0.835661126  1.248730616  0.643559307 \n",
      "   2013/4/22    2013/4/23    2013/4/24    2013/4/25    2013/4/26    2013/4/28 \n",
      "-1.023689959  0.855920257  2.086734531  0.115577639 -1.976487859  0.349189812 \n",
      "   2013/4/29    2013/4/30     2013/5/1     2013/5/2     2013/5/4     2013/5/5 \n",
      " 0.712377496 -0.292014246  0.609532431 -0.554469527  0.263169523  0.214763365 \n",
      "    2013/5/6     2013/5/7     2013/5/8    2013/5/10    2013/5/11    2013/5/12 \n",
      "-0.056487859  1.863559307  0.955495767 -0.710879600 -1.295271342 -0.684067284 \n",
      "   2013/5/13    2013/5/14    2013/5/15    2013/5/16    2013/5/17    2013/5/18 \n",
      "-1.280052867 -2.348459025 -1.017267427  0.574750905 -0.406016203  0.673157064 \n",
      "   2013/5/19    2013/5/20    2013/5/22    2013/5/23    2013/5/24    2013/5/25 \n",
      " 0.403157064 -0.543265469  0.107124315  0.477561264 -1.228471484 -0.357267427 \n",
      "   2013/5/26    2013/5/29    2013/5/30    2013/5/31     2013/6/1     2013/6/2 \n",
      "-0.677267427  0.407171480 -0.650455110  1.788765322  1.534763365  0.355542932 \n",
      "    2013/6/3     2013/6/4     2013/6/7     2013/6/8     2013/6/9    2013/6/11 \n",
      "-0.255661126 -1.367302133  0.065920257  0.625530473 -0.147267427 -0.479675542 \n",
      "   2013/6/12    2013/6/13    2013/6/14    2013/6/15    2013/6/16    2013/6/17 \n",
      "-1.067302133 -1.351693874 -1.411304090 -1.401304090 -0.848459025 -0.976098075 \n",
      "   2013/6/18    2013/6/19    2013/6/20    2013/6/21    2013/6/22    2013/6/24 \n",
      " 1.005967422  0.806357206 -0.361269384  0.005495767  1.982745033  5.765495767 \n",
      "   2013/6/25    2013/6/26    2013/6/27    2013/6/28    2013/6/29    2013/6/30 \n",
      " 2.291930759  1.120726701  1.023477435  4.095932716  5.804291709  1.638695910 \n",
      "    2013/7/1     2013/7/2     2013/7/3     2013/7/4     2013/7/5     2013/7/6 \n",
      "-0.584491774 -1.927726623 -0.897726623  0.712273377  0.752710326  0.244693952 \n",
      "    2013/7/7     2013/7/9    2013/7/10    2013/7/11    2013/7/12    2013/7/13 \n",
      " 0.757881636  5.223087651  4.512320543  1.085898010  0.435508226 -0.181693874 \n",
      "   2013/7/14    2013/7/15    2013/7/16    2013/7/18    2013/7/19    2013/7/20 \n",
      "-0.526475400 -0.499710249 -0.530867141 -0.519273299 -1.271304090 -0.112083658 \n",
      "   2013/7/24    2013/7/25    2013/7/26    2013/7/27    2013/7/28    2013/7/30 \n",
      "-0.186085616 -0.890867141 -1.259320465  0.271493809  1.712697867  0.821116485 \n",
      "   2013/7/31     2013/8/1     2013/8/2     2013/8/3     2013/8/4     2013/8/5 \n",
      " 1.573100110 -0.798103948 -1.901728581  0.790336917  0.092320543  0.602273377 \n",
      "    2013/8/6     2013/8/7     2013/8/9    2013/8/10    2013/8/11    2013/8/12 \n",
      "-0.002508148  0.183477435  3.271883593  9.015542932  9.673512141  7.381104025 \n",
      "   2013/8/13    2013/8/15    2013/8/16    2013/8/17    2013/8/19    2013/8/20 \n",
      " 2.125898010  0.186287794 -0.400134739 -0.796899890  4.610289751  3.120679535 \n",
      "   2013/8/21    2013/8/22    2013/8/23    2013/8/25    2013/8/26    2013/8/27 \n",
      "-0.164916264  1.719912427  0.425083736 -0.772508148  0.203524600  0.758306126 \n",
      "   2013/8/29    2013/8/30     2013/9/1     2013/9/3     2013/9/4     2013/9/6 \n",
      " 0.739947133 -0.309320465  5.642745033  4.666322500  1.502320543  0.150336917 \n",
      "    2013/9/7     2013/9/8     2013/9/9    2013/9/10    2013/9/11    2013/9/12 \n",
      " 0.135118442 -1.118116407  0.218306126 -0.224491774 -1.873712206 -1.800477357 \n",
      "   2013/9/13    2013/9/14    2013/9/15    2013/9/16    2013/9/18    2013/9/19 \n",
      "-2.618493731 -1.662508148 -1.297726623 -1.907289674 -0.285271342  0.244291709 \n",
      "   2013/9/21    2013/9/22    2013/9/23    2013/9/24    2013/9/25    2013/9/26 \n",
      " 2.768306126  7.840324458 -1.950087573 -1.239320465  0.223087651  0.193087651 \n",
      "   2013/9/27    2013/9/28    2013/9/29    2013/10/1    2013/10/3    2013/10/5 \n",
      " 0.260289751 -0.874491774 -1.800914307 -1.550477357 -2.210087573  0.106712284 \n",
      "   2013/10/6    2013/10/8    2013/10/9   2013/10/11   2013/10/13   2013/10/15 \n",
      " 0.499510184 -1.287289674 -0.117726623 -1.457726623  0.805105983 -0.665271342 \n",
      "  2013/10/16   2013/10/18   2013/10/19   2013/10/20   2013/10/21   2013/10/22 \n",
      "-0.638506191 -2.114491774 -0.841693874 -0.362083658  0.427526558 -0.725708291 \n",
      "  2013/10/23   2013/10/24   2013/10/25   2013/10/26   2013/10/27   2013/10/28 \n",
      "-1.886085616 -2.202508148 -1.620100032  1.134716199  2.226746990  3.223122357 \n",
      "  2013/10/29   2013/10/30    2013/11/1    2013/11/2    2013/11/3    2013/11/4 \n",
      " 0.101965465  3.941173438  3.393157064  4.847985754  0.393559307 -0.449675542 \n",
      "   2013/11/5    2013/11/6    2013/11/8    2013/11/9   2013/11/10   2013/11/11 \n",
      "-0.654894017 -1.054457068 -0.350065326  0.364326415  2.333157064  0.179544890 \n",
      "  2013/11/12   2013/11/13   2013/11/14   2013/11/15   2013/11/17   2013/11/19 \n",
      "-1.147691917 -1.006050909  1.134373581  1.998375538  1.971550762 -0.734469527 \n",
      "  2013/11/20   2013/11/21   2013/11/22   2013/11/23   2013/11/24   2013/11/25 \n",
      " 0.358328373 -0.095249095 -2.305283801 -3.258848809 -1.785236635  0.292767280 \n",
      "  2013/11/26   2013/11/27   2013/11/28   2013/11/29   2013/11/30    2013/12/1 \n",
      " 1.830004086  2.260004086  0.879142647  1.247985754 -0.332451195  1.320393870 \n",
      "   2013/12/2    2013/12/3    2013/12/4    2013/12/5    2013/12/6    2013/12/7 \n",
      " 1.165175395  2.406769237  2.348363079  2.915175395  2.560783654 -0.034859311 \n",
      "   2013/12/8    2013/12/9   2013/12/11   2013/12/13   2013/12/15   2013/12/16 \n",
      "-0.118436778  2.085175395  2.033971338 -1.544422361  0.387938589  0.016781697 \n",
      "  2013/12/17   2013/12/18   2013/12/19   2013/12/20   2013/12/21   2013/12/22 \n",
      "-2.185626419 -1.959251052 -1.792438736 -0.031199972 -0.241636921 -0.650810188 \n",
      "  2013/12/23   2013/12/24   2013/12/25   2013/12/27   2013/12/29   2013/12/31 \n",
      "-0.452404029 -0.418826562 -2.580455110 -2.432438736 -0.354824605  1.219956921 \n",
      "    2014/1/1     2014/1/2     2014/1/3     2014/1/4     2014/1/5     2014/1/6 \n",
      " 0.411987712 -1.666453153 -1.834422361 -2.785673585 -1.262828520 -0.162014246 \n",
      "    2014/1/8     2014/1/9    2014/1/10    2014/1/11    2014/1/12    2014/1/13 \n",
      " 5.746769237  3.925565179  0.487985754 -2.070844894 -0.263218303 -2.711234678 \n",
      "   2014/1/14    2014/1/15    2014/1/16    2014/1/17    2014/1/18    2014/1/20 \n",
      "-1.297232720 -1.733265469 -3.364469527 -1.743655253 -1.656842936 -0.750810188 \n",
      "   2014/1/21    2014/1/22    2014/1/23    2014/1/24    2014/1/26    2014/1/27 \n",
      "-0.862793813 -2.810030620 -0.934045037 -0.691247137 -1.831671627 -2.819251052 \n",
      "   2014/1/28    2014/1/29    2014/1/30    2014/1/31     2014/2/1     2014/2/2 \n",
      "-0.782404029 -2.252014246 -0.997622504 -2.918046994 -2.962438736 -0.844434821 \n",
      "    2014/2/3     2014/2/5     2014/2/6     2014/2/7     2014/2/8    2014/2/10 \n",
      "-1.474045037 -1.641671627 -1.184859311  0.487159021 -0.908826562  0.267206187 \n",
      "   2014/2/11    2014/2/12    2014/2/13    2014/2/14    2014/2/15    2014/2/16 \n",
      "-0.641199972 -2.337657210 -2.057657210 -0.889640836 -1.789640836 -1.830857353 \n",
      "   2014/2/17    2014/2/18    2014/2/19    2014/2/20    2014/2/21    2014/2/22 \n",
      "-0.931247137 -2.317232720 -0.962451195 -0.433997871 -2.263218303 -0.221247137 \n",
      "   2014/2/23    2014/2/24    2014/2/25    2014/2/26    2014/2/27    2014/2/28 \n",
      "-0.194045037 -1.560467569 -0.903997871 -1.400467569 -0.852404029 -1.368436778 \n",
      "    2014/3/1     2014/3/2     2014/3/3     2014/3/4     2014/3/5     2014/3/6 \n",
      "-2.582438736 -2.793642794 -1.868046994 -0.370810188 -1.691624462 -1.246016203 \n",
      "    2014/3/7     2014/3/8    2014/3/10    2014/3/11    2014/3/12    2014/3/15 \n",
      " 1.956781697  5.357938589  0.335530473 -0.470844894 -0.764859311  0.572767280 \n",
      "   2014/3/16    2014/3/17    2014/3/18    2014/3/19    2014/3/20    2014/3/21 \n",
      " 1.196002129  1.739532431 -0.162875685 -0.651234678 -1.303265469 -0.372061411 \n",
      "   2014/3/22    2014/3/23    2014/3/24    2014/3/25    2014/3/26    2014/3/27 \n",
      "-0.783265469 -0.453608087  0.277548805  0.086344747 -0.547232720 -0.016028662 \n",
      "   2014/3/29    2014/3/30    2014/3/31     2014/4/1     2014/4/2     2014/4/3 \n",
      "-1.282451195 -0.380030620 -0.504859311  0.986781697 -1.901234678 -0.922061411 \n",
      "    2014/4/4     2014/4/6     2014/4/7     2014/4/8     2014/4/9    2014/4/10 \n",
      " 0.332767280  0.259544890  4.650359164  7.141953006  6.345920257  2.803559307 \n",
      "   2014/4/11    2014/4/13    2014/4/15    2014/4/16    2014/4/17    2014/4/18 \n",
      "-0.827691917  1.569155106 -0.593689959 -1.168471484 -1.384846852 -2.044894017 \n",
      "   2014/4/20    2014/4/21    2014/4/22    2014/4/23    2014/4/24    2014/4/25 \n",
      "-0.267267427 -1.300455110 -0.006063369  0.359155106 -0.352438736  1.181563222 \n",
      "   2014/4/26    2014/4/27    2014/4/28    2014/4/29    2014/4/30     2014/5/1 \n",
      " 0.787124315 -0.871659168  0.041528516 -0.671269384 -0.208081701 -1.015661126 \n",
      "    2014/5/2     2014/5/3     2014/5/4     2014/5/5     2014/5/6     2014/5/7 \n",
      " 0.207526558 -0.087254967 -0.054067284  1.429120400  0.354291709 -1.038506191 \n",
      "    2014/5/8     2014/5/9    2014/5/11    2014/5/12    2014/5/14    2014/5/15 \n",
      "-0.685708291 -0.167644751 -0.150052867  1.627916342  8.241965465  3.011540975 \n",
      "   2014/5/16    2014/5/17    2014/5/18    2014/5/19    2014/5/20    2014/5/21 \n",
      "-0.445271342  0.102308083  0.562308083 -0.537691917  1.342732573  0.574373581 \n",
      "   2014/5/22    2014/5/23    2014/5/24    2014/5/25    2014/5/27    2014/5/28 \n",
      " 1.738765322  1.845140689  1.117171480  1.596781697  0.902342790  0.134716199 \n",
      "   2014/5/29    2014/5/30    2014/5/31     2014/6/1     2014/6/2     2014/6/3 \n",
      " 0.353559307 -0.276050909 -0.174457068 -0.350879600  2.744763365  1.078730616 \n",
      "    2014/6/4     2014/6/5     2014/6/7     2014/6/8     2014/6/9    2014/6/10 \n",
      " 0.351965465  1.110714242  1.051965465  0.082355249  0.303559307 -0.037644751 \n",
      "   2014/6/11    2014/6/12    2014/6/14    2014/6/15    2014/6/16    2014/6/17 \n",
      " 2.107916342  4.084338874  1.703477435  0.311493809 -0.371693874  0.129510184 \n",
      "   2014/6/18    2014/6/19    2014/6/20    2014/6/21    2014/6/22    2014/6/23 \n",
      "-0.175661126  0.192355249  1.909934674  1.053949091  0.815495767  1.633949091 \n",
      "   2014/6/24    2014/6/25    2014/6/26    2014/6/27    2014/6/28    2014/6/29 \n",
      " 0.255495767  0.360714242  0.525932716  0.732697867  0.176712284  0.962697867 \n",
      "   2014/6/30     2014/7/1     2014/7/3     2014/7/4     2014/7/5     2014/7/6 \n",
      " 2.087136774  1.092355249  0.901918299  1.133901925  0.014728658  0.149510184 \n",
      "    2014/7/7    2014/7/10    2014/7/11    2014/7/12    2014/7/14    2014/7/15 \n",
      "-0.065271342 -0.219320465 -0.776085616  0.071883593  0.061930759  0.679085693 \n",
      "   2014/7/16    2014/7/17    2014/7/19    2014/7/20    2014/7/21    2014/7/22 \n",
      "-0.914916264 -0.798493731  0.999510184  0.539947133  1.494728658 -0.142508148 \n",
      "   2014/7/23    2014/7/24    2014/7/25    2014/7/26    2014/7/30     2014/8/1 \n",
      "-0.344491774  0.461540975  0.549510184  0.506322500  0.559947133  0.647916342 \n",
      "    2014/8/2     2014/8/3     2014/8/4     2014/8/5     2014/8/6     2014/8/7 \n",
      " 1.152745033  0.046712284  0.769899968  1.886322500  0.200726701  0.381883593 \n",
      "    2014/8/8     2014/8/9    2014/8/10    2014/8/11    2014/8/12    2014/8/13 \n",
      "-1.226899890 -1.580087573 -0.575695832 -1.117289674  0.613524600 -0.782071199 \n",
      "   2014/8/14    2014/8/16    2014/8/17    2014/8/18    2014/8/20    2014/8/21 \n",
      " 1.853134817 -1.274916264  0.893100110 -1.310087573  1.777916342  0.248695910 \n",
      "   2014/8/22    2014/8/23    2014/8/25    2014/8/26    2014/8/27    2014/8/28 \n",
      " 0.126712284  0.806712284 -1.486510106  0.575898010  1.041506269 -0.171681415 \n",
      "   2014/8/29    2014/8/30    2014/8/31     2014/9/1     2014/9/2     2014/9/3 \n",
      " 0.752710326  0.998695910  0.450726701 -2.189744955 -1.928540897 -1.082508148 \n",
      "    2014/9/4     2014/9/5     2014/9/6     2014/9/7     2014/9/8     2014/9/9 \n",
      "-0.552508148 -0.814101990 -0.572508148 -0.589320465 -1.062071199 -1.422118364 \n",
      "   2014/9/11    2014/9/12    2014/9/13    2014/9/14    2014/9/15    2014/9/16 \n",
      "-0.177726623  0.371883593 -0.350914307 -0.216085616  0.820336917  0.482320543 \n",
      "   2014/9/17    2014/9/19    2014/9/20    2014/9/21    2014/9/22    2014/9/23 \n",
      "-0.812508148  0.199899968  0.068695910  0.229132859  0.431493809  0.339899968 \n",
      "   2014/9/24    2014/9/25    2014/9/27    2014/9/28    2014/9/29    2014/9/30 \n",
      " 0.015118442  0.253134817 -0.090100032  1.009510184 -0.113287716 -1.420477357 \n",
      "   2014/10/1    2014/10/2    2014/10/3    2014/10/4    2014/10/5    2014/10/7 \n",
      "-2.726510106  0.312710326 -1.410087573 -1.852071199 -0.621304090 -0.064067284 \n",
      "   2014/10/8    2014/10/9   2014/10/10   2014/10/11   2014/10/12   2014/10/14 \n",
      " 0.171104025 -0.511693874 -0.356912349 -1.672897932  0.082355249  0.195542932 \n",
      "  2014/10/15   2014/10/16   2014/10/17   2014/10/18   2014/10/20   2014/10/21 \n",
      "-0.055661126 -0.891693874 -0.216475400 -1.399273299  9.908328373  4.215542932 \n",
      "  2014/10/23   2014/10/25   2014/10/26   2014/10/27   2014/10/28   2014/10/30 \n",
      " 4.140324458  0.345932716  2.238340832  3.679934674  8.000748948  6.275920257 \n",
      "  2014/10/31    2014/11/1    2014/11/2    2014/11/3    2014/11/5    2014/11/6 \n",
      " 4.583169523  1.931918299 -1.386865183 -1.092473442  1.375140689  1.450359164 \n",
      "   2014/11/7    2014/11/8    2014/11/9   2014/11/10   2014/11/11   2014/11/12 \n",
      " 0.181138732 -1.926098075 -0.192485901  0.538328373 -1.731269384 -2.118848809 \n",
      "  2014/11/14   2014/11/15   2014/11/17   2014/11/20   2014/11/21   2014/11/22 \n",
      "-2.863677500  0.049544890 -0.406016203  2.305967422  0.021528516 -0.253253010 \n",
      "  2014/11/23   2014/11/24   2014/11/25   2014/11/26   2014/11/27   2014/11/28 \n",
      "-1.238034535 -0.712485901 -1.458861268 -1.116830477 -1.668861268 -2.305673585 \n",
      "  2014/11/29    2014/12/1    2014/12/2    2014/12/3    2014/12/5    2014/12/6 \n",
      "-1.759640836 -1.212438736 -1.370455110 -0.924032578 -0.131624462 -0.412061411 \n",
      "   2014/12/7    2014/12/8    2014/12/9   2014/12/10   2014/12/11   2014/12/12 \n",
      "-0.002404029  0.700393870 -0.490420404 -0.636842936 -0.570810188 -1.932875685 \n",
      "  2014/12/13   2014/12/14   2014/12/15   2014/12/16   2014/12/17   2014/12/18 \n",
      "-1.099640836 -2.121624462 -1.471234678 -2.025626419 -1.549251052 -1.896016203 \n",
      "  2014/12/19   2014/12/21   2014/12/22   2014/12/23   2014/12/25   2014/12/27 \n",
      "-2.672828520 -1.886016203 -0.544812145 -1.494859311 -1.694859311 -1.030420404 \n",
      "  2014/12/28   2014/12/29   2014/12/30   2014/12/31     2015/1/1     2015/1/2 \n",
      "-1.580030620 -1.106842936 -1.329606130 -0.407622504  0.598752863  0.161550762 \n",
      "    2015/1/3     2015/1/5     2015/1/6     2015/1/9    2015/1/10    2015/1/12 \n",
      " 0.765175395 -1.823608087 -1.651624462  0.209189812  0.732767280  0.895187855 \n",
      "   2015/1/15    2015/1/16    2015/1/17    2015/1/18    2015/1/19    2015/1/21 \n",
      "-2.294422361 -1.440467569 -0.799653295 -2.943655253 -1.282404029 -1.166028662 \n",
      "   2015/1/22    2015/1/23    2015/1/24    2015/1/25    2015/1/27    2015/1/28 \n",
      "-1.854812145 -2.383218303 -1.757232720 -0.423230763 -1.433608087 -2.113655253 \n",
      "   2015/1/31     2015/2/1     2015/2/2     2015/2/3     2015/2/5     2015/2/6 \n",
      "-2.594032578 -0.818012288 -1.696418446 -2.453655253 -0.718791856 -2.444824605 \n",
      "    2015/2/7    2015/2/11    2015/2/12    2015/2/13    2015/2/14    2015/2/15 \n",
      "-1.544824605 -1.163655253 -2.368436778 -2.180467569 -1.718826562 -2.571234678 \n",
      "   2015/2/16    2015/2/17    2015/2/18    2015/2/19    2015/2/20    2015/2/21 \n",
      "-2.010030620 -1.792451195 -2.017232720 -1.420420404 -2.192014246 -2.281624462 \n",
      "   2015/2/22    2015/2/23    2015/2/24    2015/2/25    2015/2/27    2015/2/28 \n",
      "-1.945249095 -1.578436778 -1.185638879 -0.956028662 -2.004812145 -1.015249095 \n",
      "    2015/3/1     2015/3/2     2015/3/5     2015/3/8     2015/3/9    2015/3/10 \n",
      "-1.988046994 -2.220844894 -0.390844894 -1.106016203  0.156734531  0.289969380 \n",
      "   2015/3/11    2015/3/13    2015/3/15    2015/3/16    2015/3/19    2015/3/20 \n",
      "-0.401234678 -1.445249095 -1.674859311 -1.206842936 -1.088826562 -1.142014246 \n",
      "   2015/3/21    2015/3/22    2015/3/24    2015/3/27    2015/3/28    2015/3/29 \n",
      "-1.674859311 -1.971234678 -1.942451195 -1.248046994 -2.004079743 -1.265236635 \n",
      "   2015/3/30    2015/3/31     2015/4/3     2015/4/5     2015/4/6     2015/4/7 \n",
      "-1.088861268 -0.805236635 -0.037644751 -2.181659168 -2.446440693 -1.402048952 \n",
      "    2015/4/9    2015/4/10    2015/4/11    2015/4/12    2015/4/13    2015/4/14 \n",
      "-0.665626419 -1.242048952 -0.732438736 -0.385626419 -0.386830477 -1.925283801 \n",
      "   2015/4/15    2015/4/16    2015/4/17    2015/4/18    2015/4/19    2015/4/20 \n",
      "-1.224079743 -1.177267427 -1.300455110 -0.902485901 -0.244422361 -0.414032578 \n",
      "   2015/4/21    2015/4/22    2015/4/23    2015/4/24    2015/4/25    2015/4/26 \n",
      "-1.335283801 -0.574032578 -1.413642794 -1.135236635  0.217561264 -1.411659168 \n",
      "   2015/4/27    2015/4/28    2015/4/29     2015/5/1     2015/5/2     2015/5/3 \n",
      "-0.257657210 -0.320844894 -0.212485901 -0.766050909 -0.218848809 -0.675661126 \n",
      "    2015/5/4     2015/5/5     2015/5/6     2015/5/7     2015/5/8     2015/5/9 \n",
      "-1.324504233 -1.711269384  0.727951048  0.635105983 -0.226487859 -1.104067284 \n",
      "   2015/5/10    2015/5/12    2015/5/13    2015/5/14    2015/5/17    2015/5/18 \n",
      "-0.315661126  5.672355249  9.403122357 -1.019273299  1.912355249 -0.552083658 \n",
      "   2015/5/19    2015/5/20    2015/5/21    2015/5/22    2015/5/23    2015/5/25 \n",
      "-0.676050909  0.165105983  0.537526558  1.788340832  0.001918299  1.543122357 \n",
      "   2015/5/26    2015/5/27    2015/5/28    2015/5/29    2015/5/30     2015/6/1 \n",
      " 1.955153148  2.333949091  0.801540975 -1.658459025 -0.505708291 -0.365708291 \n",
      "    2015/6/2     2015/6/3     2015/6/4     2015/6/5     2015/6/6     2015/6/7 \n",
      " 0.558306126  1.050336917  1.027102068  0.182320543  3.586712284  3.191493809 \n",
      "    2015/6/9    2015/6/10    2015/6/11    2015/6/13    2015/6/14    2015/6/16 \n",
      "-0.210100032 -0.580052867 -0.825708291  0.518340832  1.884326415  1.458340832 \n",
      "   2015/6/17    2015/6/18    2015/6/19    2015/6/20    2015/6/21    2015/6/22 \n",
      " 1.464338874  3.221151191  0.840289751 -0.149273299 -0.279710249 -0.138506191 \n",
      "   2015/6/23    2015/6/24    2015/6/27    2015/6/28    2015/6/29    2015/6/30 \n",
      "-0.186865183  0.222745033  1.365898010 -0.360524523  0.289132859 -0.567726623 \n",
      "    2015/7/2     2015/7/3     2015/7/5     2015/7/6     2015/7/7    2015/7/11 \n",
      "-0.258116407  1.038306126 -1.561728581 -0.456120322 -0.834526480  0.167102068 \n",
      "   2015/7/12    2015/7/14    2015/7/15    2015/7/16    2015/7/17    2015/7/19 \n",
      "-0.412118364  0.736677578  1.160302211  0.541896052 -0.223322422 -0.115306048 \n",
      "   2015/7/20    2015/7/21    2015/7/25    2015/7/26    2015/7/27    2015/7/28 \n",
      " 1.331116485  1.181506269 -0.144101990  0.640289751  0.769522643 -0.250087573 \n",
      "   2015/7/30    2015/7/31     2015/8/1     2015/8/2     2015/8/3     2015/8/4 \n",
      "-1.480134739 -1.668493731  0.453477435 -0.212508148 -0.687289674 -0.562071199 \n",
      "    2015/8/5     2015/8/6     2015/8/7     2015/8/8     2015/8/9    2015/8/10 \n",
      " 0.187881636 -0.619697789 -2.120901847 -0.323322422  0.322285836  0.760302211 \n",
      "   2015/8/11    2015/8/12    2015/8/13    2015/8/14    2015/8/15    2015/8/16 \n",
      " 0.309865261  0.627928801  1.270289751  1.992308083  0.592745033 -0.326522565 \n",
      "   2015/8/17    2015/8/18    2015/8/21    2015/8/22    2015/8/23    2015/8/25 \n",
      "-1.287726623  0.373134817 -1.337289674 -0.318116407 -0.051693874  1.154728658 \n",
      "   2015/8/26    2015/8/27    2015/8/29    2015/8/30    2015/8/31     2015/9/1 \n",
      " 0.713087651 -0.842508148  8.834728658 -2.535730538 -2.021728581 -0.570867141 \n",
      "    2015/9/3     2015/9/5     2015/9/6     2015/9/7     2015/9/8     2015/9/9 \n",
      " 1.813512141  1.483512141  2.223949091  0.882745033  0.291104025 -0.786522565 \n",
      "   2015/9/10    2015/9/11    2015/9/12    2015/9/13    2015/9/16    2015/9/17 \n",
      "-0.920867141 -1.779710249  0.052745033 -0.262083658 -0.160052867 -0.750052867 \n",
      "   2015/9/18    2015/9/20    2015/9/21    2015/9/23    2015/9/24    2015/9/25 \n",
      " 2.036746990  0.150679535  3.901540975  1.914291709 -0.230052867 -0.482083658 \n",
      "   2015/9/26    2015/9/27    2015/9/28    2015/9/29    2015/9/30    2015/10/1 \n",
      " 0.325932716 -0.663287716  2.632697867  0.063087651  0.011493809 -0.251693874 \n",
      "   2015/10/2    2015/10/3    2015/10/4    2015/10/5    2015/10/6    2015/10/7 \n",
      " 0.221493809  0.183087651  6.200324458  3.082697867 -1.307726623 -0.776865183 \n",
      "   2015/10/8    2015/10/9   2015/10/10   2015/10/11   2015/10/12   2015/10/13 \n",
      " 1.319544890  2.487124315  0.630324458 -1.762897932 -1.508069241 -0.470489816 \n",
      "  2015/10/14   2015/10/17   2015/10/18   2015/10/19   2015/10/20   2015/10/21 \n",
      "-1.048459025  1.256322500 -1.258069241  0.041104025  0.082745033  0.054291709 \n",
      "  2015/10/22   2015/10/23   2015/10/24   2015/10/28   2015/10/29   2015/10/30 \n",
      " 0.159510184 -1.246865183  0.447526558  0.283122357  0.036746990 -0.414457068 \n",
      "  2015/10/31    2015/11/1    2015/11/2    2015/11/4    2015/11/7   2015/11/10 \n",
      "-1.322473442 -1.896440693  0.199155106  0.144716199  3.283169523  0.538340832 \n",
      "  2015/11/11   2015/11/13   2015/11/14   2015/11/15   2015/11/16   2015/11/17 \n",
      "-0.178034535  0.241528516  1.947514099 -0.018471484 -0.446830477 -1.464457068 \n",
      "  2015/11/18   2015/11/19   2015/11/20   2015/11/21   2015/11/22   2015/11/23 \n",
      "-0.545283801  0.780748948  1.965187855 -0.895283801  0.841173438 -0.367232720 \n",
      "  2015/11/26   2015/11/29   2015/11/30    2015/12/3    2015/12/4    2015/12/5 \n",
      "-1.127657210  1.493157064  2.909532431  0.492342790  1.903546847  1.756781697 \n",
      "   2015/12/6    2015/12/8    2015/12/9   2015/12/10   2015/12/11   2015/12/12 \n",
      " 2.434750905  2.448328373  1.496734531  0.895187855 -1.282485901  0.148328373 \n",
      "  2015/12/13   2015/12/14   2015/12/15   2015/12/16   2015/12/17   2015/12/18 \n",
      " 2.551173438  4.080783654  5.017159021  1.845140689  1.157171480  3.917159021 \n",
      "  2015/12/19   2015/12/21   2015/12/23   2015/12/24   2015/12/25   2015/12/26 \n",
      " 3.756002129 -1.888471484 -0.702438736 -1.424032578  0.436781697  3.867206187 \n",
      "  2015/12/27   2015/12/28   2015/12/30   2015/12/31     2016/1/2     2016/1/4 \n",
      " 3.303971338  2.446002129 -1.362485901 -0.997657210 -1.459251052 -2.702863226 \n",
      "    2016/1/5     2016/1/7     2016/1/8     2016/1/9    2016/1/10    2016/1/11 \n",
      "-1.335626419  1.352377496  0.797171480 -2.164846852 -2.173642794 -1.102438736 \n",
      "   2016/1/12    2016/1/13    2016/1/14    2016/1/15    2016/1/16    2016/1/17 \n",
      "-1.210844894  0.719532431  1.105187855 -2.344032578 -0.170420404  1.825175395 \n",
      "   2016/1/18    2016/1/19    2016/1/20    2016/1/21    2016/1/22    2016/1/23 \n",
      " 1.105954963 -0.594812145 -1.982485901 -1.943689959 -1.443642794  1.468765322 \n",
      "   2016/1/24    2016/1/25    2016/1/27    2016/1/28    2016/1/30    2016/1/31 \n",
      " 2.505187855 -1.398861268 -0.083608087 -0.932061411 -0.092014246 -1.394812145 \n",
      "    2016/2/1     2016/2/2     2016/2/3     2016/2/4     2016/2/6     2016/2/7 \n",
      " 0.759579596 -0.718046994 -2.274032578  1.995954963  0.363983797 -1.312485901 \n",
      "    2016/2/8    2016/2/10    2016/2/11    2016/2/12    2016/2/13    2016/2/14 \n",
      "-0.822875685 -0.682875685 -2.538471484 -2.153689959 -2.466830477 -1.022875685 \n",
      "   2016/2/15    2016/2/16    2016/2/17    2016/2/18    2016/2/19    2016/2/21 \n",
      "-0.517622504  0.178020461  1.179177353 -2.263997871 -0.335638879  3.489956921 \n",
      "   2016/2/22    2016/2/23    2016/2/24    2016/2/25    2016/2/26    2016/2/27 \n",
      "-1.251671627 -0.555249095 -1.192061411 -0.463608087 -0.472014246 -1.266028662 \n",
      "   2016/2/28    2016/2/29     2016/3/1     2016/3/3     2016/3/4     2016/3/5 \n",
      "-1.002840979 -0.852404029  0.198752863 -1.774859311 -1.168436778 -1.192014246 \n",
      "    2016/3/6     2016/3/7     2016/3/8     2016/3/9    2016/3/12    2016/3/13 \n",
      "-0.402840979 -0.973997871 -0.059216346  0.815175395  1.278410245  1.696769237 \n",
      "   2016/3/14    2016/3/15    2016/3/16    2016/3/20    2016/3/21    2016/3/22 \n",
      " 0.993971338 -0.108826562 -0.140030620 -0.775249095 -2.096842936 -1.790030620 \n",
      "   2016/3/24    2016/3/25    2016/3/26    2016/3/29    2016/3/30    2016/3/31 \n",
      "-0.035638879 -0.610467569 -0.612061411 -0.443265469 -0.875626419  0.135954963 \n",
      "    2016/4/1     2016/4/2     2016/4/3     2016/4/4     2016/4/6     2016/4/7 \n",
      " 1.331987712  0.380783654 -0.314812145 -1.735626419 -0.741671627 -0.188046994 \n",
      "    2016/4/8     2016/4/9    2016/4/10    2016/4/11    2016/4/12    2016/4/14 \n",
      "-0.782875685  0.971173438 -0.784812145 -0.196453153 -0.797657210 -0.072875685 \n",
      "   2016/4/15    2016/4/17    2016/4/18    2016/4/19    2016/4/22    2016/4/23 \n",
      "-0.380844894 -1.456877643 -0.356440693 -1.096877643  1.827171480  0.837514099 \n",
      "   2016/4/24    2016/4/25    2016/4/26    2016/4/27    2016/4/28    2016/4/29 \n",
      "-1.123253010 -0.979675542 -0.856440693  0.314326415 -0.115626419  0.185967422 \n",
      "   2016/4/30     2016/5/1     2016/5/2     2016/5/3     2016/5/4     2016/5/6 \n",
      "-0.220065326  2.604763365  4.349544890  2.640324458 -1.136912349 -0.663689959 \n",
      "    2016/5/7     2016/5/8     2016/5/9    2016/5/11    2016/5/12    2016/5/13 \n",
      " 0.129544890 -0.922048952  0.089155106 -0.402438736 -0.067657210 -0.004469527 \n",
      "   2016/5/14    2016/5/15    2016/5/16    2016/5/17    2016/5/18    2016/5/19 \n",
      " 0.353983797  0.057514099  0.273559307 -0.814504233 -1.234504233  0.400324458 \n",
      "   2016/5/20    2016/5/22    2016/5/23    2016/5/24    2016/5/25    2016/5/26 \n",
      " 0.765542932 -0.819285758  2.740324458 -0.698848809 -0.736050909  0.514716199 \n",
      "   2016/5/27    2016/5/28    2016/5/29    2016/5/30     2016/6/3     2016/6/5 \n",
      " 0.916746990  0.311965465  0.623169523  0.777951048  0.051965465 -0.570879600 \n",
      "    2016/6/6    2016/6/10    2016/6/11    2016/6/12    2016/6/13    2016/6/14 \n",
      " 0.354338874 -0.476865183  0.703901925  0.157916342 -0.967726623 -0.204881558 \n",
      "   2016/6/15    2016/6/16    2016/6/19    2016/6/22    2016/6/24    2016/6/25 \n",
      "-0.890489816  1.902732573  1.702308083  2.743134817 -0.152897932 -0.976475400 \n",
      "   2016/6/26    2016/6/28    2016/6/30     2016/7/1     2016/7/4     2016/7/6 \n",
      " 0.333949091 -1.330914307 -1.107679457 -0.711693874  0.730336917 -1.034491774 \n",
      "    2016/7/7     2016/7/8     2016/7/9    2016/7/10    2016/7/11    2016/7/12 \n",
      "-0.556522565 -1.002071199 -0.430134739 -1.379744955 -1.561291631  0.312273377 \n",
      "   2016/7/13    2016/7/14    2016/7/16    2016/7/17    2016/7/18    2016/7/19 \n",
      " 1.301930759  1.277491852  5.928306126  1.264693952  1.704693952  9.616322500 \n",
      "   2016/7/21    2016/7/22    2016/7/26    2016/7/28    2016/7/30    2016/7/31 \n",
      " 0.221506269  0.488695910  1.814693952 -0.212508148  0.660726701  0.022710326 \n",
      "    2016/8/1     2016/8/2     2016/8/3     2016/8/4     2016/8/5     2016/8/6 \n",
      " 0.517491852 -1.085306048 -1.218493731  0.725898010  1.072273377  1.960679535 \n",
      "    2016/8/7     2016/8/9    2016/8/11    2016/8/13    2016/8/14    2016/8/16 \n",
      " 9.507526558  4.721540975  3.911493809  3.190289751  2.809085693  2.701116485 \n",
      "   2016/8/17    2016/8/18    2016/8/21    2016/8/22    2016/8/23    2016/8/24 \n",
      "-0.272071199 -0.227289674  0.947102068  2.201116485  1.948318585 -0.426120322 \n",
      "   2016/8/25    2016/8/26    2016/8/27    2016/8/28    2016/8/30    2016/8/31 \n",
      " 1.058271419  3.277928801  5.173914384  2.323100110  0.982320543  0.245118442 \n",
      "    2016/9/1     2016/9/3     2016/9/4     2016/9/5     2016/9/6     2016/9/7 \n",
      "-0.409320465  2.731116485  1.987881636  3.507928801  5.343914384 -0.003322422 \n",
      "   2016/9/10    2016/9/12    2016/9/17    2016/9/18    2016/9/19    2016/9/20 \n",
      " 1.111493809 -1.890524523  1.057916342 -1.447289674 -1.296085616  0.103087651 \n",
      "   2016/9/21    2016/9/22    2016/9/23    2016/9/25    2016/9/26    2016/9/27 \n",
      "-0.503677500  0.149120400 -0.166098075 -1.772508148 -2.682118364  1.943524600 \n",
      "   2016/9/28    2016/9/29    2016/10/1    2016/10/3    2016/10/4    2016/10/5 \n",
      " 7.513122357  7.359544890  0.106322500 -0.280052867 -0.841304090 -0.536522565 \n",
      "   2016/10/6    2016/10/7    2016/10/8   2016/10/10   2016/10/11   2016/10/12 \n",
      " 1.352697867  0.801104025  0.655932716 -0.439675542  0.314716199 -1.548895975 \n",
      "  2016/10/13   2016/10/14   2016/10/16   2016/10/17   2016/10/18   2016/10/19 \n",
      "-0.974067284 -1.164504233  0.671528516  1.812355249  2.085932716  0.631104025 \n",
      "  2016/10/20   2016/10/21   2016/10/22   2016/10/23   2016/10/24   2016/10/25 \n",
      "-1.048069241 -1.514881558 -0.848459025 -1.280052867 -0.685708291  0.994338874 \n",
      "  2016/10/26   2016/10/27   2016/10/30   2016/10/31    2016/11/1    2016/11/2 \n",
      " 1.905932716  2.162745033  2.488730616  4.599544890  2.965542932  1.467526558 \n",
      "   2016/11/3    2016/11/4    2016/11/5    2016/11/7    2016/11/9   2016/11/10 \n",
      " 3.223559307 -0.827254967 -0.737254967  0.968375538  1.900783654 -0.650844894 \n",
      "  2016/11/11   2016/11/12   2016/11/13   2016/11/14   2016/11/15   2016/11/16 \n",
      " 0.256734531  0.085140689  0.490359164  2.373157064  2.594750905  3.394361121 \n",
      "  2016/11/18   2016/11/19   2016/11/21   2016/11/22   2016/11/23   2016/11/25 \n",
      " 0.986734531 -0.402438736 -2.384504233 -2.254079743 -1.934812145 -1.116016203 \n",
      "  2016/11/26   2016/11/27   2016/11/28   2016/11/29   2016/11/30    2016/12/1 \n",
      "-1.888861268 -1.015626419 -0.096453153  1.061563222  0.880359164  0.573983797 \n",
      "   2016/12/2    2016/12/4    2016/12/5    2016/12/6    2016/12/7    2016/12/8 \n",
      " 0.045920257 -2.636050909 -2.739285758 -1.918034535 -0.759251052  1.275187855 \n",
      "   2016/12/9   2016/12/10   2016/12/11   2016/12/12   2016/12/13   2016/12/14 \n",
      " 0.517124315  0.966781697  1.277938589  0.188375538 -0.378436778 -0.989640836 \n",
      "  2016/12/15   2016/12/17   2016/12/19   2016/12/20   2016/12/21   2016/12/22 \n",
      "-1.331624462 -1.957232720 -2.363218303 -1.238436778 -0.768826562 -0.675638879 \n",
      "  2016/12/23   2016/12/24   2016/12/26   2016/12/27   2016/12/28   2016/12/29 \n",
      "-0.423997871 -0.080857353 -0.188826562  1.167595971  0.933971338  0.657595971 \n",
      "  2016/12/30   2016/12/31     2017/1/1     2017/1/2     2017/1/3     2017/1/4 \n",
      " 0.662377496  0.195954963 -0.343608087  1.759956921  2.133581554  1.967206187 \n",
      "    2017/1/7     2017/1/8    2017/1/10    2017/1/13    2017/1/14    2017/1/15 \n",
      " 1.527159021  0.345954963 -1.603655253 -1.974859311 -0.479216346 -0.611636921 \n",
      "   2017/1/16    2017/1/17    2017/1/18    2017/1/19    2017/1/20    2017/1/21 \n",
      " 0.184785612 -0.222840979 -1.550857353 -1.838839021 -0.968449238 -2.080043079 \n",
      "   2017/1/22    2017/1/23    2017/1/24    2017/1/25    2017/1/26    2017/1/27 \n",
      "-2.111247137 -1.752840979 -0.058449238 -0.025214388 -0.702451195 -1.694859311 \n",
      "   2017/1/28    2017/1/29    2017/1/31     2017/2/1     2017/2/2     2017/2/3 \n",
      "-1.128826562 -1.722014246 -1.340030620 -1.833218303 -2.171234678 -2.755626419 \n",
      "    2017/2/4     2017/2/5     2017/2/6     2017/2/7     2017/2/9    2017/2/10 \n",
      "-2.286063369 -2.356063369 -0.620467569 -0.352061411  0.316002129 -2.993655253 \n",
      "   2017/2/12    2017/2/15    2017/2/18    2017/2/20    2017/2/21    2017/2/22 \n",
      "-1.575626419  0.033157064 -1.296453153 -2.124812145 -2.026453153 -2.339251052 \n",
      "   2017/2/23    2017/2/25    2017/2/26    2017/2/27     2017/3/1     2017/3/2 \n",
      "-2.722438736 -1.859640836 -1.428436778 -0.963608087 -1.456842936 -0.938046994 \n",
      "    2017/3/3     2017/3/4     2017/3/6     2017/3/7     2017/3/8     2017/3/9 \n",
      "-1.608436778 -2.196453153 -2.674079743 -1.982485901  0.705967422  4.323983797 \n",
      "   2017/3/10    2017/3/11    2017/3/12    2017/3/13    2017/3/14    2017/3/16 \n",
      " 3.383936631  2.707124315 -2.093642794 -0.380857353 -1.238826562 -1.192828520 \n",
      "   2017/3/17    2017/3/19    2017/3/20    2017/3/21    2017/3/22    2017/3/23 \n",
      "-0.749640836 -0.929251052 -2.234079743 -1.024812145 -1.125249095 -1.120810188 \n",
      "   2017/3/24    2017/3/25    2017/3/26    2017/3/27    2017/3/28    2017/3/29 \n",
      "-1.271247137 -0.341247137 -0.310420404 -0.583218303 -0.513265469  0.125140689 \n",
      "   2017/3/30    2017/3/31     2017/4/1     2017/4/2     2017/4/3     2017/4/4 \n",
      " 1.485577639 -0.604079743 -0.551234678 -0.184859311 -0.192438736 -0.067657210 \n",
      "    2017/4/7     2017/4/9    2017/4/11    2017/4/12    2017/4/14    2017/4/15 \n",
      " 3.367938589  4.263546847 -0.754894017 -1.538034535 -1.076830477 -0.555673585 \n",
      "   2017/4/18    2017/4/21    2017/4/22    2017/4/24    2017/4/26    2017/4/27 \n",
      " 3.764763365 -1.624457068 -0.273642794 -1.396487859 -0.118861268  0.139934674 \n",
      "   2017/4/28    2017/4/29     2017/5/1     2017/5/2     2017/5/4     2017/5/6 \n",
      "-1.237691917 -1.519675542 -0.019251052  1.506357206 -1.520879600  1.037951048 \n",
      "    2017/5/7     2017/5/9    2017/5/10    2017/5/13    2017/5/15    2017/5/16 \n",
      " 0.630324458 -0.366487859 -0.636050909 -0.056440693  0.125932716  1.274728658 \n",
      "   2017/5/17    2017/5/18    2017/5/19    2017/5/20    2017/5/21    2017/5/22 \n",
      " 0.521493809  0.605153148  1.874326415  7.705153148  1.039947133 -1.100489816 \n",
      "   2017/5/23    2017/5/24    2017/5/26    2017/5/27    2017/5/28    2017/5/29 \n",
      "-1.146865183 -1.288506191 -1.206865183 -0.930489816 -0.054504233  0.093949091 \n",
      "   2017/5/30    2017/5/31     2017/6/1     2017/6/2     2017/6/3     2017/6/4 \n",
      "-0.249285758 -0.616912349 -1.430867141 -1.957726623 -0.873287716  0.765105983 \n",
      "    2017/6/5     2017/6/6     2017/6/7     2017/6/9    2017/6/10    2017/6/11 \n",
      " 0.655105983 -0.094067284  0.391540975 -1.840867141 -0.509273299  0.555508226 \n",
      "   2017/6/12    2017/6/15    2017/6/16    2017/6/17    2017/6/18    2017/6/19 \n",
      " 2.901493809 -1.186085616  2.659132859  6.576712284  2.617491852  2.392273377 \n",
      "   2017/6/20    2017/6/21    2017/6/22    2017/6/23    2017/6/25    2017/6/26 \n",
      "-2.110134739 -0.619273299  0.031930759  3.146322500  1.840679535  0.821930759 \n",
      "   2017/6/27    2017/6/29    2017/6/30     2017/7/1     2017/7/2     2017/7/3 \n",
      " 0.194728658  0.737136774  2.304326415  2.673122357  8.442342790  3.702745033 \n",
      "    2017/7/4     2017/7/6     2017/7/7     2017/7/8    2017/7/10    2017/7/11 \n",
      "-0.252897932 -0.258895975  0.269120400  0.002697867 -0.451693874 -0.129710249 \n",
      "   2017/7/12    2017/7/13    2017/7/14    2017/7/16    2017/7/17    2017/7/18 \n",
      " 2.270726701  4.070336917  4.441493809  4.928306126  5.151493809  0.431069319 \n",
      "   2017/7/19    2017/7/21    2017/7/23    2017/7/24    2017/7/25    2017/7/26 \n",
      "-0.116475400  1.383512141  0.629947133  1.225118442 -0.010867141  1.315118442 \n",
      "   2017/7/27    2017/7/30    2017/7/31     2017/8/1     2017/8/2     2017/8/3 \n",
      "-0.592118364 -0.480477357 -0.282897932  1.192697867  0.541493809  1.993134817 \n",
      "    2017/8/4     2017/8/6     2017/8/7     2017/8/8     2017/8/9    2017/8/10 \n",
      " 2.152320543  3.499132859  4.255898010  0.857491852  1.057916342  2.094338874 \n",
      "   2017/8/11    2017/8/12    2017/8/13    2017/8/14    2017/8/15    2017/8/16 \n",
      "-0.870087573 -0.780134739 -0.720134739 -1.719697789 -1.964526480 -0.180087573 \n",
      "   2017/8/18    2017/8/19    2017/8/20    2017/8/21    2017/8/22    2017/8/23 \n",
      "-2.180949013 -2.277714164 -0.312885473  0.678708369 -1.240901847 -0.103322422 \n",
      "   2017/8/24    2017/8/25    2017/8/27    2017/8/28    2017/8/30    2017/8/31 \n",
      " 1.247881636  4.793524600  0.111116485 -0.103287716  0.226322500 -0.880477357 \n",
      "    2017/9/1     2017/9/2     2017/9/3     2017/9/4     2017/9/5     2017/9/6 \n",
      "-1.391728581 -0.679744955 -1.832932638 -0.210867141 -0.909320465 -0.663712206 \n",
      "    2017/9/7     2017/9/8     2017/9/9    2017/9/10    2017/9/14    2017/9/15 \n",
      "-0.015306048 -0.938493731 -0.589663083  1.547136774  1.037102068  0.829120400 \n",
      "   2017/9/16    2017/9/17    2017/9/20    2017/9/21    2017/9/24    2017/9/25 \n",
      " 2.004373581  2.375967422 -0.387254967 -0.690052867  1.222697867 -0.518069241 \n",
      "   2017/9/26    2017/9/27    2017/9/28    2017/9/29    2017/9/30    2017/10/1 \n",
      "-0.930100032  0.084728658 -1.259320465 -0.729273299 -0.476085616  0.598306126 \n",
      "   2017/10/3    2017/10/4    2017/10/5    2017/10/7    2017/10/8    2017/10/9 \n",
      " 7.526746990  8.541138732  5.196746990  2.182697867  1.576322500  4.623512141 \n",
      "  2017/10/10   2017/10/12   2017/10/13   2017/10/15   2017/10/17   2017/10/18 \n",
      " 9.876734531 11.409155106  9.975920257  8.654326415  3.107526558 -0.996865183 \n",
      "  2017/10/19   2017/10/20   2017/10/21   2017/10/22   2017/10/23   2017/10/24 \n",
      "-1.751693874 -0.096098075 -1.733287716 -1.556475400 -0.390489816  2.605105983 \n",
      "  2017/10/25   2017/10/26   2017/10/27   2017/10/28    2017/11/1    2017/11/2 \n",
      " 3.043559307  4.837514099  2.838340832  2.138340832 -0.546050909  0.111965465 \n",
      "   2017/11/4    2017/11/5    2017/11/6    2017/11/7    2017/11/8    2017/11/9 \n",
      "-0.797644751 -0.005283801 -0.426830477 -0.073642794  0.065967422  0.705530473 \n",
      "  2017/11/10   2017/11/11   2017/11/12   2017/11/13   2017/11/14   2017/11/15 \n",
      " 0.876781697  3.383971338  0.773983797 -0.509251052  0.533983797  1.787938589 \n",
      "  2017/11/16   2017/11/17   2017/11/18   2017/11/19   2017/11/20   2017/11/21 \n",
      " 1.783157064  1.076734531  2.089969380  4.255565179  6.281550762  6.299956921 \n",
      "  2017/11/22   2017/11/23   2017/11/24   2017/11/27   2017/11/28   2017/11/29 \n",
      " 5.936769237  6.588410245  7.941597928  5.759579596  6.732767280 -0.353253010 \n",
      "   2017/12/1    2017/12/2    2017/12/3    2017/12/4    2017/12/5    2017/12/6 \n",
      " 1.874785612  0.431987712  0.701597928  2.104395828  3.551208144  3.628020461 \n",
      "   2017/12/8    2017/12/9   2017/12/10   2017/12/11   2017/12/12   2017/12/14 \n",
      " 1.686769237 -0.363218303 -1.854032578 -2.944422361 -0.464434821  0.320393870 \n",
      "  2017/12/15   2017/12/16   2017/12/17   2017/12/18   2017/12/19   2017/12/20 \n",
      "-1.981234678 -1.774422361 -0.683997871 -0.214824605 -0.236028662 -0.376028662 \n",
      "  2017/12/21   2017/12/22   2017/12/23   2017/12/24   2017/12/25   2017/12/27 \n",
      "-0.002840979 -0.542840979 -1.492061411 -1.498826562 -1.948436778 -2.677267427 \n",
      "  2017/12/28   2017/12/29     2018/1/1     2018/1/3     2018/1/4     2018/1/5 \n",
      "-3.215236635 -2.312438736 -2.186016203 -2.594469527 -2.716063369 -1.953265469 \n",
      "    2018/1/6     2018/1/7     2018/1/8     2018/1/9    2018/1/10    2018/1/11 \n",
      "-2.380420404 -3.101247137 -2.514045037 -1.960030620 -3.160455110 -1.893218303 \n",
      "   2018/1/12    2018/1/13    2018/1/14    2018/1/15    2018/1/17    2018/1/18 \n",
      "-2.032404029 -1.662014246 -2.153608087 -1.519653295 -1.827232720 -2.449216346 \n",
      "   2018/1/19    2018/1/20    2018/1/21    2018/1/22    2018/1/23    2018/1/25 \n",
      "-2.488046994 -2.175249095 -1.565249095 -3.029640836 -2.583218303 -2.553218303 \n",
      "   2018/1/26    2018/1/27    2018/1/28    2018/1/29    2018/1/31     2018/2/1 \n",
      "-0.904434821 -0.320043079 -1.736808230 -1.752840979 -1.737232720 -2.531671627 \n",
      "    2018/2/2     2018/2/3     2018/2/6     2018/2/7     2018/2/9    2018/2/10 \n",
      "-0.759606130 -0.457198014 -2.071589755 -2.801636921 -1.128012288 -2.213608087 \n",
      "   2018/2/12    2018/2/13    2018/2/15    2018/2/16    2018/2/17    2018/2/18 \n",
      "-1.748826562 -1.428826562 -1.303997871 -2.453265469 -1.250420404 -2.218826562 \n",
      "   2018/2/19    2018/2/22    2018/2/24    2018/2/28     2018/3/1     2018/3/2 \n",
      "-2.183655253 -1.685249095 -2.033655253 -1.444422361 -2.016830477 -1.646877643 \n",
      "    2018/3/3     2018/3/4     2018/3/5     2018/3/6     2018/3/7     2018/3/8 \n",
      "-3.167267427 -1.896063369 -2.688861268 -3.563689959 -2.868034535 -2.768081701 \n",
      "    2018/3/9    2018/3/10    2018/3/12    2018/3/13    2018/3/14    2018/3/15 \n",
      "-1.125236635 -1.735236635 -0.962828520 -2.502485901 -1.937267427 -2.469251052 \n",
      "   2018/3/16    2018/3/17    2018/3/19    2018/3/20    2018/3/21    2018/3/23 \n",
      "-1.410420404 -0.632061411 -1.046453153 -0.872014246  0.111550762 -0.550810188 \n",
      "   2018/3/24    2018/3/25    2018/3/26    2018/3/27    2018/3/28    2018/3/30 \n",
      "-1.724812145 -2.373265469 -0.322014246  0.009532431 -0.877657210 -0.796842936 \n",
      "   2018/3/31     2018/4/1     2018/4/2     2018/4/3     2018/4/4     2018/4/5 \n",
      "-1.236453153 -0.721234678 -1.824032578 -2.247267427 -0.338046994 -1.594032578 \n",
      "    2018/4/6     2018/4/7    2018/4/11    2018/4/12    2018/4/13    2018/4/15 \n",
      "-1.844032578 -1.611671627 -0.133655253 -1.529640836 -1.730030620 -0.464812145 \n",
      "   2018/4/16    2018/4/17    2018/4/18    2018/4/19    2018/4/20    2018/4/21 \n",
      "-1.454032578  0.063983797  1.069544890  1.506310041 -1.408471484 -2.095626419 \n",
      "   2018/4/22    2018/4/23    2018/4/24    2018/4/25    2018/4/26    2018/4/28 \n",
      "-0.566063369 -2.011659168 -2.759675542 -2.762863226 -2.288081701 -1.555673585 \n",
      "   2018/4/29    2018/4/30     2018/5/1     2018/5/3     2018/5/4     2018/5/5 \n",
      " 0.116391913 -0.280420404 -0.622061411 -0.171624462 -1.009251052 -1.446830477 \n",
      "    2018/5/7     2018/5/9    2018/5/14    2018/5/15    2018/5/16    2018/5/17 \n",
      "-2.619675542 -2.164894017 -0.037657210 -0.344846852 -0.708081701 -1.389285758 \n",
      "   2018/5/18    2018/5/20    2018/5/21    2018/5/22    2018/5/24    2018/5/25 \n",
      "-1.366098075 -1.624894017 -1.121659168 -1.418034535 -1.458471484 -0.793689959 \n",
      "   2018/5/28    2018/5/29    2018/5/30    2018/5/31     2018/6/1     2018/6/2 \n",
      "-1.221659168 -0.455673585 -0.513642794 -0.913253010 -1.258034535 -0.294079743 \n",
      "    2018/6/3     2018/6/4     2018/6/5     2018/6/6     2018/6/7     2018/6/9 \n",
      "-0.816830477 -0.856877643 -1.006440693 -0.828471484 -0.403689959 -0.670065326 \n",
      "   2018/6/10    2018/6/11    2018/6/12    2018/6/13    2018/6/14    2018/6/15 \n",
      "-0.556830477 -0.736877643 -0.814846852 -1.324457068 -1.510879600 -1.132083658 \n",
      "   2018/6/16    2018/6/17    2018/6/18    2018/6/19    2018/6/20    2018/6/21 \n",
      "-2.474881558 -1.748459025 -1.303287716 -2.132897932 -1.866912349 -1.526865183 \n",
      "   2018/6/24    2018/6/25    2018/6/26    2018/6/27    2018/6/28    2018/6/29 \n",
      "-1.936912349 -1.078848809 -0.737254967 -0.512473442 -0.978848809  0.009120400 \n",
      "   2018/6/30     2018/7/1     2018/7/2     2018/7/3     2018/7/4     2018/7/5 \n",
      "-0.960052867 -0.850489816 -0.398848809 -1.958069241 -0.529285758 -0.890489816 \n",
      "    2018/7/6     2018/7/7     2018/7/8     2018/7/9    2018/7/10    2018/7/11 \n",
      "-1.593287716 -1.979320465 -1.772508148 -2.608930681 -0.474881558 -1.889710249 \n",
      "   2018/7/12    2018/7/14    2018/7/15    2018/7/16    2018/7/17    2018/7/18 \n",
      "-0.680489816 -0.167254967  0.147526558 -0.345708291 -0.781693874 -1.438116407 \n",
      "   2018/7/19    2018/7/20    2018/7/21    2018/7/23    2018/7/24    2018/7/25 \n",
      "-0.406912349 -0.313287716 -1.392897932 -1.808116407 -1.080052867 -1.066912349 \n",
      "   2018/7/26    2018/7/27    2018/7/28    2018/7/29    2018/7/30    2018/7/31 \n",
      "-0.490489816 -0.798506191 -0.886522565 -1.328069241 -0.636865183 -1.997726623 \n",
      "    2018/8/1     2018/8/2     2018/8/3     2018/8/5     2018/8/6     2018/8/7 \n",
      "-1.278540897  7.443477435  1.351896052  3.542273377  4.252273377 -2.076120322 \n",
      "    2018/8/8     2018/8/9    2018/8/10    2018/8/11    2018/8/12    2018/8/13 \n",
      "-1.400477357 -1.216085616  0.869899968  0.165898010 -1.411291631 -1.373712206 \n",
      "   2018/8/14    2018/8/15    2018/8/17    2018/8/18    2018/8/19    2018/8/20 \n",
      "-0.977726623 -0.956522565  0.011540975 -1.300087573  0.096677578 -1.249744955 \n",
      "   2018/8/21    2018/8/22    2018/8/24    2018/8/25    2018/8/26    2018/8/27 \n",
      "-1.788103948 -1.213322422 -0.838540897 -0.770087573  0.952710326 -0.478103948 \n",
      "   2018/8/28    2018/8/29    2018/8/30    2018/8/31     2018/9/1     2018/9/2 \n",
      "-1.920087573 -0.828116407 -0.211693874 -0.300914307  0.233100110 -1.088103948 \n",
      "    2018/9/3     2018/9/5     2018/9/6     2018/9/7     2018/9/8     2018/9/9 \n",
      "-1.487289674  0.009899968 -1.158069241 -0.953287716  0.692745033  0.096322500 \n",
      "   2018/9/10    2018/9/11    2018/9/12    2018/9/13    2018/9/14    2018/9/15 \n",
      "-1.034101990  0.577928801 -1.653322422 -3.519697789 -2.368930681 -1.449320465 \n",
      "   2018/9/17    2018/9/19    2018/9/20    2018/9/21    2018/9/22    2018/9/23 \n",
      "-2.098103948 -0.602071199 -1.608540897 -1.920134739  1.790289751  4.002745033 \n",
      "   2018/9/24    2018/9/25    2018/9/26    2018/9/27    2018/9/29    2018/10/1 \n",
      " 2.250336917  1.980726701  4.698306126  4.246712284 -0.205695832 -1.187289674 \n",
      "   2018/10/2    2018/10/3    2018/10/4    2018/10/8    2018/10/9   2018/10/11 \n",
      " 0.155508226  2.800714242  4.366357206  0.115118442 -2.218116407 -1.246522565 \n",
      "  2018/10/13   2018/10/14   2018/10/15   2018/10/17   2018/10/18   2018/10/19 \n",
      " 1.646322500 -1.905271342  0.877514099 -0.977254967 -0.768034535 -0.513642794 \n",
      "  2018/10/22   2018/10/23   2018/10/24   2018/10/25   2018/10/27   2018/10/28 \n",
      "-0.347254967 -1.238895975 -0.409285758  0.293901925 -1.239285758 -0.254812145 \n",
      "  2018/10/31    2018/11/1    2018/11/3    2018/11/4    2018/11/5    2018/11/6 \n",
      "-1.165673585 -1.393253010 -1.721659168 -1.596877643 -1.392485901  0.444750905 \n",
      "   2018/11/7    2018/11/8    2018/11/9   2018/11/11   2018/11/12   2018/11/14 \n",
      "-0.489640836 -1.208861268  0.038765322 -0.121234678 -2.195673585 -1.152048952 \n",
      "  2018/11/16   2018/11/17   2018/11/18   2018/11/20   2018/11/23   2018/11/24 \n",
      "-0.745626419 -0.164469527 -2.118861268 -1.345673585 -1.572875685 -0.813265469 \n",
      "  2018/11/25   2018/11/26   2018/11/28   2018/11/29   2018/11/30    2018/12/1 \n",
      "-1.923642794 -1.064469527  0.705187855 -1.283689959 -2.346830477 -0.784859311 \n",
      "   2018/12/4    2018/12/5    2018/12/7    2018/12/8   2018/12/10   2018/12/11 \n",
      "-0.025673585 -0.973642794 -2.213642794 -2.827267427 -0.359640836 -2.370844894 \n",
      "  2018/12/12   2018/12/13   2018/12/14   2018/12/15   2018/12/17   2018/12/18 \n",
      "-0.959640836 -2.127657210 -0.853608087 -1.305249095 -2.332438736 -0.842828520 \n",
      "  2018/12/19   2018/12/20   2018/12/21   2018/12/23   2018/12/24   2018/12/25 \n",
      "-2.547267427 -1.184859311 -1.198436778  0.937985754  0.806391913  1.509579596 \n",
      "  2018/12/26   2018/12/27   2018/12/28   2018/12/29   2018/12/30   2018/12/31 \n",
      " 1.115954963 -1.193218303 -2.228046994 -1.632061411  0.707206187 -0.500810188 \n",
      "    2019/1/1     2019/1/2     2019/1/3     2019/1/4     2019/1/5     2019/1/6 \n",
      " 0.727595971 -0.780467569 -1.377232720 -0.587622504  0.885175395  1.119956921 \n",
      "    2019/1/9    2019/1/10    2019/1/11    2019/1/12    2019/1/13    2019/1/14 \n",
      "-0.011247137 -1.464045037 -1.188826562  0.167206187  0.961550762 -0.197622504 \n",
      "   2019/1/15    2019/1/16    2019/1/17    2019/1/18    2019/1/19    2019/1/20 \n",
      "-1.922451195 -1.964045037 -1.980467569 -1.554045037 -3.031234678 -1.814422361 \n",
      "   2019/1/21    2019/1/23    2019/1/24    2019/1/25    2019/1/26    2019/1/27 \n",
      "-0.722451195 -1.984812145 -2.314469527 -2.411234678 -1.971671627 -2.452828520 \n",
      "   2019/1/29    2019/1/30     2019/2/1     2019/2/2     2019/2/3     2019/2/5 \n",
      "-2.001671627 -1.553265469 -2.252875685 -0.570857353 -0.430043079  1.326769237 \n",
      "    2019/2/6     2019/2/7     2019/2/8     2019/2/9    2019/2/11    2019/2/13 \n",
      " 0.519142647 -1.628046994 -1.311624462 -0.820467569 -2.229640836  1.447548805 \n",
      "   2019/2/14    2019/2/16    2019/2/17    2019/2/18    2019/2/19    2019/2/20 \n",
      " 2.537595971  0.397985754 -0.622061411 -2.751671627 -1.362404029 -0.745249095 \n",
      "   2019/2/22    2019/2/23    2019/2/24    2019/2/25    2019/2/26    2019/2/27 \n",
      " 3.087548805  2.245954963 -0.033218303  2.767595971  3.285954963 -1.592875685 \n",
      "   2019/2/28     2019/3/4     2019/3/5     2019/3/6     2019/3/7     2019/3/8 \n",
      "-0.986453153 -1.092875685 -0.223218303 -1.779251052 -0.398826562 -2.418436778 \n",
      "    2019/3/9    2019/3/12    2019/3/14    2019/3/15    2019/3/16    2019/3/17 \n",
      " 0.406391913  0.503983797 -0.854859311  1.147171480  0.853983797 -0.140844894 \n",
      "   2019/3/18    2019/3/19    2019/3/20    2019/3/21    2019/3/22    2019/3/23 \n",
      "-2.135626419 -0.764469527  1.537548805  1.911987712  2.865565179  3.637548805 \n",
      "   2019/3/24    2019/3/26    2019/3/27    2019/3/28    2019/3/29    2019/3/30 \n",
      " 2.025530473  1.663936631 -0.230844894  0.918765322  0.875967422 -0.755236635 \n",
      "   2019/3/31     2019/4/2     2019/4/3     2019/4/4     2019/4/5     2019/4/6 \n",
      "-1.600455110 -0.266016203 -0.737657210 -0.775249095 -1.613655253 -0.755638879 \n",
      "    2019/4/7     2019/4/8    2019/4/10    2019/4/11    2019/4/12    2019/4/13 \n",
      "-0.929640836 -1.555626419 -0.143655253 -0.293265469  0.236781697  1.166781697 \n",
      "   2019/4/14    2019/4/15    2019/4/18    2019/4/19    2019/4/20    2019/4/21 \n",
      " 2.978328373  0.805920257 -1.186063369 -0.671234678 -0.374422361 -0.932438736 \n",
      "   2019/4/22    2019/4/24    2019/4/25    2019/4/27    2019/4/28    2019/4/29 \n",
      "-0.522485901  0.075187855 -1.564079743  1.014373581  2.671528516  0.411918299 \n",
      "   2019/4/30     2019/5/1     2019/5/3     2019/5/4     2019/5/5     2019/5/7 \n",
      "-0.238081701 -0.321269384 -1.967691917 -1.481269384 -0.383689959 -0.335236635 \n",
      "    2019/5/8     2019/5/9    2019/5/10    2019/5/11    2019/5/12    2019/5/13 \n",
      "-1.496487859 -0.191659168 -1.399285758 -0.375708291  6.683512141  7.348340832 \n",
      "   2019/5/14    2019/5/15    2019/5/18    2019/5/19    2019/5/20    2019/5/21 \n",
      " 7.987561264  3.781528516  1.363546847  0.355920257  0.189934674 -0.013689959 \n",
      "   2019/5/22    2019/5/23    2019/5/24    2019/5/25    2019/5/27    2019/5/28 \n",
      "-0.544894017 -0.097644751 -0.126487859  0.889934674  1.703512141  0.770714242 \n",
      "   2019/5/29    2019/5/31     2019/6/1     2019/6/2     2019/6/4     2019/6/7 \n",
      " 1.979120400  5.814763365  6.347951048  7.137514099 -0.705708291  1.131138732 \n",
      "    2019/6/8     2019/6/9    2019/6/11    2019/6/12    2019/6/13    2019/6/14 \n",
      " 2.084373581  1.715967422  1.242732573  0.721965465 -0.616050909  1.269155106 \n",
      "   2019/6/16    2019/6/17    2019/6/18    2019/6/21    2019/6/22    2019/6/23 \n",
      " 1.302732573  1.026310041  1.129934674  0.695105983  1.108730616  0.650714242 \n",
      "   2019/6/26    2019/6/28    2019/6/29    2019/6/30     2019/7/2     2019/7/3 \n",
      "-1.337679457  0.274291709 -0.436912349 -0.536912349  0.672355249  1.581965465 \n",
      "    2019/7/4     2019/7/6     2019/7/9    2019/7/10    2019/7/11    2019/7/12 \n",
      " 2.256746990 -0.126865183  0.447526558  0.515932716  0.011493809 -0.476522565 \n",
      "   2019/7/13    2019/7/14    2019/7/15    2019/7/16    2019/7/17    2019/7/19 \n",
      " 0.599947133  0.549899968 -0.922897932 -0.381693874  0.292697867 -1.137726623 \n",
      "   2019/7/20    2019/7/21    2019/7/23    2019/7/24    2019/7/25    2019/7/26 \n",
      "-1.148883515 -0.890477357 -1.206899890 -1.128540897 -1.498493731 -0.708116407 \n",
      "   2019/7/27    2019/7/28    2019/7/29    2019/7/30    2019/7/31     2019/8/4 \n",
      " 1.304338874 -0.496522565  0.519947133  0.879899968 -0.339320465  0.221883593 \n",
      "    2019/8/5     2019/8/7     2019/8/8     2019/8/9    2019/8/10    2019/8/11 \n",
      " 0.108695910 -0.129273299 -0.524101990 -1.632118364 -1.082118364  1.164728658 \n",
      "   2019/8/12    2019/8/13    2019/8/14    2019/8/15    2019/8/16    2019/8/18 \n",
      " 1.792745033  1.441540975 -0.798540897 -1.463322422 -0.790134739 -0.417726623 \n",
      "   2019/8/19    2019/8/21    2019/8/22    2019/8/23    2019/8/25    2019/8/26 \n",
      "-0.154491774  1.543134817  0.617881636  2.409522643 -0.890134739 -1.616085616 \n",
      "   2019/8/27    2019/8/28    2019/8/29    2019/8/31     2019/9/1     2019/9/2 \n",
      " 1.330714242 -0.124491774  1.061116485 -1.088103948 -1.276899890 -1.008493731 \n",
      "    2019/9/4     2019/9/7     2019/9/8     2019/9/9    2019/9/10    2019/9/11 \n",
      "-1.880134739 -1.345306048 -1.101728581 -0.816899890 -0.338069241  2.826746990 \n",
      "   2019/9/12    2019/9/14    2019/9/15    2019/9/17    2019/9/18    2019/9/19 \n",
      " 3.818340832 -0.466475400 -1.347679457 -0.819710249 -0.430052867 -0.746912349 \n",
      "   2019/9/20    2019/9/21    2019/9/22    2019/9/23    2019/9/24    2019/9/25 \n",
      "-1.106865183 -1.061693874 -1.384491774  0.442697867  0.044728658 -0.523287716 \n",
      "   2019/9/26    2019/9/27    2019/9/28    2019/9/29    2019/9/30    2019/10/1 \n",
      " 0.774291709 -0.280100032  0.451493809 -0.178069241  4.322355249 -1.048116407 \n",
      "   2019/10/2    2019/10/3    2019/10/6    2019/10/7    2019/10/8    2019/10/9 \n",
      "-0.718506191  0.443949091 -0.232083658  0.827526558  0.864728658 -0.779663083 \n",
      "  2019/10/10   2019/10/11   2019/10/12   2019/10/13   2019/10/14   2019/10/16 \n",
      "-0.319710249  2.304338874 -1.242897932  0.639947133 -0.244067284  2.771953006 \n",
      "  2019/10/17   2019/10/18   2019/10/19   2019/10/20   2019/10/21   2019/10/22 \n",
      " 1.462732573 -0.258081701 -1.116865183 -0.520065326  0.953983797 -0.131234678 \n",
      "  2019/10/23   2019/10/24   2019/10/25   2019/10/26   2019/10/27   2019/10/29 \n",
      " 1.201953006  1.903546847  6.677595971  3.803169523 -0.600489816 -1.435271342 \n",
      "  2019/10/30    2019/11/1    2019/11/2    2019/11/3    2019/11/4    2019/11/5 \n",
      "-1.870052867 -3.110867141 -2.658116407 -2.186912349 -1.109285758 -0.053689959 \n",
      "   2019/11/6    2019/11/8   2019/11/10   2019/11/12   2019/11/13   2019/11/14 \n",
      " 0.695530473  1.264750905  0.031953006 -0.114032578 -0.517657210 -0.932485901 \n",
      "  2019/11/16   2019/11/19   2019/11/20   2019/11/21   2019/11/22   2019/11/23 \n",
      " 0.540346705  0.179189812 -0.906453153 -1.625673585 -2.712863226 -0.713642794 \n",
      "  2019/11/24   2019/11/25   2019/11/27   2019/11/28   2019/11/29   2019/11/30 \n",
      " 0.013546847 -0.728046994 -1.342048952 -1.666877643 -1.307267427 -0.705673585 \n",
      "   2019/12/1    2019/12/2    2019/12/5    2019/12/6    2019/12/7    2019/12/8 \n",
      "-2.315236635 -1.858046994 -1.482875685 -0.962438736 -1.744032578 -1.026016203 \n",
      "   2019/12/9   2019/12/10   2019/12/11   2019/12/12   2019/12/13   2019/12/14 \n",
      "-1.414469527 -2.172048952 -1.596063369 -0.966842936 -1.521234678 -1.177657210 \n",
      "  2019/12/15   2019/12/16   2019/12/17   2019/12/18   2019/12/19   2019/12/21 \n",
      "-1.256016203 -0.140030620 -0.842061411 -0.483655253 -2.257267427 -2.399675542 \n",
      "  2019/12/22   2019/12/23   2019/12/24   2019/12/26   2019/12/27   2019/12/28 \n",
      "-3.327691917 -1.453642794  1.491953006 -0.805626419  1.406781697  2.462767280 \n",
      "  2019/12/29   2019/12/30   2019/12/31     2020/1/1     2020/1/2     2020/1/4 \n",
      " 2.906002129  1.639189812  1.767206187 -0.275249095 -0.573655253 -1.716453153 \n",
      "    2020/1/6     2020/1/7     2020/1/9    2020/1/10    2020/1/12    2020/1/13 \n",
      "-1.404859311  0.253971338 -1.225249095 -1.033608087  0.128752863  0.080783654 \n",
      "   2020/1/14    2020/1/16    2020/1/17    2020/1/18    2020/1/19    2020/1/21 \n",
      " 1.075175395  3.151208144  2.451550762 -0.268436778 -2.028046994 -1.836028662 \n",
      "   2020/1/22    2020/1/23    2020/1/24    2020/1/25    2020/1/26    2020/1/27 \n",
      "-2.252451195 -2.330030620 -1.543218303 -2.373265469 -1.352061411 -0.114434821 \n",
      "   2020/1/29    2020/1/30     2020/2/1     2020/2/2     2020/2/3     2020/2/4 \n",
      " 1.349189812  3.140393870  0.764750905  1.558375538  2.587938589  0.647171480 \n",
      "    2020/2/5     2020/2/6     2020/2/8    2020/2/11    2020/2/12    2020/2/13 \n",
      " 1.526781697  2.539532431 -2.004032578  0.746781697 -0.723265469 -1.111234678 \n",
      "   2020/2/14    2020/2/15    2020/2/16    2020/2/18    2020/2/19    2020/2/20 \n",
      "-1.680844894 -1.460844894 -0.804469527 -2.284079743 -1.002485901  1.008765322 \n",
      "   2020/2/21    2020/2/22    2020/2/24    2020/2/27    2020/2/28     2020/3/1 \n",
      " 3.404750905  4.406002129  2.009969380 -0.320030620  2.016344747 -1.615673585 \n",
      "    2020/3/2     2020/3/3     2020/3/4     2020/3/6     2020/3/8     2020/3/9 \n",
      "-2.350065326 -0.036016203 -0.906063369  0.149532431  0.853157064 -0.366063369 \n",
      "   2020/3/10    2020/3/11    2020/3/12    2020/3/13    2020/3/15    2020/3/16 \n",
      " 2.509969380  3.959969380  2.745140689 -0.668861268 -1.848861268 -0.262014246 \n",
      "   2020/3/17    2020/3/19    2020/3/20    2020/3/21    2020/3/23    2020/3/24 \n",
      " 0.407159021 -0.974079743 -2.585283801 -0.372061411 -1.158046994 -2.692485901 \n",
      "   2020/3/25    2020/3/27    2020/3/28    2020/3/29    2020/3/30     2020/4/1 \n",
      "-1.049251052 -1.316063369  0.343157064 -0.008436778  0.376734531 -0.704422361 \n",
      "    2020/4/2     2020/4/3     2020/4/4     2020/4/5     2020/4/6     2020/4/7 \n",
      "-0.225249095  1.646391913  1.362342790 -0.188471484 -1.281269384 -0.168034535 \n",
      "    2020/4/9    2020/4/10    2020/4/12    2020/4/13    2020/4/15    2020/4/18 \n",
      "-0.514894017 -0.782863226 -1.289675542 -0.632048952  0.312732573 -1.213253010 \n",
      "   2020/4/19    2020/4/20    2020/4/23    2020/4/24    2020/4/25    2020/4/26 \n",
      "-0.315673585  0.542342790 -0.167267427 -1.806050909 -1.475236635  0.583546847 \n",
      "   2020/4/27    2020/4/28    2020/4/30     2020/5/1     2020/5/2     2020/5/4 \n",
      " 0.465967422 -0.475283801  0.667561264  0.489934674  0.523901925 -0.417302133 \n",
      "    2020/5/6     2020/5/7     2020/5/9    2020/5/10    2020/5/11    2020/5/12 \n",
      " 0.120324458 -0.825708291  0.474716199  0.164763365  0.221528516  0.321138732 \n",
      "   2020/5/14    2020/5/16    2020/5/17    2020/5/19    2020/5/22    2020/5/23 \n",
      "-0.352438736  0.147561264  0.634716199  3.614716199  0.135118442  4.097526558 \n",
      "   2020/5/24    2020/5/25    2020/5/28    2020/5/29    2020/5/30     2020/6/3 \n",
      " 8.254763365  7.268340832  0.509899968  0.347916342 -0.373287716  0.910714242 \n",
      "    2020/6/4     2020/6/5     2020/6/6     2020/6/7     2020/6/8     2020/6/9 \n",
      " 0.271151191  1.362355249  0.506712284 -0.596912349 -0.269285758  1.967951048 \n",
      "   2020/6/11    2020/6/12    2020/6/13    2020/6/14    2020/6/15    2020/6/16 \n",
      " 1.824763365  0.283901925  0.535542932  1.793559307  1.485105983  0.895542932 \n",
      "   2020/6/17    2020/6/20    2020/6/21    2020/6/22    2020/6/23    2020/6/25 \n",
      " 0.332697867  1.567526558  0.101883593  0.065898010 -0.570914307 -0.709710249 \n",
      "   2020/6/26    2020/6/27    2020/6/29    2020/6/30     2020/7/1     2020/7/2 \n",
      " 0.311104025  0.481104025 -0.475695832 -0.410867141 -0.146522565 -0.151304090 \n",
      "    2020/7/3     2020/7/4     2020/7/5     2020/7/6     2020/7/9    2020/7/11 \n",
      " 1.316322500  1.033087651  0.842710326  4.183524600  0.596322500  0.137881636 \n",
      "   2020/7/12    2020/7/13    2020/7/14    2020/7/15    2020/7/16    2020/7/18 \n",
      "-1.036510106 -1.298103948  0.528318585  0.899865261  5.199132859  0.051506269 \n",
      "   2020/7/20    2020/7/21    2020/7/22    2020/7/23    2020/7/25    2020/7/26 \n",
      "-1.311338797  1.035508226  0.832320543 -0.163712206 -0.610134739  0.046677578 \n",
      "   2020/7/28    2020/7/29    2020/7/30    2020/7/31     2020/8/1     2020/8/2 \n",
      "-1.248540897 -1.066899890 -0.850087573 -1.201291631  1.126677578  1.273100110 \n",
      "    2020/8/3     2020/8/4     2020/8/5     2020/8/6     2020/8/8     2020/8/9 \n",
      " 0.628695910 -0.377289674 -1.020134739 -1.991338797 -1.181728581 -1.632885473 \n",
      "   2020/8/10    2020/8/11    2020/8/15    2020/8/16    2020/8/17    2020/8/18 \n",
      "-1.248930681  0.231930759  0.886322500  1.682697867  0.075508226 -0.582071199 \n",
      "   2020/8/19    2020/8/20    2020/8/21    2020/8/22    2020/8/25    2020/8/26 \n",
      "-0.735306048 -0.457289674 -1.416899890 -0.138930681  0.849912427  3.252273377 \n",
      "   2020/8/27    2020/8/28    2020/8/30    2020/8/31     2020/9/1     2020/9/2 \n",
      " 2.121116485 -1.575306048  1.239510184  1.220289751 -1.352071199  1.546322500 \n",
      "    2020/9/4     2020/9/6     2020/9/9    2020/9/11    2020/9/12    2020/9/13 \n",
      " 3.815118442  0.289475477 -2.589697789 -2.854916264 -3.169744955 -1.588493731 \n",
      "   2020/9/14    2020/9/17    2020/9/20    2020/9/21    2020/9/22    2020/9/23 \n",
      "-1.918493731 -0.169320465 -1.534491774 -0.736522565 -0.727726623  2.039510184 \n",
      "   2020/9/24    2020/9/26    2020/9/27    2020/9/28    2020/9/29    2020/9/30 \n",
      " 2.753134817 -0.035661126 -1.333677500 -1.683287716 -2.635695832 -2.630914307 \n",
      "   2020/10/1    2020/10/2    2020/10/3    2020/10/4    2020/10/5    2020/10/6 \n",
      "-1.810100032 -2.258506191  0.975920257  0.274326415 -0.286440693  0.361965465 \n",
      "   2020/10/7    2020/10/8    2020/10/9   2020/10/10   2020/10/11   2020/10/13 \n",
      " 0.002745033 -0.553287716 -2.487726623 -2.267679457 -1.473287716 -1.070879600 \n",
      "  2020/10/15   2020/10/17   2020/10/18   2020/10/19   2020/10/20   2020/10/21 \n",
      " 0.827514099  1.242342790  1.199934674  0.635495767  2.353559307 -2.326912349 \n",
      "  2020/10/22   2020/10/23   2020/10/24   2020/10/26   2020/10/28   2020/10/29 \n",
      "-1.630879600 -0.168471484 -0.450065326 -1.618471484  0.380748948  0.694716199 \n",
      "  2020/10/30   2020/10/31    2020/11/1    2020/11/2    2020/11/3    2020/11/4 \n",
      " 1.279934674 -0.754504233 -1.374067284 -1.384067284 -2.642083658 -2.865708291 \n",
      "   2020/11/5    2020/11/6    2020/11/7    2020/11/8    2020/11/9   2020/11/10 \n",
      " 0.141528516  0.693169523 -0.351659168 -0.026877643 -1.266487859 -0.641659168 \n",
      "  2020/11/12   2020/11/13   2020/11/16   2020/11/18   2020/11/19   2020/11/20 \n",
      " 2.409155106 -1.507644751  2.021965465  4.517124315  4.345187855  2.647124315 \n",
      "  2020/11/21   2020/11/22   2020/11/23   2020/11/24   2020/11/25   2020/11/27 \n",
      " 1.655530473  2.438375538  0.254326415 -0.598861268 -0.652048952 -1.704812145 \n",
      "  2020/11/28   2020/11/29   2020/11/30    2020/12/1    2020/12/2    2020/12/4 \n",
      "-1.049251052 -1.960455110 -0.432485901  0.242732573  0.250748948 -1.015626419 \n",
      "   2020/12/6    2020/12/7    2020/12/8    2020/12/9   2020/12/10   2020/12/11 \n",
      "-1.260030620 -1.697657210 -1.288861268 -0.784032578 -2.215283801 -2.926050909 \n",
      "  2020/12/12   2020/12/13   2020/12/14   2020/12/15   2020/12/18   2020/12/19 \n",
      "-2.008471484 -3.187691917 -2.596050909 -1.642048952  0.689579596 -1.264812145 \n",
      "  2020/12/20   2020/12/21   2020/12/22   2020/12/25   2020/12/26   2020/12/27 \n",
      "-1.484469527 -0.583218303  0.211953006 -1.805626419 -0.584859311 -0.766842936 \n",
      "  2020/12/28   2020/12/30   2020/12/31     2021/1/1     2021/1/2     2021/1/3 \n",
      "-1.694812145 -0.643997871 -0.949653295 -1.912061411 -0.744434821 -1.048012288 \n",
      "    2021/1/4     2021/1/5     2021/1/6     2021/1/8     2021/1/9    2021/1/10 \n",
      "-0.498402072 -2.102451195 -3.085236635 -3.302863226 -1.584045037 -1.671247137 \n",
      "   2021/1/11    2021/1/13    2021/1/16    2021/1/17    2021/1/18    2021/1/19 \n",
      "-0.670043079 -0.401589755 -1.350857353 -0.750857353 -0.352404029 -1.502061411 \n",
      "   2021/1/20    2021/1/21    2021/1/22    2021/1/23    2021/1/25    2021/1/26 \n",
      "-2.254422361 -2.613642794 -3.323253010 -1.732828520 -2.447267427 -2.710065326 \n",
      "   2021/1/28    2021/1/29    2021/1/30    2021/1/31     2021/2/1     2021/2/2 \n",
      "-2.166877643 -2.523689959 -2.803642794 -0.718046994 -1.707657210 -2.075673585 \n",
      "    2021/2/3     2021/2/5     2021/2/6     2021/2/7     2021/2/8     2021/2/9 \n",
      "-2.208861268 -2.249640836 -2.143655253 -0.888826562 -3.184469527 -2.623642794 \n",
      "   2021/2/10    2021/2/11    2021/2/12    2021/2/13    2021/2/14    2021/2/15 \n",
      "-2.483642794 -2.272048952 -1.955673585 -1.551234678  1.176344747  1.767938589 \n",
      "   2021/2/16    2021/2/17    2021/2/19    2021/2/20    2021/2/21    2021/2/22 \n",
      "-0.516016203 -1.659251052 -1.664469527  1.874750905 -1.550030620  0.017548805 \n",
      "   2021/2/23    2021/2/24    2021/2/25    2021/2/27    2021/2/28     2021/3/1 \n",
      " 1.169189812  1.156002129 -1.866063369 -1.569251052 -1.494422361 -1.236453153 \n",
      "    2021/3/2     2021/3/3     2021/3/5     2021/3/6     2021/3/8    2021/3/10 \n",
      "-1.356063369  0.035187855 -1.974032578 -1.796016203 -2.314859311 -0.612061411 \n",
      "   2021/3/13    2021/3/14    2021/3/15    2021/3/16    2021/3/17    2021/3/18 \n",
      "-0.974859311 -0.232061411 -0.022828520 -0.285673585  0.267514099 -2.328471484 \n",
      "   2021/3/19    2021/3/20    2021/3/21    2021/3/22    2021/3/23    2021/3/24 \n",
      "-1.194422361 -0.900420404  0.072377496  1.297206187  1.447595971  0.962767280 \n",
      "   2021/3/25    2021/3/26    2021/3/28    2021/3/29    2021/3/30    2021/3/31 \n",
      " 0.914361121  0.088765322  0.181138732  0.811138732  0.114716199  0.513169523 \n"
     ]
    }
   ],
   "source": [
    "# Afficher les coefficients et les résidus du modèle\n",
    "print(coef(rls1))\n",
    "print(residuals(rls1))"
   ]
  },
  {
   "cell_type": "code",
   "execution_count": 32,
   "id": "da5db4b4",
   "metadata": {
    "ExecuteTime": {
     "end_time": "2023-05-26T00:56:20.110266300Z",
     "start_time": "2023-05-26T00:56:20.015513800Z"
    }
   },
   "outputs": [
    {
     "data": {
      "text/plain": "\nCall:\nlm(formula = Température ~ Humidité, data = train)\n\nResiduals:\n    Min      1Q  Median      3Q     Max \n-3.6857 -1.2120 -0.3281  0.7054 17.8423 \n\nCoefficients:\n            Estimate Std. Error t value Pr(>|t|)    \n(Intercept) 3.439159   0.102234   33.64   <2e-16 ***\nHumidité    1.526564   0.009883  154.46   <2e-16 ***\n---\nSignif. codes:  0 '***' 0.001 '**' 0.01 '*' 0.05 '.' 0.1 ' ' 1\n\nResidual standard error: 1.906 on 6208 degrees of freedom\nMultiple R-squared:  0.7935,\tAdjusted R-squared:  0.7935 \nF-statistic: 2.386e+04 on 1 and 6208 DF,  p-value: < 2.2e-16\n"
     },
     "metadata": {},
     "output_type": "display_data"
    }
   ],
   "source": [
    "# Afficher le résumé du modèle\n",
    "summary(rls1)"
   ]
  },
  {
   "cell_type": "markdown",
   "id": "a84f5690",
   "metadata": {},
   "source": [
    "*Qualité du modèle*\n",
    "\n",
    " > Le R² ajusté: On a la valeur de R deux (R²) est 0.7977 est proche de 1 ce que signifie que le model est bon.\n",
    "\n",
    " > Le RSS (Residual Sum of Squares): plus le RSS est petit, plus le modèle est bon, et dans notre cas le RSS =1.885 n'est pas assez petit mais pour un degré de 6208 !.\n",
    "\n",
    "on remarque que notre pont est différente à 0(=1.535535) et la valeur significatif <2e-16 *** est inférieure à 0.001"
   ]
  },
  {
   "cell_type": "code",
   "execution_count": 33,
   "id": "72c01667",
   "metadata": {
    "ExecuteTime": {
     "end_time": "2023-05-26T00:56:20.110266300Z",
     "start_time": "2023-05-26T00:56:20.055855400Z"
    }
   },
   "outputs": [
    {
     "data": {
      "text/html": "<table class=\"dataframe\">\n<caption>A matrix: 2 × 2 of type dbl</caption>\n<thead>\n\t<tr><th></th><th scope=col>2.5 %</th><th scope=col>97.5 %</th></tr>\n</thead>\n<tbody>\n\t<tr><th scope=row>(Intercept)</th><td>3.238785</td><td>3.639534</td></tr>\n\t<tr><th scope=row>Humidité</th><td>1.507194</td><td>1.545934</td></tr>\n</tbody>\n</table>\n",
      "text/markdown": "\nA matrix: 2 × 2 of type dbl\n\n| <!--/--> | 2.5 % | 97.5 % |\n|---|---|---|\n| (Intercept) | 3.238785 | 3.639534 |\n| Humidité | 1.507194 | 1.545934 |\n\n",
      "text/latex": "A matrix: 2 × 2 of type dbl\n\\begin{tabular}{r|ll}\n  & 2.5 \\% & 97.5 \\%\\\\\n\\hline\n\t(Intercept) & 3.238785 & 3.639534\\\\\n\tHumidité & 1.507194 & 1.545934\\\\\n\\end{tabular}\n",
      "text/plain": "            2.5 %    97.5 %  \n(Intercept) 3.238785 3.639534\nHumidité    1.507194 1.545934"
     },
     "metadata": {},
     "output_type": "display_data"
    }
   ],
   "source": [
    " confint.default(rls1)"
   ]
  },
  {
   "cell_type": "markdown",
   "id": "4295e396",
   "metadata": {},
   "source": [
    "on constate que l'intervalle de confiance pour la ponte ne contient pas zero ([1.516446 , 1.554624]) alors c'est bon/il ya une bonne corrélation entre les deux variables"
   ]
  },
  {
   "cell_type": "markdown",
   "id": "4852f2c0",
   "metadata": {},
   "source": [
    "##### Teste de la validité du modèle :\n",
    "I. Le modèle de ***rls1*** est considéré comme valide si les résidus sont:   **Indépendants:**\n",
    "> **Test de Durbin-Watson:**\n",
    "> Tester l’hypothèse nulle H0 = les résidus sont indépendants.\n",
    "> \"Si la p-value < 0,05 l’hypothèse est rejetée\""
   ]
  },
  {
   "cell_type": "code",
   "execution_count": 34,
   "id": "310b51e3",
   "metadata": {
    "ExecuteTime": {
     "end_time": "2023-05-26T00:56:23.080169500Z",
     "start_time": "2023-05-26T00:56:20.094639300Z"
    }
   },
   "outputs": [
    {
     "name": "stderr",
     "output_type": "stream",
     "text": [
      "Loading required package: carData\n",
      "\n"
     ]
    },
    {
     "data": {
      "text/plain": " lag Autocorrelation D-W Statistic p-value\n   1       0.5999448     0.8000845       0\n Alternative hypothesis: rho != 0"
     },
     "metadata": {},
     "output_type": "display_data"
    },
    {
     "name": "stdout",
     "output_type": "stream",
     "text": [
      "[1] \"H0 est rejeté!!!\"\n"
     ]
    }
   ],
   "source": [
    " library(car)\n",
    "library(carData)\n",
    "durbinWatsonTest(rls1)\n",
    "print(\"H0 est rejeté!!!\")"
   ]
  },
  {
   "cell_type": "markdown",
   "id": "cec80060",
   "metadata": {},
   "source": [
    "II. Le modèle de ***rls1*** est considéré comme valide si les résidus sont:   **Distribués selon une loi normale de moyenne0**\n",
    "> **Test de Shapiro-Wilk**\n",
    "> Tester H0 = les résidus suivent une loi normale.\n",
    "> Si la p-value < 0,05 l’hypothèse est rejetée"
   ]
  },
  {
   "cell_type": "code",
   "execution_count": 35,
   "id": "69f4a268",
   "metadata": {
    "ExecuteTime": {
     "end_time": "2023-05-26T00:56:23.189546100Z",
     "start_time": "2023-05-26T00:56:23.111453600Z"
    }
   },
   "outputs": [
    {
     "data": {
      "text/plain": "\n\tShapiro-Wilk normality test\n\ndata:  residus[3:5000]\nW = 0.86016, p-value < 2.2e-16\n"
     },
     "metadata": {},
     "output_type": "display_data"
    },
    {
     "name": "stdout",
     "output_type": "stream",
     "text": [
      "[1] \"H0 est rejeté!!!\"\n"
     ]
    }
   ],
   "source": [
    "residus<- residuals(rls1)\n",
    "shapiro.test(residus[3:5000])\n",
    "print(\"H0 est rejeté!!!\")"
   ]
  },
  {
   "cell_type": "markdown",
   "id": "18af375d",
   "metadata": {},
   "source": [
    "III. Le modèle de ***rls1*** est considéré comme valide si les résidus sont:   **Distribués de façon homogène (i.e. varianceconstante)**\n",
    "> **Test de Breush-Pagan**\n",
    "> Tester H0 = les résidus sont distribués de façon homogène.\n",
    "> Si la p-value < 0,05 l’hypothèse est rejetée"
   ]
  },
  {
   "cell_type": "code",
   "execution_count": 36,
   "id": "7fe6097f",
   "metadata": {
    "ExecuteTime": {
     "end_time": "2023-05-26T00:56:23.283293100Z",
     "start_time": "2023-05-26T00:56:23.174001400Z"
    }
   },
   "outputs": [
    {
     "data": {
      "text/plain": "Non-constant Variance Score Test \nVariance formula: ~ fitted.values \nChisquare = 12.67529, Df = 1, p = 0.00037052"
     },
     "metadata": {},
     "output_type": "display_data"
    },
    {
     "name": "stdout",
     "output_type": "stream",
     "text": [
      "[1] \"H0 est rejeté!!!\"\n"
     ]
    }
   ],
   "source": [
    " ncvTest(rls1)\n",
    "print(\"H0 est rejeté!!!\")"
   ]
  },
  {
   "cell_type": "markdown",
   "id": "0c531cd4",
   "metadata": {},
   "source": [
    "**alors rls1 n'est pas valide!!!!!!**"
   ]
  },
  {
   "cell_type": "code",
   "execution_count": 37,
   "id": "a77ed54b",
   "metadata": {
    "ExecuteTime": {
     "end_time": "2023-05-26T00:56:23.690689700Z",
     "start_time": "2023-05-26T00:56:23.205175Z"
    }
   },
   "outputs": [
    {
     "name": "stderr",
     "output_type": "stream",
     "text": [
      "\u001B[1m\u001B[22m`geom_smooth()` using formula = 'y ~ x'\n"
     ]
    },
    {
     "data": {
      "text/plain": "plot without title",
      "image/png": "[encoded data removed]"
     },
     "metadata": {
      "image/png": {
       "width": 420,
       "height": 420
      }
     },
     "output_type": "display_data"
    }
   ],
   "source": [
    "#visualiser les valeurs prédit et les vraies valeurs .\n",
    "predicted_temp_simple<-predict(rls1,newdata=test)\n",
    "ggplot(data=test, aes(x=predicted_temp_simple, y=test$Température)) +\n",
    "  geom_point(color=\"blue\") +\n",
    "  geom_smooth(method=\"lm\", se=FALSE, color=\"red\") +\n",
    "  labs(title=\"Courbe de prédiction\", x=\"Valeurs prédites\", y=\"Vraies valeurs\") +\n",
    "  theme_minimal()"
   ]
  },
  {
   "cell_type": "markdown",
   "id": "fd618fc5",
   "metadata": {},
   "source": [
    "#### IV.Régression linéaire multiple"
   ]
  },
  {
   "cell_type": "code",
   "execution_count": 38,
   "id": "1acce75d",
   "metadata": {
    "ExecuteTime": {
     "end_time": "2023-05-26T00:56:24.018722100Z",
     "start_time": "2023-05-26T00:56:23.706311400Z"
    }
   },
   "outputs": [
    {
     "name": "stderr",
     "output_type": "stream",
     "text": [
      "Loading required package: boot\n",
      "\n",
      "\n",
      "Attaching package: 'boot'\n",
      "\n",
      "\n",
      "The following object is masked from 'package:car':\n",
      "\n",
      "    logit\n",
      "\n",
      "\n",
      "The following object is masked from 'package:survival':\n",
      "\n",
      "    aml\n",
      "\n",
      "\n",
      "The following object is masked from 'package:lattice':\n",
      "\n",
      "    melanoma\n",
      "\n",
      "\n",
      "Loading required package: dplyr\n",
      "\n",
      "\n",
      "Attaching package: 'dplyr'\n",
      "\n",
      "\n",
      "The following object is masked from 'package:car':\n",
      "\n",
      "    recode\n",
      "\n",
      "\n",
      "The following objects are masked from 'package:Hmisc':\n",
      "\n",
      "    src, summarize\n",
      "\n",
      "\n",
      "The following objects are masked from 'package:stats':\n",
      "\n",
      "    filter, lag\n",
      "\n",
      "\n",
      "The following objects are masked from 'package:base':\n",
      "\n",
      "    intersect, setdiff, setequal, union\n",
      "\n",
      "\n",
      "Loading required package: purrr\n",
      "\n",
      "\n",
      "Attaching package: 'purrr'\n",
      "\n",
      "\n",
      "The following object is masked from 'package:car':\n",
      "\n",
      "    some\n",
      "\n",
      "\n",
      "The following object is masked from 'package:caret':\n",
      "\n",
      "    lift\n",
      "\n",
      "\n",
      "Loading required package: MASS\n",
      "\n",
      "\n",
      "Attaching package: 'MASS'\n",
      "\n",
      "\n",
      "The following object is masked from 'package:dplyr':\n",
      "\n",
      "    select\n",
      "\n",
      "\n",
      "\n",
      "Attaching package: 'QuantPsyc'\n",
      "\n",
      "\n",
      "The following object is masked from 'package:base':\n",
      "\n",
      "    norm\n",
      "\n",
      "\n"
     ]
    }
   ],
   "source": [
    " library(carData)\n",
    "library(car)\n",
    "library(ggplot2)\n",
    "library(QuantPsyc)\n",
    "model_multiple1 = lm(Température~ Humidité + Précipitation  + Vitesse_Vent  , data = train)\n",
    "model_multiple2 = lm(Température~ Humidité + Vitesse_Vent  , data = train)\n",
    "model_multiple3 = lm(Température~ Humidité + Précipitation  , data = train)"
   ]
  },
  {
   "cell_type": "code",
   "execution_count": 39,
   "id": "b1a9a05e",
   "metadata": {
    "ExecuteTime": {
     "end_time": "2023-05-26T00:56:24.065617100Z",
     "start_time": "2023-05-26T00:56:24.018722100Z"
    }
   },
   "outputs": [
    {
     "data": {
      "text/html": "<table class=\"dataframe\">\n<caption>A data.frame: 3 × 2</caption>\n<thead>\n\t<tr><th></th><th scope=col>df</th><th scope=col>AIC</th></tr>\n\t<tr><th></th><th scope=col>&lt;dbl&gt;</th><th scope=col>&lt;dbl&gt;</th></tr>\n</thead>\n<tbody>\n\t<tr><th scope=row>model_multiple1</th><td>5</td><td>25254.50</td></tr>\n\t<tr><th scope=row>model_multiple2</th><td>4</td><td>25437.36</td></tr>\n\t<tr><th scope=row>model_multiple3</th><td>4</td><td>25288.41</td></tr>\n</tbody>\n</table>\n",
      "text/markdown": "\nA data.frame: 3 × 2\n\n| <!--/--> | df &lt;dbl&gt; | AIC &lt;dbl&gt; |\n|---|---|---|\n| model_multiple1 | 5 | 25254.50 |\n| model_multiple2 | 4 | 25437.36 |\n| model_multiple3 | 4 | 25288.41 |\n\n",
      "text/latex": "A data.frame: 3 × 2\n\\begin{tabular}{r|ll}\n  & df & AIC\\\\\n  & <dbl> & <dbl>\\\\\n\\hline\n\tmodel\\_multiple1 & 5 & 25254.50\\\\\n\tmodel\\_multiple2 & 4 & 25437.36\\\\\n\tmodel\\_multiple3 & 4 & 25288.41\\\\\n\\end{tabular}\n",
      "text/plain": "                df AIC     \nmodel_multiple1 5  25254.50\nmodel_multiple2 4  25437.36\nmodel_multiple3 4  25288.41"
     },
     "metadata": {},
     "output_type": "display_data"
    },
    {
     "data": {
      "text/html": "<table class=\"dataframe\">\n<caption>A data.frame: 3 × 2</caption>\n<thead>\n\t<tr><th></th><th scope=col>df</th><th scope=col>BIC</th></tr>\n\t<tr><th></th><th scope=col>&lt;dbl&gt;</th><th scope=col>&lt;dbl&gt;</th></tr>\n</thead>\n<tbody>\n\t<tr><th scope=row>model_multiple1</th><td>5</td><td>25288.17</td></tr>\n\t<tr><th scope=row>model_multiple2</th><td>4</td><td>25464.30</td></tr>\n\t<tr><th scope=row>model_multiple3</th><td>4</td><td>25315.35</td></tr>\n</tbody>\n</table>\n",
      "text/markdown": "\nA data.frame: 3 × 2\n\n| <!--/--> | df &lt;dbl&gt; | BIC &lt;dbl&gt; |\n|---|---|---|\n| model_multiple1 | 5 | 25288.17 |\n| model_multiple2 | 4 | 25464.30 |\n| model_multiple3 | 4 | 25315.35 |\n\n",
      "text/latex": "A data.frame: 3 × 2\n\\begin{tabular}{r|ll}\n  & df & BIC\\\\\n  & <dbl> & <dbl>\\\\\n\\hline\n\tmodel\\_multiple1 & 5 & 25288.17\\\\\n\tmodel\\_multiple2 & 4 & 25464.30\\\\\n\tmodel\\_multiple3 & 4 & 25315.35\\\\\n\\end{tabular}\n",
      "text/plain": "                df BIC     \nmodel_multiple1 5  25288.17\nmodel_multiple2 4  25464.30\nmodel_multiple3 4  25315.35"
     },
     "metadata": {},
     "output_type": "display_data"
    }
   ],
   "source": [
    "##  Comparer les trois modèles:\n",
    "##          ◦ Critère d’information d’Akaike (plus c’est petit, mieux est le modèle)\n",
    "AIC(model_multiple1,model_multiple2,model_multiple3)\n",
    "##          ◦ Critère d’information Bayesien (plus c’est petit, mieux est le modèle)\n",
    "BIC(model_multiple1,model_multiple2,model_multiple3)"
   ]
  },
  {
   "cell_type": "code",
   "execution_count": 40,
   "id": "581d8464",
   "metadata": {
    "ExecuteTime": {
     "end_time": "2023-05-26T00:56:24.143906400Z",
     "start_time": "2023-05-26T00:56:24.065617100Z"
    }
   },
   "outputs": [
    {
     "name": "stdout",
     "output_type": "stream",
     "text": [
      "[1]    4.000 7629.287\n",
      "[1]    3.000 7812.146\n",
      "[1]    3.000 7663.197\n"
     ]
    }
   ],
   "source": [
    "## utilisant extractAIC()\n",
    "print(extractAIC(model_multiple1))\n",
    "print(extractAIC(model_multiple2))\n",
    "print(extractAIC(model_multiple3))"
   ]
  },
  {
   "cell_type": "markdown",
   "id": "da21cfb7",
   "metadata": {},
   "source": [
    "on conclu que le modele model_multiple1 est mieux parmi ces modeles mais cela ne signifie que c'est le meilleur!!!"
   ]
  },
  {
   "cell_type": "code",
   "execution_count": 41,
   "id": "9cce7cbb",
   "metadata": {
    "ExecuteTime": {
     "end_time": "2023-05-26T00:56:24.988004200Z",
     "start_time": "2023-05-26T00:56:24.097008Z"
    }
   },
   "outputs": [
    {
     "data": {
      "text/plain": "plot without title",
      "image/png": "[encoded data removed]"
     },
     "metadata": {
      "image/png": {
       "width": 420,
       "height": 420
      }
     },
     "output_type": "display_data"
    }
   ],
   "source": [
    " library(ggplot2)\n",
    "ggplot(train, aes(x = Humidité, y = Température)) +\n",
    "  geom_point(aes(size = Précipitation, color = Vitesse_Vent)) +\n",
    "  scale_size_continuous(range = c(1, 10)) +\n",
    "  scale_color_continuous(low = \"blue\", high = \"red\") +\n",
    "  geom_smooth(method = \"lm\", formula = y ~ x, se = FALSE, color = \"black\",\n",
    "              linetype = \"dashed\", aes(x = Humidité, y = Température)) +\n",
    "  ggtitle(\"Température en fonction d'Humidité, Précipitation et Vitesse_Vent\") +\n",
    "  xlab(\"Humidité\") + ylab(\"Température\")"
   ]
  },
  {
   "cell_type": "markdown",
   "id": "9a2f7162",
   "metadata": {},
   "source": [
    "**test de multicollinéarité :**\n",
    "La multicollinéarité est une situation dans laquelle deux ou plusieurs variables indépendantes dans un modèle de régression sont fortement corrélées entre elles, ce qui peut causer des problèmes lors de l'estimation des coefficients de régression.\n",
    "\n",
    "Il existe plusieurs méthodes pour détecter la présence de multicollinéarité dans un modèle de régression :"
   ]
  },
  {
   "cell_type": "code",
   "execution_count": 42,
   "id": "a5aa58a0",
   "metadata": {
    "ExecuteTime": {
     "end_time": "2023-05-26T00:56:25.144681400Z",
     "start_time": "2023-05-26T00:56:24.972308700Z"
    }
   },
   "outputs": [
    {
     "data": {
      "text/html": "<table class=\"dataframe\">\n<caption>A matrix: 3 × 3 of type dbl</caption>\n<thead>\n\t<tr><th></th><th scope=col>Précipitation</th><th scope=col>Humidité</th><th scope=col>Vitesse_Vent</th></tr>\n</thead>\n<tbody>\n\t<tr><th scope=row>Précipitation</th><td> 1.00</td><td>-0.09</td><td> 0.47</td></tr>\n\t<tr><th scope=row>Humidité</th><td>-0.09</td><td> 1.00</td><td>-0.15</td></tr>\n\t<tr><th scope=row>Vitesse_Vent</th><td> 0.47</td><td>-0.15</td><td> 1.00</td></tr>\n</tbody>\n</table>\n",
      "text/markdown": "\nA matrix: 3 × 3 of type dbl\n\n| <!--/--> | Précipitation | Humidité | Vitesse_Vent |\n|---|---|---|---|\n| Précipitation |  1.00 | -0.09 |  0.47 |\n| Humidité | -0.09 |  1.00 | -0.15 |\n| Vitesse_Vent |  0.47 | -0.15 |  1.00 |\n\n",
      "text/latex": "A matrix: 3 × 3 of type dbl\n\\begin{tabular}{r|lll}\n  & Précipitation & Humidité & Vitesse\\_Vent\\\\\n\\hline\n\tPrécipitation &  1.00 & -0.09 &  0.47\\\\\n\tHumidité & -0.09 &  1.00 & -0.15\\\\\n\tVitesse\\_Vent &  0.47 & -0.15 &  1.00\\\\\n\\end{tabular}\n",
      "text/plain": "              Précipitation Humidité Vitesse_Vent\nPrécipitation  1.00         -0.09     0.47       \nHumidité      -0.09          1.00    -0.15       \nVitesse_Vent   0.47         -0.15     1.00       "
     },
     "metadata": {},
     "output_type": "display_data"
    }
   ],
   "source": [
    "#      1. Matrice de corrélation:\n",
    "round(cor(weather[, 5:7], use = \"complete.obs\", method = \"pearson\"),2)\n",
    "\n",
    "# Une forte corrélation entre deux variables peut être un indicateur de multicollinéarité , mais dans notre cas les corrélations entre les variables sont assez faibles."
   ]
  },
  {
   "cell_type": "code",
   "execution_count": 43,
   "id": "54349b36",
   "metadata": {
    "ExecuteTime": {
     "end_time": "2023-05-26T00:56:25.144681400Z",
     "start_time": "2023-05-26T00:56:25.034872600Z"
    }
   },
   "outputs": [
    {
     "name": "stdout",
     "output_type": "stream",
     "text": [
      "     Humidité Précipitation  Vitesse_Vent \n",
      "     1.024014      1.331593      1.350116 \n"
     ]
    }
   ],
   "source": [
    "#2.Facteur d'inflation de la variance (VIF):\n",
    "print(vif(model_multiple1))\n",
    "# variance inflation factor :\n",
    "#Le VIF est un indicateur de la quantité de variance dans un coefficient de régression\n",
    "#qui est due à la corrélation avec d'autres variables indépendantes.\n",
    "#Un VIF élevé (par exemple, supérieur à 5) peut indiquer la présence de multicollinéarité \n",
    "#Dans notre cas les valeurs de VIF sont proche de 1 (inférieure à 5), ce qui suggère que\n",
    "#la multicollinéarité entre les variables indépendantes est faible. Par conséquent, \n",
    "#il est peu probable que la multicollinéarité ait un impact significatif sur les résultats de notre modèleD"
   ]
  },
  {
   "cell_type": "code",
   "execution_count": 44,
   "id": "a3cd3b33",
   "metadata": {
    "ExecuteTime": {
     "end_time": "2023-05-26T00:56:25.193698900Z",
     "start_time": "2023-05-26T00:56:25.081748700Z"
    }
   },
   "outputs": [
    {
     "data": {
      "text/plain": "Importance of components:\n                         PC1    PC2    PC3\nStandard deviation     1.236 0.9753 0.7224\nProportion of Variance 0.509 0.3171 0.1740\nCumulative Proportion  0.509 0.8260 1.0000"
     },
     "metadata": {},
     "output_type": "display_data"
    },
    {
     "data": {
      "text/plain": "Plot with title \"weather_pca\"",
      "image/png": "[encoded data removed]"
     },
     "metadata": {
      "image/png": {
       "width": 420,
       "height": 420
      }
     },
     "output_type": "display_data"
    }
   ],
   "source": [
    "#      3.Analyse en composantes principales (PCA) :\n",
    "weather_matrix <- as.matrix(weather[,5:7])\n",
    "weather_pca <- prcomp(weather_matrix, center = TRUE, scale. = TRUE)\n",
    "summary(weather_pca)\n",
    "plot(weather_pca, type = \"l\")\n",
    "\n",
    "#La PCA est une méthode pour réduire la dimensionnalité des données en combinant les variables indépendantes en nouvelles variables appelées composantes principales. Si une ou plusieurs des premières composantes principales expliquent une grande partie de la variance dans les données cela peut indiquer la présence de multicollinéarité."
   ]
  },
  {
   "cell_type": "markdown",
   "id": "2e7c12f9",
   "metadata": {},
   "source": [
    "La \"standard deviation\" représente l'écart-type des scores des observations pour cette composante principale. Elle est utilisée pour mesurer la dispersion des données autour de la moyenne.\n",
    "\n",
    "> La \"proportion of variance\" indique la proportion de la variance totale des données qui est expliquée par cette composante principale, Par exemple, PC1 explique 50,9% de la variance totale des données.\n",
    "\n",
    "> La \"cumulative proportion\" est la somme cumulée des proportions de variance expliquées par les composantes principales précédentes\n",
    "\n",
    "> Par exemple, les deux premières composantes principales (PC1 et PC2) expliquent ensemble 82,6% de la variance totale des données.\n",
    "\n",
    "\n",
    "En général, les composantes principales les plus importantes sont celles qui expliquent la plus grande proportion de variance dans les données. Dans ce cas, PC1 explique plus de la moitié de la variance, ce qui en fait la composante principale la plus importante. Les résultats de l'analyse PCA peuvent être utilisés pour réduire la dimensionnalité des données, pour mieux comprendre les relations entre les variables ou pour visualiser les données dans un espace à deux ou trois dimensions."
   ]
  },
  {
   "cell_type": "code",
   "execution_count": 45,
   "id": "e6dcb574",
   "metadata": {
    "ExecuteTime": {
     "end_time": "2023-05-26T00:56:25.365582700Z",
     "start_time": "2023-05-26T00:56:25.160307800Z"
    }
   },
   "outputs": [
    {
     "data": {
      "text/html": "<table class=\"dataframe\">\n<caption>A anova: 4 × 5</caption>\n<thead>\n\t<tr><th></th><th scope=col>Df</th><th scope=col>Sum Sq</th><th scope=col>Mean Sq</th><th scope=col>F value</th><th scope=col>Pr(&gt;F)</th></tr>\n\t<tr><th></th><th scope=col>&lt;int&gt;</th><th scope=col>&lt;dbl&gt;</th><th scope=col>&lt;dbl&gt;</th><th scope=col>&lt;dbl&gt;</th><th scope=col>&lt;dbl&gt;</th></tr>\n</thead>\n<tbody>\n\t<tr><th scope=row>Humidité</th><td>   1</td><td>86698.2711</td><td>86698.271072</td><td>25394.4123</td><td>0.000000e+00</td></tr>\n\t<tr><th scope=row>Précipitation</th><td>   1</td><td> 1247.8229</td><td> 1247.822899</td><td>  365.4944</td><td>3.272124e-79</td></tr>\n\t<tr><th scope=row>Vitesse_Vent</th><td>   1</td><td>  122.8723</td><td>  122.872329</td><td>   35.9900</td><td>2.095125e-09</td></tr>\n\t<tr><th scope=row>Residuals</th><td>6206</td><td>21187.7111</td><td>    3.414069</td><td>        NA</td><td>          NA</td></tr>\n</tbody>\n</table>\n",
      "text/markdown": "\nA anova: 4 × 5\n\n| <!--/--> | Df &lt;int&gt; | Sum Sq &lt;dbl&gt; | Mean Sq &lt;dbl&gt; | F value &lt;dbl&gt; | Pr(&gt;F) &lt;dbl&gt; |\n|---|---|---|---|---|---|\n| Humidité |    1 | 86698.2711 | 86698.271072 | 25394.4123 | 0.000000e+00 |\n| Précipitation |    1 |  1247.8229 |  1247.822899 |   365.4944 | 3.272124e-79 |\n| Vitesse_Vent |    1 |   122.8723 |   122.872329 |    35.9900 | 2.095125e-09 |\n| Residuals | 6206 | 21187.7111 |     3.414069 |         NA |           NA |\n\n",
      "text/latex": "A anova: 4 × 5\n\\begin{tabular}{r|lllll}\n  & Df & Sum Sq & Mean Sq & F value & Pr(>F)\\\\\n  & <int> & <dbl> & <dbl> & <dbl> & <dbl>\\\\\n\\hline\n\tHumidité &    1 & 86698.2711 & 86698.271072 & 25394.4123 & 0.000000e+00\\\\\n\tPrécipitation &    1 &  1247.8229 &  1247.822899 &   365.4944 & 3.272124e-79\\\\\n\tVitesse\\_Vent &    1 &   122.8723 &   122.872329 &    35.9900 & 2.095125e-09\\\\\n\tResiduals & 6206 & 21187.7111 &     3.414069 &         NA &           NA\\\\\n\\end{tabular}\n",
      "text/plain": "              Df   Sum Sq     Mean Sq      F value    Pr(>F)      \nHumidité         1 86698.2711 86698.271072 25394.4123 0.000000e+00\nPrécipitation    1  1247.8229  1247.822899   365.4944 3.272124e-79\nVitesse_Vent     1   122.8723   122.872329    35.9900 2.095125e-09\nResiduals     6206 21187.7111     3.414069         NA           NA"
     },
     "metadata": {},
     "output_type": "display_data"
    }
   ],
   "source": [
    "#       4.Analyse de variance (ANOVA) :\n",
    "anova(model_multiple1)"
   ]
  },
  {
   "cell_type": "markdown",
   "id": "09cc648c",
   "metadata": {},
   "source": [
    "L'ANOVA peut être utilisée pour évaluer la contribution de chaque variable indépendante à la variance expliquée dans le modèle. Si une variable a une contribution faible à la variance expliquée, cela peut indiquer la présence de multicollinéarité.\n",
    "\n",
    "Ces résultats montrent les résultats d'une analyse de variance (ANOVA) appliquée à un modèle de régression linéaire multiple pour prédire la température en fonction de trois variables indépendantes : l'humidité, la précipitation et la vitesse du vent. et le modèle des deux variables :l'humidité, la précipitation.\n",
    "\n",
    "L'ANOVA évalue si les variables indépendantes ont une influence significative sur la variable dépendante (la température) et fournit des informations sur la qualité du modèle. Dans ce cas, les résultats montrent que les trois variables indépendantes sont significativement liées à la température (p < 0,001 pour chacune des trois variables). Cela signifie que chacune de ces variables contribue significativementà expliquer la variation de la température.Les résultats de l'ANOVA incluent également une évaluation de la qualité globale du modèle. Le F-value, qui mesure le rapport entre la variance expliquée par le modèle et la variance non expliquée, est élevé pour chaque variable indépendante, indiquant que le modèle est globalement significatif. Le modèle dans son ensemble explique également une proportion significative de la variance de la température, car les résidus ont une variance résiduelle faible (mean square residual = 3). Enfin, les signif. codes dans le tableau indiquent que toutes les variables indépendantes ont une influence significative sur la température.\n",
    "\n",
    "En somme, ces résultats suggèrent que les variables indépendantes ont un effet significatif sur la température et que le modèle de régression linéaire multiple est un ajustement approprié pour les données."
   ]
  },
  {
   "cell_type": "code",
   "execution_count": 46,
   "id": "56f0e62b",
   "metadata": {
    "ExecuteTime": {
     "end_time": "2023-05-26T00:56:25.365582700Z",
     "start_time": "2023-05-26T00:56:25.224952900Z"
    }
   },
   "outputs": [
    {
     "name": "stdout",
     "output_type": "stream",
     "text": [
      "  (Intercept)      Humidité Précipitation  Vitesse_Vent \n",
      "   4.20472862    1.50188681   -0.08041562   -0.10739358 \n"
     ]
    },
    {
     "data": {
      "text/html": "<table class=\"dataframe\">\n<caption>A matrix: 4 × 2 of type dbl</caption>\n<thead>\n\t<tr><th></th><th scope=col>2.5 %</th><th scope=col>97.5 %</th></tr>\n</thead>\n<tbody>\n\t<tr><th scope=row>(Intercept)</th><td> 3.95782863</td><td> 4.45162860</td></tr>\n\t<tr><th scope=row>Humidité</th><td> 1.48288711</td><td> 1.52088652</td></tr>\n\t<tr><th scope=row>Précipitation</th><td>-0.09192546</td><td>-0.06890579</td></tr>\n\t<tr><th scope=row>Vitesse_Vent</th><td>-0.14247971</td><td>-0.07230744</td></tr>\n</tbody>\n</table>\n",
      "text/markdown": "\nA matrix: 4 × 2 of type dbl\n\n| <!--/--> | 2.5 % | 97.5 % |\n|---|---|---|\n| (Intercept) |  3.95782863 |  4.45162860 |\n| Humidité |  1.48288711 |  1.52088652 |\n| Précipitation | -0.09192546 | -0.06890579 |\n| Vitesse_Vent | -0.14247971 | -0.07230744 |\n\n",
      "text/latex": "A matrix: 4 × 2 of type dbl\n\\begin{tabular}{r|ll}\n  & 2.5 \\% & 97.5 \\%\\\\\n\\hline\n\t(Intercept) &  3.95782863 &  4.45162860\\\\\n\tHumidité &  1.48288711 &  1.52088652\\\\\n\tPrécipitation & -0.09192546 & -0.06890579\\\\\n\tVitesse\\_Vent & -0.14247971 & -0.07230744\\\\\n\\end{tabular}\n",
      "text/plain": "              2.5 %       97.5 %     \n(Intercept)    3.95782863  4.45162860\nHumidité       1.48288711  1.52088652\nPrécipitation -0.09192546 -0.06890579\nVitesse_Vent  -0.14247971 -0.07230744"
     },
     "metadata": {},
     "output_type": "display_data"
    }
   ],
   "source": [
    "# Afficher les coefficients du modèle\n",
    "print(coef(model_multiple1))\n",
    "confint.default(model_multiple1)"
   ]
  },
  {
   "cell_type": "markdown",
   "id": "a3772c15",
   "metadata": {},
   "source": [
    "on constate que l'intervalle de confiance pour les pontes ne contient pas zero alors c'est bon/il ya une bonne corrélation entre les variables"
   ]
  },
  {
   "cell_type": "markdown",
   "id": "3a462be1",
   "metadata": {},
   "source": [
    "**Qualité du modèle :**\n",
    ">Le R² ajusté: On a la valeur de R deux (R²) est 0.8029 est proche de 1 et meilleur que le premier modele, ce que signifie que le model est bon."
   ]
  },
  {
   "cell_type": "code",
   "execution_count": 47,
   "id": "a0e0da66",
   "metadata": {
    "ExecuteTime": {
     "end_time": "2023-05-26T00:56:25.365582700Z",
     "start_time": "2023-05-26T00:56:25.256201400Z"
    }
   },
   "outputs": [
    {
     "data": {
      "text/plain": "\nCall:\nlm(formula = Température ~ Humidité + Précipitation + Vitesse_Vent, \n    data = train)\n\nResiduals:\n    Min      1Q  Median      3Q     Max \n-3.4373 -1.1415 -0.3184  0.6405 17.7380 \n\nCoefficients:\n               Estimate Std. Error t value Pr(>|t|)    \n(Intercept)    4.204729   0.125972  33.378  < 2e-16 ***\nHumidité       1.501887   0.009694 154.931  < 2e-16 ***\nPrécipitation -0.080416   0.005872 -13.694  < 2e-16 ***\nVitesse_Vent  -0.107394   0.017901  -5.999  2.1e-09 ***\n---\nSignif. codes:  0 '***' 0.001 '**' 0.01 '*' 0.05 '.' 0.1 ' ' 1\n\nResidual standard error: 1.848 on 6206 degrees of freedom\nMultiple R-squared:  0.8061,\tAdjusted R-squared:  0.806 \nF-statistic:  8599 on 3 and 6206 DF,  p-value: < 2.2e-16\n"
     },
     "metadata": {},
     "output_type": "display_data"
    }
   ],
   "source": [
    " summary(model_multiple1)"
   ]
  },
  {
   "cell_type": "markdown",
   "id": "f1171e55",
   "metadata": {},
   "source": [
    "##### Teste de la validité du modèle :\n",
    "I. Le modèle de ***model_multiple1*** est considéré comme valide si les résidus sont:   **Indépendants:**\n",
    "> **Test de Durbin-Watson:**\n",
    "> Tester l’hypothèse nulle H0 = les résidus sont indépendants.\n",
    "> \"Si la p-value < 0,05 l’hypothèse est rejetée\""
   ]
  },
  {
   "cell_type": "code",
   "execution_count": 48,
   "id": "6fe2dba3",
   "metadata": {
    "ExecuteTime": {
     "end_time": "2023-05-26T00:56:26.859721100Z",
     "start_time": "2023-05-26T00:56:25.287451900Z"
    }
   },
   "outputs": [
    {
     "data": {
      "text/plain": " lag Autocorrelation D-W Statistic p-value\n   1       0.5896316     0.8207218       0\n Alternative hypothesis: rho != 0"
     },
     "metadata": {},
     "output_type": "display_data"
    },
    {
     "name": "stdout",
     "output_type": "stream",
     "text": [
      "[1] \"H0 presque accepté!!!! p-value = 0.048\"\n"
     ]
    }
   ],
   "source": [
    " library(\"carData\")\n",
    "library(\"car\")\n",
    "durbinWatsonTest(model_multiple1)\n",
    "print(\"H0 presque accepté!!!! p-value = 0.048\")"
   ]
  },
  {
   "cell_type": "markdown",
   "id": "0ff6fd09",
   "metadata": {},
   "source": [
    "III. Le modèle de ***model_multiple1*** est considéré comme valide si les résidus sont:   **Distribués selon une loi normale de moyenne0**\n",
    "> **Test de Shapiro-Wilk**\n",
    "> Tester H0 = les résidus suivent une loi normale.\n",
    "> Si la p-value < 0,05 l’hypothèse est rejetée"
   ]
  },
  {
   "cell_type": "code",
   "execution_count": 49,
   "id": "da0ad6f9",
   "metadata": {
    "ExecuteTime": {
     "end_time": "2023-05-26T00:56:26.938351900Z",
     "start_time": "2023-05-26T00:56:26.859721100Z"
    }
   },
   "outputs": [
    {
     "data": {
      "text/plain": "\n\tShapiro-Wilk normality test\n\ndata:  residus[3:5000]\nW = 0.84957, p-value < 2.2e-16\n"
     },
     "metadata": {},
     "output_type": "display_data"
    },
    {
     "name": "stdout",
     "output_type": "stream",
     "text": [
      "[1] \"H0 refusé!!!! p-value < 2.2e-16\"\n"
     ]
    }
   ],
   "source": [
    "residus<- residuals(model_multiple1)\n",
    "shapiro.test(residus[3:5000])\n",
    "print(\"H0 refusé!!!! p-value < 2.2e-16\")"
   ]
  },
  {
   "cell_type": "markdown",
   "id": "26f58b34",
   "metadata": {},
   "source": [
    "III. Le modèle de ***model_multiple1*** est considéré comme valide si les résidus sont:   **Distribués de façon homogène (i.e. varianceconstante)**\n",
    "> **Test de Breush-Pagan**\n",
    "> Tester H0 = les résidus sont distribués de façon homogène.\n",
    "> Si la p-value < 0,05 l’hypothèse est rejetée"
   ]
  },
  {
   "cell_type": "code",
   "execution_count": 50,
   "id": "c99af1fa",
   "metadata": {
    "ExecuteTime": {
     "end_time": "2023-05-26T00:56:26.938351900Z",
     "start_time": "2023-05-26T00:56:26.922707900Z"
    }
   },
   "outputs": [
    {
     "data": {
      "text/plain": "Non-constant Variance Score Test \nVariance formula: ~ fitted.values \nChisquare = 4.422464, Df = 1, p = 0.035469"
     },
     "metadata": {},
     "output_type": "display_data"
    },
    {
     "name": "stdout",
     "output_type": "stream",
     "text": [
      "[1] \"H0 accepté!!!! p = 0.17129\"\n"
     ]
    }
   ],
   "source": [
    " ncvTest(model_multiple1)\n",
    "print(\"H0 accepté!!!! p = 0.17129\")"
   ]
  },
  {
   "cell_type": "code",
   "execution_count": 51,
   "id": "982b5b48",
   "metadata": {
    "ExecuteTime": {
     "end_time": "2023-05-26T00:56:28.071719600Z",
     "start_time": "2023-05-26T00:56:26.938351900Z"
    }
   },
   "outputs": [
    {
     "data": {
      "text/plain": "Plot with title \"\"",
      "image/png": "[encoded data removed]"
     },
     "metadata": {
      "image/png": {
       "width": 420,
       "height": 420
      }
     },
     "output_type": "display_data"
    },
    {
     "data": {
      "text/plain": "Plot with title \"\"",
      "image/png": "[encoded data removed]"
     },
     "metadata": {
      "image/png": {
       "width": 420,
       "height": 420
      }
     },
     "output_type": "display_data"
    },
    {
     "data": {
      "text/plain": "Plot with title \"\"",
      "image/png": "[encoded data removed]"
     },
     "metadata": {
      "image/png": {
       "width": 420,
       "height": 420
      }
     },
     "output_type": "display_data"
    },
    {
     "data": {
      "text/plain": "Plot with title \"\"",
      "image/png": "[encoded data removed]"
     },
     "metadata": {
      "image/png": {
       "width": 420,
       "height": 420
      }
     },
     "output_type": "display_data"
    }
   ],
   "source": [
    "#Critere1:courbe residuels vs valeurs predits par model /Critere2:QQ-plot\n",
    "plot(model_multiple1)"
   ]
  },
  {
   "cell_type": "markdown",
   "id": "fe201ecd",
   "metadata": {},
   "source": [
    "##### alors model_multiple1 est valide !!"
   ]
  },
  {
   "cell_type": "code",
   "execution_count": 52,
   "id": "ef135c66",
   "metadata": {
    "ExecuteTime": {
     "end_time": "2023-05-26T00:56:28.189076400Z",
     "start_time": "2023-05-26T00:56:28.071719600Z"
    }
   },
   "outputs": [
    {
     "name": "stdout",
     "output_type": "stream",
     "text": [
      " 2000/1/13  2000/1/17  2000/1/27  2000/1/29  2000/1/31   2000/2/3   2000/2/5 \n",
      "  13.10854   13.40691   13.86268   16.67215   14.94703   17.33094   17.27510 \n",
      " 2000/2/13  2000/2/16  2000/2/17  2000/2/20  2000/2/23  2000/2/28  2000/3/21 \n",
      "  15.73655   17.10239   15.89012   16.25819   16.88135   18.28728   16.89012 \n",
      " 2000/3/24  2000/3/25  2000/3/29  2000/3/31   2000/4/4  2000/4/14  2000/4/15 \n",
      "  14.65524   14.55545   15.07912   15.69810   13.00434   16.90044   16.34236 \n",
      " 2000/4/19   2000/5/4   2000/5/8  2000/5/10  2000/5/20  2000/5/21  2000/5/29 \n",
      "  16.76000   17.89042   17.77078   17.33669   19.20333   18.27832   21.20788 \n",
      "  2000/6/5  2000/6/12  2000/6/14  2000/6/20  2000/6/23  2000/6/25  2000/6/28 \n",
      "  21.07041   20.05245   16.36188   20.87097   21.73879   21.54605   22.16894 \n",
      " 2000/6/29   2000/7/5  2000/7/15  2000/7/16  2000/7/19  2000/7/20  2000/7/26 \n",
      "  22.86427   21.85800   21.70121   24.25557   21.79034   21.99644   22.38236 \n",
      "  2000/8/2   2000/8/8  2000/8/11  2000/8/14  2000/8/15  2000/8/16  2000/8/21 \n",
      "  24.80492   24.16243   23.94683   24.71578   23.99079   25.56234   21.17224 \n",
      " 2000/8/26  2000/8/30   2000/9/8  2000/9/11  2000/9/13  2000/9/14  2000/9/15 \n",
      "  21.46631   26.35801   22.08870   25.21995   24.48207   24.63438   24.33289 \n",
      " 2000/9/16  2000/9/19  2000/9/21  2000/9/29  2000/10/3  2000/10/8 2000/10/10 \n",
      "  23.38667   21.46775   19.37860   19.39517   21.39992   20.83465   21.15034 \n",
      "2000/10/14 2000/10/26 2000/10/28  2000/11/6 2000/11/10 2000/11/13 2000/11/20 \n",
      "  16.26770   19.18463   17.88127   18.42648   15.82365   19.07427   16.61981 \n",
      "2000/11/24 2000/11/28  2000/12/9 2000/12/28 2000/12/30   2001/1/4   2001/1/6 \n",
      "  19.40355   16.64064   17.15235   16.08571   18.72021   16.23770   13.29670 \n",
      "  2001/1/7   2001/1/8  2001/1/13  2001/1/15  2001/1/21  2001/1/23  2001/1/25 \n",
      "  13.81623   12.37192   15.12514   14.86332   13.32844   16.29559   15.40597 \n",
      "  2001/2/3   2001/2/5  2001/2/10  2001/2/19  2001/2/22  2001/2/26  2001/2/27 \n",
      "  15.56513   14.61793   15.64538   14.36370   15.03242   15.16845   14.26647 \n",
      "  2001/3/2   2001/3/7  2001/3/18  2001/3/29   2001/4/3  2001/4/10  2001/4/13 \n",
      "  15.33742   16.58434   15.99742   15.82193   16.54972   17.15257   16.93173 \n",
      " 2001/4/23  2001/4/27   2001/5/5   2001/5/6  2001/5/12  2001/5/18  2001/5/20 \n",
      "  18.35456   16.10667   16.04533   15.01299   17.25899   20.92560   20.11786 \n",
      " 2001/5/22  2001/5/24  2001/5/26   2001/6/4  2001/6/15  2001/6/23  2001/6/26 \n",
      "  19.65656   19.75097   18.21136   21.82578   21.67651   22.51133   20.87087 \n",
      " 2001/6/28   2001/7/4   2001/7/7   2001/7/9  2001/7/13  2001/7/15  2001/7/20 \n",
      "  20.94488   21.87284   20.10712   20.66282   24.17951   22.69468   20.51901 \n",
      " 2001/7/21  2001/8/14  2001/8/17  2001/8/22  2001/8/24  2001/8/31   2001/9/3 \n",
      "  18.09245   23.68378   20.77700   23.77075   24.47371   23.15473   22.95571 \n",
      "  2001/9/6   2001/9/9  2001/9/16  2001/10/1  2001/10/6 2001/10/11 2001/10/12 \n",
      "  23.37808   24.32743   24.76187   23.07982   23.15856   18.12789   19.38231 \n",
      "2001/10/14 2001/10/23  2001/11/6  2001/11/9 2001/11/19 2001/11/23 2001/11/28 \n",
      "  20.77773   21.80099   17.50597   17.10538   16.28674   17.18282   16.13557 \n",
      "2001/11/29  2001/12/4 2001/12/14 2001/12/22 2001/12/23 2001/12/28   2002/1/1 \n",
      "  15.14873   15.11349   18.28003   16.21917   17.66147   12.61702   16.59751 \n",
      " 2002/1/13  2002/1/20  2002/1/23   2002/2/2  2002/2/12  2002/2/13  2002/2/19 \n",
      "  15.60477   13.35660   14.71126   13.11484   16.70446   14.53739   14.41783 \n",
      " 2002/2/20   2002/3/5   2002/3/8  2002/3/14  2002/3/18  2002/3/20  2002/3/24 \n",
      "  13.76015   13.53847   14.30478   14.87248   15.55117   18.35654   18.89720 \n",
      " 2002/3/27  2002/3/28  2002/3/29   2002/4/9  2002/4/12  2002/4/13  2002/4/19 \n",
      "  16.40794   17.91167   18.56544   17.01846   14.19047   15.67422   17.21933 \n",
      " 2002/4/25   2002/5/5   2002/5/6  2002/5/10  2002/5/13  2002/5/14  2002/5/20 \n",
      "  17.66453   15.23338   16.20722   16.37367   17.36834   19.43240   19.53755 \n",
      " 2002/5/25   2002/6/5   2002/6/7   2002/6/8  2002/6/13  2002/6/17  2002/6/18 \n",
      "  19.67901   19.14014   18.73209   17.55811   21.67328   22.83232   22.72600 \n",
      " 2002/6/21  2002/6/27   2002/7/1  2002/7/11  2002/7/12  2002/7/23  2002/7/24 \n",
      "  22.82463   20.98354   18.77343   21.11659   20.86033   21.33538   22.22801 \n",
      " 2002/7/28  2002/7/30   2002/8/2  2002/8/11  2002/8/14  2002/8/15  2002/8/16 \n",
      "  25.32842   24.09038   21.94039   23.47132   22.97350   22.32349   23.29334 \n",
      " 2002/8/20  2002/8/24  2002/8/30   2002/9/9  2002/9/13  2002/9/14  2002/9/19 \n",
      "  23.09485   21.52511   21.98355   21.11778   23.48538   22.54345   22.90911 \n",
      " 2002/9/21  2002/9/30  2002/10/1  2002/10/7  2002/10/9 2002/10/29  2002/11/3 \n",
      "  23.07731   24.08940   23.98401   22.78232   19.03493   18.28351   22.17655 \n",
      " 2002/11/6  2002/11/8 2002/11/11 2002/11/17 2002/11/19 2002/11/22 2002/11/23 \n",
      "  19.98792   15.60262   18.67285   15.76485   16.19376   19.21200   18.05648 \n",
      "2002/11/29  2002/12/1  2002/12/2  2002/12/5 2002/12/10 2002/12/23 2002/12/24 \n",
      "  15.59614   17.39204   17.80693   17.90661   16.16710   17.94146   19.57155 \n",
      "2002/12/27 2002/12/30   2003/1/1   2003/1/4  2003/1/21  2003/1/25  2003/1/28 \n",
      "  15.74694   16.53027   16.46517   18.08574   16.15632   13.79170   14.62525 \n",
      " 2003/1/30  2003/1/31   2003/2/3   2003/2/7   2003/2/9  2003/2/10  2003/2/17 \n",
      "  12.12975   13.47406   14.57712   15.31816   14.41227   14.77578   11.98644 \n",
      " 2003/2/20  2003/2/22  2003/2/23  2003/2/24  2003/2/26   2003/3/6  2003/3/15 \n",
      "  14.58874   16.15680   16.36549   16.38574   16.18232   17.16663   17.21486 \n",
      " 2003/3/18  2003/3/21  2003/3/22  2003/3/24   2003/4/4  2003/4/10  2003/4/11 \n",
      "  16.91808   16.05855   16.43397   17.73759   16.45004   16.69438   17.18616 \n",
      " 2003/4/14  2003/4/18  2003/4/22  2003/4/23  2003/4/28   2003/5/9  2003/5/11 \n",
      "  14.41722   19.21945   15.43794   16.40270   20.84342   17.49251   20.27697 \n",
      " 2003/5/12  2003/5/13   2003/6/3  2003/6/20  2003/6/28   2003/7/8  2003/7/21 \n",
      "  21.03620   20.94497   21.07337   23.96063   22.04778   26.03115   21.87821 \n",
      "  2003/8/1   2003/8/4   2003/8/5  2003/8/26   2003/9/1   2003/9/2   2003/9/7 \n",
      "  21.97218   26.99650   25.36054   22.30191   24.71461   23.86156   22.45415 \n",
      "  2003/9/9  2003/9/11  2003/9/14  2003/9/16  2003/9/25  2003/10/4  2003/10/7 \n",
      "  22.64206   22.06185   22.07904   18.56975   23.58945   22.19160   22.31046 \n",
      " 2003/10/9 2003/10/26 2003/10/31 2003/11/10 2003/11/13 2003/11/19 2003/11/25 \n",
      "  22.36225   19.41558   15.45982   19.15854   18.19232   16.51008   16.47425 \n",
      "2003/11/26 2003/12/16 2003/12/27   2004/1/4   2004/1/5   2004/1/7  2004/1/18 \n",
      "  15.66671   17.59699   15.93568   14.82374   13.49793   14.83565   14.83356 \n",
      " 2004/1/20  2004/1/21   2004/2/1  2004/2/11  2004/2/21  2004/2/22   2004/3/2 \n",
      "  11.49497   12.93042   17.11850   15.15215   14.23154   14.59978   12.94025 \n",
      "  2004/3/9  2004/3/10  2004/3/22  2004/3/23  2004/3/26  2004/3/28  2004/3/31 \n",
      "  16.45658   16.38472   17.52170   14.96841   16.94057   14.05385   14.90706 \n",
      " 2004/4/11  2004/4/16  2004/4/27  2004/4/30   2004/5/1   2004/5/8  2004/5/12 \n",
      "  12.36582   16.39143   18.93480   15.46824   15.87716   15.60146   16.82768 \n",
      " 2004/5/17  2004/5/24  2004/5/27  2004/5/29  2004/5/31   2004/6/3  2004/6/10 \n",
      "  20.04509   18.84651   19.26830   20.28743   22.76663   23.50078   23.29183 \n",
      " 2004/6/15  2004/6/17  2004/6/18   2004/7/1  2004/7/11  2004/7/12  2004/7/20 \n",
      "  22.59715   19.04716   22.38236   23.61200   22.46613   22.22810   23.57764 \n",
      "  2004/8/1   2004/8/5  2004/8/12  2004/8/22  2004/8/29   2004/9/7   2004/9/9 \n",
      "  25.31681   23.72875   23.73832   25.63073   23.10237   23.19248   24.99133 \n",
      " 2004/9/11  2004/9/13  2004/9/15  2004/9/26  2004/10/2  2004/10/6  2004/10/9 \n",
      "  24.33961   23.27956   21.09619   23.80930   22.32261   20.17156   21.25862 \n",
      "2004/10/20 2004/10/24  2004/11/1  2004/11/8 2004/11/10 2004/11/25  2004/12/7 \n",
      "  22.11258   22.76164   17.63098   18.31063   19.91854   15.30338   14.28418 \n",
      "2004/12/15 2004/12/24 2004/12/25 2004/12/27 2004/12/31  2005/1/10  2005/1/14 \n",
      "  15.36664   12.62364   14.55480   12.10266   12.35293   13.49470   13.33918 \n",
      " 2005/1/21  2005/1/24   2005/2/2   2005/2/3   2005/2/6  2005/2/11  2005/2/12 \n",
      "  15.13477   16.12190   11.79215   12.98089   12.96603   12.14273   12.05166 \n",
      " 2005/2/15  2005/2/16  2005/2/20  2005/2/24  2005/2/25   2005/3/3   2005/3/5 \n",
      "  13.34660   11.90355   12.67609   13.81645   14.53554   14.94408   12.61769 \n",
      " 2005/3/24  2005/3/28  2005/3/30   2005/4/3  2005/4/16  2005/4/18  2005/4/20 \n",
      "  17.84788   15.38373   17.01101   16.52629   13.89234   17.67679   15.74290 \n",
      " 2005/4/23  2005/4/24  2005/4/26  2005/4/27  2005/4/28  2005/4/29   2005/5/1 \n",
      "  17.80493   17.18372   18.88636   19.34982   19.34230   20.52565   18.85102 \n",
      " 2005/5/18  2005/5/21  2005/5/27   2005/6/6   2005/6/7  2005/6/19  2005/6/25 \n",
      "  16.21582   20.63285   21.25181   21.51893   22.09897   19.07733   21.11767 \n",
      " 2005/6/27   2005/7/2   2005/7/4   2005/7/9  2005/7/13  2005/7/15  2005/7/22 \n",
      "  20.73565   23.08421   21.91258   23.12385   24.42828   24.10004   24.59240 \n",
      " 2005/7/24   2005/8/3  2005/8/11  2005/8/13  2005/8/14  2005/8/20  2005/8/24 \n",
      "  22.67642   22.81486   22.56698   24.85315   25.31983   24.63294   25.09879 \n",
      "  2005/9/4   2005/9/9  2005/9/17  2005/9/22  2005/9/26  2005/9/28  2005/10/6 \n",
      "  23.27733   21.92771   21.66005   23.03696   20.08242   20.84080   20.59277 \n",
      "2005/10/13 2005/10/16  2005/11/1  2005/11/3 2005/11/12 2005/11/13 2005/11/14 \n",
      "  18.82845   19.09891   18.11061   20.14374   15.32591   14.16930   13.07145 \n",
      "2005/11/17 2005/11/21 2005/11/23 2005/11/24 2005/11/26 2005/11/28  2005/12/4 \n",
      "  17.04154   17.37230   18.75670   17.48814   15.10448   13.91104   18.46008 \n",
      "2005/12/24 2005/12/27 2005/12/29 2005/12/31   2006/1/8  2006/1/10   2006/2/9 \n",
      "  15.80983   15.92637   15.15017   16.18787   12.72533   13.56015   15.72394 \n",
      " 2006/2/10  2006/2/11  2006/2/14  2006/2/19  2006/2/22   2006/3/1  2006/3/10 \n",
      "  17.41025   17.89188   15.37299   13.75734   12.09056   15.46212   15.26677 \n",
      " 2006/3/11  2006/3/12  2006/3/24  2006/3/30   2006/4/7   2006/4/8  2006/4/14 \n",
      "  14.74856   15.29362   17.69978   17.09175   16.91465   17.68806   19.26683 \n",
      " 2006/4/26   2006/5/2  2006/5/11  2006/5/14  2006/5/17  2006/5/18  2006/5/22 \n",
      "  18.94856   19.34524   21.31445   22.57577   21.06290   23.51267   18.84143 \n",
      "  2006/6/7   2006/6/8  2006/6/12  2006/6/15  2006/6/21  2006/6/23  2006/7/10 \n",
      "  22.26354   22.32815   23.17091   21.07092   22.77845   24.11596   23.16828 \n",
      " 2006/7/15  2006/7/25  2006/7/27  2006/7/31   2006/8/1   2006/8/4   2006/8/8 \n",
      "  25.96896   23.29656   23.45199   25.75749   24.46264   23.65916   24.15472 \n",
      " 2006/8/12  2006/8/15  2006/8/20  2006/8/27  2006/8/29   2006/9/6  2006/9/14 \n",
      "  26.06532   22.35723   22.52930   25.51079   24.59132   22.32456   20.22942 \n",
      " 2006/9/15  2006/9/23  2006/9/24  2006/9/29 2006/10/14 2006/10/16 2006/10/17 \n",
      "  19.01602   21.21997   21.86918   23.16778   21.51366   20.80573   21.09333 \n",
      "2006/10/19 2006/10/21 2006/10/26 2006/10/27 2006/10/28 2006/10/29  2006/11/5 \n",
      "  21.17297   23.00520   19.26953   18.85703   19.91835   18.96749   22.13329 \n",
      " 2006/11/6  2006/11/8 2006/11/10 2006/11/12 2006/11/13 2006/11/15 2006/11/27 \n",
      "  22.38885   19.44589   16.98328   18.19018   17.97139   15.47983   15.03714 \n",
      "2006/11/28  2006/12/4 2006/12/10 2006/12/11 2006/12/17   2007/1/2  2007/1/12 \n",
      "  16.38589   16.35026   12.98994   13.42325   13.49793   16.13166   12.59251 \n",
      " 2007/1/19  2007/1/28  2007/1/30  2007/1/31   2007/2/1   2007/2/2   2007/2/4 \n",
      "  12.68038   11.26189   13.26823   14.42070   15.08312   16.59907   14.72477 \n",
      "  2007/2/9  2007/2/15  2007/2/16  2007/2/20  2007/2/21   2007/3/2  2007/3/18 \n",
      "  18.13062   14.40253   14.52539   12.49492   13.19173   17.26211   14.60592 \n",
      " 2007/3/20  2007/3/29   2007/4/2   2007/4/7   2007/4/8   2007/4/9  2007/4/14 \n",
      "  12.64090   14.15921   13.98397   13.26749   15.61122   16.06203   15.63152 \n",
      " 2007/4/18  2007/4/20  2007/4/21   2007/5/4   2007/5/7   2007/5/8  2007/5/13 \n",
      "  18.62446   18.35770   17.75221   16.95101   16.61523   16.42114   20.32493 \n",
      " 2007/5/14  2007/5/17  2007/5/19  2007/5/22  2007/5/24  2007/5/25  2007/5/26 \n",
      "  16.07775   18.06023   21.03927   16.04534   16.99161   17.83841   17.36314 \n",
      "  2007/6/1   2007/6/5   2007/6/7  2007/6/12  2007/6/14  2007/6/16  2007/6/19 \n",
      "  18.58791   20.73907   20.03302   19.55463   19.60940   22.17450   20.21118 \n",
      " 2007/6/21  2007/6/22  2007/6/29  2007/7/10  2007/7/11  2007/7/14  2007/7/27 \n",
      "  18.49994   19.18002   22.23875   21.20358   23.28998   24.77915   24.37253 \n",
      " 2007/7/28  2007/7/29  2007/7/30   2007/8/2   2007/8/6  2007/8/12  2007/8/16 \n",
      "  23.31911   22.96832   22.42864   23.72350   21.30004   22.74452   23.15919 \n",
      " 2007/8/20  2007/8/22   2007/9/5   2007/9/6  2007/9/11  2007/9/26  2007/9/27 \n",
      "  23.33844   21.85925   22.70005   22.73656   21.73657   22.78811   21.29487 \n",
      " 2007/10/7 2007/10/10 2007/10/11 2007/10/26 2007/10/30  2007/11/1  2007/11/5 \n",
      "  21.75715   19.69952   21.50721   18.15431   18.71268   15.14453   14.13075 \n",
      " 2007/11/7  2007/11/8 2007/11/27  2007/12/2 2007/12/23   2008/1/5  2008/1/16 \n",
      "  18.84995   16.01890   15.28737   16.80639   16.43505   14.80675   15.66365 \n",
      " 2008/1/21  2008/1/22  2008/1/29   2008/2/1   2008/2/2   2008/2/8  2008/2/10 \n",
      "  17.39108   16.98660   14.14053   15.79011   15.01669   13.50310   13.92262 \n",
      " 2008/2/22  2008/2/25  2008/2/26  2008/2/29   2008/3/2   2008/3/3   2008/3/7 \n",
      "  17.96020   17.35128   16.96627   16.57147   15.33667   17.08091   12.52906 \n",
      " 2008/3/13  2008/3/15  2008/3/25  2008/3/29   2008/4/1  2008/4/13  2008/4/14 \n",
      "  17.31591   18.67812   14.15653   17.98095   14.34720   13.75079   14.46211 \n",
      " 2008/4/24  2008/4/28  2008/5/11  2008/5/12  2008/5/21  2008/5/26   2008/6/9 \n",
      "  17.81039   18.71151   16.51536   17.21755   18.90591   16.52433   20.75508 \n",
      " 2008/6/14  2008/6/15  2008/6/17  2008/6/18  2008/6/21  2008/6/23   2008/7/3 \n",
      "  22.44055   21.87938   20.22505   20.46873   22.31607   22.45539   19.24446 \n",
      "  2008/7/7  2008/7/11  2008/7/13  2008/7/22   2008/8/5  2008/8/16  2008/8/20 \n",
      "  19.57601   23.31257   20.65208   24.37566   25.72752   21.98131   22.19266 \n",
      " 2008/8/21  2008/8/22  2008/8/23  2008/8/26   2008/9/3  2008/9/15  2008/10/6 \n",
      "  23.63446   24.61817   22.32134   25.16592   23.07482   24.34139   22.92751 \n",
      "2008/10/13 2008/10/19 2008/10/25 2008/10/28  2008/11/3 2008/11/24  2008/12/5 \n",
      "  21.13658   20.69327   21.02594   17.62565   15.10985   17.29167   17.29921 \n",
      " 2008/12/7 2008/12/27 2008/12/29 2008/12/30   2009/1/3   2009/1/5  2009/1/11 \n",
      "  17.07298   14.47130   17.37425   16.04566   16.21023   15.71438   11.89591 \n",
      " 2009/1/14  2009/2/10   2009/3/1   2009/3/8  2009/3/12  2009/3/14  2009/3/19 \n",
      "  14.89125   15.94382   16.38111   17.25533   18.48736   18.96584   17.93096 \n",
      " 2009/3/24  2009/3/27   2009/4/3  2009/4/13  2009/4/15  2009/5/10  2009/5/20 \n",
      "  18.88539   19.40436   15.19501   16.10903   15.56998   19.05907   18.86059 \n",
      "  2009/6/1   2009/6/7  2009/6/11  2009/6/20  2009/6/23   2009/7/9  2009/7/21 \n",
      "  22.91689   19.02578   23.43061   25.48593   23.06774   22.33647   23.22506 \n",
      " 2009/7/23  2009/7/29   2009/8/1  2009/8/13  2009/8/23   2009/9/1   2009/9/7 \n",
      "  25.06872   26.31428   23.21611   25.85522   26.60519   24.01262   24.65496 \n",
      "  2009/9/9  2009/9/20  2009/9/21  2009/9/23  2009/9/24  2009/9/29  2009/9/30 \n",
      "  26.15197   19.21997   19.65011   20.06963   21.47275   22.82686   23.14453 \n",
      "2009/10/10 2009/10/13 2009/10/16 2009/10/20  2009/11/6 2009/11/11 2009/11/18 \n",
      "  22.62282   22.04038   20.74883   20.77981   17.17396   17.81566   20.38750 \n",
      "2009/11/19 2009/11/20 2009/11/25 2009/11/26 2009/11/29  2009/12/5  2009/12/6 \n",
      "  19.10801   17.88772   19.05488   19.13382   16.31037   15.62651   15.08459 \n",
      "2009/12/12 2009/12/15 2009/12/19 2009/12/23 2009/12/24 2009/12/29 2009/12/30 \n",
      "  13.79925   13.36754   16.77851   17.73176   19.25177   16.90352   17.80815 \n",
      "2009/12/31   2010/1/3  2010/1/10  2010/1/13  2010/1/15  2010/1/16  2010/1/17 \n",
      "  15.01404   16.91804   12.96537   19.00561   15.04261   15.48253   15.92234 \n",
      " 2010/1/19  2010/1/27  2010/1/31   2010/2/5   2010/2/9  2010/2/10  2010/2/11 \n",
      "  18.10990   14.64003   14.23185   17.88831   15.70545   16.29055   17.03812 \n",
      " 2010/2/17  2010/2/23  2010/3/13  2010/3/14  2010/3/15  2010/3/20  2010/3/23 \n",
      "  16.09786   18.06552   13.34651   12.89048   13.87224   18.39569   18.39725 \n",
      " 2010/3/26  2010/3/30  2010/4/10  2010/4/12  2010/4/16  2010/4/22  2010/5/10 \n",
      "  17.23885   16.23945   20.05765   17.74466   17.30011   18.63211   19.30457 \n",
      " 2010/5/13  2010/5/15  2010/5/28  2010/5/29   2010/6/1   2010/6/3   2010/6/8 \n",
      "  15.68624   16.68532   18.62452   19.37011   22.45988   22.43088   20.81970 \n",
      " 2010/6/16  2010/6/22  2010/6/25   2010/7/6   2010/7/8  2010/7/13   2010/8/1 \n",
      "  19.72099   21.17459   20.07313   25.26247   24.38229   23.54435   27.28842 \n",
      "  2010/8/4   2010/8/8   2010/8/9  2010/8/12  2010/8/17  2010/8/18  2010/8/27 \n",
      "  23.89844   26.16967   24.09897   25.10121   22.36159   22.77411   26.56429 \n",
      " 2010/8/30  2010/8/31   2010/9/7  2010/9/17  2010/9/18  2010/9/22  2010/9/25 \n",
      "  26.71240   27.42245   23.88787   23.41354   22.34389   23.46497   22.50945 \n",
      " 2010/9/29  2010/10/2  2010/10/5  2010/10/9 2010/10/12 2010/10/20 2010/10/21 \n",
      "  20.59311   20.96977   18.62264   20.03725   19.57265   19.14418   19.20513 \n",
      "2010/10/24 2010/10/31  2010/11/3 2010/11/10 2010/11/13 2010/11/24  2010/12/7 \n",
      "  20.61996   18.17596   16.75141   16.35495   17.33524   17.97017   18.51488 \n",
      " 2010/12/8 2010/12/14 2010/12/31   2011/1/1   2011/1/3   2011/1/9  2011/1/14 \n",
      "  18.28654   16.44896   17.46927   16.78975   15.80314   16.08378   16.22490 \n",
      " 2011/1/16  2011/1/18  2011/1/20  2011/1/21  2011/1/26  2011/1/31   2011/2/2 \n",
      "  15.72505   14.09015   14.35286   13.30472   15.09373   12.85571   11.68657 \n",
      "  2011/2/3   2011/2/8  2011/2/11  2011/2/17  2011/2/19  2011/2/28   2011/3/9 \n",
      "  12.01426   14.27036   14.05042   13.98254   15.28334   14.75447   15.74964 \n",
      " 2011/3/12  2011/3/13  2011/3/28  2011/3/30   2011/4/9  2011/4/16  2011/4/21 \n",
      "  16.11081   16.30866   16.85665   17.35213   20.19615   20.23277   16.65913 \n",
      "  2011/5/3   2011/5/4  2011/5/10  2011/5/15  2011/5/18  2011/5/27  2011/6/11 \n",
      "  18.28009   19.00887   22.22946   23.51440   21.84990   22.35857   21.08652 \n",
      " 2011/6/13  2011/6/17   2011/7/2   2011/7/6   2011/7/7  2011/7/12  2011/7/13 \n",
      "  22.96403   23.10550   25.29083   25.30613   21.91580   23.24313   21.96735 \n",
      " 2011/7/23  2011/7/27  2011/7/31  2011/8/12  2011/8/14  2011/8/15  2011/8/19 \n",
      "  20.98461   26.06327   22.77415   24.88769   25.86488   25.72779   23.47466 \n",
      " 2011/8/21  2011/8/22  2011/8/27   2011/9/7  2011/9/15  2011/9/22  2011/9/27 \n",
      "  23.35982   23.01145   22.96500   22.55321   23.80404   23.29763   24.23016 \n",
      " 2011/9/30  2011/10/3  2011/10/9 2011/10/12 2011/10/14 2011/10/18 2011/10/19 \n",
      "  25.14292   24.65613   20.01935   22.22820   23.57559   20.26070   20.41213 \n",
      "2011/10/20 2011/10/22 2011/10/23 2011/10/26  2011/11/4  2011/11/7 2011/11/11 \n",
      "  20.38623   20.40405   20.06687   18.07490   15.00396   14.62115   18.65049 \n",
      "2011/11/13 2011/11/14 2011/11/15 2011/11/18 2011/11/27 2011/11/29  2011/12/4 \n",
      "  16.56754   16.94102   16.86795   18.00474   16.73584   14.85390   13.21675 \n",
      "2011/12/14 2011/12/21 2011/12/28   2012/1/4   2012/1/5   2012/1/9  2012/1/11 \n",
      "  16.44174   14.59860   14.46211   15.51475   15.13829   12.70508   13.31985 \n",
      " 2012/1/14  2012/1/16  2012/1/28  2012/1/30  2012/1/31   2012/2/2   2012/2/3 \n",
      "  16.26896   14.06243   12.56193   12.71036   12.22446   14.07952   10.74158 \n",
      " 2012/2/10  2012/2/14  2012/2/15  2012/2/16  2012/2/18  2012/2/19  2012/2/22 \n",
      "  11.69755   11.17095   11.33399   12.05927   12.94492   14.36602   13.86785 \n",
      " 2012/2/24  2012/2/28  2012/3/11  2012/3/16  2012/3/23  2012/3/25  2012/3/27 \n",
      "  13.30677   14.21335   12.68331   15.93523   16.38829   17.52174   16.34694 \n",
      " 2012/3/31   2012/4/1   2012/4/7   2012/4/8  2012/4/11  2012/4/12  2012/4/13 \n",
      "  16.44143   16.52141   14.03573   15.15518   16.38206   15.58218   14.34694 \n",
      " 2012/4/17  2012/4/20  2012/4/25  2012/4/26  2012/4/27   2012/5/4  2012/5/11 \n",
      "  14.13827   16.32270   15.90838   16.67950   17.64355   17.27412   19.59017 \n",
      " 2012/5/15  2012/5/16  2012/5/27  2012/5/28   2012/6/3   2012/6/4  2012/6/10 \n",
      "  19.17174   19.12341   18.65449   20.81630   20.90775   21.21745   21.29682 \n",
      " 2012/6/16  2012/6/19  2012/6/20  2012/6/21  2012/6/22  2012/6/30   2012/7/3 \n",
      "  21.91473   20.01808   19.39707   20.55562   21.66533   19.88653   23.50149 \n",
      " 2012/7/12  2012/7/13  2012/7/14  2012/7/15  2012/7/27   2012/8/7   2012/8/8 \n",
      "  21.27866   23.10452   22.65172   21.78927   21.42345   20.96333   24.76960 \n",
      " 2012/8/25  2012/8/27  2012/8/29   2012/9/1   2012/9/2   2012/9/3  2012/9/16 \n",
      "  23.16778   23.67419   23.99060   21.43409   23.52726   23.20547   23.98533 \n",
      " 2012/9/17  2012/9/18  2012/9/20  2012/9/22  2012/9/23  2012/9/26 2012/10/14 \n",
      "  22.95007   24.43482   24.82630   23.81908   24.03714   23.84542   20.70025 \n",
      "2012/10/20 2012/10/30  2012/11/2  2012/11/6  2012/11/7 2012/11/16 2012/11/18 \n",
      "  16.42137   18.13679   23.60706   21.14646   22.72188   18.33738   16.01756 \n",
      "2012/11/19 2012/11/20  2012/12/1  2012/12/2  2012/12/4  2012/12/9 2012/12/13 \n",
      "  17.66078   16.72809   13.07313   12.31403   13.36844   17.23675   16.38743 \n",
      "2012/12/22 2012/12/24   2013/1/3   2013/1/5  2013/1/12  2013/1/16  2013/1/21 \n",
      "  17.81039   15.23052   13.39981   13.64164   15.49973   14.19835   14.88580 \n",
      " 2013/1/22  2013/1/23  2013/1/24  2013/1/28   2013/2/1   2013/2/2   2013/2/5 \n",
      "  14.09658   13.77269   15.35550   16.52120   16.63583   15.37536   14.48261 \n",
      "  2013/2/9  2013/2/21  2013/2/27   2013/3/3   2013/3/6  2013/3/10  2013/3/16 \n",
      "  12.29728   15.74046   13.07526   16.36676   18.21573   16.00309   17.11009 \n",
      " 2013/3/17  2013/3/22  2013/4/11  2013/4/14  2013/4/16  2013/4/17  2013/4/18 \n",
      "  17.58752   16.87429   18.65576   20.04923   21.07053   20.53746   20.43232 \n",
      " 2013/4/27   2013/5/3   2013/5/9  2013/5/21  2013/5/27  2013/5/28   2013/6/5 \n",
      "  17.32520   18.06060   19.63850   15.68732   17.22212   17.10203   19.79275 \n",
      "  2013/6/6  2013/6/10  2013/6/23   2013/7/8  2013/7/17  2013/7/21  2013/7/22 \n",
      "  17.79392   18.45825   19.96117   23.72360   24.47608   21.48332   22.73898 \n",
      " 2013/7/23  2013/7/29   2013/8/8  2013/8/14  2013/8/18  2013/8/24  2013/8/28 \n",
      "  23.12547   21.83203   22.27633   24.16770   24.55803   25.16742   22.38819 \n",
      " 2013/8/31   2013/9/2   2013/9/5  2013/9/17  2013/9/20  2013/9/30  2013/10/2 \n",
      "  23.05072   20.96528   24.04306   22.96882   22.68619   25.02642   25.75358 \n",
      " 2013/10/4  2013/10/7 2013/10/10 2013/10/12 2013/10/14 2013/10/17 2013/10/31 \n",
      "  24.24053   22.36547   24.28681   21.36555   20.71222   22.62195   15.87275 \n",
      " 2013/11/7 2013/11/16 2013/11/18 2013/12/10 2013/12/12 2013/12/14 2013/12/26 \n",
      "  19.63385   12.64294   14.85835   12.31026   14.02331   16.98393   17.94534 \n",
      "2013/12/28 2013/12/30   2014/1/7  2014/1/19  2014/1/25   2014/2/4   2014/2/9 \n",
      "  15.63799   10.93693   12.90303   13.91183   15.13364   14.41184   15.95595 \n",
      "  2014/3/9  2014/3/13  2014/3/14  2014/3/28   2014/4/5  2014/4/12  2014/4/14 \n",
      "  17.61168   14.84438   14.55699   13.37395   16.52287   18.17004   19.14221 \n",
      " 2014/4/19  2014/5/10  2014/5/13  2014/5/26   2014/6/6  2014/6/13   2014/7/2 \n",
      "  17.96935   21.87733   22.07904   15.87382   20.16071   21.56521   20.04750 \n",
      "  2014/7/8   2014/7/9  2014/7/13  2014/7/18  2014/7/27  2014/7/28  2014/7/29 \n",
      "  21.54139   23.70426   21.98480   23.09449   22.36537   21.81290   21.77970 \n",
      " 2014/7/31  2014/8/15  2014/8/19  2014/8/24  2014/9/10  2014/9/18  2014/9/26 \n",
      "  21.78927   25.19535   22.92510   23.88867   23.86300   23.14089   21.97202 \n",
      " 2014/10/6 2014/10/13 2014/10/19 2014/10/22 2014/10/24 2014/10/29  2014/11/4 \n",
      "  19.78533   17.94893   18.46481   18.12135   20.02023   18.50240   16.48357 \n",
      "2014/11/13 2014/11/16 2014/11/18 2014/11/19 2014/11/30  2014/12/4 2014/12/20 \n",
      "  20.54635   16.74211   17.07993   17.82221   15.95786   14.99410   17.37532 \n",
      "2014/12/24 2014/12/26   2015/1/4   2015/1/7   2015/1/8  2015/1/11  2015/1/13 \n",
      "  15.86983   14.74436   13.98911   14.57702   14.27124   15.05678   17.99337 \n",
      " 2015/1/14  2015/1/20  2015/1/26  2015/1/29  2015/1/30   2015/2/4   2015/2/8 \n",
      "  17.63474   12.97320   14.68442   15.74833   17.30036   13.62471   12.76020 \n",
      "  2015/2/9  2015/2/10  2015/2/26   2015/3/3   2015/3/4   2015/3/6   2015/3/7 \n",
      "  12.74112   14.08960   14.85283   17.30849   17.87366   16.18829   15.73139 \n",
      " 2015/3/12  2015/3/14  2015/3/17  2015/3/18  2015/3/23  2015/3/25  2015/3/26 \n",
      "  16.49354   15.36048   14.57634   14.55619   15.49913   14.06698   13.99395 \n",
      "  2015/4/1   2015/4/2   2015/4/4   2015/4/8  2015/4/30  2015/5/11  2015/5/15 \n",
      "  19.77184   20.20710   20.36234   18.33231   18.56143   21.68002   18.82730 \n",
      " 2015/5/16  2015/5/24  2015/5/31   2015/6/8  2015/6/12  2015/6/15  2015/6/25 \n",
      "  18.93272   19.58920   20.88494   22.30470   19.68595   19.10350   21.49843 \n",
      " 2015/6/26   2015/7/1   2015/7/4   2015/7/8   2015/7/9  2015/7/10  2015/7/13 \n",
      "  24.33074   23.53416   23.95580   26.00452   23.47656   22.82158   25.27526 \n",
      " 2015/7/18  2015/7/22  2015/7/23  2015/7/24  2015/7/29  2015/8/19  2015/8/20 \n",
      "  25.29808   25.71141   24.32645   24.53226   25.08581   22.33299   24.13468 \n",
      " 2015/8/24  2015/8/28   2015/9/2   2015/9/4  2015/9/14  2015/9/15  2015/9/19 \n",
      "  21.27776   26.31142   22.11294   19.66408   21.97004   21.56888   23.10139 \n",
      " 2015/9/22 2015/10/15 2015/10/16 2015/10/25 2015/10/26 2015/10/27  2015/11/3 \n",
      "  19.51929   21.30176   20.74723   20.43848   21.87502   20.69364   17.63616 \n",
      " 2015/11/5  2015/11/6  2015/11/8  2015/11/9 2015/11/12 2015/11/24 2015/11/25 \n",
      "  20.00171   19.62954   19.81594   20.14213   19.34025   12.38856   14.52879 \n",
      "2015/11/27 2015/11/28  2015/12/1  2015/12/2  2015/12/7 2015/12/20 2015/12/22 \n",
      "  16.47171   16.57247   14.44190   15.84523   16.01568   16.79759   17.20217 \n",
      "2015/12/29   2016/1/1   2016/1/3   2016/1/6  2016/1/26  2016/1/29   2016/2/5 \n",
      "  16.18077   16.24172   18.51896   14.13034   16.93807   15.81067   15.49432 \n",
      "  2016/2/9  2016/2/20   2016/3/2  2016/3/10  2016/3/11  2016/3/17  2016/3/18 \n",
      "  15.48039   11.78101   13.80576   14.24118   12.87887   16.03639   15.46617 \n",
      " 2016/3/19  2016/3/23  2016/3/27  2016/3/28   2016/4/5  2016/4/13  2016/4/16 \n",
      "  15.67347   14.12157   15.95860   16.66171   15.22321   16.82551   17.97486 \n",
      " 2016/4/20  2016/4/21   2016/5/5  2016/5/10  2016/5/21  2016/5/31   2016/6/1 \n",
      "  15.97981   15.60736   19.85206   16.76861   21.14785   18.97316   21.11134 \n",
      "  2016/6/2   2016/6/4   2016/6/7   2016/6/8   2016/6/9  2016/6/17  2016/6/18 \n",
      "  21.52313   18.25549   22.80585   23.02767   23.42785   17.99060   18.67392 \n",
      " 2016/6/20  2016/6/21  2016/6/23  2016/6/27  2016/6/29   2016/7/2   2016/7/3 \n",
      "  20.62943   19.27152   21.79044   21.01014   23.89479   22.89152   23.49858 \n",
      "  2016/7/5  2016/7/15  2016/7/20  2016/7/23  2016/7/24  2016/7/25  2016/7/27 \n",
      "  23.66830   23.24055   26.48278   23.15953   24.34512   21.67572   24.81986 \n",
      " 2016/7/29   2016/8/8  2016/8/10  2016/8/12  2016/8/15  2016/8/19  2016/8/20 \n",
      "  24.61441   20.02217   23.69192   20.39248   25.08024   22.36108   25.86743 \n",
      " 2016/8/29   2016/9/2   2016/9/8   2016/9/9  2016/9/11  2016/9/13  2016/9/14 \n",
      "  25.26813   25.03744   24.83896   22.35779   23.52377   22.51188   18.45548 \n",
      " 2016/9/15  2016/9/16  2016/9/24  2016/9/30  2016/10/2  2016/10/9 2016/10/15 \n",
      "  18.42084   19.67784   22.44582   21.21342   21.49436   20.81259   19.07948 \n",
      "2016/10/28 2016/10/29  2016/11/6  2016/11/8 2016/11/17 2016/11/20 2016/11/24 \n",
      "  19.35734   19.08700   18.92451   13.90009   14.64253   17.98498   14.45438 \n",
      " 2016/12/3 2016/12/16 2016/12/18 2016/12/25   2017/1/5   2017/1/6   2017/1/9 \n",
      "  18.79466   12.50526   13.51506   13.49451   14.85810   14.89999   14.88827 \n",
      " 2017/1/11  2017/1/12  2017/1/30   2017/2/8  2017/2/11  2017/2/13  2017/2/14 \n",
      "  16.81273   13.47938   13.99387   15.42411   14.60569   15.38594   15.25130 \n",
      " 2017/2/16  2017/2/17  2017/2/19  2017/2/24  2017/2/28   2017/3/5  2017/3/15 \n",
      "  15.46750   16.01068   14.46175   16.83412   15.34194   16.80765   15.12711 \n",
      " 2017/3/18   2017/4/5   2017/4/6   2017/4/8  2017/4/10  2017/4/13  2017/4/16 \n",
      "  15.58626   17.03034   15.89188   16.09935   17.05397   18.34641   18.79206 \n",
      " 2017/4/17  2017/4/19  2017/4/20  2017/4/23  2017/4/25  2017/4/30   2017/5/3 \n",
      "  18.40021   17.50902   20.62775   19.85032   19.00870   17.63876   20.17156 \n",
      "  2017/5/5   2017/5/8  2017/5/11  2017/5/12  2017/5/14  2017/5/25   2017/6/8 \n",
      "  18.73780   20.52932   19.50927   19.12643   18.81624   21.88019   23.69987 \n",
      " 2017/6/13  2017/6/14  2017/6/24  2017/6/28   2017/7/5   2017/7/9  2017/7/15 \n",
      "  23.12295   22.44216   22.63793   21.57282   23.08844   22.24575   22.87394 \n",
      " 2017/7/20  2017/7/22  2017/7/28  2017/7/29   2017/8/5  2017/8/17  2017/8/26 \n",
      "  22.01449   20.17800   24.70086   22.28395   24.43673   24.72396   22.60978 \n",
      " 2017/8/29  2017/9/11  2017/9/12  2017/9/13  2017/9/18  2017/9/19  2017/9/22 \n",
      "  21.74955   19.04833   22.58856   22.94159   18.91858   21.11349   23.13888 \n",
      " 2017/9/23  2017/10/2  2017/10/6 2017/10/11 2017/10/14 2017/10/16 2017/10/29 \n",
      "  23.38221   19.24221   20.82043   17.45201   16.00082   18.47437   19.42509 \n",
      "2017/10/30 2017/10/31  2017/11/3 2017/11/25 2017/11/26 2017/11/30  2017/12/7 \n",
      "  19.98606   19.72109   20.60855   13.24038   13.79287   14.37015   10.37722 \n",
      "2017/12/13 2017/12/26 2017/12/30 2017/12/31   2018/1/2  2018/1/16  2018/1/24 \n",
      "  12.07626   15.65087   15.54751   16.75770   14.28932   13.44384   15.62245 \n",
      " 2018/1/30   2018/2/4   2018/2/5   2018/2/8  2018/2/11  2018/2/14  2018/2/20 \n",
      "  13.02281   10.35083   11.31891   12.57014   13.56102   13.89265   15.55752 \n",
      " 2018/2/21  2018/2/23  2018/2/25  2018/2/26  2018/2/27  2018/3/11  2018/3/18 \n",
      "  16.38571   14.27269   14.59528   15.11063   16.26664   16.04917   16.50041 \n",
      " 2018/3/22  2018/3/29   2018/4/8   2018/4/9  2018/4/10  2018/4/14  2018/4/27 \n",
      "  12.32852   17.14823   15.13715   13.89622   13.95151   15.91317   19.91336 \n",
      "  2018/5/2   2018/5/6   2018/5/8  2018/5/10  2018/5/11  2018/5/12  2018/5/13 \n",
      "  14.29739   19.64274   19.81470   17.81848   17.20486   17.22973   15.66997 \n",
      " 2018/5/19  2018/5/23  2018/5/26  2018/5/27   2018/6/8  2018/6/22  2018/6/23 \n",
      "  19.83857   19.56765   18.98323   19.33581   19.68288   22.26892   22.55447 \n",
      " 2018/7/13  2018/7/22   2018/8/4  2018/8/16  2018/8/23   2018/9/4  2018/9/16 \n",
      "  20.43114   22.53710   27.19134   21.97731   25.69032   22.62804   25.63088 \n",
      " 2018/9/18  2018/9/28  2018/9/30  2018/10/5  2018/10/6  2018/10/7 2018/10/10 \n",
      "  25.78365   22.70386   23.68968   17.70427   21.04096   22.21317   22.71222 \n",
      "2018/10/12 2018/10/16 2018/10/20 2018/10/21 2018/10/26 2018/10/29 2018/10/30 \n",
      "  22.13209   21.12374   17.99658   19.39573   21.13486   14.46209   13.09722 \n",
      " 2018/11/2 2018/11/10 2018/11/13 2018/11/15 2018/11/19 2018/11/21 2018/11/22 \n",
      "  17.33327   14.84961   17.71451   18.22418   15.61397   16.80011   17.98684 \n",
      "2018/11/27  2018/12/2  2018/12/3  2018/12/6  2018/12/9 2018/12/16 2018/12/22 \n",
      "  14.82792   15.89012   17.11027   18.65909   16.77310   16.69399   14.62965 \n",
      "  2019/1/7   2019/1/8  2019/1/22  2019/1/28  2019/1/31   2019/2/4  2019/2/10 \n",
      "  12.78241   12.88316   13.50181   14.81444   16.51453   12.25959   15.05774 \n",
      " 2019/2/12  2019/2/15  2019/2/21   2019/3/1   2019/3/2   2019/3/3  2019/3/10 \n",
      "  16.66356   14.31957   14.75842   15.76039   15.71030   17.52294   15.53540 \n",
      " 2019/3/11  2019/3/13  2019/3/25   2019/4/1   2019/4/9  2019/4/16  2019/4/17 \n",
      "  16.97077   17.59150   16.70201   16.61355   15.82036   18.52646   17.79976 \n",
      " 2019/4/23  2019/4/26   2019/5/2   2019/5/6  2019/5/16  2019/5/17  2019/5/26 \n",
      "  15.18064   15.26648   20.25759   17.87366   19.07089   16.25575   17.69304 \n",
      " 2019/5/30   2019/6/3   2019/6/5   2019/6/6  2019/6/10  2019/6/15  2019/6/19 \n",
      "  18.05896   19.95170   17.78764   16.68814   18.57764   17.13656   21.30980 \n",
      " 2019/6/20  2019/6/24  2019/6/25  2019/6/27   2019/7/1   2019/7/5   2019/7/7 \n",
      "  20.67249   22.36977   22.89219   21.97475   21.05334   20.81567   21.26085 \n",
      "  2019/7/8  2019/7/18  2019/7/22   2019/8/1   2019/8/2   2019/8/3   2019/8/6 \n",
      "  20.66498   20.92682   24.77083   26.33835   23.81037   22.51016   22.82990 \n",
      " 2019/8/17  2019/8/20  2019/8/24  2019/8/30   2019/9/3   2019/9/5   2019/9/6 \n",
      "  25.56127   21.36555   25.51510   24.86283   25.36413   25.66552   25.97286 \n",
      " 2019/9/13  2019/9/16  2019/10/4  2019/10/5 2019/10/15 2019/10/28 2019/10/31 \n",
      "  20.57271   22.12510   20.69729   22.87823   18.41518   22.43760   22.99706 \n",
      " 2019/11/7  2019/11/9 2019/11/11 2019/11/15 2019/11/17 2019/11/18 2019/11/26 \n",
      "  18.05102   14.30668   18.73370   14.50774   13.63189   15.63295   17.69918 \n",
      " 2019/12/3  2019/12/4 2019/12/20 2019/12/25   2020/1/3   2020/1/5   2020/1/8 \n",
      "  15.84938   16.52006   18.19925   16.49739   16.55243   15.41133   13.64388 \n",
      " 2020/1/11  2020/1/15  2020/1/20  2020/1/28  2020/1/31   2020/2/7   2020/2/9 \n",
      "  13.62739   11.64083   13.49083   13.77891   13.58804   17.92351   17.03635 \n",
      " 2020/2/10  2020/2/17  2020/2/23  2020/2/25  2020/2/26  2020/2/29   2020/3/5 \n",
      "  16.76290   17.43953   13.41943   16.96074   15.94141   17.41041   17.80363 \n",
      "  2020/3/7  2020/3/14  2020/3/18  2020/3/22  2020/3/26  2020/3/31   2020/4/8 \n",
      "  14.64663   17.74038   16.44983   15.75877   16.93881   17.28736   19.54814 \n",
      " 2020/4/11  2020/4/14  2020/4/16  2020/4/17  2020/4/21  2020/4/22  2020/4/29 \n",
      "  19.18275   16.73470   17.67454   19.03816   15.62407   16.45731   17.30051 \n",
      "  2020/5/3   2020/5/5   2020/5/8  2020/5/13  2020/5/15  2020/5/18  2020/5/20 \n",
      "  18.34560   20.88726   20.40995   17.00846   15.98278   19.13933   20.97613 \n",
      " 2020/5/21  2020/5/26  2020/5/27  2020/5/31   2020/6/1   2020/6/2  2020/6/10 \n",
      "  22.04414   21.55232   22.20018   21.95542   21.38586   21.28833   19.62649 \n",
      " 2020/6/18  2020/6/19  2020/6/24  2020/6/28   2020/7/7   2020/7/8  2020/7/10 \n",
      "  20.08339   19.57396   23.61133   23.80609   20.16414   23.58721   21.57075 \n",
      " 2020/7/17  2020/7/19  2020/7/24  2020/7/27   2020/8/7  2020/8/12  2020/8/13 \n",
      "  26.29602   25.37674   25.45388   25.00223   25.53431   22.32639   22.39081 \n",
      " 2020/8/14  2020/8/23  2020/8/24  2020/8/29   2020/9/3   2020/9/5   2020/9/7 \n",
      "  22.23231   23.49182   25.00801   20.20061   19.83017   24.68184   25.26734 \n",
      "  2020/9/8  2020/9/10  2020/9/15  2020/9/16  2020/9/18  2020/9/19  2020/9/25 \n",
      "  24.49016   24.67352   23.82058   24.52091   23.01783   21.77248   13.24793 \n",
      "2020/10/12 2020/10/14 2020/10/16 2020/10/25 2020/10/27 2020/11/11 2020/11/14 \n",
      "  22.22569   19.20279   16.79243   18.38652   15.78810   17.71071   20.05604 \n",
      "2020/11/15 2020/11/17 2020/11/26  2020/12/3  2020/12/5 2020/12/16 2020/12/17 \n",
      "  19.53969   17.73004   14.00329   17.45050   13.60109   16.26485   15.56159 \n",
      "2020/12/23 2020/12/24 2020/12/29   2021/1/7  2021/1/12  2021/1/14  2021/1/15 \n",
      "  17.44110   17.37301   12.14346   18.11608   12.34400   13.23351   14.07837 \n",
      " 2021/1/24  2021/1/27   2021/2/4  2021/2/18  2021/2/26   2021/3/4   2021/3/7 \n",
      "  17.31172   19.51688   17.30780   17.35958   15.41324   16.74876   13.01221 \n",
      "  2021/3/9  2021/3/11  2021/3/12  2021/3/27 \n",
      "  14.44783   14.79394   16.79071   16.58607 \n"
     ]
    }
   ],
   "source": [
    "# Utilisation du modèle\n",
    "predicted_temp_multiple<-predict(model_multiple1,newdata=test)\n",
    "print(predicted_temp_multiple)"
   ]
  },
  {
   "cell_type": "code",
   "execution_count": 53,
   "id": "4d59f1f0",
   "metadata": {
    "scrolled": true,
    "ExecuteTime": {
     "end_time": "2023-05-26T00:56:28.196598Z",
     "start_time": "2023-05-26T00:56:28.110948Z"
    }
   },
   "outputs": [
    {
     "data": {
      "text/html": "<table class=\"dataframe\">\n<caption>A matrix: 1551 × 3 of type dbl</caption>\n<thead>\n\t<tr><th></th><th scope=col>fit</th><th scope=col>lwr</th><th scope=col>upr</th></tr>\n</thead>\n<tbody>\n\t<tr><th scope=row>2000/1/13</th><td>13.10854</td><td>13.02078</td><td>13.19631</td></tr>\n\t<tr><th scope=row>2000/1/17</th><td>13.40691</td><td>13.31746</td><td>13.49636</td></tr>\n\t<tr><th scope=row>2000/1/27</th><td>13.86268</td><td>13.76343</td><td>13.96192</td></tr>\n\t<tr><th scope=row>2000/1/29</th><td>16.67215</td><td>16.61439</td><td>16.72991</td></tr>\n\t<tr><th scope=row>2000/1/31</th><td>14.94703</td><td>14.87619</td><td>15.01787</td></tr>\n\t<tr><th scope=row>2000/2/3</th><td>17.33094</td><td>17.26116</td><td>17.40073</td></tr>\n\t<tr><th scope=row>2000/2/5</th><td>17.27510</td><td>17.21554</td><td>17.33466</td></tr>\n\t<tr><th scope=row>2000/2/13</th><td>15.73655</td><td>15.66860</td><td>15.80451</td></tr>\n\t<tr><th scope=row>2000/2/16</th><td>17.10239</td><td>17.04066</td><td>17.16412</td></tr>\n\t<tr><th scope=row>2000/2/17</th><td>15.89012</td><td>15.82357</td><td>15.95668</td></tr>\n\t<tr><th scope=row>2000/2/20</th><td>16.25819</td><td>16.17679</td><td>16.33960</td></tr>\n\t<tr><th scope=row>2000/2/23</th><td>16.88135</td><td>16.82373</td><td>16.93898</td></tr>\n\t<tr><th scope=row>2000/2/28</th><td>18.28728</td><td>18.23031</td><td>18.34424</td></tr>\n\t<tr><th scope=row>2000/3/21</th><td>16.89012</td><td>16.83473</td><td>16.94551</td></tr>\n\t<tr><th scope=row>2000/3/24</th><td>14.65524</td><td>14.58217</td><td>14.72831</td></tr>\n\t<tr><th scope=row>2000/3/25</th><td>14.55545</td><td>14.48017</td><td>14.63073</td></tr>\n\t<tr><th scope=row>2000/3/29</th><td>15.07912</td><td>15.00368</td><td>15.15456</td></tr>\n\t<tr><th scope=row>2000/3/31</th><td>15.69810</td><td>15.62957</td><td>15.76663</td></tr>\n\t<tr><th scope=row>2000/4/4</th><td>13.00434</td><td>12.83658</td><td>13.17211</td></tr>\n\t<tr><th scope=row>2000/4/14</th><td>16.90044</td><td>16.75049</td><td>17.05040</td></tr>\n\t<tr><th scope=row>2000/4/15</th><td>16.34236</td><td>16.20600</td><td>16.47871</td></tr>\n\t<tr><th scope=row>2000/4/19</th><td>16.76000</td><td>16.70031</td><td>16.81969</td></tr>\n\t<tr><th scope=row>2000/5/4</th><td>17.89042</td><td>17.83159</td><td>17.94925</td></tr>\n\t<tr><th scope=row>2000/5/8</th><td>17.77078</td><td>17.71528</td><td>17.82628</td></tr>\n\t<tr><th scope=row>2000/5/10</th><td>17.33669</td><td>17.28517</td><td>17.38821</td></tr>\n\t<tr><th scope=row>2000/5/20</th><td>19.20333</td><td>19.15536</td><td>19.25129</td></tr>\n\t<tr><th scope=row>2000/5/21</th><td>18.27832</td><td>18.22981</td><td>18.32683</td></tr>\n\t<tr><th scope=row>2000/5/29</th><td>21.20788</td><td>21.15086</td><td>21.26490</td></tr>\n\t<tr><th scope=row>2000/6/5</th><td>21.07041</td><td>21.00817</td><td>21.13266</td></tr>\n\t<tr><th scope=row>2000/6/12</th><td>20.05245</td><td>20.00281</td><td>20.10209</td></tr>\n\t<tr><th scope=row>⋮</th><td>⋮</td><td>⋮</td><td>⋮</td></tr>\n\t<tr><th scope=row>2020/10/16</th><td>16.79243</td><td>16.71585</td><td>16.86901</td></tr>\n\t<tr><th scope=row>2020/10/25</th><td>18.38652</td><td>18.32852</td><td>18.44451</td></tr>\n\t<tr><th scope=row>2020/10/27</th><td>15.78810</td><td>15.72491</td><td>15.85129</td></tr>\n\t<tr><th scope=row>2020/11/11</th><td>17.71071</td><td>17.64177</td><td>17.77965</td></tr>\n\t<tr><th scope=row>2020/11/14</th><td>20.05604</td><td>19.99625</td><td>20.11583</td></tr>\n\t<tr><th scope=row>2020/11/15</th><td>19.53969</td><td>19.48978</td><td>19.58960</td></tr>\n\t<tr><th scope=row>2020/11/17</th><td>17.73004</td><td>17.65672</td><td>17.80337</td></tr>\n\t<tr><th scope=row>2020/11/26</th><td>14.00329</td><td>13.84577</td><td>14.16082</td></tr>\n\t<tr><th scope=row>2020/12/3</th><td>17.45050</td><td>17.39189</td><td>17.50911</td></tr>\n\t<tr><th scope=row>2020/12/5</th><td>13.60109</td><td>13.48654</td><td>13.71563</td></tr>\n\t<tr><th scope=row>2020/12/16</th><td>16.26485</td><td>16.15828</td><td>16.37141</td></tr>\n\t<tr><th scope=row>2020/12/17</th><td>15.56159</td><td>15.49444</td><td>15.62873</td></tr>\n\t<tr><th scope=row>2020/12/23</th><td>17.44110</td><td>17.38375</td><td>17.49846</td></tr>\n\t<tr><th scope=row>2020/12/24</th><td>17.37301</td><td>17.31091</td><td>17.43512</td></tr>\n\t<tr><th scope=row>2020/12/29</th><td>12.14346</td><td>11.62173</td><td>12.66519</td></tr>\n\t<tr><th scope=row>2021/1/7</th><td>18.11608</td><td>17.93865</td><td>18.29351</td></tr>\n\t<tr><th scope=row>2021/1/12</th><td>12.34400</td><td>12.24716</td><td>12.44084</td></tr>\n\t<tr><th scope=row>2021/1/14</th><td>13.23351</td><td>13.12476</td><td>13.34226</td></tr>\n\t<tr><th scope=row>2021/1/15</th><td>14.07837</td><td>13.96987</td><td>14.18687</td></tr>\n\t<tr><th scope=row>2021/1/24</th><td>17.31172</td><td>17.25928</td><td>17.36417</td></tr>\n\t<tr><th scope=row>2021/1/27</th><td>19.51688</td><td>19.46822</td><td>19.56554</td></tr>\n\t<tr><th scope=row>2021/2/4</th><td>17.30780</td><td>17.25307</td><td>17.36252</td></tr>\n\t<tr><th scope=row>2021/2/18</th><td>17.35958</td><td>17.30051</td><td>17.41866</td></tr>\n\t<tr><th scope=row>2021/2/26</th><td>15.41324</td><td>15.26757</td><td>15.55891</td></tr>\n\t<tr><th scope=row>2021/3/4</th><td>16.74876</td><td>16.69184</td><td>16.80569</td></tr>\n\t<tr><th scope=row>2021/3/7</th><td>13.01221</td><td>12.40358</td><td>13.62083</td></tr>\n\t<tr><th scope=row>2021/3/9</th><td>14.44783</td><td>14.37026</td><td>14.52541</td></tr>\n\t<tr><th scope=row>2021/3/11</th><td>14.79394</td><td>14.72276</td><td>14.86512</td></tr>\n\t<tr><th scope=row>2021/3/12</th><td>16.79071</td><td>16.73241</td><td>16.84900</td></tr>\n\t<tr><th scope=row>2021/3/27</th><td>16.58607</td><td>16.52723</td><td>16.64490</td></tr>\n</tbody>\n</table>\n",
      "text/markdown": "\nA matrix: 1551 × 3 of type dbl\n\n| <!--/--> | fit | lwr | upr |\n|---|---|---|---|\n| 2000/1/13 | 13.10854 | 13.02078 | 13.19631 |\n| 2000/1/17 | 13.40691 | 13.31746 | 13.49636 |\n| 2000/1/27 | 13.86268 | 13.76343 | 13.96192 |\n| 2000/1/29 | 16.67215 | 16.61439 | 16.72991 |\n| 2000/1/31 | 14.94703 | 14.87619 | 15.01787 |\n| 2000/2/3 | 17.33094 | 17.26116 | 17.40073 |\n| 2000/2/5 | 17.27510 | 17.21554 | 17.33466 |\n| 2000/2/13 | 15.73655 | 15.66860 | 15.80451 |\n| 2000/2/16 | 17.10239 | 17.04066 | 17.16412 |\n| 2000/2/17 | 15.89012 | 15.82357 | 15.95668 |\n| 2000/2/20 | 16.25819 | 16.17679 | 16.33960 |\n| 2000/2/23 | 16.88135 | 16.82373 | 16.93898 |\n| 2000/2/28 | 18.28728 | 18.23031 | 18.34424 |\n| 2000/3/21 | 16.89012 | 16.83473 | 16.94551 |\n| 2000/3/24 | 14.65524 | 14.58217 | 14.72831 |\n| 2000/3/25 | 14.55545 | 14.48017 | 14.63073 |\n| 2000/3/29 | 15.07912 | 15.00368 | 15.15456 |\n| 2000/3/31 | 15.69810 | 15.62957 | 15.76663 |\n| 2000/4/4 | 13.00434 | 12.83658 | 13.17211 |\n| 2000/4/14 | 16.90044 | 16.75049 | 17.05040 |\n| 2000/4/15 | 16.34236 | 16.20600 | 16.47871 |\n| 2000/4/19 | 16.76000 | 16.70031 | 16.81969 |\n| 2000/5/4 | 17.89042 | 17.83159 | 17.94925 |\n| 2000/5/8 | 17.77078 | 17.71528 | 17.82628 |\n| 2000/5/10 | 17.33669 | 17.28517 | 17.38821 |\n| 2000/5/20 | 19.20333 | 19.15536 | 19.25129 |\n| 2000/5/21 | 18.27832 | 18.22981 | 18.32683 |\n| 2000/5/29 | 21.20788 | 21.15086 | 21.26490 |\n| 2000/6/5 | 21.07041 | 21.00817 | 21.13266 |\n| 2000/6/12 | 20.05245 | 20.00281 | 20.10209 |\n| ⋮ | ⋮ | ⋮ | ⋮ |\n| 2020/10/16 | 16.79243 | 16.71585 | 16.86901 |\n| 2020/10/25 | 18.38652 | 18.32852 | 18.44451 |\n| 2020/10/27 | 15.78810 | 15.72491 | 15.85129 |\n| 2020/11/11 | 17.71071 | 17.64177 | 17.77965 |\n| 2020/11/14 | 20.05604 | 19.99625 | 20.11583 |\n| 2020/11/15 | 19.53969 | 19.48978 | 19.58960 |\n| 2020/11/17 | 17.73004 | 17.65672 | 17.80337 |\n| 2020/11/26 | 14.00329 | 13.84577 | 14.16082 |\n| 2020/12/3 | 17.45050 | 17.39189 | 17.50911 |\n| 2020/12/5 | 13.60109 | 13.48654 | 13.71563 |\n| 2020/12/16 | 16.26485 | 16.15828 | 16.37141 |\n| 2020/12/17 | 15.56159 | 15.49444 | 15.62873 |\n| 2020/12/23 | 17.44110 | 17.38375 | 17.49846 |\n| 2020/12/24 | 17.37301 | 17.31091 | 17.43512 |\n| 2020/12/29 | 12.14346 | 11.62173 | 12.66519 |\n| 2021/1/7 | 18.11608 | 17.93865 | 18.29351 |\n| 2021/1/12 | 12.34400 | 12.24716 | 12.44084 |\n| 2021/1/14 | 13.23351 | 13.12476 | 13.34226 |\n| 2021/1/15 | 14.07837 | 13.96987 | 14.18687 |\n| 2021/1/24 | 17.31172 | 17.25928 | 17.36417 |\n| 2021/1/27 | 19.51688 | 19.46822 | 19.56554 |\n| 2021/2/4 | 17.30780 | 17.25307 | 17.36252 |\n| 2021/2/18 | 17.35958 | 17.30051 | 17.41866 |\n| 2021/2/26 | 15.41324 | 15.26757 | 15.55891 |\n| 2021/3/4 | 16.74876 | 16.69184 | 16.80569 |\n| 2021/3/7 | 13.01221 | 12.40358 | 13.62083 |\n| 2021/3/9 | 14.44783 | 14.37026 | 14.52541 |\n| 2021/3/11 | 14.79394 | 14.72276 | 14.86512 |\n| 2021/3/12 | 16.79071 | 16.73241 | 16.84900 |\n| 2021/3/27 | 16.58607 | 16.52723 | 16.64490 |\n\n",
      "text/latex": "A matrix: 1551 × 3 of type dbl\n\\begin{tabular}{r|lll}\n  & fit & lwr & upr\\\\\n\\hline\n\t2000/1/13 & 13.10854 & 13.02078 & 13.19631\\\\\n\t2000/1/17 & 13.40691 & 13.31746 & 13.49636\\\\\n\t2000/1/27 & 13.86268 & 13.76343 & 13.96192\\\\\n\t2000/1/29 & 16.67215 & 16.61439 & 16.72991\\\\\n\t2000/1/31 & 14.94703 & 14.87619 & 15.01787\\\\\n\t2000/2/3 & 17.33094 & 17.26116 & 17.40073\\\\\n\t2000/2/5 & 17.27510 & 17.21554 & 17.33466\\\\\n\t2000/2/13 & 15.73655 & 15.66860 & 15.80451\\\\\n\t2000/2/16 & 17.10239 & 17.04066 & 17.16412\\\\\n\t2000/2/17 & 15.89012 & 15.82357 & 15.95668\\\\\n\t2000/2/20 & 16.25819 & 16.17679 & 16.33960\\\\\n\t2000/2/23 & 16.88135 & 16.82373 & 16.93898\\\\\n\t2000/2/28 & 18.28728 & 18.23031 & 18.34424\\\\\n\t2000/3/21 & 16.89012 & 16.83473 & 16.94551\\\\\n\t2000/3/24 & 14.65524 & 14.58217 & 14.72831\\\\\n\t2000/3/25 & 14.55545 & 14.48017 & 14.63073\\\\\n\t2000/3/29 & 15.07912 & 15.00368 & 15.15456\\\\\n\t2000/3/31 & 15.69810 & 15.62957 & 15.76663\\\\\n\t2000/4/4 & 13.00434 & 12.83658 & 13.17211\\\\\n\t2000/4/14 & 16.90044 & 16.75049 & 17.05040\\\\\n\t2000/4/15 & 16.34236 & 16.20600 & 16.47871\\\\\n\t2000/4/19 & 16.76000 & 16.70031 & 16.81969\\\\\n\t2000/5/4 & 17.89042 & 17.83159 & 17.94925\\\\\n\t2000/5/8 & 17.77078 & 17.71528 & 17.82628\\\\\n\t2000/5/10 & 17.33669 & 17.28517 & 17.38821\\\\\n\t2000/5/20 & 19.20333 & 19.15536 & 19.25129\\\\\n\t2000/5/21 & 18.27832 & 18.22981 & 18.32683\\\\\n\t2000/5/29 & 21.20788 & 21.15086 & 21.26490\\\\\n\t2000/6/5 & 21.07041 & 21.00817 & 21.13266\\\\\n\t2000/6/12 & 20.05245 & 20.00281 & 20.10209\\\\\n\t⋮ & ⋮ & ⋮ & ⋮\\\\\n\t2020/10/16 & 16.79243 & 16.71585 & 16.86901\\\\\n\t2020/10/25 & 18.38652 & 18.32852 & 18.44451\\\\\n\t2020/10/27 & 15.78810 & 15.72491 & 15.85129\\\\\n\t2020/11/11 & 17.71071 & 17.64177 & 17.77965\\\\\n\t2020/11/14 & 20.05604 & 19.99625 & 20.11583\\\\\n\t2020/11/15 & 19.53969 & 19.48978 & 19.58960\\\\\n\t2020/11/17 & 17.73004 & 17.65672 & 17.80337\\\\\n\t2020/11/26 & 14.00329 & 13.84577 & 14.16082\\\\\n\t2020/12/3 & 17.45050 & 17.39189 & 17.50911\\\\\n\t2020/12/5 & 13.60109 & 13.48654 & 13.71563\\\\\n\t2020/12/16 & 16.26485 & 16.15828 & 16.37141\\\\\n\t2020/12/17 & 15.56159 & 15.49444 & 15.62873\\\\\n\t2020/12/23 & 17.44110 & 17.38375 & 17.49846\\\\\n\t2020/12/24 & 17.37301 & 17.31091 & 17.43512\\\\\n\t2020/12/29 & 12.14346 & 11.62173 & 12.66519\\\\\n\t2021/1/7 & 18.11608 & 17.93865 & 18.29351\\\\\n\t2021/1/12 & 12.34400 & 12.24716 & 12.44084\\\\\n\t2021/1/14 & 13.23351 & 13.12476 & 13.34226\\\\\n\t2021/1/15 & 14.07837 & 13.96987 & 14.18687\\\\\n\t2021/1/24 & 17.31172 & 17.25928 & 17.36417\\\\\n\t2021/1/27 & 19.51688 & 19.46822 & 19.56554\\\\\n\t2021/2/4 & 17.30780 & 17.25307 & 17.36252\\\\\n\t2021/2/18 & 17.35958 & 17.30051 & 17.41866\\\\\n\t2021/2/26 & 15.41324 & 15.26757 & 15.55891\\\\\n\t2021/3/4 & 16.74876 & 16.69184 & 16.80569\\\\\n\t2021/3/7 & 13.01221 & 12.40358 & 13.62083\\\\\n\t2021/3/9 & 14.44783 & 14.37026 & 14.52541\\\\\n\t2021/3/11 & 14.79394 & 14.72276 & 14.86512\\\\\n\t2021/3/12 & 16.79071 & 16.73241 & 16.84900\\\\\n\t2021/3/27 & 16.58607 & 16.52723 & 16.64490\\\\\n\\end{tabular}\n",
      "text/plain": "           fit      lwr      upr     \n2000/1/13  13.10854 13.02078 13.19631\n2000/1/17  13.40691 13.31746 13.49636\n2000/1/27  13.86268 13.76343 13.96192\n2000/1/29  16.67215 16.61439 16.72991\n2000/1/31  14.94703 14.87619 15.01787\n2000/2/3   17.33094 17.26116 17.40073\n2000/2/5   17.27510 17.21554 17.33466\n2000/2/13  15.73655 15.66860 15.80451\n2000/2/16  17.10239 17.04066 17.16412\n2000/2/17  15.89012 15.82357 15.95668\n2000/2/20  16.25819 16.17679 16.33960\n2000/2/23  16.88135 16.82373 16.93898\n2000/2/28  18.28728 18.23031 18.34424\n2000/3/21  16.89012 16.83473 16.94551\n2000/3/24  14.65524 14.58217 14.72831\n2000/3/25  14.55545 14.48017 14.63073\n2000/3/29  15.07912 15.00368 15.15456\n2000/3/31  15.69810 15.62957 15.76663\n2000/4/4   13.00434 12.83658 13.17211\n2000/4/14  16.90044 16.75049 17.05040\n2000/4/15  16.34236 16.20600 16.47871\n2000/4/19  16.76000 16.70031 16.81969\n2000/5/4   17.89042 17.83159 17.94925\n2000/5/8   17.77078 17.71528 17.82628\n2000/5/10  17.33669 17.28517 17.38821\n2000/5/20  19.20333 19.15536 19.25129\n2000/5/21  18.27832 18.22981 18.32683\n2000/5/29  21.20788 21.15086 21.26490\n2000/6/5   21.07041 21.00817 21.13266\n2000/6/12  20.05245 20.00281 20.10209\n⋮          ⋮        ⋮        ⋮       \n2020/10/16 16.79243 16.71585 16.86901\n2020/10/25 18.38652 18.32852 18.44451\n2020/10/27 15.78810 15.72491 15.85129\n2020/11/11 17.71071 17.64177 17.77965\n2020/11/14 20.05604 19.99625 20.11583\n2020/11/15 19.53969 19.48978 19.58960\n2020/11/17 17.73004 17.65672 17.80337\n2020/11/26 14.00329 13.84577 14.16082\n2020/12/3  17.45050 17.39189 17.50911\n2020/12/5  13.60109 13.48654 13.71563\n2020/12/16 16.26485 16.15828 16.37141\n2020/12/17 15.56159 15.49444 15.62873\n2020/12/23 17.44110 17.38375 17.49846\n2020/12/24 17.37301 17.31091 17.43512\n2020/12/29 12.14346 11.62173 12.66519\n2021/1/7   18.11608 17.93865 18.29351\n2021/1/12  12.34400 12.24716 12.44084\n2021/1/14  13.23351 13.12476 13.34226\n2021/1/15  14.07837 13.96987 14.18687\n2021/1/24  17.31172 17.25928 17.36417\n2021/1/27  19.51688 19.46822 19.56554\n2021/2/4   17.30780 17.25307 17.36252\n2021/2/18  17.35958 17.30051 17.41866\n2021/2/26  15.41324 15.26757 15.55891\n2021/3/4   16.74876 16.69184 16.80569\n2021/3/7   13.01221 12.40358 13.62083\n2021/3/9   14.44783 14.37026 14.52541\n2021/3/11  14.79394 14.72276 14.86512\n2021/3/12  16.79071 16.73241 16.84900\n2021/3/27  16.58607 16.52723 16.64490"
     },
     "metadata": {},
     "output_type": "display_data"
    }
   ],
   "source": [
    "#◦ Intervalle de confiance\n",
    "#       La vraie valeur de Température  pour ces observations a une\n",
    "#     probabilité de 0,95 d’être dans l’intervalle [lwr , upr]\n",
    "predict(model_multiple1,newdata=test,interval=\"confidence\")"
   ]
  },
  {
   "cell_type": "code",
   "execution_count": 54,
   "id": "9e309f05",
   "metadata": {
    "scrolled": true,
    "ExecuteTime": {
     "end_time": "2023-05-26T00:56:28.330130Z",
     "start_time": "2023-05-26T00:56:28.189076400Z"
    }
   },
   "outputs": [
    {
     "data": {
      "text/html": "<table class=\"dataframe\">\n<caption>A matrix: 1551 × 3 of type dbl</caption>\n<thead>\n\t<tr><th></th><th scope=col>fit</th><th scope=col>lwr</th><th scope=col>upr</th></tr>\n</thead>\n<tbody>\n\t<tr><th scope=row>2000/1/13</th><td>13.10854</td><td> 9.485309</td><td>16.73178</td></tr>\n\t<tr><th scope=row>2000/1/17</th><td>13.40691</td><td> 9.783636</td><td>17.03019</td></tr>\n\t<tr><th scope=row>2000/1/27</th><td>13.86268</td><td>10.239145</td><td>17.48621</td></tr>\n\t<tr><th scope=row>2000/1/29</th><td>16.67215</td><td>13.049516</td><td>20.29478</td></tr>\n\t<tr><th scope=row>2000/1/31</th><td>14.94703</td><td>11.324165</td><td>18.56989</td></tr>\n\t<tr><th scope=row>2000/2/3</th><td>17.33094</td><td>13.708100</td><td>20.95379</td></tr>\n\t<tr><th scope=row>2000/2/5</th><td>17.27510</td><td>13.652438</td><td>20.89776</td></tr>\n\t<tr><th scope=row>2000/2/13</th><td>15.73655</td><td>12.113744</td><td>19.35936</td></tr>\n\t<tr><th scope=row>2000/2/16</th><td>17.10239</td><td>13.479693</td><td>20.72509</td></tr>\n\t<tr><th scope=row>2000/2/17</th><td>15.89012</td><td>12.267343</td><td>19.51291</td></tr>\n\t<tr><th scope=row>2000/2/20</th><td>16.25819</td><td>12.635107</td><td>19.88128</td></tr>\n\t<tr><th scope=row>2000/2/23</th><td>16.88135</td><td>13.258725</td><td>20.50398</td></tr>\n\t<tr><th scope=row>2000/2/28</th><td>18.28728</td><td>14.664659</td><td>21.90990</td></tr>\n\t<tr><th scope=row>2000/3/21</th><td>16.89012</td><td>13.267523</td><td>20.51271</td></tr>\n\t<tr><th scope=row>2000/3/24</th><td>14.65524</td><td>11.032329</td><td>18.27814</td></tr>\n\t<tr><th scope=row>2000/3/25</th><td>14.55545</td><td>10.932494</td><td>18.17840</td></tr>\n\t<tr><th scope=row>2000/3/29</th><td>15.07912</td><td>11.456166</td><td>18.70208</td></tr>\n\t<tr><th scope=row>2000/3/31</th><td>15.69810</td><td>12.075282</td><td>19.32092</td></tr>\n\t<tr><th scope=row>2000/4/4</th><td>13.00434</td><td> 9.378288</td><td>16.63040</td></tr>\n\t<tr><th scope=row>2000/4/14</th><td>16.90044</td><td>13.275170</td><td>20.52572</td></tr>\n\t<tr><th scope=row>2000/4/15</th><td>16.34236</td><td>12.717620</td><td>19.96709</td></tr>\n\t<tr><th scope=row>2000/4/19</th><td>16.76000</td><td>13.137337</td><td>20.38266</td></tr>\n\t<tr><th scope=row>2000/5/4</th><td>17.89042</td><td>14.267768</td><td>21.51307</td></tr>\n\t<tr><th scope=row>2000/5/8</th><td>17.77078</td><td>14.148187</td><td>21.39338</td></tr>\n\t<tr><th scope=row>2000/5/10</th><td>17.33669</td><td>13.714152</td><td>20.95923</td></tr>\n\t<tr><th scope=row>2000/5/20</th><td>19.20333</td><td>15.580837</td><td>22.82581</td></tr>\n\t<tr><th scope=row>2000/5/21</th><td>18.27832</td><td>14.655828</td><td>21.90082</td></tr>\n\t<tr><th scope=row>2000/5/29</th><td>21.20788</td><td>17.585258</td><td>24.83050</td></tr>\n\t<tr><th scope=row>2000/6/5</th><td>21.07041</td><td>17.447709</td><td>24.69312</td></tr>\n\t<tr><th scope=row>2000/6/12</th><td>20.05245</td><td>16.429939</td><td>23.67496</td></tr>\n\t<tr><th scope=row>⋮</th><td>⋮</td><td>⋮</td><td>⋮</td></tr>\n\t<tr><th scope=row>2020/10/16</th><td>16.79243</td><td>13.169448</td><td>20.41541</td></tr>\n\t<tr><th scope=row>2020/10/25</th><td>18.38652</td><td>14.763881</td><td>22.00915</td></tr>\n\t<tr><th scope=row>2020/10/27</th><td>15.78810</td><td>12.165379</td><td>19.41082</td></tr>\n\t<tr><th scope=row>2020/11/11</th><td>17.71071</td><td>14.087884</td><td>21.33354</td></tr>\n\t<tr><th scope=row>2020/11/14</th><td>20.05604</td><td>16.433375</td><td>23.67870</td></tr>\n\t<tr><th scope=row>2020/11/15</th><td>19.53969</td><td>15.917179</td><td>23.16221</td></tr>\n\t<tr><th scope=row>2020/11/17</th><td>17.73004</td><td>14.107129</td><td>21.35295</td></tr>\n\t<tr><th scope=row>2020/11/26</th><td>14.00329</td><td>10.377698</td><td>17.62889</td></tr>\n\t<tr><th scope=row>2020/12/3</th><td>17.45050</td><td>13.827855</td><td>21.07315</td></tr>\n\t<tr><th scope=row>2020/12/5</th><td>13.60109</td><td> 9.977105</td><td>17.22507</td></tr>\n\t<tr><th scope=row>2020/12/16</th><td>16.26485</td><td>12.641110</td><td>19.88859</td></tr>\n\t<tr><th scope=row>2020/12/17</th><td>15.56159</td><td>11.938793</td><td>19.18438</td></tr>\n\t<tr><th scope=row>2020/12/23</th><td>17.44110</td><td>13.818480</td><td>21.06373</td></tr>\n\t<tr><th scope=row>2020/12/24</th><td>17.37301</td><td>13.750312</td><td>20.99572</td></tr>\n\t<tr><th scope=row>2020/12/29</th><td>12.14346</td><td> 8.483911</td><td>15.80302</td></tr>\n\t<tr><th scope=row>2021/1/7</th><td>18.11608</td><td>14.489567</td><td>21.74260</td></tr>\n\t<tr><th scope=row>2021/1/12</th><td>12.34400</td><td> 8.720533</td><td>15.96746</td></tr>\n\t<tr><th scope=row>2021/1/14</th><td>13.23351</td><td> 9.609709</td><td>16.85732</td></tr>\n\t<tr><th scope=row>2021/1/15</th><td>14.07837</td><td>10.454572</td><td>17.70216</td></tr>\n\t<tr><th scope=row>2021/1/24</th><td>17.31172</td><td>13.689173</td><td>20.93427</td></tr>\n\t<tr><th scope=row>2021/1/27</th><td>19.51688</td><td>15.894384</td><td>23.13938</td></tr>\n\t<tr><th scope=row>2021/2/4</th><td>17.30780</td><td>13.685211</td><td>20.93038</td></tr>\n\t<tr><th scope=row>2021/2/18</th><td>17.35958</td><td>13.736930</td><td>20.98224</td></tr>\n\t<tr><th scope=row>2021/2/26</th><td>15.41324</td><td>11.788141</td><td>19.03834</td></tr>\n\t<tr><th scope=row>2021/3/4</th><td>16.74876</td><td>13.126144</td><td>20.37138</td></tr>\n\t<tr><th scope=row>2021/3/7</th><td>13.01221</td><td> 9.339258</td><td>16.68515</td></tr>\n\t<tr><th scope=row>2021/3/9</th><td>14.44783</td><td>10.824833</td><td>18.07084</td></tr>\n\t<tr><th scope=row>2021/3/11</th><td>14.79394</td><td>11.171071</td><td>18.41681</td></tr>\n\t<tr><th scope=row>2021/3/12</th><td>16.79071</td><td>13.168066</td><td>20.41335</td></tr>\n\t<tr><th scope=row>2021/3/27</th><td>16.58607</td><td>12.963417</td><td>20.20871</td></tr>\n</tbody>\n</table>\n",
      "text/markdown": "\nA matrix: 1551 × 3 of type dbl\n\n| <!--/--> | fit | lwr | upr |\n|---|---|---|---|\n| 2000/1/13 | 13.10854 |  9.485309 | 16.73178 |\n| 2000/1/17 | 13.40691 |  9.783636 | 17.03019 |\n| 2000/1/27 | 13.86268 | 10.239145 | 17.48621 |\n| 2000/1/29 | 16.67215 | 13.049516 | 20.29478 |\n| 2000/1/31 | 14.94703 | 11.324165 | 18.56989 |\n| 2000/2/3 | 17.33094 | 13.708100 | 20.95379 |\n| 2000/2/5 | 17.27510 | 13.652438 | 20.89776 |\n| 2000/2/13 | 15.73655 | 12.113744 | 19.35936 |\n| 2000/2/16 | 17.10239 | 13.479693 | 20.72509 |\n| 2000/2/17 | 15.89012 | 12.267343 | 19.51291 |\n| 2000/2/20 | 16.25819 | 12.635107 | 19.88128 |\n| 2000/2/23 | 16.88135 | 13.258725 | 20.50398 |\n| 2000/2/28 | 18.28728 | 14.664659 | 21.90990 |\n| 2000/3/21 | 16.89012 | 13.267523 | 20.51271 |\n| 2000/3/24 | 14.65524 | 11.032329 | 18.27814 |\n| 2000/3/25 | 14.55545 | 10.932494 | 18.17840 |\n| 2000/3/29 | 15.07912 | 11.456166 | 18.70208 |\n| 2000/3/31 | 15.69810 | 12.075282 | 19.32092 |\n| 2000/4/4 | 13.00434 |  9.378288 | 16.63040 |\n| 2000/4/14 | 16.90044 | 13.275170 | 20.52572 |\n| 2000/4/15 | 16.34236 | 12.717620 | 19.96709 |\n| 2000/4/19 | 16.76000 | 13.137337 | 20.38266 |\n| 2000/5/4 | 17.89042 | 14.267768 | 21.51307 |\n| 2000/5/8 | 17.77078 | 14.148187 | 21.39338 |\n| 2000/5/10 | 17.33669 | 13.714152 | 20.95923 |\n| 2000/5/20 | 19.20333 | 15.580837 | 22.82581 |\n| 2000/5/21 | 18.27832 | 14.655828 | 21.90082 |\n| 2000/5/29 | 21.20788 | 17.585258 | 24.83050 |\n| 2000/6/5 | 21.07041 | 17.447709 | 24.69312 |\n| 2000/6/12 | 20.05245 | 16.429939 | 23.67496 |\n| ⋮ | ⋮ | ⋮ | ⋮ |\n| 2020/10/16 | 16.79243 | 13.169448 | 20.41541 |\n| 2020/10/25 | 18.38652 | 14.763881 | 22.00915 |\n| 2020/10/27 | 15.78810 | 12.165379 | 19.41082 |\n| 2020/11/11 | 17.71071 | 14.087884 | 21.33354 |\n| 2020/11/14 | 20.05604 | 16.433375 | 23.67870 |\n| 2020/11/15 | 19.53969 | 15.917179 | 23.16221 |\n| 2020/11/17 | 17.73004 | 14.107129 | 21.35295 |\n| 2020/11/26 | 14.00329 | 10.377698 | 17.62889 |\n| 2020/12/3 | 17.45050 | 13.827855 | 21.07315 |\n| 2020/12/5 | 13.60109 |  9.977105 | 17.22507 |\n| 2020/12/16 | 16.26485 | 12.641110 | 19.88859 |\n| 2020/12/17 | 15.56159 | 11.938793 | 19.18438 |\n| 2020/12/23 | 17.44110 | 13.818480 | 21.06373 |\n| 2020/12/24 | 17.37301 | 13.750312 | 20.99572 |\n| 2020/12/29 | 12.14346 |  8.483911 | 15.80302 |\n| 2021/1/7 | 18.11608 | 14.489567 | 21.74260 |\n| 2021/1/12 | 12.34400 |  8.720533 | 15.96746 |\n| 2021/1/14 | 13.23351 |  9.609709 | 16.85732 |\n| 2021/1/15 | 14.07837 | 10.454572 | 17.70216 |\n| 2021/1/24 | 17.31172 | 13.689173 | 20.93427 |\n| 2021/1/27 | 19.51688 | 15.894384 | 23.13938 |\n| 2021/2/4 | 17.30780 | 13.685211 | 20.93038 |\n| 2021/2/18 | 17.35958 | 13.736930 | 20.98224 |\n| 2021/2/26 | 15.41324 | 11.788141 | 19.03834 |\n| 2021/3/4 | 16.74876 | 13.126144 | 20.37138 |\n| 2021/3/7 | 13.01221 |  9.339258 | 16.68515 |\n| 2021/3/9 | 14.44783 | 10.824833 | 18.07084 |\n| 2021/3/11 | 14.79394 | 11.171071 | 18.41681 |\n| 2021/3/12 | 16.79071 | 13.168066 | 20.41335 |\n| 2021/3/27 | 16.58607 | 12.963417 | 20.20871 |\n\n",
      "text/latex": "A matrix: 1551 × 3 of type dbl\n\\begin{tabular}{r|lll}\n  & fit & lwr & upr\\\\\n\\hline\n\t2000/1/13 & 13.10854 &  9.485309 & 16.73178\\\\\n\t2000/1/17 & 13.40691 &  9.783636 & 17.03019\\\\\n\t2000/1/27 & 13.86268 & 10.239145 & 17.48621\\\\\n\t2000/1/29 & 16.67215 & 13.049516 & 20.29478\\\\\n\t2000/1/31 & 14.94703 & 11.324165 & 18.56989\\\\\n\t2000/2/3 & 17.33094 & 13.708100 & 20.95379\\\\\n\t2000/2/5 & 17.27510 & 13.652438 & 20.89776\\\\\n\t2000/2/13 & 15.73655 & 12.113744 & 19.35936\\\\\n\t2000/2/16 & 17.10239 & 13.479693 & 20.72509\\\\\n\t2000/2/17 & 15.89012 & 12.267343 & 19.51291\\\\\n\t2000/2/20 & 16.25819 & 12.635107 & 19.88128\\\\\n\t2000/2/23 & 16.88135 & 13.258725 & 20.50398\\\\\n\t2000/2/28 & 18.28728 & 14.664659 & 21.90990\\\\\n\t2000/3/21 & 16.89012 & 13.267523 & 20.51271\\\\\n\t2000/3/24 & 14.65524 & 11.032329 & 18.27814\\\\\n\t2000/3/25 & 14.55545 & 10.932494 & 18.17840\\\\\n\t2000/3/29 & 15.07912 & 11.456166 & 18.70208\\\\\n\t2000/3/31 & 15.69810 & 12.075282 & 19.32092\\\\\n\t2000/4/4 & 13.00434 &  9.378288 & 16.63040\\\\\n\t2000/4/14 & 16.90044 & 13.275170 & 20.52572\\\\\n\t2000/4/15 & 16.34236 & 12.717620 & 19.96709\\\\\n\t2000/4/19 & 16.76000 & 13.137337 & 20.38266\\\\\n\t2000/5/4 & 17.89042 & 14.267768 & 21.51307\\\\\n\t2000/5/8 & 17.77078 & 14.148187 & 21.39338\\\\\n\t2000/5/10 & 17.33669 & 13.714152 & 20.95923\\\\\n\t2000/5/20 & 19.20333 & 15.580837 & 22.82581\\\\\n\t2000/5/21 & 18.27832 & 14.655828 & 21.90082\\\\\n\t2000/5/29 & 21.20788 & 17.585258 & 24.83050\\\\\n\t2000/6/5 & 21.07041 & 17.447709 & 24.69312\\\\\n\t2000/6/12 & 20.05245 & 16.429939 & 23.67496\\\\\n\t⋮ & ⋮ & ⋮ & ⋮\\\\\n\t2020/10/16 & 16.79243 & 13.169448 & 20.41541\\\\\n\t2020/10/25 & 18.38652 & 14.763881 & 22.00915\\\\\n\t2020/10/27 & 15.78810 & 12.165379 & 19.41082\\\\\n\t2020/11/11 & 17.71071 & 14.087884 & 21.33354\\\\\n\t2020/11/14 & 20.05604 & 16.433375 & 23.67870\\\\\n\t2020/11/15 & 19.53969 & 15.917179 & 23.16221\\\\\n\t2020/11/17 & 17.73004 & 14.107129 & 21.35295\\\\\n\t2020/11/26 & 14.00329 & 10.377698 & 17.62889\\\\\n\t2020/12/3 & 17.45050 & 13.827855 & 21.07315\\\\\n\t2020/12/5 & 13.60109 &  9.977105 & 17.22507\\\\\n\t2020/12/16 & 16.26485 & 12.641110 & 19.88859\\\\\n\t2020/12/17 & 15.56159 & 11.938793 & 19.18438\\\\\n\t2020/12/23 & 17.44110 & 13.818480 & 21.06373\\\\\n\t2020/12/24 & 17.37301 & 13.750312 & 20.99572\\\\\n\t2020/12/29 & 12.14346 &  8.483911 & 15.80302\\\\\n\t2021/1/7 & 18.11608 & 14.489567 & 21.74260\\\\\n\t2021/1/12 & 12.34400 &  8.720533 & 15.96746\\\\\n\t2021/1/14 & 13.23351 &  9.609709 & 16.85732\\\\\n\t2021/1/15 & 14.07837 & 10.454572 & 17.70216\\\\\n\t2021/1/24 & 17.31172 & 13.689173 & 20.93427\\\\\n\t2021/1/27 & 19.51688 & 15.894384 & 23.13938\\\\\n\t2021/2/4 & 17.30780 & 13.685211 & 20.93038\\\\\n\t2021/2/18 & 17.35958 & 13.736930 & 20.98224\\\\\n\t2021/2/26 & 15.41324 & 11.788141 & 19.03834\\\\\n\t2021/3/4 & 16.74876 & 13.126144 & 20.37138\\\\\n\t2021/3/7 & 13.01221 &  9.339258 & 16.68515\\\\\n\t2021/3/9 & 14.44783 & 10.824833 & 18.07084\\\\\n\t2021/3/11 & 14.79394 & 11.171071 & 18.41681\\\\\n\t2021/3/12 & 16.79071 & 13.168066 & 20.41335\\\\\n\t2021/3/27 & 16.58607 & 12.963417 & 20.20871\\\\\n\\end{tabular}\n",
      "text/plain": "           fit      lwr       upr     \n2000/1/13  13.10854  9.485309 16.73178\n2000/1/17  13.40691  9.783636 17.03019\n2000/1/27  13.86268 10.239145 17.48621\n2000/1/29  16.67215 13.049516 20.29478\n2000/1/31  14.94703 11.324165 18.56989\n2000/2/3   17.33094 13.708100 20.95379\n2000/2/5   17.27510 13.652438 20.89776\n2000/2/13  15.73655 12.113744 19.35936\n2000/2/16  17.10239 13.479693 20.72509\n2000/2/17  15.89012 12.267343 19.51291\n2000/2/20  16.25819 12.635107 19.88128\n2000/2/23  16.88135 13.258725 20.50398\n2000/2/28  18.28728 14.664659 21.90990\n2000/3/21  16.89012 13.267523 20.51271\n2000/3/24  14.65524 11.032329 18.27814\n2000/3/25  14.55545 10.932494 18.17840\n2000/3/29  15.07912 11.456166 18.70208\n2000/3/31  15.69810 12.075282 19.32092\n2000/4/4   13.00434  9.378288 16.63040\n2000/4/14  16.90044 13.275170 20.52572\n2000/4/15  16.34236 12.717620 19.96709\n2000/4/19  16.76000 13.137337 20.38266\n2000/5/4   17.89042 14.267768 21.51307\n2000/5/8   17.77078 14.148187 21.39338\n2000/5/10  17.33669 13.714152 20.95923\n2000/5/20  19.20333 15.580837 22.82581\n2000/5/21  18.27832 14.655828 21.90082\n2000/5/29  21.20788 17.585258 24.83050\n2000/6/5   21.07041 17.447709 24.69312\n2000/6/12  20.05245 16.429939 23.67496\n⋮          ⋮        ⋮         ⋮       \n2020/10/16 16.79243 13.169448 20.41541\n2020/10/25 18.38652 14.763881 22.00915\n2020/10/27 15.78810 12.165379 19.41082\n2020/11/11 17.71071 14.087884 21.33354\n2020/11/14 20.05604 16.433375 23.67870\n2020/11/15 19.53969 15.917179 23.16221\n2020/11/17 17.73004 14.107129 21.35295\n2020/11/26 14.00329 10.377698 17.62889\n2020/12/3  17.45050 13.827855 21.07315\n2020/12/5  13.60109  9.977105 17.22507\n2020/12/16 16.26485 12.641110 19.88859\n2020/12/17 15.56159 11.938793 19.18438\n2020/12/23 17.44110 13.818480 21.06373\n2020/12/24 17.37301 13.750312 20.99572\n2020/12/29 12.14346  8.483911 15.80302\n2021/1/7   18.11608 14.489567 21.74260\n2021/1/12  12.34400  8.720533 15.96746\n2021/1/14  13.23351  9.609709 16.85732\n2021/1/15  14.07837 10.454572 17.70216\n2021/1/24  17.31172 13.689173 20.93427\n2021/1/27  19.51688 15.894384 23.13938\n2021/2/4   17.30780 13.685211 20.93038\n2021/2/18  17.35958 13.736930 20.98224\n2021/2/26  15.41324 11.788141 19.03834\n2021/3/4   16.74876 13.126144 20.37138\n2021/3/7   13.01221  9.339258 16.68515\n2021/3/9   14.44783 10.824833 18.07084\n2021/3/11  14.79394 11.171071 18.41681\n2021/3/12  16.79071 13.168066 20.41335\n2021/3/27  16.58607 12.963417 20.20871"
     },
     "metadata": {},
     "output_type": "display_data"
    }
   ],
   "source": [
    "#◦ Intervalle de prédiction\n",
    "#       L’intervalle [lwr , upr] a une probabilité de 0,95 de\n",
    "#       contenir la prédiction de Température  pour une nouvelle\n",
    "#       observation\n",
    "predict(model_multiple1,newdata=test,interval=\"prediction\")"
   ]
  },
  {
   "cell_type": "code",
   "execution_count": 55,
   "id": "dea0ce2d",
   "metadata": {
    "ExecuteTime": {
     "end_time": "2023-05-26T00:56:28.675795400Z",
     "start_time": "2023-05-26T00:56:28.252005300Z"
    }
   },
   "outputs": [
    {
     "name": "stderr",
     "output_type": "stream",
     "text": [
      "\u001B[1m\u001B[22m`geom_smooth()` using formula = 'y ~ x'\n"
     ]
    },
    {
     "data": {
      "text/plain": "plot without title",
      "image/png": "[encoded data removed]"
     },
     "metadata": {
      "image/png": {
       "width": 420,
       "height": 420
      }
     },
     "output_type": "display_data"
    }
   ],
   "source": [
    "#visualiser les valeurs prédit et les vraies valeurs .\n",
    "ggplot(data=test, aes(x=predicted_temp_multiple, y=test$Température)) +\n",
    "  geom_point(color=\"orange\") +\n",
    "  geom_smooth(method=\"lm\", se=FALSE, color=\"green\") +\n",
    "  labs(title=\"Courbe de prédiction\", x=\"Valeurs prédites\", y=\"Vraies valeurs\") +\n",
    "  theme_minimal()"
   ]
  },
  {
   "cell_type": "markdown",
   "id": "ad1cfdf3",
   "metadata": {},
   "source": [
    "#### V.Régression Régularisé:"
   ]
  },
  {
   "cell_type": "code",
   "execution_count": 56,
   "id": "74fa96c4",
   "metadata": {
    "ExecuteTime": {
     "end_time": "2023-05-26T00:56:28.785628Z",
     "start_time": "2023-05-26T00:56:28.682319100Z"
    }
   },
   "outputs": [],
   "source": [
    "#   ◦ Adapter les données au format exigé par glmnet():\n",
    "test_vars<-data.matrix(test[,-c(1,2,3)])\n",
    "x_vars<-data.matrix(train[,-c(1,2,3)])\n",
    "y<-data.matrix(train[,4])"
   ]
  },
  {
   "cell_type": "code",
   "execution_count": 57,
   "id": "ebd4dee1",
   "metadata": {
    "ExecuteTime": {
     "end_time": "2023-05-26T00:56:28.785628Z",
     "start_time": "2023-05-26T00:56:28.723087700Z"
    }
   },
   "outputs": [],
   "source": [
    "#   ◦ Préparer la liste des valeurs de lambda à tester\n",
    "lambdas<-10^seq(2,-2,-0.1)"
   ]
  },
  {
   "cell_type": "markdown",
   "id": "3983b3cb",
   "metadata": {},
   "source": [
    "**Régression Ridge:** nous pouvons réaliser la régression régularisée par Ridge en utilisant la fonction \"glmnet\" du package \"glmnet\". Pour la régression Ridge on utilise le paramètre \"alpha\" égal à 0."
   ]
  },
  {
   "cell_type": "code",
   "execution_count": 58,
   "id": "287d7816",
   "metadata": {
    "ExecuteTime": {
     "end_time": "2023-05-26T00:56:28.941932500Z",
     "start_time": "2023-05-26T00:56:28.754337400Z"
    }
   },
   "outputs": [
    {
     "name": "stderr",
     "output_type": "stream",
     "text": [
      "Loading required package: Matrix\n",
      "\n",
      "Loaded glmnet 4.1-7\n",
      "\n"
     ]
    }
   ],
   "source": [
    " library(glmnet)\n",
    "library(Matrix)"
   ]
  },
  {
   "cell_type": "code",
   "execution_count": 59,
   "id": "50aa8a38",
   "metadata": {
    "ExecuteTime": {
     "end_time": "2023-05-26T00:56:29.113239900Z",
     "start_time": "2023-05-26T00:56:28.910664300Z"
    }
   },
   "outputs": [
    {
     "name": "stdout",
     "output_type": "stream",
     "text": [
      "[1] 0.01\n"
     ]
    }
   ],
   "source": [
    "#   ◦ Trouver la meilleure valeur de lambda\n",
    "reg_ridge_cv = cv.glmnet(x_vars,y,alpha=0,nlambda=50,family='gaussian',lambda=lambdas)\n",
    "print(reg_ridge_cv$lambda.min)"
   ]
  },
  {
   "cell_type": "code",
   "execution_count": 60,
   "id": "e5a03ba8",
   "metadata": {
    "ExecuteTime": {
     "end_time": "2023-05-26T00:56:29.191395400Z",
     "start_time": "2023-05-26T00:56:29.113239900Z"
    }
   },
   "outputs": [
    {
     "data": {
      "text/plain": "\nCall:  glmnet(x = x_vars, y = y, family = \"gaussian\", alpha = 0, nlambda = 50,      lambda = lambda_opt1) \n\n  Df %Dev Lambda\n1  4  100   0.01"
     },
     "metadata": {},
     "output_type": "display_data"
    }
   ],
   "source": [
    "#   ◦ appliquer sur la valeur de lambda trouvé:\n",
    "lambda_opt1<- reg_ridge_cv$lambda.min\n",
    "reg_ridge = glmnet(x_vars,y,alpha=0,nlambda=50,family='gaussian',lambda=lambda_opt1)\n",
    "reg_ridge"
   ]
  },
  {
   "cell_type": "markdown",
   "id": "c9ec82d5",
   "metadata": {},
   "source": [
    "**LASSO:** De même, nous pouvons réaliser la régression régularisée par LASSO en utilisant la même fonction \"glmnet\", mais en utilisant le paramètre \"alpha\" égal à 1."
   ]
  },
  {
   "cell_type": "code",
   "execution_count": 61,
   "id": "12bc046c",
   "metadata": {
    "ExecuteTime": {
     "end_time": "2023-05-26T00:56:29.300735600Z",
     "start_time": "2023-05-26T00:56:29.144484500Z"
    }
   },
   "outputs": [
    {
     "name": "stdout",
     "output_type": "stream",
     "text": [
      "[1] 0.01\n"
     ]
    }
   ],
   "source": [
    "#   ◦ Trouver la meilleure valeur de lambda\n",
    "reg_lasso_cv = cv.glmnet(x_vars,y,alpha=1,nlambda=50,family='gaussian',lambda=lambdas)\n",
    "print(reg_lasso_cv$lambda.min)"
   ]
  },
  {
   "cell_type": "code",
   "execution_count": 62,
   "id": "3dee5fbf",
   "metadata": {
    "ExecuteTime": {
     "end_time": "2023-05-26T00:56:29.395878600Z",
     "start_time": "2023-05-26T00:56:29.308879600Z"
    }
   },
   "outputs": [
    {
     "data": {
      "text/plain": "\nCall:  glmnet(x = x_vars, y = y, family = \"gaussian\", alpha = 1, nlambda = 50,      lambda = lambda_opt2) \n\n  Df %Dev Lambda\n1  1  100   0.01"
     },
     "metadata": {},
     "output_type": "display_data"
    }
   ],
   "source": [
    "#   ◦ appliquer sur la valeur de lambda trouvé:\n",
    "lambda_opt2<- reg_lasso_cv$lambda.min\n",
    "reg_lasso = glmnet(x_vars,y,alpha=1,nlambda=50,family='gaussian',lambda=lambda_opt2)\n",
    "reg_lasso"
   ]
  },
  {
   "cell_type": "markdown",
   "id": "12fd1883",
   "metadata": {},
   "source": [
    "**ElasticNet:** Enfin, nous pouvons réaliser la régression régularisée par ElasticNet en utilisant la même fonction \"glmnet\", mais en utilisant un paramètre \"alpha\" entre 0 et 1 pour contrôler le mélange de Ridge et LASSO."
   ]
  },
  {
   "cell_type": "code",
   "execution_count": 63,
   "id": "7810a133",
   "metadata": {
    "ExecuteTime": {
     "end_time": "2023-05-26T00:56:29.505304200Z",
     "start_time": "2023-05-26T00:56:29.348956700Z"
    }
   },
   "outputs": [
    {
     "name": "stdout",
     "output_type": "stream",
     "text": [
      "[1] 0.01\n"
     ]
    }
   ],
   "source": [
    "#   ◦ Trouver la meilleure valeur de lambda\n",
    "reg_elasticnet_cv = cv.glmnet(x_vars,y,alpha=0.5,nlambda=50,family='gaussian',lambda=lambdas)\n",
    "print(reg_elasticnet_cv$lambda.min)"
   ]
  },
  {
   "cell_type": "code",
   "execution_count": 64,
   "id": "b6ca632a",
   "metadata": {
    "ExecuteTime": {
     "end_time": "2023-05-26T00:56:29.536854200Z",
     "start_time": "2023-05-26T00:56:29.489628900Z"
    }
   },
   "outputs": [
    {
     "data": {
      "text/plain": "\nCall:  glmnet(x = x_vars, y = y, family = \"gaussian\", alpha = 0.5, nlambda = 50,      lambda = lambda_opt3) \n\n  Df %Dev Lambda\n1  2  100   0.01"
     },
     "metadata": {},
     "output_type": "display_data"
    }
   ],
   "source": [
    "#   ◦ appliquer sur la valeur de lambda trouvé:\n",
    "lambda_opt3<- reg_elasticnet_cv$lambda.min\n",
    "reg_elasticnet = glmnet(x_vars,y,alpha=0.5,nlambda=50,family='gaussian',lambda=lambda_opt3)\n",
    "reg_elasticnet"
   ]
  },
  {
   "cell_type": "markdown",
   "id": "824c170a",
   "metadata": {},
   "source": [
    "Une fois les modèles entraînés, nous pouvons évaluer leur performance en utilisant l'ensemble de test. Pour cela, nous pouvons utiliser la fonction \"predict\" pour prédire les valeurs de la variable cible à partir des variables d'entrée de l'ensemble de test."
   ]
  },
  {
   "cell_type": "code",
   "execution_count": 65,
   "id": "0f6fd446",
   "metadata": {
    "ExecuteTime": {
     "end_time": "2023-05-26T00:56:29.666436Z",
     "start_time": "2023-05-26T00:56:29.520957100Z"
    }
   },
   "outputs": [],
   "source": [
    "# Prédiction des valeurs avec le modèle Ridge\n",
    "ridge_pred <- predict(reg_ridge, newx = test_vars)\n",
    "# Prédiction des valeurs avec le modèle LASSO\n",
    "lasso_pred <- predict(reg_lasso, newx = test_vars)\n",
    "# Prédiction des valeurs avec le modèle ElasticNet\n",
    "elasticnet_pred <- predict(reg_elasticnet, newx = test_vars)"
   ]
  },
  {
   "cell_type": "markdown",
   "id": "4546a04f",
   "metadata": {},
   "source": [
    "##### Comparaison des trois modèles:\n",
    "\n",
    "Pour évaluer les performances des modèles, nous pouvons utiliser des métriques d'évaluation telles que l'erreur quadratique moyenne (EQM) et le coefficient de détermination (R²). Nous allons calculer ces métriques pour les prédictions du modèle Ridge, du modèle LASSO et du modèle ElasticNet sur l'ensemble de test."
   ]
  },
  {
   "cell_type": "code",
   "execution_count": 66,
   "id": "1015a8df",
   "metadata": {
    "ExecuteTime": {
     "end_time": "2023-05-26T00:56:29.666436Z",
     "start_time": "2023-05-26T00:56:29.568126800Z"
    }
   },
   "outputs": [],
   "source": [
    "# calcul de l'EQM\n",
    "\n",
    "mse_ridge <- mean((test$Température - ridge_pred)^2)\n",
    "mse_lasso <- mean((test$Température - lasso_pred)^2)\n",
    "mse_elasticnet <- mean((test$Température - elasticnet_pred)^2)"
   ]
  },
  {
   "cell_type": "code",
   "execution_count": 67,
   "id": "29e4ad67",
   "metadata": {
    "ExecuteTime": {
     "end_time": "2023-05-26T00:56:29.697669Z",
     "start_time": "2023-05-26T00:56:29.603882Z"
    }
   },
   "outputs": [],
   "source": [
    "# calcul de R²\n",
    "\n",
    "rsq_ridge <- 1 - mse_ridge/var(test$Température)\n",
    "rsq_lasso <- 1 - mse_lasso/var(test$Température)\n",
    "rsq_elasticnet <- 1 - mse_elasticnet/var(test$Température)"
   ]
  },
  {
   "cell_type": "code",
   "execution_count": 68,
   "id": "704e5ed0",
   "metadata": {
    "ExecuteTime": {
     "end_time": "2023-05-26T00:56:29.807773100Z",
     "start_time": "2023-05-26T00:56:29.635162400Z"
    }
   },
   "outputs": [],
   "source": [
    "#les erreurs de prédiction\n",
    "\n",
    "ridge_errors <- ridge_pred - test$Température\n",
    "lasso_errors <- lasso_pred - test$Température\n",
    "elasticnet_errors<- elasticnet_pred - test$Température"
   ]
  },
  {
   "cell_type": "code",
   "execution_count": 69,
   "id": "f97ad627",
   "metadata": {
    "ExecuteTime": {
     "end_time": "2023-05-26T00:56:29.855109600Z",
     "start_time": "2023-05-26T00:56:29.729330200Z"
    }
   },
   "outputs": [
    {
     "name": "stdout",
     "output_type": "stream",
     "text": [
      "L'erreur de prédiction moyenne pour le modèle de régression ridge est 0.01 \n",
      "L'erreur de prédiction moyenne pour le modèle de régression lasso est 0.01 \n",
      "L'erreur de prédiction moyenne pour le modèle de régression elasticnet est 0.01 \n"
     ]
    }
   ],
   "source": [
    "# affichage des métriques d'évaluation/Comparer les erreurs de prédiction pour les trois modèles\n",
    "mean_ridge_error <- mean(abs(ridge_errors))\n",
    "mean_lasso_error <- mean(abs(lasso_errors))\n",
    "mean_elasticnet_error <- mean(abs(elasticnet_errors))\n",
    "cat(\"L'erreur de prédiction moyenne pour le modèle de régression ridge est\", round(mean_ridge_error, 2), \"\\n\")\n",
    "cat(\"L'erreur de prédiction moyenne pour le modèle de régression lasso est\", round(mean_lasso_error, 2), \"\\n\")\n",
    "cat(\"L'erreur de prédiction moyenne pour le modèle de régression elasticnet est\", round(mean_elasticnet_error, 2), \"\\n\")"
   ]
  },
  {
   "cell_type": "code",
   "execution_count": 70,
   "id": "81b70b10",
   "metadata": {
    "ExecuteTime": {
     "end_time": "2023-05-26T00:56:29.855109600Z",
     "start_time": "2023-05-26T00:56:29.776488900Z"
    }
   },
   "outputs": [
    {
     "name": "stdout",
     "output_type": "stream",
     "text": [
      "Ridge: MSE = 0 R² = 1 \n",
      "LASSO: MSE = 0 R² = 1 \n",
      "ElasticNet: MSE = 0 R² = 1 \n"
     ]
    }
   ],
   "source": [
    "cat(\"Ridge: MSE =\", round(mse_ridge, 2), \"R² =\", round(rsq_ridge, 2), \"\\n\")\n",
    "cat(\"LASSO: MSE =\", round(mse_lasso, 2), \"R² =\", round(rsq_lasso, 2), \"\\n\")\n",
    "cat(\"ElasticNet: MSE =\", round(mse_elasticnet, 2), \"R² =\", round(rsq_elasticnet, 2), \"\\n\")"
   ]
  },
  {
   "cell_type": "code",
   "execution_count": 71,
   "id": "6fe63184",
   "metadata": {
    "ExecuteTime": {
     "end_time": "2023-05-26T00:56:30.056234200Z",
     "start_time": "2023-05-26T00:56:29.807773100Z"
    }
   },
   "outputs": [
    {
     "name": "stdout",
     "output_type": "stream",
     "text": [
      "[1] \"On remarque l'Overffitting dans ces modèles régularisé!!!!!\"\n"
     ]
    },
    {
     "data": {
      "text/plain": "plot without title",
      "image/png": "[encoded data removed]"
     },
     "metadata": {
      "image/png": {
       "width": 420,
       "height": 420
      }
     },
     "output_type": "display_data"
    }
   ],
   "source": [
    "# Visualiser les modeles graphiquement:\n",
    "plot(test$Humidité, test$Température, type=\"p\", col=\"black\")\n",
    "lines(test$Humidité, ridge_pred, type=\"l\", col=\"yellow\")\n",
    "lines(test$Humidité, lasso_pred, type=\"l\", col=\"pink\")\n",
    "lines(test$Humidité, elasticnet_pred, type=\"l\", col=\"brown\")\n",
    "print(\"On remarque l'Overffitting dans ces modèles régularisé!!!!!\")"
   ]
  },
  {
   "cell_type": "markdown",
   "id": "4a892adb",
   "metadata": {},
   "source": [
    "#### VI.Régression Non linéaire"
   ]
  },
  {
   "cell_type": "code",
   "execution_count": 72,
   "id": "eb9ca4b5",
   "metadata": {
    "ExecuteTime": {
     "end_time": "2023-05-26T00:56:30.215108800Z",
     "start_time": "2023-05-26T00:56:30.058751400Z"
    }
   },
   "outputs": [
    {
     "name": "stderr",
     "output_type": "stream",
     "text": [
      "\n",
      "Attaching package: 'Metrics'\n",
      "\n",
      "\n",
      "The following objects are masked from 'package:caret':\n",
      "\n",
      "    precision, recall\n",
      "\n",
      "\n"
     ]
    }
   ],
   "source": [
    " library(Metrics)"
   ]
  },
  {
   "cell_type": "code",
   "execution_count": 73,
   "id": "ceb3be87",
   "metadata": {
    "ExecuteTime": {
     "end_time": "2023-05-26T00:56:30.215108800Z",
     "start_time": "2023-05-26T00:56:30.136921700Z"
    }
   },
   "outputs": [],
   "source": [
    "#Exponentielle :\n",
    "model_expo<- nls(Température ~ a * exp(b * Humidité), data = train, start = list(a = 1, b = 0.01))\n",
    "predictions_expo <- predict(model_expo, newdata = test)\n",
    "RMSE_expo <- rmse(predictions_expo, test$Température)\n",
    "R2_expo <- R2(predictions_expo, test$Température)"
   ]
  },
  {
   "cell_type": "code",
   "execution_count": 74,
   "id": "c5920885",
   "metadata": {
    "ExecuteTime": {
     "end_time": "2023-05-26T00:56:30.324769700Z",
     "start_time": "2023-05-26T00:56:30.215108800Z"
    }
   },
   "outputs": [],
   "source": [
    "#Puissance\n",
    "model_puiss<-nls(Température ~ a * Humidité^b, data = train, start = list(a = 1, b = 0.01))\n",
    "predictions_puiss <- predict(model_puiss, newdata = test)\n",
    "RMSE_puiss <- rmse(predictions_puiss, test$Température)\n",
    "R2_puiss <- R2(predictions_puiss, test$Température)"
   ]
  },
  {
   "cell_type": "code",
   "execution_count": 75,
   "id": "a51ee2ea",
   "metadata": {
    "ExecuteTime": {
     "end_time": "2023-05-26T00:56:30.371663500Z",
     "start_time": "2023-05-26T00:56:30.293546600Z"
    }
   },
   "outputs": [],
   "source": [
    "#Logarithmique\n",
    "model_log<-nls(Température ~ a * log(Humidité), data = train, start = list(a = 1))\n",
    "predictions_log <- predict(model_log, newdata = test)\n",
    "RMSE_log <- rmse(predictions_log, test$Température)\n",
    "R2_log <- R2(predictions_log, test$Température)"
   ]
  },
  {
   "cell_type": "code",
   "execution_count": 76,
   "id": "22c5e020",
   "metadata": {
    "ExecuteTime": {
     "end_time": "2023-05-26T00:56:30.466827200Z",
     "start_time": "2023-05-26T00:56:30.324769700Z"
    }
   },
   "outputs": [
    {
     "name": "stdout",
     "output_type": "stream",
     "text": [
      "Exponentielle: RMSE = 1.906471 R² = 0.7927303 \n",
      "Puissance: RMSE = 1.851679 R² = 0.8034804 \n",
      "Logarithmique: RMSE = 2.527466 R² = 0.7898395 \n"
     ]
    }
   ],
   "source": [
    "cat(\"Exponentielle: RMSE =\", RMSE_expo, \"R² =\", R2_expo, \"\\n\")\n",
    "cat(\"Puissance: RMSE =\", RMSE_puiss, \"R² =\", R2_puiss, \"\\n\")\n",
    "cat(\"Logarithmique: RMSE =\", RMSE_log, \"R² =\", R2_log, \"\\n\")"
   ]
  },
  {
   "cell_type": "code",
   "execution_count": 77,
   "id": "457a58a7",
   "metadata": {
    "ExecuteTime": {
     "end_time": "2023-05-26T00:56:30.783206200Z",
     "start_time": "2023-05-26T00:56:30.373007500Z"
    }
   },
   "outputs": [
    {
     "data": {
      "text/plain": "plot without title",
      "image/png": "[encoded data removed]"
     },
     "metadata": {
      "image/png": {
       "width": 420,
       "height": 420
      }
     },
     "output_type": "display_data"
    }
   ],
   "source": [
    "library(ggplot2)\n",
    "ggplot(test, aes(x = Humidité, y = Température)) +\n",
    "  geom_point() +  # Add scatter plot points\n",
    "  geom_smooth(method=\"lm\",formula=y~x,se=FALSE,color=\"purple\") + # regression lineaire\n",
    "  geom_smooth(method=\"nls\",formula=y~a*exp(b*x),method.args=list(start=c(a=1,b=0.01)),se=FALSE,color=\"red\") + # regression exponential\n",
    "  geom_smooth(method=\"nls\",formula=y~a*x^b,method.args=list(start=c(a=1,b=0.01)),se=FALSE,color=\"blue\") + # regression puissance\n",
    "  geom_smooth(method=\"nls\",formula=y~a*log(x),method.args=list(start=c(a=1)),se=FALSE,color=\"green\") + # regression logarithmique\n",
    "  labs(x = \"Humidité\", y = \"Température\")"
   ]
  },
  {
   "cell_type": "code",
   "execution_count": 78,
   "id": "457d9cf7",
   "metadata": {
    "ExecuteTime": {
     "end_time": "2023-05-26T00:56:30.908242500Z",
     "start_time": "2023-05-26T00:56:30.798862500Z"
    }
   },
   "outputs": [
    {
     "data": {
      "text/plain": "\nFormula: Température ~ a * Humidité^b\n\nParameters:\n  Estimate Std. Error t value Pr(>|t|)    \na 2.892870   0.037739   76.65   <2e-16 ***\nb 0.812610   0.005473  148.47   <2e-16 ***\n---\nSignif. codes:  0 '***' 0.001 '**' 0.01 '*' 0.05 '.' 0.1 ' ' 1\n\nResidual standard error: 1.905 on 6208 degrees of freedom\n\nNumber of iterations to convergence: 7 \nAchieved convergence tolerance: 8.258e-08\n"
     },
     "metadata": {},
     "output_type": "display_data"
    }
   ],
   "source": [
    "# Qualité du modèle\n",
    "summary(model_puiss)"
   ]
  },
  {
   "cell_type": "code",
   "execution_count": 79,
   "id": "a459ec51",
   "metadata": {
    "ExecuteTime": {
     "end_time": "2023-05-26T00:56:31.463115100Z",
     "start_time": "2023-05-26T00:56:30.830108700Z"
    }
   },
   "outputs": [
    {
     "data": {
      "text/plain": "plot without title",
      "image/png": "[encoded data removed]"
     },
     "metadata": {
      "image/png": {
       "width": 420,
       "height": 420
      }
     },
     "output_type": "display_data"
    }
   ],
   "source": [
    "#visualiser les valeurs prédit et les vraies valeurs .\n",
    "ggplot(data=test, aes(x=predictions_puiss, y=test$Température)) +\n",
    "  geom_point(color=\"black\") +\n",
    "  geom_smooth(method=\"nls\", se=FALSE, color=\"yellow\",formula=y~a*I(x^b), method.args = list(start = list(a = 2.888999, b = 0.813768))) +\n",
    "  labs(title=\"Courbe de prédiction en puissance\", x=\"Valeurs prédites\", y=\"Vraies valeurs\") +\n",
    "  theme_minimal()"
   ]
  },
  {
   "cell_type": "markdown",
   "id": "d4058aad",
   "metadata": {},
   "source": [
    "#### VII.Régression Polynomiale"
   ]
  },
  {
   "cell_type": "markdown",
   "id": "ed018b17",
   "metadata": {},
   "source": [
    "##### Ajuster des modèles de régression polynomiale avec différents degrés de polynômes"
   ]
  },
  {
   "cell_type": "code",
   "execution_count": 80,
   "id": "fd81a1c0",
   "metadata": {
    "ExecuteTime": {
     "end_time": "2023-05-26T00:56:31.579733Z",
     "start_time": "2023-05-26T00:56:31.478755300Z"
    }
   },
   "outputs": [],
   "source": [
    "# Modèle de régression polynomiale d'ordre 2\n",
    "model2_poly_precip <- lm(Température ~ poly(Précipitation, 2), data = train)\n",
    "prediction2_poly_precip <- predict(model2_poly_precip, newdata = test)\n",
    "RMSE2_poly_precip <- sqrt(mean((test$Température - prediction2_poly_precip)^2))\n",
    "\n",
    "model2_poly_humid <- lm(Température ~ poly(Humidité,2), data = train)\n",
    "prediction2_poly_humid <- predict(model2_poly_humid, newdata = test)\n",
    "RMSE2_poly_humid <- sqrt(mean((test$Température - prediction2_poly_humid)^2))\n",
    "\n",
    "model2_poly_vent <- lm(Température ~ poly(Vitesse_Vent,2), data = train)\n",
    "prediction2_poly_vent <- predict(model2_poly_vent, newdata = test)\n",
    "RMSE2_poly_vent <- sqrt(mean((test$Température - prediction2_poly_vent)^2))"
   ]
  },
  {
   "cell_type": "code",
   "execution_count": 81,
   "id": "dc4480c8",
   "metadata": {
    "ExecuteTime": {
     "end_time": "2023-05-26T00:56:31.610984700Z",
     "start_time": "2023-05-26T00:56:31.532766900Z"
    }
   },
   "outputs": [],
   "source": [
    "# Modèle de régression polynomiale d'ordre 3\n",
    "model3_poly_precip <- lm(Température ~ poly(Précipitation, 3), data = train)\n",
    "prediction3_poly_precip <- predict(model3_poly_precip, newdata = test)\n",
    "RMSE3_poly_precip <- sqrt(mean((test$Température - prediction3_poly_precip)^2))\n",
    "\n",
    "model3_poly_humid <- lm(Température ~ poly(Humidité,3), data = train)\n",
    "prediction3_poly_humid <- predict(model3_poly_humid, newdata = test)\n",
    "RMSE3_poly_humid <- sqrt(mean((test$Température - prediction3_poly_humid)^2))\n",
    "\n",
    "model3_poly_vent <- lm(Température ~ poly(Vitesse_Vent,3), data = train)\n",
    "prediction3_poly_vent <- predict(model3_poly_vent, newdata = test)\n",
    "RMSE3_poly_vent <- sqrt(mean((test$Température - prediction3_poly_vent)^2))"
   ]
  },
  {
   "cell_type": "code",
   "execution_count": 82,
   "id": "3339ed67",
   "metadata": {
    "ExecuteTime": {
     "end_time": "2023-05-26T00:56:31.645261800Z",
     "start_time": "2023-05-26T00:56:31.579733Z"
    }
   },
   "outputs": [],
   "source": [
    "# Modèle de régression polynomiale d'ordre 4\n",
    "model4_poly_precip <- lm(Température ~ poly(Précipitation,4), data = train)\n",
    "prediction4_poly_precip <- predict(model4_poly_precip, newdata = test)\n",
    "RMSE4_poly_precip <- sqrt(mean((test$Température - prediction4_poly_precip)^2))\n",
    "\n",
    "model4_poly_humid <- lm(Température ~ poly(Humidité,4), data = train)\n",
    "prediction4_poly_humid <- predict(model4_poly_humid, newdata = test)\n",
    "RMSE4_poly_humid <- sqrt(mean((test$Température - prediction4_poly_humid)^2))\n",
    "\n",
    "model4_poly_vent <- lm(Température ~ poly(Vitesse_Vent,4), data = train)\n",
    "prediction4_poly_vent <- predict(model4_poly_vent, newdata = test)\n",
    "RMSE4_poly_vent <- sqrt(mean((test$Température - prediction4_poly_vent)^2))"
   ]
  },
  {
   "cell_type": "code",
   "execution_count": 83,
   "id": "ff06be9a",
   "metadata": {
    "ExecuteTime": {
     "end_time": "2023-05-26T00:56:31.705169200Z",
     "start_time": "2023-05-26T00:56:31.645261800Z"
    }
   },
   "outputs": [
    {
     "data": {
      "text/html": "<table class=\"dataframe\">\n<caption>A data.frame: 3 × 2</caption>\n<thead>\n\t<tr><th scope=col>Degré</th><th scope=col>RMSE</th></tr>\n\t<tr><th scope=col>&lt;dbl&gt;</th><th scope=col>&lt;dbl&gt;</th></tr>\n</thead>\n<tbody>\n\t<tr><td>2</td><td>4.067399</td></tr>\n\t<tr><td>3</td><td>4.029194</td></tr>\n\t<tr><td>4</td><td>4.062951</td></tr>\n</tbody>\n</table>\n",
      "text/markdown": "\nA data.frame: 3 × 2\n\n| Degré &lt;dbl&gt; | RMSE &lt;dbl&gt; |\n|---|---|\n| 2 | 4.067399 |\n| 3 | 4.029194 |\n| 4 | 4.062951 |\n\n",
      "text/latex": "A data.frame: 3 × 2\n\\begin{tabular}{ll}\n Degré & RMSE\\\\\n <dbl> & <dbl>\\\\\n\\hline\n\t 2 & 4.067399\\\\\n\t 3 & 4.029194\\\\\n\t 4 & 4.062951\\\\\n\\end{tabular}\n",
      "text/plain": "  Degré RMSE    \n1 2     4.067399\n2 3     4.029194\n3 4     4.062951"
     },
     "metadata": {},
     "output_type": "display_data"
    },
    {
     "data": {
      "text/html": "<table class=\"dataframe\">\n<caption>A data.frame: 3 × 2</caption>\n<thead>\n\t<tr><th scope=col>Degré</th><th scope=col>RMSE</th></tr>\n\t<tr><th scope=col>&lt;dbl&gt;</th><th scope=col>&lt;dbl&gt;</th></tr>\n</thead>\n<tbody>\n\t<tr><td>2</td><td>1.850300</td></tr>\n\t<tr><td>3</td><td>1.825887</td></tr>\n\t<tr><td>4</td><td>1.826077</td></tr>\n</tbody>\n</table>\n",
      "text/markdown": "\nA data.frame: 3 × 2\n\n| Degré &lt;dbl&gt; | RMSE &lt;dbl&gt; |\n|---|---|\n| 2 | 1.850300 |\n| 3 | 1.825887 |\n| 4 | 1.826077 |\n\n",
      "text/latex": "A data.frame: 3 × 2\n\\begin{tabular}{ll}\n Degré & RMSE\\\\\n <dbl> & <dbl>\\\\\n\\hline\n\t 2 & 1.850300\\\\\n\t 3 & 1.825887\\\\\n\t 4 & 1.826077\\\\\n\\end{tabular}\n",
      "text/plain": "  Degré RMSE    \n1 2     1.850300\n2 3     1.825887\n3 4     1.826077"
     },
     "metadata": {},
     "output_type": "display_data"
    },
    {
     "data": {
      "text/html": "<table class=\"dataframe\">\n<caption>A data.frame: 3 × 2</caption>\n<thead>\n\t<tr><th scope=col>Degré</th><th scope=col>RMSE</th></tr>\n\t<tr><th scope=col>&lt;dbl&gt;</th><th scope=col>&lt;dbl&gt;</th></tr>\n</thead>\n<tbody>\n\t<tr><td>2</td><td>4.098162</td></tr>\n\t<tr><td>3</td><td>4.023279</td></tr>\n\t<tr><td>4</td><td>3.990839</td></tr>\n</tbody>\n</table>\n",
      "text/markdown": "\nA data.frame: 3 × 2\n\n| Degré &lt;dbl&gt; | RMSE &lt;dbl&gt; |\n|---|---|\n| 2 | 4.098162 |\n| 3 | 4.023279 |\n| 4 | 3.990839 |\n\n",
      "text/latex": "A data.frame: 3 × 2\n\\begin{tabular}{ll}\n Degré & RMSE\\\\\n <dbl> & <dbl>\\\\\n\\hline\n\t 2 & 4.098162\\\\\n\t 3 & 4.023279\\\\\n\t 4 & 3.990839\\\\\n\\end{tabular}\n",
      "text/plain": "  Degré RMSE    \n1 2     4.098162\n2 3     4.023279\n3 4     3.990839"
     },
     "metadata": {},
     "output_type": "display_data"
    }
   ],
   "source": [
    "# Comparaison des performances des modèles\n",
    "data.frame(Degré = c(2, 3, 4), RMSE = c(RMSE2_poly_precip, RMSE3_poly_precip, RMSE4_poly_precip))\n",
    "data.frame(Degré = c(2, 3, 4), RMSE = c(RMSE2_poly_humid, RMSE3_poly_humid, RMSE4_poly_humid))\n",
    "data.frame(Degré = c(2, 3, 4), RMSE = c(RMSE2_poly_vent, RMSE3_poly_vent, RMSE4_poly_vent))"
   ]
  },
  {
   "cell_type": "markdown",
   "id": "c85820ea",
   "metadata": {},
   "source": [
    "On remarque que le modele polynomiale de degrée 3 de Humidté qui donne valeur de RMSE minimale (model3_poly_humid)Afficher le résumé du modèle"
   ]
  },
  {
   "cell_type": "markdown",
   "id": "5796652b",
   "metadata": {},
   "source": [
    "*Qualité du modèle*\n",
    "\n",
    " > Le R² ajusté: On a la valeur de R deux (R²) est 0.801 est proche de 1 ce que signifie que le model est bon.\n",
    "\n",
    " > Le RSS (Residual Sum of Squares): plus le RSS est petit, plus le modèle est bon, et dans notre cas le RSS =1.875 n'est pas assez petit mais pour un degré de 6208 !."
   ]
  },
  {
   "cell_type": "code",
   "execution_count": 84,
   "id": "d8c238c2",
   "metadata": {
    "ExecuteTime": {
     "end_time": "2023-05-26T00:56:31.783293800Z",
     "start_time": "2023-05-26T00:56:31.720801100Z"
    }
   },
   "outputs": [
    {
     "data": {
      "text/plain": "\nCall:\nlm(formula = Température ~ poly(Humidité, 3), data = train)\n\nResiduals:\n    Min      1Q  Median      3Q     Max \n-5.4378 -1.1573 -0.3253  0.6813 17.9969 \n\nCoefficients:\n                    Estimate Std. Error t value Pr(>|t|)    \n(Intercept)         18.78220    0.02381 788.759  < 2e-16 ***\npoly(Humidité, 3)1 294.44570    1.87650 156.912  < 2e-16 ***\npoly(Humidité, 3)2  -8.31392    1.87650  -4.431 9.56e-06 ***\npoly(Humidité, 3)3 -25.22833    1.87650 -13.444  < 2e-16 ***\n---\nSignif. codes:  0 '***' 0.001 '**' 0.01 '*' 0.05 '.' 0.1 ' ' 1\n\nResidual standard error: 1.876 on 6206 degrees of freedom\nMultiple R-squared:    0.8,\tAdjusted R-squared:  0.7999 \nF-statistic:  8274 on 3 and 6206 DF,  p-value: < 2.2e-16\n"
     },
     "metadata": {},
     "output_type": "display_data"
    },
    {
     "name": "stdout",
     "output_type": "stream",
     "text": [
      "       (Intercept) poly(Humidité, 3)1 poly(Humidité, 3)2 poly(Humidité, 3)3 \n",
      "         18.782200         294.445701          -8.313924         -25.228332 \n"
     ]
    }
   ],
   "source": [
    " summary(model3_poly_humid)\n",
    " print(coef(model3_poly_humid))"
   ]
  },
  {
   "cell_type": "markdown",
   "id": "e34b5610",
   "metadata": {},
   "source": [
    "##### Teste de la validité du modèle :\n",
    "I. Le modèle ***model3_poly_humid*** est considéré comme valide si les résidus sont:   **Indépendants:**\n",
    "> **Test de Durbin-Watson:**\n",
    "> Tester l’hypothèse nulle H0 = les résidus sont indépendants.\n",
    "> \"Si la p-value < 0,05 l’hypothèse est rejetée\""
   ]
  },
  {
   "cell_type": "code",
   "execution_count": 85,
   "id": "66ede487",
   "metadata": {
    "ExecuteTime": {
     "end_time": "2023-05-26T00:56:33.315131100Z",
     "start_time": "2023-05-26T00:56:31.767665800Z"
    }
   },
   "outputs": [
    {
     "data": {
      "text/plain": " lag Autocorrelation D-W Statistic p-value\n   1       0.6024563     0.7950737       0\n Alternative hypothesis: rho != 0"
     },
     "metadata": {},
     "output_type": "display_data"
    },
    {
     "name": "stdout",
     "output_type": "stream",
     "text": [
      "[1] \"H0 est rejeté!!\"\n"
     ]
    }
   ],
   "source": [
    " library(car)\n",
    "durbinWatsonTest(model3_poly_humid)\n",
    "print(\"H0 est rejeté!!\")"
   ]
  },
  {
   "cell_type": "markdown",
   "id": "99595d0d",
   "metadata": {},
   "source": [
    "II. Le modèle ***model3_poly_humid*** est considéré comme valide si les résidus sont:   **Distribués selon une loi normale de moyenne0**\n",
    "> **Test de Shapiro-Wilk**\n",
    "> Tester H0 = les résidus suivent une loi normale.\n",
    "> Si la p-value < 0,05 l’hypothèse est rejetée"
   ]
  },
  {
   "cell_type": "code",
   "execution_count": 86,
   "id": "b295ef26",
   "metadata": {
    "ExecuteTime": {
     "end_time": "2023-05-26T00:56:33.377874700Z",
     "start_time": "2023-05-26T00:56:33.315131100Z"
    }
   },
   "outputs": [
    {
     "data": {
      "text/plain": "\n\tShapiro-Wilk normality test\n\ndata:  residus[3:5000]\nW = 0.85838, p-value < 2.2e-16\n"
     },
     "metadata": {},
     "output_type": "display_data"
    },
    {
     "name": "stdout",
     "output_type": "stream",
     "text": [
      "[1] \"H0 est rejeté!!\"\n"
     ]
    }
   ],
   "source": [
    "residus<- residuals(model3_poly_humid)\n",
    "shapiro.test(residus[3:5000])\n",
    "print(\"H0 est rejeté!!\")"
   ]
  },
  {
   "cell_type": "markdown",
   "id": "e256adad",
   "metadata": {},
   "source": [
    "III. Le modèle de ***model3_poly_humid*** est considéré comme valide si les résidus sont:   **Distribués de façon homogène (i.e. varianceconstante)**\n",
    "> **Test de Breush-Pagan**\n",
    "> Tester H0 = les résidus sont distribués de façon homogène.\n",
    "> Si la p-value < 0,05 l’hypothèse est rejetée"
   ]
  },
  {
   "cell_type": "code",
   "execution_count": 87,
   "id": "059b82f3",
   "metadata": {
    "ExecuteTime": {
     "end_time": "2023-05-26T00:56:33.377874700Z",
     "start_time": "2023-05-26T00:56:33.346592200Z"
    }
   },
   "outputs": [
    {
     "data": {
      "text/plain": "Non-constant Variance Score Test \nVariance formula: ~ fitted.values \nChisquare = 18.76177, Df = 1, p = 1.4811e-05"
     },
     "metadata": {},
     "output_type": "display_data"
    },
    {
     "name": "stdout",
     "output_type": "stream",
     "text": [
      "[1] \"H0 est rejeté!!\"\n"
     ]
    }
   ],
   "source": [
    " ncvTest(model3_poly_humid)\n",
    "print(\"H0 est rejeté!!\")"
   ]
  },
  {
   "cell_type": "markdown",
   "id": "8da5b621",
   "metadata": {},
   "source": [
    "##### alors model3_poly_humid n'est pas valide!!"
   ]
  },
  {
   "cell_type": "code",
   "execution_count": 88,
   "id": "3d4eeb37",
   "metadata": {
    "ExecuteTime": {
     "end_time": "2023-05-26T00:56:33.744455100Z",
     "start_time": "2023-05-26T00:56:33.377874700Z"
    }
   },
   "outputs": [
    {
     "name": "stderr",
     "output_type": "stream",
     "text": [
      "\u001B[1m\u001B[22m`geom_smooth()` using formula = 'y ~ x'\n"
     ]
    },
    {
     "data": {
      "text/plain": "plot without title",
      "image/png": "[encoded data removed]"
     },
     "metadata": {
      "image/png": {
       "width": 420,
       "height": 420
      }
     },
     "output_type": "display_data"
    }
   ],
   "source": [
    "#visualiser les valeurs prédit et les vraies valeurs .\n",
    "ggplot(data=test, aes(x=prediction3_poly_humid, y=test$Température)) +\n",
    "  geom_point(color=\"blue\") +\n",
    "  geom_smooth(method=\"lm\", se=FALSE, color=\"red\") +\n",
    "  labs(title=\"Courbe de prédiction polynomiale\", x=\"Valeurs prédites\", y=\"Vraies valeurs\") +\n",
    "  theme_minimal()"
   ]
  },
  {
   "cell_type": "markdown",
   "id": "86011030",
   "metadata": {},
   "source": [
    "#### VIII.Conclusion\n",
    "##### On va ploter tous les modeles qu'on a extrait:"
   ]
  },
  {
   "cell_type": "code",
   "execution_count": 89,
   "id": "95a17396",
   "metadata": {
    "ExecuteTime": {
     "end_time": "2023-05-26T00:56:33.979288400Z",
     "start_time": "2023-05-26T00:56:33.744455100Z"
    }
   },
   "outputs": [
    {
     "data": {
      "text/plain": "plot without title",
      "image/png": "[encoded data removed]"
     },
     "metadata": {
      "image/png": {
       "width": 420,
       "height": 420
      }
     },
     "output_type": "display_data"
    }
   ],
   "source": [
    "# Tracer la première scatter avec plot()\n",
    "plot(test$Humidité, test$Température, type=\"p\", col=\"black\")\n",
    "# Ajouter les autres courbes avec lines()\n",
    "lines(test$Humidité, predicted_temp_simple, type=\"l\", col=\"blue\")\n",
    "lines(test$Humidité, prediction3_poly_humid, type=\"l\", col=\"red\")\n",
    "lines(test$Humidité, predictions_puiss, type=\"l\", col=\"orange\")"
   ]
  },
  {
   "cell_type": "markdown",
   "id": "cd7a96bb",
   "metadata": {},
   "source": [
    "##### On conclut que le modèle **model_multiple1** est le meilleur dans notre cas!!!**\n",
    "jusqu'à maintenant on a réaliser la Préparation des données , Déterminer le bon modèle , Entraîner et évaluer le modèle ,il nous reste, maintenant le deploiment du modèle"
   ]
  },
  {
   "cell_type": "code",
   "execution_count": 90,
   "id": "d005b3ee",
   "metadata": {
    "ExecuteTime": {
     "end_time": "2023-05-26T00:56:34.104660400Z",
     "start_time": "2023-05-26T00:56:34.010506900Z"
    }
   },
   "outputs": [],
   "source": [
    "#Alors on va enregistrer le modèle sous format RDS afin de le deployer:\n",
    "saveRDS(model_multiple1,\"Prediction_température_toto.rds\")"
   ]
  },
  {
   "cell_type": "markdown",
   "id": "00ee3fcb",
   "metadata": {},
   "source": [
    "#### IX.Validation du modèle\n",
    "on a réalise une application shiny pour validation et deploiment du modèle les résultats de modèle sur la dataset de validation sont acceptables"
   ]
  },
  {
   "cell_type": "code",
   "execution_count": 91,
   "outputs": [],
   "source": [],
   "metadata": {
    "collapsed": false,
    "ExecuteTime": {
     "end_time": "2023-05-26T00:56:34.104660400Z",
     "start_time": "2023-05-26T00:56:34.089004700Z"
    }
   }
  }
 ],
 "metadata": {
  "kernelspec": {
   "display_name": "R",
   "language": "R",
   "name": "ir"
  },
  "language_info": {
   "codemirror_mode": "r",
   "file_extension": ".r",
   "mimetype": "text/x-r-source",
   "name": "R",
   "pygments_lexer": "r",
   "version": "3.6.1"
  }
 },
 "nbformat": 4,
 "nbformat_minor": 5
}
